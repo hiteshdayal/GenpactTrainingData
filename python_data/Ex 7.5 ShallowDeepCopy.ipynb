{
 "cells": [
  {
   "cell_type": "code",
   "execution_count": 1,
   "metadata": {},
   "outputs": [
    {
     "name": "stdout",
     "output_type": "stream",
     "text": [
      "List1 ->  [[1, 2, 3], [4, 5, 6], [7, 8, 9]]\n",
      "List2 ->  [[1, 2, 3], [4, 5, 6], [7, 8, 9]]\n",
      "id of List1 ->  1032519816712\n",
      "id of List2 ->  1032519816712\n",
      "List1 ->  [[1, 2, 3], [4, 5, 6], [7, 8, 9], [10, 11, 12]]\n",
      "List2 ->  [[1, 2, 3], [4, 5, 6], [7, 8, 9], [10, 11, 12]]\n"
     ]
    }
   ],
   "source": [
    "list1 = [[1, 2, 3], [4, 5, 6], [7, 8, 9]]\n",
    "list2 = list1\n",
    "print(\"List1 -> \",list1)\n",
    "print(\"List2 -> \",list2)\n",
    "print(\"id of List1 -> \",id(list1))\n",
    "print(\"id of List2 -> \",id(list2))\n",
    "\n",
    "list1.append([10, 11, 12])\n",
    "print(\"List1 -> \",list1)\n",
    "print(\"List2 -> \",list2)"
   ]
  },
  {
   "cell_type": "code",
   "execution_count": 3,
   "metadata": {},
   "outputs": [
    {
     "name": "stdout",
     "output_type": "stream",
     "text": [
      "Old list: [[1, 2, 3], [4, 5, 6], [7, 8, 9]]\n",
      "New list: [[1, 2, 3], [4, 5, 6], [7, 8, 9]]\n",
      "id of Old_List ->  564234289416\n",
      "id of New_List ->  564234248136\n"
     ]
    }
   ],
   "source": [
    "#Creating a copy using Shallow Copy\n",
    "import copy\n",
    "\n",
    "old_list = [[1, 2, 3], [4, 5, 6], [7, 8, 9]]\n",
    "new_list = copy.copy(old_list)\n",
    "\n",
    "print(\"Old list:\", old_list)\n",
    "print(\"New list:\", new_list)\n",
    "print(\"id of Old_List -> \",id(old_list))\n",
    "print(\"id of New_List -> \",id(new_list))"
   ]
  },
  {
   "cell_type": "code",
   "execution_count": 2,
   "metadata": {},
   "outputs": [
    {
     "name": "stdout",
     "output_type": "stream",
     "text": [
      "Old list: [[1, 2, 3], [4, 5, 6], [7, 8, 9], [4, 4, 4]]\n",
      "New list: [[1, 2, 3], [4, 5, 6], [7, 8, 9]]\n",
      "Old list: [[1, 2, 3], [4, 'AA', 6], [7, 8, 9], [4, 4, 4]]\n",
      "New list: [[1, 2, 3], [4, 'AA', 6], [7, 8, 9]]\n",
      "Old list: [[1, 2, 3], [4, 'AA', 6], [7, 8, 9], [4, 'BB', 4]]\n",
      "New list: [[1, 2, 3], [4, 'AA', 6], [7, 8, 9]]\n"
     ]
    }
   ],
   "source": [
    "#Adding elements to the old_list using shallow copy\n",
    "old_list.append([4, 4, 4])\n",
    "print(\"Old list:\", old_list)\n",
    "print(\"New list:\", new_list)\n",
    "\n",
    "#Adding new nested object using shallow copy\n",
    "old_list[1][1] = 'AA'\n",
    "print(\"Old list:\", old_list)\n",
    "print(\"New list:\", new_list)\n",
    "old_list[3][1] = 'BB'\n",
    "print(\"Old list:\", old_list)\n",
    "print(\"New list:\", new_list)"
   ]
  },
  {
   "cell_type": "code",
   "execution_count": 16,
   "metadata": {},
   "outputs": [
    {
     "name": "stdout",
     "output_type": "stream",
     "text": [
      "Old list: [[1, 1, 1], [2, 2, 2], [3, 3, 3]]\n",
      "New list: [[1, 1, 1], [2, 2, 2], [3, 3, 3]]\n",
      "id of old_list ->  300462389192\n",
      "id of new_list ->  300462243720\n"
     ]
    }
   ],
   "source": [
    "#Copying a list using deepcopy()\n",
    "import copy\n",
    "old_list = [[1, 1, 1], [2, 2, 2], [3, 3, 3]]\n",
    "new_list = copy.deepcopy(old_list)\n",
    "\n",
    "print(\"Old list:\", old_list)\n",
    "print(\"New list:\", new_list)\n",
    "print(\"id of old_list -> \",id(old_list))\n",
    "print(\"id of new_list -> \",id(new_list))"
   ]
  },
  {
   "cell_type": "code",
   "execution_count": 17,
   "metadata": {},
   "outputs": [
    {
     "name": "stdout",
     "output_type": "stream",
     "text": [
      "Old list: [[1, 1, 1], ['BB', 2, 2], [3, 3, 3]]\n",
      "New list: [[1, 1, 1], [2, 2, 2], [3, 3, 3]]\n"
     ]
    }
   ],
   "source": [
    "#Adding a new nested object in the list using Deep Copy\n",
    "old_list[1][0] = 'BB'\n",
    "print(\"Old list:\", old_list)\n",
    "print(\"New list:\", new_list)"
   ]
  },
  {
   "cell_type": "code",
   "execution_count": null,
   "metadata": {},
   "outputs": [],
   "source": []
  }
 ],
 "metadata": {
  "kernelspec": {
   "display_name": "Python 3",
   "language": "python",
   "name": "python3"
  },
  "language_info": {
   "codemirror_mode": {
    "name": "ipython",
    "version": 3
   },
   "file_extension": ".py",
   "mimetype": "text/x-python",
   "name": "python",
   "nbconvert_exporter": "python",
   "pygments_lexer": "ipython3",
   "version": "3.7.0"
  }
 },
 "nbformat": 4,
 "nbformat_minor": 2
}
