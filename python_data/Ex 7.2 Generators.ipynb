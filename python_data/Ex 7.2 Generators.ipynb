{
 "cells": [
  {
   "cell_type": "code",
   "execution_count": 2,
   "metadata": {},
   "outputs": [
    {
     "name": "stdout",
     "output_type": "stream",
     "text": [
      "Calling next methods...\n",
      "This is printed first\n",
      "This is printed second\n",
      "This is printed at last\n",
      "Using for loop...\n",
      "This is printed first\n",
      "item:  1\n",
      "This is printed second\n",
      "item:  2\n",
      "This is printed at last\n",
      "item:  3\n"
     ]
    }
   ],
   "source": [
    "# A simple generator function\n",
    "def my_generator():\n",
    "    n = 1\n",
    "    print('This is printed first')\n",
    "    # Generator function contains yield statements\n",
    "    yield n\n",
    "\n",
    "    n += 1\n",
    "    print('This is printed second')\n",
    "    yield n\n",
    "\n",
    "    n += 1\n",
    "    print('This is printed at last')\n",
    "    yield n\n",
    "\n",
    "a = my_generator()\n",
    "#Iterrating using next\n",
    "print(\"Calling next methods...\")\n",
    "next(a)\n",
    "a.__next__()\n",
    "next(a)\n",
    "\n",
    "print(\"Using for loop...\")\n",
    "#Iterrating using for loop\n",
    "for item in my_generator():\n",
    "    print(\"item: \",item)\n"
   ]
  },
  {
   "cell_type": "code",
   "execution_count": 1,
   "metadata": {},
   "outputs": [
    {
     "name": "stdout",
     "output_type": "stream",
     "text": [
      "D\n",
      "L\n",
      "R\n",
      "O\n",
      "W\n"
     ]
    }
   ],
   "source": [
    "#Generators with a loop\n",
    "def reverse_string(my_string):\n",
    "    length = len(my_string)\n",
    "    for i in range(length - 1,-1,-1):\n",
    "        yield my_string[i]\n",
    "\n",
    "# For loop to reverse the string\n",
    "\n",
    "for char in reverse_string(\"WORLD\"):\n",
    "     print(char)"
   ]
  },
  {
   "cell_type": "code",
   "execution_count": null,
   "metadata": {},
   "outputs": [],
   "source": []
  }
 ],
 "metadata": {
  "kernelspec": {
   "display_name": "Python 3",
   "language": "python",
   "name": "python3"
  },
  "language_info": {
   "codemirror_mode": {
    "name": "ipython",
    "version": 3
   },
   "file_extension": ".py",
   "mimetype": "text/x-python",
   "name": "python",
   "nbconvert_exporter": "python",
   "pygments_lexer": "ipython3",
   "version": "3.8.8"
  }
 },
 "nbformat": 4,
 "nbformat_minor": 4
}
