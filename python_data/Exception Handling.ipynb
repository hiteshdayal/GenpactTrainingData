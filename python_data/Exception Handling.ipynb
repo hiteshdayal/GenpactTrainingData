{
 "cells": [
  {
   "cell_type": "markdown",
   "id": "9d0ea86f-0144-4112-adb9-c20548f7a40c",
   "metadata": {},
   "source": [
    "## Exception Handling"
   ]
  },
  {
   "cell_type": "code",
   "execution_count": 3,
   "id": "c5c4589b-0008-4b36-9c4c-1e0d40e42e14",
   "metadata": {},
   "outputs": [
    {
     "name": "stdin",
     "output_type": "stream",
     "text": [
      "Please enter the first number:  100\n",
      "Please enter the second number:  0\n"
     ]
    },
    {
     "ename": "ZeroDivisionError",
     "evalue": "division by zero",
     "output_type": "error",
     "traceback": [
      "\u001b[1;31m---------------------------------------------------------------------------\u001b[0m",
      "\u001b[1;31mZeroDivisionError\u001b[0m                         Traceback (most recent call last)",
      "\u001b[1;32m<ipython-input-3-15b5835e8b9c>\u001b[0m in \u001b[0;36m<module>\u001b[1;34m\u001b[0m\n\u001b[0;32m      1\u001b[0m \u001b[0mnum1\u001b[0m \u001b[1;33m=\u001b[0m \u001b[0mint\u001b[0m\u001b[1;33m(\u001b[0m\u001b[0minput\u001b[0m\u001b[1;33m(\u001b[0m\u001b[1;34m\"Please enter the first number: \"\u001b[0m\u001b[1;33m)\u001b[0m\u001b[1;33m)\u001b[0m\u001b[1;33m\u001b[0m\u001b[1;33m\u001b[0m\u001b[0m\n\u001b[0;32m      2\u001b[0m \u001b[0mnum2\u001b[0m \u001b[1;33m=\u001b[0m \u001b[0mint\u001b[0m\u001b[1;33m(\u001b[0m\u001b[0minput\u001b[0m\u001b[1;33m(\u001b[0m\u001b[1;34m\"Please enter the second number: \"\u001b[0m\u001b[1;33m)\u001b[0m\u001b[1;33m)\u001b[0m\u001b[1;33m\u001b[0m\u001b[1;33m\u001b[0m\u001b[0m\n\u001b[1;32m----> 3\u001b[1;33m \u001b[0mquotient\u001b[0m \u001b[1;33m=\u001b[0m \u001b[0mnum1\u001b[0m \u001b[1;33m/\u001b[0m \u001b[0mnum2\u001b[0m\u001b[1;33m\u001b[0m\u001b[1;33m\u001b[0m\u001b[0m\n\u001b[0m\u001b[0;32m      4\u001b[0m \u001b[0mprint\u001b[0m \u001b[1;33m(\u001b[0m\u001b[1;34mf\"So {num1} / {num2} = {quotient}\"\u001b[0m\u001b[1;33m)\u001b[0m\u001b[1;33m\u001b[0m\u001b[1;33m\u001b[0m\u001b[0m\n\u001b[0;32m      5\u001b[0m \u001b[0mprint\u001b[0m \u001b[1;33m(\u001b[0m\u001b[1;34m\"End of the program...\"\u001b[0m\u001b[1;33m)\u001b[0m\u001b[1;33m\u001b[0m\u001b[1;33m\u001b[0m\u001b[0m\n",
      "\u001b[1;31mZeroDivisionError\u001b[0m: division by zero"
     ]
    }
   ],
   "source": [
    "num1 = int(input(\"Please enter the first number: \"))\n",
    "num2 = int(input(\"Please enter the second number: \"))\n",
    "quotient = num1 / num2\n",
    "print (f\"So {num1} / {num2} = {quotient}\")\n",
    "print (\"End of the program...\")"
   ]
  },
  {
   "cell_type": "code",
   "execution_count": 15,
   "id": "57aa12c4-895f-477c-9c25-5e7938f12e38",
   "metadata": {},
   "outputs": [
    {
     "name": "stdin",
     "output_type": "stream",
     "text": [
      "Please enter the first number:  100\n",
      "Please enter the second number:  two\n"
     ]
    },
    {
     "name": "stdout",
     "output_type": "stream",
     "text": [
      "ValueError: Please provide integer numbers only as input !!!\n",
      "ValueError: Error message is: invalid literal for int() with base 10: 'two'\n",
      "ValueError: Error message is: invalid literal for int() with base 10: 'two'\n",
      "ValueError: Error type is: <class 'ValueError'>\n",
      "End of the program...\n"
     ]
    }
   ],
   "source": [
    "try:\n",
    "    num1 = int(input(\"Please enter the first number: \"))\n",
    "    num2 = int(input(\"Please enter the second number: \"))\n",
    "    quotient = num1 / num2\n",
    "    print (f\"So {num1} / {num2} = {quotient}\")\n",
    "except ValueError as ve:\n",
    "    print (\"ValueError: Please provide integer numbers only as input !!!\")\n",
    "    print (\"ValueError: Error message is:\", ve)\n",
    "    print (\"ValueError: Error message is:\", ve.__str__())\n",
    "    print (\"ValueError: Error type is:\", type(ve))\n",
    "except ZeroDivisionError as zde:\n",
    "    print (\"ZeroDivisionError: Division by ZERO is Illegal !!!\")\n",
    "    print (\"ZeroDivisionError: Error message is:\", zde)\n",
    "    print (\"ZeroDivisionError: Error message is:\", zde.__str__())\n",
    "    print (\"ZeroDivisionError: Error type is:\", type(zde))\n",
    "except Exception as ex:\n",
    "    print (\"Exception: Some other error has occurred...!!!\")\n",
    "    print (\"Exception: Error message is:\", ex)\n",
    "    print (\"Exception: Error type is:\", type(ex))\n",
    "print (\"End of the program...\")"
   ]
  },
  {
   "cell_type": "code",
   "execution_count": 28,
   "id": "9a8de9f2-186a-4b24-8fcc-62ddf91ac31e",
   "metadata": {},
   "outputs": [
    {
     "name": "stdin",
     "output_type": "stream",
     "text": [
      "Please enter the first number:  500\n",
      "Please enter the second number:  20\n"
     ]
    },
    {
     "name": "stdout",
     "output_type": "stream",
     "text": [
      "NameError: Input data is beyond the range !!!\n",
      "NameError: Error message is: Above100\n",
      "NameError: Error type is: <class 'NameError'>\n",
      "NameError: Input number is above 100 !!!\n",
      "Finally block is executing...\n",
      "Finally block executes always...\n",
      "End of the program...\n"
     ]
    }
   ],
   "source": [
    "try:\n",
    "    num1 = int(input(\"Please enter the first number between (-100 to +100): \"))\n",
    "    num2 = int(input(\"Please enter the second number between (-100 to +100): \"))\n",
    "    if (num1 < -100 or num2 < -100): raise NameError(\"Below-100\")\n",
    "    if (num1 > 100 or num2 > 100): raise NameError(\"Above100\")\n",
    "    quotient = num1 / num2\n",
    "    print (f\"So {num1} / {num2} = {quotient}\")\n",
    "except ValueError as ve:\n",
    "    print (\"ValueError: Please provide integer numbers only as input !!!\")\n",
    "    print (\"ValueError: Error message is:\", ve)\n",
    "    print (\"ValueError: Error message is:\", ve.__str__())\n",
    "    print (\"ValueError: Error type is:\", type(ve))\n",
    "except ZeroDivisionError as zde:\n",
    "    print (\"ZeroDivisionError: Division by ZERO is Illegal !!!\")\n",
    "    print (\"ZeroDivisionError: Error message is:\", zde)\n",
    "    print (\"ZeroDivisionError: Error message is:\", zde.__str__())\n",
    "    print (\"ZeroDivisionError: Error type is:\", type(zde))\n",
    "except NameError as ne:\n",
    "    print (\"NameError: Input data is beyond the range !!!\")\n",
    "    print (\"NameError: Error message is:\", ne)\n",
    "    print (\"NameError: Error type is:\", type(ne))\n",
    "    if (str(ne) == \"Below-100\"): print (\"NameError: Input number is below -100 !!!\")\n",
    "    if (str(ne) == \"Above100\"): print (\"NameError: Input number is above 100 !!!\")\n",
    "except Exception as ex:\n",
    "    print (\"Exception: Some other error has occurred...!!!\")\n",
    "    print (\"Exception: Error message is:\", ex)\n",
    "    print (\"Exception: Error type is:\", type(ex))\n",
    "else:\n",
    "    print (\"Else block is executing...\")\n",
    "    print (\"Had a smooth execution...\")\n",
    "finally:\n",
    "    print (\"Finally block is executing...\")\n",
    "    print (\"Finally block executes always...\")\n",
    "print (\"End of the program...\")"
   ]
  },
  {
   "cell_type": "code",
   "execution_count": 29,
   "id": "90ae0681-cbd5-4a00-a07e-aedad718b4be",
   "metadata": {},
   "outputs": [
    {
     "name": "stdin",
     "output_type": "stream",
     "text": [
      "Please enter the first number between (-100 to +100):  1000\n",
      "Please enter the second number between (-100 to +100):  20\n"
     ]
    },
    {
     "name": "stdout",
     "output_type": "stream",
     "text": [
      "NameError: Input data is beyond the range !!!\n",
      "NameError: Error message is: Above100\n",
      "NameError: Error type is: <class 'NameError'>\n",
      "NameError: Input number is above 100 !!!\n",
      "Finally block is executing...\n",
      "Finally block executes always...\n"
     ]
    },
    {
     "name": "stdin",
     "output_type": "stream",
     "text": [
      "Please enter the first number between (-100 to +100):  -400\n",
      "Please enter the second number between (-100 to +100):  20\n"
     ]
    },
    {
     "name": "stdout",
     "output_type": "stream",
     "text": [
      "NameError: Input data is beyond the range !!!\n",
      "NameError: Error message is: Below-100\n",
      "NameError: Error type is: <class 'NameError'>\n",
      "NameError: Input number is below -100 !!!\n",
      "Finally block is executing...\n",
      "Finally block executes always...\n"
     ]
    },
    {
     "name": "stdin",
     "output_type": "stream",
     "text": [
      "Please enter the first number between (-100 to +100):  hundred\n"
     ]
    },
    {
     "name": "stdout",
     "output_type": "stream",
     "text": [
      "ValueError: Please provide integer numbers only as input !!!\n",
      "ValueError: Error message is: invalid literal for int() with base 10: 'hundred'\n",
      "ValueError: Error message is: invalid literal for int() with base 10: 'hundred'\n",
      "ValueError: Error type is: <class 'ValueError'>\n",
      "Finally block is executing...\n",
      "Finally block executes always...\n"
     ]
    },
    {
     "name": "stdin",
     "output_type": "stream",
     "text": [
      "Please enter the first number between (-100 to +100):  23.67\n"
     ]
    },
    {
     "name": "stdout",
     "output_type": "stream",
     "text": [
      "ValueError: Please provide integer numbers only as input !!!\n",
      "ValueError: Error message is: invalid literal for int() with base 10: '23.67'\n",
      "ValueError: Error message is: invalid literal for int() with base 10: '23.67'\n",
      "ValueError: Error type is: <class 'ValueError'>\n",
      "Finally block is executing...\n",
      "Finally block executes always...\n"
     ]
    },
    {
     "name": "stdin",
     "output_type": "stream",
     "text": [
      "Please enter the first number between (-100 to +100):  100\n",
      "Please enter the second number between (-100 to +100):  20\n"
     ]
    },
    {
     "name": "stdout",
     "output_type": "stream",
     "text": [
      "So 100 / 20 = 5.0\n",
      "Else block is executing...\n",
      "Had a smooth execution...\n",
      "Finally block is executing...\n",
      "Finally block executes always...\n",
      "End of the program...\n"
     ]
    }
   ],
   "source": [
    "while (True):\n",
    "    try:\n",
    "        num1 = int(input(\"Please enter the first number between (-100 to +100): \"))\n",
    "        num2 = int(input(\"Please enter the second number between (-100 to +100): \"))\n",
    "        if (num1 < -100 or num2 < -100): raise NameError(\"Below-100\")\n",
    "        if (num1 > 100 or num2 > 100): raise NameError(\"Above100\")\n",
    "        quotient = num1 / num2\n",
    "        print (f\"So {num1} / {num2} = {quotient}\")\n",
    "    except ValueError as ve:\n",
    "        print (\"ValueError: Please provide integer numbers only as input !!!\")\n",
    "        print (\"ValueError: Error message is:\", ve)\n",
    "        print (\"ValueError: Error message is:\", ve.__str__())\n",
    "        print (\"ValueError: Error type is:\", type(ve))\n",
    "    except ZeroDivisionError as zde:\n",
    "        print (\"ZeroDivisionError: Division by ZERO is Illegal !!!\")\n",
    "        print (\"ZeroDivisionError: Error message is:\", zde)\n",
    "        print (\"ZeroDivisionError: Error message is:\", zde.__str__())\n",
    "        print (\"ZeroDivisionError: Error type is:\", type(zde))\n",
    "    except NameError as ne:\n",
    "        print (\"NameError: Input data is beyond the range !!!\")\n",
    "        print (\"NameError: Error message is:\", ne)\n",
    "        print (\"NameError: Error type is:\", type(ne))\n",
    "        if (str(ne) == \"Below-100\"): print (\"NameError: Input number is below -100 !!!\")\n",
    "        if (str(ne) == \"Above100\"): print (\"NameError: Input number is above 100 !!!\")\n",
    "    except Exception as ex:\n",
    "        print (\"Exception: Some other error has occurred...!!!\")\n",
    "        print (\"Exception: Error message is:\", ex)\n",
    "        print (\"Exception: Error type is:\", type(ex))\n",
    "    else:\n",
    "        print (\"Else block is executing...\")\n",
    "        print (\"Had a smooth execution...\")\n",
    "        break\n",
    "    finally:\n",
    "        print (\"Finally block is executing...\")\n",
    "        print (\"Finally block executes always...\")\n",
    "print (\"End of the program...\")"
   ]
  },
  {
   "cell_type": "code",
   "execution_count": null,
   "id": "a4daeabf-f068-4732-9c56-1e7dcb7df5b7",
   "metadata": {},
   "outputs": [],
   "source": []
  },
  {
   "cell_type": "code",
   "execution_count": null,
   "id": "b387c264-4b69-453c-8983-61c6afc449d4",
   "metadata": {},
   "outputs": [],
   "source": []
  },
  {
   "cell_type": "code",
   "execution_count": null,
   "id": "376cd8ff-c7cf-45f6-854e-7ece3052af9b",
   "metadata": {},
   "outputs": [],
   "source": []
  },
  {
   "cell_type": "code",
   "execution_count": null,
   "id": "5ce050a6-37ee-4425-894e-c34694319424",
   "metadata": {},
   "outputs": [],
   "source": []
  },
  {
   "cell_type": "code",
   "execution_count": null,
   "id": "360ff9e6-84ee-4b0d-ac7f-4b5b23ce8b89",
   "metadata": {},
   "outputs": [],
   "source": []
  },
  {
   "cell_type": "code",
   "execution_count": null,
   "id": "3d0fb144-bcfd-40ea-803a-dce626d64d5e",
   "metadata": {},
   "outputs": [],
   "source": []
  },
  {
   "cell_type": "code",
   "execution_count": null,
   "id": "f3cc7c8b-e34f-4512-a48b-63aedf8d6f9d",
   "metadata": {},
   "outputs": [],
   "source": []
  },
  {
   "cell_type": "code",
   "execution_count": null,
   "id": "1e40d941-8988-408c-889a-a4a6e984faa3",
   "metadata": {},
   "outputs": [],
   "source": []
  },
  {
   "cell_type": "code",
   "execution_count": null,
   "id": "7628935e-6012-4d37-a837-8be2bfae2160",
   "metadata": {},
   "outputs": [],
   "source": []
  },
  {
   "cell_type": "code",
   "execution_count": null,
   "id": "64950e42-c437-41fb-8da3-8d34bff48d99",
   "metadata": {},
   "outputs": [],
   "source": []
  },
  {
   "cell_type": "code",
   "execution_count": null,
   "id": "9dc15908-9fb7-41c1-bc17-288a02eb78e0",
   "metadata": {},
   "outputs": [],
   "source": []
  },
  {
   "cell_type": "code",
   "execution_count": null,
   "id": "a50ff4fc-5a2e-490e-b36e-7267e8a2ea3e",
   "metadata": {},
   "outputs": [],
   "source": []
  },
  {
   "cell_type": "code",
   "execution_count": null,
   "id": "d4e6a1f5-0cbc-47f2-89b7-ff09ad655f72",
   "metadata": {},
   "outputs": [],
   "source": []
  },
  {
   "cell_type": "code",
   "execution_count": null,
   "id": "151bc478-498f-4049-9ba4-e1d77be4295c",
   "metadata": {},
   "outputs": [],
   "source": []
  },
  {
   "cell_type": "code",
   "execution_count": null,
   "id": "028bf3f4-cdff-4387-8aad-bf841ec112fc",
   "metadata": {},
   "outputs": [],
   "source": []
  },
  {
   "cell_type": "code",
   "execution_count": null,
   "id": "6556f6c7-3017-49e0-b558-496d28b07e82",
   "metadata": {},
   "outputs": [],
   "source": []
  },
  {
   "cell_type": "code",
   "execution_count": null,
   "id": "4532b3e4-c743-431b-a442-fa854979ef82",
   "metadata": {},
   "outputs": [],
   "source": []
  },
  {
   "cell_type": "code",
   "execution_count": null,
   "id": "c1993572-4169-46f4-b21e-eebff067a3a9",
   "metadata": {},
   "outputs": [],
   "source": []
  },
  {
   "cell_type": "code",
   "execution_count": null,
   "id": "45111a6c-c8f3-4741-8fa4-6b9fe012bca9",
   "metadata": {},
   "outputs": [],
   "source": []
  },
  {
   "cell_type": "code",
   "execution_count": null,
   "id": "7f201f4a-a5de-4460-8d18-be6071d5548e",
   "metadata": {},
   "outputs": [],
   "source": []
  },
  {
   "cell_type": "code",
   "execution_count": null,
   "id": "526db146-aa71-4065-af13-3ac09d3f96e5",
   "metadata": {},
   "outputs": [],
   "source": []
  },
  {
   "cell_type": "code",
   "execution_count": null,
   "id": "84d1d2de-a1cf-4a11-8212-f3408ed5f78c",
   "metadata": {},
   "outputs": [],
   "source": []
  },
  {
   "cell_type": "code",
   "execution_count": null,
   "id": "9abf2722-aebb-401b-ad89-ffa88afc7e54",
   "metadata": {},
   "outputs": [],
   "source": []
  },
  {
   "cell_type": "code",
   "execution_count": null,
   "id": "8f3fa152-6e66-4a32-87e8-e645765a5310",
   "metadata": {},
   "outputs": [],
   "source": []
  },
  {
   "cell_type": "code",
   "execution_count": null,
   "id": "a8b4b12a-8770-4226-a08c-7bb2c24602ae",
   "metadata": {},
   "outputs": [],
   "source": []
  },
  {
   "cell_type": "code",
   "execution_count": null,
   "id": "68301522-0efb-4bbb-86df-213766e100c1",
   "metadata": {},
   "outputs": [],
   "source": []
  },
  {
   "cell_type": "code",
   "execution_count": null,
   "id": "6082be8f-3a2d-4013-8ccd-c8ff098cb459",
   "metadata": {},
   "outputs": [],
   "source": []
  },
  {
   "cell_type": "code",
   "execution_count": null,
   "id": "45a1a233-2576-45dc-9cef-03e1da697f92",
   "metadata": {},
   "outputs": [],
   "source": []
  },
  {
   "cell_type": "code",
   "execution_count": null,
   "id": "c9dac4a6-ebd8-4a8d-af99-67882466af87",
   "metadata": {},
   "outputs": [],
   "source": []
  },
  {
   "cell_type": "code",
   "execution_count": null,
   "id": "43c44082-5bdc-4c12-b403-a709e5ab6212",
   "metadata": {},
   "outputs": [],
   "source": []
  },
  {
   "cell_type": "code",
   "execution_count": null,
   "id": "3f35ebf8-cf22-4c26-8795-56b15b3e7b6a",
   "metadata": {},
   "outputs": [],
   "source": []
  },
  {
   "cell_type": "code",
   "execution_count": null,
   "id": "d07ef414-0cf6-492c-89be-c128a55dc311",
   "metadata": {},
   "outputs": [],
   "source": []
  },
  {
   "cell_type": "code",
   "execution_count": null,
   "id": "7cec47dc-4379-473a-8cb1-05165b9cc438",
   "metadata": {},
   "outputs": [],
   "source": []
  },
  {
   "cell_type": "code",
   "execution_count": null,
   "id": "93399af3-8e04-4719-bae7-95881a92f993",
   "metadata": {},
   "outputs": [],
   "source": []
  },
  {
   "cell_type": "code",
   "execution_count": null,
   "id": "28ed1b1d-894e-43c2-8d0d-63c925805a0a",
   "metadata": {},
   "outputs": [],
   "source": []
  },
  {
   "cell_type": "code",
   "execution_count": null,
   "id": "03b92e3f-f506-4000-9089-a4fa87b24f86",
   "metadata": {},
   "outputs": [],
   "source": []
  },
  {
   "cell_type": "code",
   "execution_count": null,
   "id": "1102d175-d796-47ef-a9d4-2c3e1e7061bb",
   "metadata": {},
   "outputs": [],
   "source": []
  },
  {
   "cell_type": "code",
   "execution_count": null,
   "id": "c54711f7-85ab-470e-82cc-2b614276b93f",
   "metadata": {},
   "outputs": [],
   "source": []
  },
  {
   "cell_type": "code",
   "execution_count": null,
   "id": "3f5c65a5-02da-4e4a-bec6-c35f96ba9a21",
   "metadata": {},
   "outputs": [],
   "source": []
  },
  {
   "cell_type": "code",
   "execution_count": null,
   "id": "50bb7ca3-cdf0-4ffd-b560-d980309e6a0c",
   "metadata": {},
   "outputs": [],
   "source": []
  },
  {
   "cell_type": "code",
   "execution_count": null,
   "id": "53d67275-56c4-4603-b636-97fa60ca9243",
   "metadata": {},
   "outputs": [],
   "source": []
  },
  {
   "cell_type": "code",
   "execution_count": null,
   "id": "b71d97c0-2cc2-4fa5-ab30-9a8852085a6b",
   "metadata": {},
   "outputs": [],
   "source": []
  },
  {
   "cell_type": "code",
   "execution_count": null,
   "id": "5cc01689-74a0-4e1b-9a1a-1b558539eeec",
   "metadata": {},
   "outputs": [],
   "source": []
  },
  {
   "cell_type": "code",
   "execution_count": null,
   "id": "9f2011cf-090f-4d40-b822-e54fa6758edd",
   "metadata": {},
   "outputs": [],
   "source": []
  },
  {
   "cell_type": "code",
   "execution_count": null,
   "id": "94702a3a-73fa-4aa7-92b6-eb14137b47b5",
   "metadata": {},
   "outputs": [],
   "source": []
  },
  {
   "cell_type": "code",
   "execution_count": null,
   "id": "2e9a5358-8d73-42a5-bab2-cb344170178f",
   "metadata": {},
   "outputs": [],
   "source": []
  },
  {
   "cell_type": "code",
   "execution_count": null,
   "id": "155329a8-42d1-451b-b1d4-44e94bfc80a5",
   "metadata": {},
   "outputs": [],
   "source": []
  },
  {
   "cell_type": "code",
   "execution_count": null,
   "id": "b0ddc244-d086-4b00-958a-003fb64fc582",
   "metadata": {},
   "outputs": [],
   "source": []
  },
  {
   "cell_type": "code",
   "execution_count": null,
   "id": "efa93460-1b20-4196-8f3a-980b2999f5ce",
   "metadata": {},
   "outputs": [],
   "source": []
  },
  {
   "cell_type": "code",
   "execution_count": null,
   "id": "c882900b-9e6c-4540-b805-99af8e7256b8",
   "metadata": {},
   "outputs": [],
   "source": []
  },
  {
   "cell_type": "code",
   "execution_count": null,
   "id": "d0551bb6-af11-4c90-9425-d6fcf03f330e",
   "metadata": {},
   "outputs": [],
   "source": []
  },
  {
   "cell_type": "code",
   "execution_count": null,
   "id": "52f37c4b-16d5-47a8-802d-604a318fedfb",
   "metadata": {},
   "outputs": [],
   "source": []
  },
  {
   "cell_type": "code",
   "execution_count": null,
   "id": "28756308-130d-424a-b052-9f8033a88832",
   "metadata": {},
   "outputs": [],
   "source": []
  },
  {
   "cell_type": "code",
   "execution_count": null,
   "id": "19e76d8b-2472-4e17-822e-5022d6ea3d80",
   "metadata": {},
   "outputs": [],
   "source": []
  },
  {
   "cell_type": "code",
   "execution_count": null,
   "id": "3113be3d-d8bc-415f-87d0-d9f52920e9f9",
   "metadata": {},
   "outputs": [],
   "source": []
  },
  {
   "cell_type": "code",
   "execution_count": null,
   "id": "b7742799-e4bc-4448-bc92-7e884f311245",
   "metadata": {},
   "outputs": [],
   "source": []
  },
  {
   "cell_type": "code",
   "execution_count": null,
   "id": "050048cc-41a9-4423-ab6b-ca4c5b2f2322",
   "metadata": {},
   "outputs": [],
   "source": []
  },
  {
   "cell_type": "code",
   "execution_count": null,
   "id": "7ebdf96e-7ffd-4272-9c88-ce03657a74fb",
   "metadata": {},
   "outputs": [],
   "source": []
  },
  {
   "cell_type": "code",
   "execution_count": null,
   "id": "a84e154f-655f-4d8e-ad11-d14650726ad0",
   "metadata": {},
   "outputs": [],
   "source": []
  },
  {
   "cell_type": "code",
   "execution_count": null,
   "id": "93e0ff63-398c-47fe-8d6e-67000c86c815",
   "metadata": {},
   "outputs": [],
   "source": []
  },
  {
   "cell_type": "code",
   "execution_count": null,
   "id": "e4316fb7-fd47-4f98-a4ff-6b4213a1385e",
   "metadata": {},
   "outputs": [],
   "source": []
  },
  {
   "cell_type": "code",
   "execution_count": null,
   "id": "0b96b268-74fa-4b84-a74c-51083aa6e39a",
   "metadata": {},
   "outputs": [],
   "source": []
  },
  {
   "cell_type": "code",
   "execution_count": null,
   "id": "47591a9b-9339-4eab-ba22-157f77886056",
   "metadata": {},
   "outputs": [],
   "source": []
  },
  {
   "cell_type": "code",
   "execution_count": null,
   "id": "48751635-8c80-4a72-97a4-6d15ab70b7f1",
   "metadata": {},
   "outputs": [],
   "source": []
  },
  {
   "cell_type": "code",
   "execution_count": null,
   "id": "f3db086f-e8de-485b-b869-400918a007e0",
   "metadata": {},
   "outputs": [],
   "source": []
  },
  {
   "cell_type": "code",
   "execution_count": null,
   "id": "4408a4e8-6b68-4584-895e-d45c063e8315",
   "metadata": {},
   "outputs": [],
   "source": []
  },
  {
   "cell_type": "code",
   "execution_count": null,
   "id": "74ee8d7e-3188-4456-b150-7606688ba997",
   "metadata": {},
   "outputs": [],
   "source": []
  },
  {
   "cell_type": "code",
   "execution_count": null,
   "id": "49d11cf8-01aa-40b3-a521-6ecd5bb95da6",
   "metadata": {},
   "outputs": [],
   "source": []
  },
  {
   "cell_type": "code",
   "execution_count": null,
   "id": "f03a63b4-0f3a-4494-8c41-5fae18376d42",
   "metadata": {},
   "outputs": [],
   "source": []
  },
  {
   "cell_type": "code",
   "execution_count": null,
   "id": "4b74a89e-96a4-40b3-84bd-26ef5d5b25a7",
   "metadata": {},
   "outputs": [],
   "source": []
  },
  {
   "cell_type": "code",
   "execution_count": null,
   "id": "b4342192-6e5e-4261-b832-6e03e11573d9",
   "metadata": {},
   "outputs": [],
   "source": []
  },
  {
   "cell_type": "code",
   "execution_count": null,
   "id": "135119d9-29af-4673-8938-6e9a1444c0bc",
   "metadata": {},
   "outputs": [],
   "source": []
  },
  {
   "cell_type": "code",
   "execution_count": null,
   "id": "b1bd16ca-8444-4812-9b88-24adc6bbe82e",
   "metadata": {},
   "outputs": [],
   "source": []
  },
  {
   "cell_type": "code",
   "execution_count": null,
   "id": "5b5499f1-d162-4ae2-b08d-9d7a6f57078b",
   "metadata": {},
   "outputs": [],
   "source": []
  },
  {
   "cell_type": "code",
   "execution_count": null,
   "id": "0e90e533-854b-4224-8de3-6b35b9542de6",
   "metadata": {},
   "outputs": [],
   "source": []
  },
  {
   "cell_type": "code",
   "execution_count": null,
   "id": "dbd1953a-af60-484f-bde9-d0965128024f",
   "metadata": {},
   "outputs": [],
   "source": []
  },
  {
   "cell_type": "code",
   "execution_count": null,
   "id": "3913e57a-cd82-4a85-b521-cccff958f7b9",
   "metadata": {},
   "outputs": [],
   "source": []
  },
  {
   "cell_type": "code",
   "execution_count": null,
   "id": "da77a1dd-1b2a-4bd9-8080-4920f2fdce07",
   "metadata": {},
   "outputs": [],
   "source": []
  },
  {
   "cell_type": "code",
   "execution_count": null,
   "id": "bd2cc77b-d3fe-4dc1-a170-aae77d96f461",
   "metadata": {},
   "outputs": [],
   "source": []
  },
  {
   "cell_type": "code",
   "execution_count": null,
   "id": "cf26d14f-7348-449d-aebd-a5b446cf7dc3",
   "metadata": {},
   "outputs": [],
   "source": []
  },
  {
   "cell_type": "code",
   "execution_count": null,
   "id": "72dcf5fb-245b-4b2a-b0bc-2bc7d6684bc9",
   "metadata": {},
   "outputs": [],
   "source": []
  },
  {
   "cell_type": "code",
   "execution_count": null,
   "id": "97df642f-eef8-478e-926a-f1e03223804f",
   "metadata": {},
   "outputs": [],
   "source": []
  },
  {
   "cell_type": "code",
   "execution_count": null,
   "id": "6a6f0e43-506f-40ae-a0a6-f93dd16a17a8",
   "metadata": {},
   "outputs": [],
   "source": []
  },
  {
   "cell_type": "code",
   "execution_count": null,
   "id": "d161affa-9e6b-4040-8007-cbcc3e214a2e",
   "metadata": {},
   "outputs": [],
   "source": []
  },
  {
   "cell_type": "code",
   "execution_count": null,
   "id": "4b8a6856-92fe-4e69-9674-63b7b710dd9e",
   "metadata": {},
   "outputs": [],
   "source": []
  },
  {
   "cell_type": "code",
   "execution_count": null,
   "id": "a516fe0f-9627-475a-b841-845925118ccc",
   "metadata": {},
   "outputs": [],
   "source": []
  },
  {
   "cell_type": "code",
   "execution_count": null,
   "id": "650d0d47-487b-4aa6-a48f-2d59c2ad8b0e",
   "metadata": {},
   "outputs": [],
   "source": []
  }
 ],
 "metadata": {
  "kernelspec": {
   "display_name": "Python 3",
   "language": "python",
   "name": "python3"
  },
  "language_info": {
   "codemirror_mode": {
    "name": "ipython",
    "version": 3
   },
   "file_extension": ".py",
   "mimetype": "text/x-python",
   "name": "python",
   "nbconvert_exporter": "python",
   "pygments_lexer": "ipython3",
   "version": "3.8.8"
  }
 },
 "nbformat": 4,
 "nbformat_minor": 5
}
