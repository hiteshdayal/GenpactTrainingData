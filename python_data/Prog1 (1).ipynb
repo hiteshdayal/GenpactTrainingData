{
 "cells": [
  {
   "cell_type": "code",
   "execution_count": 3,
   "id": "e399df17-27b1-45b5-a2dc-ba2b902875f4",
   "metadata": {},
   "outputs": [
    {
     "name": "stdout",
     "output_type": "stream",
     "text": [
      "Hello\n",
      "Welcome\n"
     ]
    }
   ],
   "source": [
    "print (\"Hello\")\n",
    "print (\"Welcome\")"
   ]
  },
  {
   "cell_type": "markdown",
   "id": "519e6591-af2d-4685-8d3b-0f29567980c9",
   "metadata": {},
   "source": [
    "# This is in Heading-1\n",
    "## This is in Heading-2\n",
    "### This is in Heading-3\n",
    "#### This is in Heading-4\n",
    "##### This is in Heading-5\n",
    "###### This is in Heading-6"
   ]
  },
  {
   "cell_type": "markdown",
   "id": "2295afb4-b3fb-4e71-b07d-765fe138305c",
   "metadata": {},
   "source": [
    "*This line in in italics*\n",
    "<br>\n",
    "**This line in in bold**"
   ]
  },
  {
   "cell_type": "code",
   "execution_count": 6,
   "id": "abffa202-b6ef-4b8a-9e42-6cd322feba57",
   "metadata": {},
   "outputs": [
    {
     "data": {
      "text/plain": [
       "'\\nThis is a \\nmulti-line\\ntext'"
      ]
     },
     "execution_count": 6,
     "metadata": {},
     "output_type": "execute_result"
    }
   ],
   "source": [
    "# This is a comment line\n",
    "'''\n",
    "This is a \n",
    "multi-line\n",
    "text'''"
   ]
  },
  {
   "cell_type": "code",
   "execution_count": 12,
   "id": "57662dd1-9ab7-46ea-9f81-7da23fb769fd",
   "metadata": {},
   "outputs": [
    {
     "name": "stdout",
     "output_type": "stream",
     "text": [
      "Hello...\n",
      "Hello...\n"
     ]
    }
   ],
   "source": [
    "print (\"Hello...\")\n",
    "print ('Hello...')"
   ]
  },
  {
   "cell_type": "code",
   "execution_count": 14,
   "id": "882c07b4-626b-47d3-822f-7cab03a12be7",
   "metadata": {},
   "outputs": [
    {
     "name": "stdin",
     "output_type": "stream",
     "text": [
      "Please enter the first number:  100\n",
      "Please enter the second number:  200\n"
     ]
    },
    {
     "name": "stdout",
     "output_type": "stream",
     "text": [
      "100 <class 'str'> 200 <class 'str'>\n",
      "100 + 200 = 100200\n",
      "End of the program...\n"
     ]
    }
   ],
   "source": [
    "num1 = input(\"Please enter the first number: \")\n",
    "num2 = input(\"Please enter the second number: \")\n",
    "print (num1, type(num1), num2, type(num2))\n",
    "total = num1 + num2    # string concatenation\n",
    "print (num1, \"+\", num2, \"=\", total)\n",
    "print (\"End of the program...\")"
   ]
  },
  {
   "cell_type": "code",
   "execution_count": 15,
   "id": "88bbed96-3eba-4d18-b82e-4042c70531a8",
   "metadata": {},
   "outputs": [
    {
     "name": "stdin",
     "output_type": "stream",
     "text": [
      "Please enter the first number:  100\n",
      "Please enter the second number:  200\n"
     ]
    },
    {
     "name": "stdout",
     "output_type": "stream",
     "text": [
      "100 <class 'int'> 200 <class 'int'>\n",
      "100 + 200 = 300\n",
      "End of the program...\n"
     ]
    }
   ],
   "source": [
    "num1 = int(input(\"Please enter the first number: \"))\n",
    "num2 = int(input(\"Please enter the second number: \"))\n",
    "print (num1, type(num1), num2, type(num2))\n",
    "total = num1 + num2    # algebraic addition\n",
    "print (num1, \"+\", num2, \"=\", total)\n",
    "print (\"End of the program...\")"
   ]
  },
  {
   "cell_type": "code",
   "execution_count": 17,
   "id": "117bdbe2-ba58-48ee-9ac5-0da3273c0a33",
   "metadata": {},
   "outputs": [
    {
     "name": "stdin",
     "output_type": "stream",
     "text": [
      "Please enter the first number:  100\n",
      "Please enter the second number:  500\n"
     ]
    }
   ],
   "source": [
    "num1 = int(input(\"Please enter the first number: \"))\n",
    "num2 = int(input(\"Please enter the second number: \"))\n",
    "total = num1 + num2"
   ]
  },
  {
   "cell_type": "code",
   "execution_count": 31,
   "id": "5832b98f-8a12-4b16-b420-c686cbeba5e8",
   "metadata": {},
   "outputs": [
    {
     "name": "stdout",
     "output_type": "stream",
     "text": [
      "So 100 + 500 = 600\n",
      "So 100 + 500 = 600\n",
      "So 100 + 500 = 600\n",
      "So 100 + 500 = 600\n",
      "So 100 + 500 = 600\n",
      "So 100 + 500 = 600\n",
      "So 100 + 500 = 600\n",
      "So 100 + 500 = 600\n",
      "So 100 +  500.000 = 600\n",
      "So 100 + 500 = 600\n"
     ]
    }
   ],
   "source": [
    "print (\"So\", num1, \"+\", num2, \"=\", total)\n",
    "print (\"So \" + str(num1) + \" + \" + str(num2) + \" = \" + str(total))\n",
    "print (\"So {} + {} = {}\".format(num1, num2, total))\n",
    "print (\"So {0} + {1} = {2}\".format(num1, num2, total))\n",
    "print (\"So {2} + {0} = {1}\".format(num2, total, num1))\n",
    "print (\"So {fnum} + {snum} = {result}\".format(fnum = num1, snum = num2, result = total))\n",
    "print (\"So {fnum} + {snum} = {result}\".format(snum = num2, fnum = num1, result = total))\n",
    "print (\"So %d + %d = %d\"%(num1, num2, total))\n",
    "print (\"So %d + %8.3f = %d\"%(num1, num2, total))\n",
    "print (f\"So {num1} + {num2} = {total}\")"
   ]
  },
  {
   "cell_type": "markdown",
   "id": "f113aa4b-dd64-4cb9-8d67-b0738613a621",
   "metadata": {},
   "source": [
    "### Arithmetic Operators"
   ]
  },
  {
   "cell_type": "code",
   "execution_count": 34,
   "id": "a9aaddaa-ddce-4826-819b-caaf8bba1bfe",
   "metadata": {},
   "outputs": [
    {
     "name": "stdout",
     "output_type": "stream",
     "text": [
      "140\n",
      "60\n",
      "4000\n",
      "2.5\n",
      "2\n",
      "100000000\n",
      "20\n"
     ]
    }
   ],
   "source": [
    "print (100 + 40)    # addition\n",
    "print (100 - 40)    # subtraction\n",
    "print (100 * 40)    # multiplication\n",
    "print (100 / 40)    # division\n",
    "print (100 // 40)   # integer division\n",
    "print (100 ** 4)    # exponentiation\n",
    "print (100 % 40)    # modulus, remainder of the division"
   ]
  },
  {
   "cell_type": "markdown",
   "id": "8ee66ecd-8f4f-4f19-be01-8c5c6cf231df",
   "metadata": {},
   "source": [
    "### Logical Operators"
   ]
  },
  {
   "cell_type": "code",
   "execution_count": 37,
   "id": "5bf5959f-e903-4215-a79e-d5c68dcc9b00",
   "metadata": {},
   "outputs": [
    {
     "name": "stdout",
     "output_type": "stream",
     "text": [
      "False False False True\n",
      "False True True True\n",
      "True False\n"
     ]
    }
   ],
   "source": [
    "# logical operators: and or not\n",
    "print (False and False, False and True, True and False, True and True)\n",
    "print (False or False, False or True, True or False, True or True)\n",
    "print (not False, not True)"
   ]
  },
  {
   "cell_type": "markdown",
   "id": "0392daa6-4360-445d-8138-48ca0278ba56",
   "metadata": {},
   "source": [
    "### Relational Operators"
   ]
  },
  {
   "cell_type": "code",
   "execution_count": 38,
   "id": "b35d5e77-6232-41c8-81bb-b785a0c6865d",
   "metadata": {},
   "outputs": [
    {
     "name": "stdout",
     "output_type": "stream",
     "text": [
      "True True False False\n",
      "True True False False\n"
     ]
    }
   ],
   "source": [
    "# relational operators: > >= < <= == !=\n",
    "print (100 >= 50, 100 > 50, 100 <= 50, 100 < 50)\n",
    "print (100 == 100, 100 != 200, 100 != 100, 100 == 200)"
   ]
  },
  {
   "cell_type": "markdown",
   "id": "1c57ea4a-3a09-44a1-b3be-9eda548b2fef",
   "metadata": {},
   "source": [
    "### Assignment operators"
   ]
  },
  {
   "cell_type": "code",
   "execution_count": 41,
   "id": "56de26c9-a7af-401a-a68f-f265cca03fa3",
   "metadata": {},
   "outputs": [
    {
     "name": "stdout",
     "output_type": "stream",
     "text": [
      "100 200 300\n",
      "300 200\n",
      "40000\n"
     ]
    }
   ],
   "source": [
    "# Assignment operators: = += -= *= /= //= **= %=\n",
    "a = 100\n",
    "b = 200\n",
    "c = a + b\n",
    "print (a, b, c)\n",
    "a += b   # a = a + b\n",
    "print (a, b)\n",
    "b **= 2\n",
    "print (b)"
   ]
  },
  {
   "cell_type": "markdown",
   "id": "44134359-7dad-4bca-94fb-35c027eeaa6a",
   "metadata": {},
   "source": [
    "### Conditional Statements"
   ]
  },
  {
   "cell_type": "code",
   "execution_count": 50,
   "id": "f3779b68-8210-4cbd-8612-bc2edc901458",
   "metadata": {},
   "outputs": [
    {
     "ename": "IndentationError",
     "evalue": "unexpected indent (<ipython-input-50-bb56ac542b0f>, line 7)",
     "output_type": "error",
     "traceback": [
      "\u001b[1;36m  File \u001b[1;32m\"<ipython-input-50-bb56ac542b0f>\"\u001b[1;36m, line \u001b[1;32m7\u001b[0m\n\u001b[1;33m    print (\"So the maximum number is\", num1)\u001b[0m\n\u001b[1;37m    ^\u001b[0m\n\u001b[1;31mIndentationError\u001b[0m\u001b[1;31m:\u001b[0m unexpected indent\n"
     ]
    }
   ],
   "source": [
    "num1 = int(input(\"Please enter the first number: \"))\n",
    "num2 = int(input(\"Please enter the second number: \"))\n",
    "num3 = int(input(\"Please enter the third number: \"))\n",
    "if (num1 >= num2):\n",
    "    if (num1 >= num3):\n",
    "        print (\"I am here executing...\")\n",
    "        print (\"So the maximum number is\", num1)\n",
    "    else:\n",
    "        print (\"So the maximum number is\", num3)\n",
    "elif (num2 >= num3):\n",
    "    print (\"So the maximum number is\", num2)\n",
    "else:\n",
    "    print (\"So the maximum number is\", num3)\n",
    "print (\"End of the program...\")"
   ]
  },
  {
   "cell_type": "code",
   "execution_count": 53,
   "id": "e95d79e8-54a0-4d8b-9efa-a333ad7c1f07",
   "metadata": {},
   "outputs": [
    {
     "name": "stdin",
     "output_type": "stream",
     "text": [
      "Please enter the first number:  200\n",
      "Please enter the second number:  300\n",
      "Please enter the third number:  100\n"
     ]
    },
    {
     "name": "stdout",
     "output_type": "stream",
     "text": [
      "So the maximum number is 300\n",
      "End of the program...\n"
     ]
    }
   ],
   "source": [
    "num1 = int(input(\"Please enter the first number: \"))\n",
    "num2 = int(input(\"Please enter the second number: \"))\n",
    "num3 = int(input(\"Please enter the third number: \"))\n",
    "if (num1 >= num2 and num1 >= num3):\n",
    "    print (\"So the maximum number is\", num1)\n",
    "elif (num2 >= num3):\n",
    "    print (\"So the maximum number is\", num2)\n",
    "else:\n",
    "    print (\"So the maximum number is\", num3)\n",
    "print (\"End of the program...\")"
   ]
  },
  {
   "cell_type": "raw",
   "id": "c5bff28a-f1a8-427d-a2e4-fe53e5eb535a",
   "metadata": {},
   "source": [
    "Class Assignment -\n",
    "Take three integer numbers from the user and find the second maximum.\n",
    "\n",
    "Take 3 numbers as input in num1, num2 and num3\n",
    "Step-1:\n",
    "Out of num1 and num2 put the maximum in max1 and other number in max2\n",
    "Step-2:\n",
    "Now compare num3, max1 and max2\n",
    "                        max1      max2\n",
    "                        500       100\n",
    "num3 =>        700           400        50\n",
    "               500           400        100\n",
    "               max1          num3       max2"
   ]
  },
  {
   "cell_type": "code",
   "execution_count": 61,
   "id": "e42eb97b-6d56-4524-9f32-2b0a4a24e34f",
   "metadata": {},
   "outputs": [
    {
     "name": "stdin",
     "output_type": "stream",
     "text": [
      "Please enter the first number:  100\n",
      "Please enter the second number:  300\n",
      "Please enter the third number:  200\n"
     ]
    },
    {
     "name": "stdout",
     "output_type": "stream",
     "text": [
      "So the second maximum is 200\n",
      "End of the program...\n"
     ]
    }
   ],
   "source": [
    "num1 = int(input(\"Please enter the first number: \"))\n",
    "num2 = int(input(\"Please enter the second number: \"))\n",
    "num3 = int(input(\"Please enter the third number: \"))\n",
    "if (num1 >= num2): max1 = num1; max2 = num2\n",
    "else: max1 = num2; max2 = num1\n",
    "if (num3 >= max1): print (\"So the second maximum is\", max1)\n",
    "elif (num3 >= max2): print (\"So the second maximum is\", num3)\n",
    "else: print (\"So the second maximum is\", max2)\n",
    "print (\"End of the program...\")"
   ]
  },
  {
   "cell_type": "markdown",
   "id": "05da02d8-0992-4cd4-96e2-ad7fde62f3df",
   "metadata": {},
   "source": [
    "### Python Loops"
   ]
  },
  {
   "cell_type": "code",
   "execution_count": 70,
   "id": "007eb21d-c37e-417e-88ae-ec83550ac7ce",
   "metadata": {},
   "outputs": [
    {
     "name": "stdout",
     "output_type": "stream",
     "text": [
      "Executing for i = 1\n",
      "Executing for i = 4\n",
      "Executing for i = 7\n",
      "Executing for i = 10\n",
      "So the number of times loop got executed is 4\n",
      "End of the program...\n"
     ]
    }
   ],
   "source": [
    "i = 1\n",
    "loopcount = 0\n",
    "while (i <= 10):\n",
    "    print (f\"Executing for i = {i}\")\n",
    "    i += 3\n",
    "    loopcount += 1\n",
    "print (\"So the number of times loop got executed is\", loopcount)\n",
    "print (\"End of the program...\")"
   ]
  },
  {
   "cell_type": "code",
   "execution_count": 71,
   "id": "9a49005c-65f4-4d2b-bcc1-a0cec84ff6a6",
   "metadata": {},
   "outputs": [
    {
     "name": "stdout",
     "output_type": "stream",
     "text": [
      "Executing for i = 1\n",
      "Executing for i = 4\n",
      "Executing for i = 7\n",
      "Executing for i = 10\n",
      "Else part is executing...\n",
      "So the number of times loop got executed is 4\n",
      "End of the program...\n"
     ]
    }
   ],
   "source": [
    "i = 1\n",
    "loopcount = 0\n",
    "while (i <= 10):\n",
    "    print (f\"Executing for i = {i}\")\n",
    "    i += 3\n",
    "    loopcount += 1\n",
    "else:\n",
    "    print (\"Else part is executing...\")\n",
    "print (\"So the number of times loop got executed is\", loopcount)\n",
    "print (\"End of the program...\")"
   ]
  },
  {
   "cell_type": "code",
   "execution_count": 72,
   "id": "f3c043f2-8b28-467f-b5d0-ba131ccd4118",
   "metadata": {},
   "outputs": [
    {
     "name": "stdout",
     "output_type": "stream",
     "text": [
      "Executing for i = 1\n",
      "Executing for i = 2\n",
      "Executing for i = 3\n",
      "Executing for i = 4\n",
      "Executing for i = 5\n",
      "Executing for i = 6\n",
      "Executing for i = 7\n",
      "Executing for i = 8\n",
      "So the number of times loop got executed is 7\n",
      "End of the program...\n"
     ]
    }
   ],
   "source": [
    "i = 1\n",
    "loopcount = 0\n",
    "while (i <= 10):\n",
    "    print (f\"Executing for i = {i}\")\n",
    "    if (i == 8):\n",
    "        break\n",
    "    i += 1\n",
    "    loopcount += 1\n",
    "else:\n",
    "    print (\"Else part is executing...\")\n",
    "print (\"So the number of times loop got executed is\", loopcount)\n",
    "print (\"End of the program...\")"
   ]
  },
  {
   "cell_type": "code",
   "execution_count": 74,
   "id": "42d638ad-44a8-4636-8061-8fb4184f8bc3",
   "metadata": {},
   "outputs": [
    {
     "name": "stdout",
     "output_type": "stream",
     "text": [
      "Executing for i = 1\n",
      "Executing for i = 2\n",
      "Executing for i = 3\n",
      "Executing for i = 5\n",
      "Executing for i = 6\n",
      "Executing for i = 7\n",
      "Executing for i = 9\n",
      "Executing for i = 10\n",
      "Else part is executing...\n",
      "So the number of times loop got executed is 8\n",
      "End of the program...\n"
     ]
    }
   ],
   "source": [
    "i = 1\n",
    "loopcount = 0\n",
    "while (i <= 10):\n",
    "    if (i == 4 or i == 8):\n",
    "        i += 1\n",
    "        continue\n",
    "    print (f\"Executing for i = {i}\")\n",
    "    i += 1\n",
    "    loopcount += 1\n",
    "else:\n",
    "    print (\"Else part is executing...\")\n",
    "print (\"So the number of times loop got executed is\", loopcount)\n",
    "print (\"End of the program...\")"
   ]
  },
  {
   "cell_type": "code",
   "execution_count": 77,
   "id": "0b02d4e5-f47d-4289-9c8c-72f65c29da91",
   "metadata": {},
   "outputs": [
    {
     "name": "stdout",
     "output_type": "stream",
     "text": [
      "So i = 1\n",
      "So i = 3\n",
      "So i = 5\n",
      "So i = 7\n",
      "So i = 9\n",
      "Else block is executing...\n",
      "So total number of iterations is 5\n",
      "End of the program...\n"
     ]
    }
   ],
   "source": [
    "loopcount = 0\n",
    "for i in range(1, 10, 2):\n",
    "    print (f\"So i = {i}\")\n",
    "    loopcount += 1\n",
    "else:\n",
    "    print (\"Else block is executing...\")\n",
    "print (\"So total number of iterations is\", loopcount)\n",
    "print (\"End of the program...\")"
   ]
  },
  {
   "cell_type": "code",
   "execution_count": 78,
   "id": "fe031111-1be1-4a93-a7ca-fe973ed08579",
   "metadata": {},
   "outputs": [
    {
     "name": "stdout",
     "output_type": "stream",
     "text": [
      "So i = 10\n",
      "So i = 9\n",
      "So i = 8\n",
      "So i = 7\n",
      "So i = 6\n",
      "So i = 5\n",
      "So i = 4\n",
      "So i = 3\n",
      "So i = 2\n",
      "So i = 1\n",
      "Else block is executing...\n",
      "So total number of iterations is 10\n",
      "End of the program...\n"
     ]
    }
   ],
   "source": [
    "loopcount = 0\n",
    "for i in range(10, 0, -1):\n",
    "    print (f\"So i = {i}\")\n",
    "    loopcount += 1\n",
    "else:\n",
    "    print (\"Else block is executing...\")\n",
    "print (\"So total number of iterations is\", loopcount)\n",
    "print (\"End of the program...\")"
   ]
  },
  {
   "cell_type": "code",
   "execution_count": 81,
   "id": "b7755fad-30a1-406b-adbd-c71a9480c16e",
   "metadata": {},
   "outputs": [
    {
     "name": "stdout",
     "output_type": "stream",
     "text": [
      "So i = 1\n",
      "So i = 2\n",
      "So i = 3\n",
      "So i = 4\n",
      "So total number of iterations is 4\n",
      "End of the program...\n"
     ]
    }
   ],
   "source": [
    "loopcount = 0\n",
    "for i in range(1, 11, 1):\n",
    "    print (f\"So i = {i}\")\n",
    "    loopcount += 1\n",
    "    if (i == 4 or i == 8): break\n",
    "else:\n",
    "    print (\"Else block is executing...\")\n",
    "print (\"So total number of iterations is\", loopcount)\n",
    "print (\"End of the program...\")"
   ]
  },
  {
   "cell_type": "code",
   "execution_count": 82,
   "id": "e17b7daf-dac5-4d4b-9049-7903e1fd1caf",
   "metadata": {},
   "outputs": [
    {
     "name": "stdout",
     "output_type": "stream",
     "text": [
      "So i = 1\n",
      "So i = 2\n",
      "So i = 3\n",
      "So i = 5\n",
      "So i = 6\n",
      "So i = 7\n",
      "So i = 9\n",
      "So i = 10\n",
      "Else block is executing...\n",
      "So total number of iterations is 8\n",
      "End of the program...\n"
     ]
    }
   ],
   "source": [
    "loopcount = 0\n",
    "for i in range(1, 11, 1):\n",
    "    if (i == 4 or i == 8):continue\n",
    "    print (f\"So i = {i}\")\n",
    "    loopcount += 1\n",
    "else:\n",
    "    print (\"Else block is executing...\")\n",
    "print (\"So total number of iterations is\", loopcount)\n",
    "print (\"End of the program...\")"
   ]
  },
  {
   "cell_type": "code",
   "execution_count": 87,
   "id": "819435ba-6e78-4b74-855e-78161c93983e",
   "metadata": {},
   "outputs": [
    {
     "name": "stdin",
     "output_type": "stream",
     "text": [
      "Please enter an integer:  101\n"
     ]
    }
   ],
   "source": [
    "num1 = int(input(\"Please enter an integer: \"))\n",
    "if (num1 % 2 == 0):\n",
    "    print (f\"So {num1} is an EVEN number...\")"
   ]
  },
  {
   "cell_type": "code",
   "execution_count": 89,
   "id": "90451d3f-768e-4724-9b0e-49c12568ac32",
   "metadata": {},
   "outputs": [
    {
     "name": "stdin",
     "output_type": "stream",
     "text": [
      "Please enter an integer:  100\n"
     ]
    },
    {
     "name": "stdout",
     "output_type": "stream",
     "text": [
      "So 100 is an EVEN number...\n"
     ]
    }
   ],
   "source": [
    "num1 = int(input(\"Please enter an integer: \"))\n",
    "if (num1 % 2 == 1):\n",
    "    pass   # statement placeholder\n",
    "else:\n",
    "    print (f\"So {num1} is an EVEN number...\")"
   ]
  },
  {
   "cell_type": "code",
   "execution_count": 90,
   "id": "4f191c8c-3eea-4317-baad-7c992ab7ced6",
   "metadata": {},
   "outputs": [
    {
     "name": "stdout",
     "output_type": "stream",
     "text": [
      "VISIT Doctor...\n",
      "Good Morning...\n",
      "Day number: 1 and Medicine number: 1\n",
      "Day number: 1 and Medicine number: 2\n",
      "Day number: 1 and Medicine number: 3\n",
      "Good Night...\n",
      "~~~~~~~~~~~~~~~~~~~~~~~~~~~~~~~~~~~~~~~~~~~~~~~~~~\n",
      "Good Morning...\n",
      "Day number: 2 and Medicine number: 1\n",
      "Day number: 2 and Medicine number: 2\n",
      "Day number: 2 and Medicine number: 3\n",
      "Good Night...\n",
      "~~~~~~~~~~~~~~~~~~~~~~~~~~~~~~~~~~~~~~~~~~~~~~~~~~\n",
      "Good Morning...\n",
      "Day number: 3 and Medicine number: 1\n",
      "Day number: 3 and Medicine number: 2\n",
      "Day number: 3 and Medicine number: 3\n",
      "Good Night...\n",
      "~~~~~~~~~~~~~~~~~~~~~~~~~~~~~~~~~~~~~~~~~~~~~~~~~~\n",
      "Good Morning...\n",
      "Day number: 4 and Medicine number: 1\n",
      "Day number: 4 and Medicine number: 2\n",
      "Day number: 4 and Medicine number: 3\n",
      "Good Night...\n",
      "~~~~~~~~~~~~~~~~~~~~~~~~~~~~~~~~~~~~~~~~~~~~~~~~~~\n",
      "Good Morning...\n",
      "Day number: 5 and Medicine number: 1\n",
      "Day number: 5 and Medicine number: 2\n",
      "Day number: 5 and Medicine number: 3\n",
      "Good Night...\n",
      "~~~~~~~~~~~~~~~~~~~~~~~~~~~~~~~~~~~~~~~~~~~~~~~~~~\n",
      "THANKS Doctor...\n"
     ]
    }
   ],
   "source": [
    "# example of nested looping...\n",
    "print (\"VISIT Doctor...\")    # 1 time\n",
    "for day in range(1, 6):\n",
    "    print (\"Good Morning...\")    # 5 times\n",
    "    for medi in range(1, 4):\n",
    "        print (f\"Day number: {day} and Medicine number: {medi}\")    # 15 times\n",
    "    print (\"Good Night...\")    # 5 times\n",
    "    print (\"~~~~~~~~~~~~~~~~~~~~~~~~~~~~~~~~~~~~~~~~~~~~~~~~~~\")\n",
    "print (\"THANKS Doctor...\")    # 1 time"
   ]
  },
  {
   "cell_type": "code",
   "execution_count": 93,
   "id": "356d197f-576d-407c-a39a-512a38cba5ba",
   "metadata": {},
   "outputs": [
    {
     "name": "stdout",
     "output_type": "stream",
     "text": [
      "HelloHelloHelloHelloHello\n",
      "Hello Hello Hello Hello Hello \n",
      "Hi !!! Hi !!! Hi !!! Hi !!! Hi !!! Hi !!! Hi !!! Hi !!! \n"
     ]
    }
   ],
   "source": [
    "print (\"Hello\" * 5)\n",
    "print (\"Hello \" * 5)\n",
    "print (\"Hi !!! \" * 8)"
   ]
  },
  {
   "cell_type": "raw",
   "id": "cfde464c-2b27-4fe3-b121-e911006213a6",
   "metadata": {},
   "source": [
    "Class Assignment:\n",
    "\n",
    "Take user input for number of layers and draw the pattern\n",
    "                   i   .   *\n",
    "n = 6           ---------------    \n",
    ".....*             1   5   1\n",
    "....***            2   4   3    . => (n - i)\n",
    "...*****           3   3   5\n",
    "..*******          4   2   7    * => (2 * i - 1)\n",
    ".*********         5   1   9\n",
    "***********        6   0  11\n",
    "                ---------------"
   ]
  },
  {
   "cell_type": "code",
   "execution_count": 96,
   "id": "5397371a-37d7-4d3d-9013-8053bdba845a",
   "metadata": {},
   "outputs": [
    {
     "name": "stdin",
     "output_type": "stream",
     "text": [
      "Please enter the number of layers:  10\n"
     ]
    },
    {
     "name": "stdout",
     "output_type": "stream",
     "text": [
      ".........*\n",
      "........***\n",
      ".......*****\n",
      "......*******\n",
      ".....*********\n",
      "....***********\n",
      "...*************\n",
      "..***************\n",
      ".*****************\n",
      "*******************\n",
      "End of the program...\n"
     ]
    }
   ],
   "source": [
    "n = int(input(\"Please enter the number of layers: \"))\n",
    "for i in range(1, n + 1):\n",
    "    print (\".\" * (n - i) + \"*\" * (2 * i - 1))\n",
    "print (\"End of the program...\")"
   ]
  },
  {
   "cell_type": "raw",
   "id": "503954ce-95d3-4a16-9010-870d738c172b",
   "metadata": {},
   "source": [
    "Class Assignment:\n",
    "Take value of n from the user. Now take n number of integers from the user.\n",
    "Now calculate and print sum, average, maximum, minimumm, even count and odd count of these numbers."
   ]
  },
  {
   "cell_type": "code",
   "execution_count": 98,
   "id": "2deb95f6-4e77-45d1-aff3-0d956ab6470c",
   "metadata": {},
   "outputs": [
    {
     "name": "stdin",
     "output_type": "stream",
     "text": [
      "Please enter the number of numbers:  6\n",
      "Please enter an integer:  -33\n",
      "Please enter an integer:  -22\n",
      "Please enter an integer:  -44\n",
      "Please enter an integer:  -66\n",
      "Please enter an integer:  -55\n",
      "Please enter an integer:  -11\n"
     ]
    },
    {
     "name": "stdout",
     "output_type": "stream",
     "text": [
      "So total = -231, max = -11, min = -66 and average = -38.5\n",
      "End of the program...\n"
     ]
    }
   ],
   "source": [
    "n = int(input(\"Please enter the number of numbers: \"))\n",
    "num1 = int(input(\"Please enter an integer: \"))\n",
    "max_num = min_num = num1\n",
    "total = num1\n",
    "for i in range(1, n):\n",
    "    num1  = int(input(\"Please enter an integer: \"))\n",
    "    total += num1\n",
    "    if (max_num < num1): max_num = num1\n",
    "    if (min_num > num1): min_num = num1\n",
    "print (f\"So total = {total}, max = {max_num}, min = {min_num} and average = {total / n}\")\n",
    "print (\"End of the program...\")"
   ]
  },
  {
   "cell_type": "markdown",
   "id": "a4720962-e9a1-4109-bd85-0021bb9cb331",
   "metadata": {},
   "source": [
    "### Python User Defined Functions"
   ]
  },
  {
   "cell_type": "code",
   "execution_count": 101,
   "id": "296afba3-f8e2-4703-bd19-ae07583b9a6b",
   "metadata": {},
   "outputs": [
    {
     "name": "stdout",
     "output_type": "stream",
     "text": [
      "Hello Hello Hello Hello Hello \n",
      "Hello Hello Hello Hello Hello \n",
      "Hello Hello Hello Hello Hello \n"
     ]
    }
   ],
   "source": [
    "def funct1():\n",
    "    print (\"Hello \" * 5)\n",
    "    \n",
    "funct1()\n",
    "funct1()\n",
    "funct1()"
   ]
  },
  {
   "cell_type": "code",
   "execution_count": 106,
   "id": "aa161c5f-387a-446d-be1d-fb6e0f67b53e",
   "metadata": {},
   "outputs": [
    {
     "name": "stdout",
     "output_type": "stream",
     "text": [
      "Welcome Welcome Welcome Welcome \n",
      "Hello !!! Hello !!! Hello !!! Hello !!! Hello !!! \n",
      "Hey... Hey... Hey... \n"
     ]
    }
   ],
   "source": [
    "def funct2(msg, times):\n",
    "    print (msg * times)\n",
    "    \n",
    "funct2(\"Welcome \", 4)\n",
    "funct2(\"Hello !!! \", 5)\n",
    "funct2(\"Hey... \", 3)"
   ]
  },
  {
   "cell_type": "code",
   "execution_count": 108,
   "id": "9b458109-35f4-4ff0-b5ec-b43467ffd9da",
   "metadata": {},
   "outputs": [
    {
     "name": "stdout",
     "output_type": "stream",
     "text": [
      "Hello Hello Hello Hello Hello \n",
      "Welcome Welcome Welcome \n"
     ]
    }
   ],
   "source": [
    "def funct3(msg, times):\n",
    "    return msg * times\n",
    "\n",
    "result = funct3(\"Hello \", 5)\n",
    "print (result)\n",
    "print (funct3(\"Welcome \", 3))"
   ]
  },
  {
   "cell_type": "code",
   "execution_count": 119,
   "id": "7b4e7309-2143-4821-be77-5d5f8a38f6dd",
   "metadata": {},
   "outputs": [
    {
     "name": "stdout",
     "output_type": "stream",
     "text": [
      "Par1 = 100, Par2 = 200 and Par3 = 300\n",
      "Par1 = 100, Par2 = 200 and Par3 = 333\n",
      "Par1 = 100, Par2 = 222 and Par3 = 333\n",
      "Par1 = 111, Par2 = 222 and Par3 = 333\n",
      "Par1 = 100, Par2 = 222 and Par3 = 300\n",
      "Par1 = 111, Par2 = 200 and Par3 = 300\n"
     ]
    }
   ],
   "source": [
    "# function with default arguments\n",
    "def funct4(par1 = 111, par2 = 222, par3 = 333):\n",
    "    print (f\"Par1 = {par1}, Par2 = {par2} and Par3 = {par3}\")\n",
    "    \n",
    "funct4(100, 200, 300)\n",
    "funct4(100, 200)\n",
    "funct4(100)\n",
    "funct4()\n",
    "funct4(par1 = 100, par3 = 300)\n",
    "funct4(par3 = 300, par2 = 200)"
   ]
  },
  {
   "cell_type": "code",
   "execution_count": 121,
   "id": "7dc31ac0-bdd9-4ea6-943c-3c6c071d53df",
   "metadata": {},
   "outputs": [
    {
     "name": "stdin",
     "output_type": "stream",
     "text": [
      "Please enter an integer:  2021\n"
     ]
    },
    {
     "name": "stdout",
     "output_type": "stream",
     "text": [
      "2021 is an ODD number...\n",
      "End of the program...\n"
     ]
    }
   ],
   "source": [
    "# function with return boolean value\n",
    "def even_check(num):\n",
    "    if (num % 2 == 0): return True\n",
    "    else: return False\n",
    "\n",
    "num1 = int(input(\"Please enter an integer: \"))\n",
    "if (even_check(num1)):\n",
    "    print (f\"{num1} is an EVEN number...\")\n",
    "else:\n",
    "    print (f\"{num1} is an ODD number...\")\n",
    "print (\"End of the program...\")"
   ]
  },
  {
   "cell_type": "code",
   "execution_count": 123,
   "id": "d49279d7-d206-4549-b4b4-c60f0a15c340",
   "metadata": {},
   "outputs": [
    {
     "name": "stdin",
     "output_type": "stream",
     "text": [
      "Please enter an integer:  301\n"
     ]
    },
    {
     "name": "stdout",
     "output_type": "stream",
     "text": [
      "301 is an ODD number...\n",
      "End of the program...\n"
     ]
    }
   ],
   "source": [
    "# function with return boolean value\n",
    "def even_check(num):\n",
    "    return num % 2 == 0\n",
    "\n",
    "num1 = int(input(\"Please enter an integer: \"))\n",
    "if (even_check(num1)):\n",
    "    print (f\"{num1} is an EVEN number...\")\n",
    "else:\n",
    "    print (f\"{num1} is an ODD number...\")\n",
    "print (\"End of the program...\")"
   ]
  },
  {
   "cell_type": "code",
   "execution_count": 129,
   "id": "aa1c8474-4dd7-4f36-884b-dd89ee9dd199",
   "metadata": {},
   "outputs": [
    {
     "name": "stdout",
     "output_type": "stream",
     "text": [
      "100 <class 'int'> 140730717975440\n",
      "10.34 <class 'float'> 2815825760464\n",
      "True <class 'bool'> 140730717689680\n",
      "Thanks to You <class 'str'> 2815825641328\n"
     ]
    }
   ],
   "source": [
    "value = 100    # implicit object\n",
    "print (value, type(value), id(value))\n",
    "value = 10.34\n",
    "print (value, type(value), id(value))\n",
    "value = True\n",
    "print (value, type(value), id(value))\n",
    "value = \"Thanks to You\"\n",
    "print (value, type(value), id(value))"
   ]
  },
  {
   "cell_type": "code",
   "execution_count": 138,
   "id": "41d9bcb0-b095-401d-9a47-e47d9eddcbd9",
   "metadata": {},
   "outputs": [
    {
     "name": "stdout",
     "output_type": "stream",
     "text": [
      "[100, 90.75, True, 'Amitava'] <class 'list'> 2815825695744\n",
      "(100, 90.75, True, 'Amitava') <class 'tuple'> 2815835034544\n",
      "{'mango': 150, 'guava': 120, 'pineapple': 150} <class 'dict'> 2815823652416\n",
      "{40, 10, 50, 20, '10', 30} <class 'set'> 2815827115808\n"
     ]
    }
   ],
   "source": [
    "result = [100, 90.75, True, \"Amitava\"]\n",
    "print (result, type(result), id(result))\n",
    "result = (100, 90.75, True, \"Amitava\")\n",
    "print (result, type(result), id(result))\n",
    "result = {\"mango\":150, \"guava\":120, \"pineapple\":150}\n",
    "print (result, type(result), id(result))\n",
    "result = {10, 30, 20, \"10\", 40, 30, 20, 50, 10}\n",
    "print (result, type(result), id(result))"
   ]
  },
  {
   "cell_type": "code",
   "execution_count": 143,
   "id": "d655b4da-6805-4188-9769-fd53d8984cee",
   "metadata": {},
   "outputs": [
    {
     "name": "stdout",
     "output_type": "stream",
     "text": [
      "256 <class 'int'> 140730717980432\n",
      "256 <class 'int'> 140730717980432\n",
      "256 <class 'int'> 140730717980432\n"
     ]
    }
   ],
   "source": [
    "# range of values in variables for having same ids is -5 to 256\n",
    "var1 = 256\n",
    "print (var1, type(var1), id(var1))\n",
    "var2 = var1\n",
    "print (var2, type(var2), id(var2))\n",
    "var3 = 256\n",
    "print (var3, type(var3), id(var3))"
   ]
  },
  {
   "cell_type": "code",
   "execution_count": 144,
   "id": "84d9e4c0-c5f5-4ada-be74-67e86be92530",
   "metadata": {},
   "outputs": [
    {
     "name": "stdout",
     "output_type": "stream",
     "text": [
      "257 <class 'int'> 2815835095152\n",
      "257 <class 'int'> 2815835095152\n",
      "257 <class 'int'> 2815835099088\n"
     ]
    }
   ],
   "source": [
    "# range of values in variables for having same ids is -5 to 256\n",
    "var1 = 257\n",
    "print (var1, type(var1), id(var1))\n",
    "var2 = var1\n",
    "print (var2, type(var2), id(var2))\n",
    "var3 = 257\n",
    "print (var3, type(var3), id(var3))"
   ]
  },
  {
   "cell_type": "code",
   "execution_count": 146,
   "id": "75dd0810-0ec7-4f7c-870b-925bdf023b80",
   "metadata": {},
   "outputs": [
    {
     "name": "stdout",
     "output_type": "stream",
     "text": [
      "-6 <class 'int'> 2815835099056\n",
      "-6 <class 'int'> 2815835099056\n",
      "-6 <class 'int'> 2815835096176\n"
     ]
    }
   ],
   "source": [
    "# range of values in variables for having same ids is -5 to 256\n",
    "var1 = -6\n",
    "print (var1, type(var1), id(var1))\n",
    "var2 = var1\n",
    "print (var2, type(var2), id(var2))\n",
    "var3 = -6\n",
    "print (var3, type(var3), id(var3))"
   ]
  },
  {
   "cell_type": "code",
   "execution_count": 150,
   "id": "ba472e03-72a6-4eaf-8570-5ec443506629",
   "metadata": {},
   "outputs": [
    {
     "name": "stdout",
     "output_type": "stream",
     "text": [
      "So total = 140, difference = 60, product = 4000, quotient = 2.5 and remainder = 20\n",
      "(140, 60, 4000, 2.5, 20) <class 'tuple'> 5 2815781768144\n",
      "So total = 140, difference = 60, product = 4000, quotient = 2.5 and remainder = 20\n"
     ]
    }
   ],
   "source": [
    "# function returning multiple arguments\n",
    "def funct5(num1, num2):\n",
    "    total = num1 + num2\n",
    "    difference = num1 - num2\n",
    "    product = num1 * num2\n",
    "    quotient = num1 / num2\n",
    "    remainder = num1 % num2\n",
    "    return total, difference, product, quotient, remainder\n",
    "\n",
    "tt, dd, pp, qq, rr = funct5(100, 40)\n",
    "print (f\"So total = {tt}, difference = {dd}, product = {pp}, quotient = {qq} and remainder = {rr}\")\n",
    "result = funct5(100, 40)\n",
    "print (result, type(result), len(result), id(result))\n",
    "print (f\"So total = {result[0]}, difference = {result[1]}, product = {result[2]}, quotient = {result[3]} and remainder = {result[4]}\")"
   ]
  },
  {
   "cell_type": "code",
   "execution_count": 152,
   "id": "68b86d89-9a37-46de-a002-494976dd0440",
   "metadata": {},
   "outputs": [
    {
     "name": "stdout",
     "output_type": "stream",
     "text": [
      "result = 2000\n",
      "result = 8000\n"
     ]
    }
   ],
   "source": [
    "def funct6(num1, num2 = None):\n",
    "    # if (num2 == None):\n",
    "    if (num2 is None):\n",
    "        return 2 * num1\n",
    "    else:\n",
    "        return num1 + num2\n",
    "    \n",
    "result = funct6(1000)\n",
    "print (f\"result = {result}\")\n",
    "result = funct6(1000, 7000)\n",
    "print (f\"result = {result}\")"
   ]
  },
  {
   "cell_type": "raw",
   "id": "cacf163c-0436-495c-9ab2-1dcd7ca922e7",
   "metadata": {},
   "source": [
    "Class Assignment:\n",
    "Write a function which returns True or False depending upon whether the input argument number to the function is prime or not. Now use this function to find all prime numbers from 1 to 100.\n",
    "\n",
    "Prime number is that number which can be divided by 1 and by that number itself. As example 13, 17, 19 etc.\n",
    "\n",
    "num = 100\n",
    "1   100\n",
    "2   50\n",
    "4   25\n",
    "5   20\n",
    "10  10\n",
    "20  5\n",
    "25  4\n",
    "50  2\n",
    "100 1\n"
   ]
  },
  {
   "cell_type": "code",
   "execution_count": 156,
   "id": "7d070eb1-aad2-42e6-bc19-131b322e26fe",
   "metadata": {},
   "outputs": [
    {
     "name": "stdout",
     "output_type": "stream",
     "text": [
      "2, 3, 5, 7, 11, 13, 17, 19, 23, 29, 31, 37, 41, 43, 47, 53, 59, 61, 67, 71, 73, 79, 83, 89, 97, "
     ]
    }
   ],
   "source": [
    "def is_prime(num):\n",
    "    for i in range(2, int(num ** 0.5) + 1):\n",
    "        if (num % i == 0):\n",
    "            return False\n",
    "    return True\n",
    "\n",
    "for num1 in range(2, 101):\n",
    "    if (is_prime(num1)): print (num1, end = \", \")"
   ]
  },
  {
   "cell_type": "code",
   "execution_count": 157,
   "id": "267175cf-4ba4-42a8-8484-456736650774",
   "metadata": {},
   "outputs": [
    {
     "name": "stdout",
     "output_type": "stream",
     "text": [
      "101 Odd\n",
      "100 Even\n"
     ]
    }
   ],
   "source": [
    "# ternary operator\n",
    "num = 101\n",
    "result = \"Even\" if (num % 2 == 0) else \"Odd\"   # result = num % 2 == 0? \"Even\": \"Odd\"\n",
    "print (num, result)\n",
    "num = 100\n",
    "result = \"Even\" if (num % 2 == 0) else \"Odd\"\n",
    "print (num, result)"
   ]
  },
  {
   "cell_type": "code",
   "execution_count": 165,
   "id": "bbd9d523-7399-4d16-b924-cbcd75b5457e",
   "metadata": {},
   "outputs": [
    {
     "name": "stdout",
     "output_type": "stream",
     "text": [
      "Looping for i = 2\n",
      "Looping for i = 3\n",
      "Looping for i = 4\n",
      "So factorial of 5 is 120\n",
      "Looping for i = 2\n",
      "Looping for i = 3\n",
      "Looping for i = 4\n",
      "Looping for i = 5\n",
      "Looping for i = 6\n",
      "So factorial of 7 is 5040\n"
     ]
    }
   ],
   "source": [
    "# non-recursive (iterative) factorial calculating function\n",
    "def factorial_nr(num):\n",
    "    if (num == 0 or num == 1): return 1   # 0! = 1! = 1\n",
    "    fact = num\n",
    "    for i in range(2, num):\n",
    "        fact *= i\n",
    "        print (\"Looping for i =\", i)\n",
    "    return fact\n",
    "\n",
    "num = 5\n",
    "print (f\"So factorial of {num} is {factorial_nr(num)}\")   # 5! = 5 * 4 * 3 * 2 * 1\n",
    "num = 7\n",
    "print (f\"So factorial of {num} is {factorial_nr(num)}\")"
   ]
  },
  {
   "cell_type": "raw",
   "id": "18e5c576-d90f-4f2c-921f-eb07845afdc5",
   "metadata": {},
   "source": [
    "5! = 5 * 4!\n",
    "         4 * 3!\n",
    "             3 * 2!\n",
    "                 2 * 1!\n",
    "                     1\n",
    "                 2\n",
    "             6\n",
    "         24\n",
    "     120"
   ]
  },
  {
   "cell_type": "code",
   "execution_count": null,
   "id": "b89e962b-a3e0-4982-bf18-6bc078a29bce",
   "metadata": {},
   "outputs": [],
   "source": [
    "# recursive factorial calculating function\n",
    "def factorial_r(num):\n",
    "    if (num == 0 or num == 1): return 1   # base case, i.e. for certain inputs outputs are known to us\n",
    "    return num * factorial_r(num - 1)     # recursive case, i.e. a function is calling itself either directly or indirectly\n",
    "\n",
    "num = 5\n",
    "print (f\"So factorial of {num} is {factorial_nr(num)}\")   # 5! = 5 * 4 * 3 * 2 * 1\n",
    "num = 7\n",
    "print (f\"So factorial of {num} is {factorial_nr(num)}\")"
   ]
  },
  {
   "cell_type": "code",
   "execution_count": 166,
   "id": "6382452b-5bd8-44da-80fc-ca2d328ad6be",
   "metadata": {},
   "outputs": [
    {
     "name": "stdout",
     "output_type": "stream",
     "text": [
      "('Amit', 'Developer', 'Hyderabad') <class 'tuple'> 3 2815824523584\n",
      "('Amit', 'Developer', 'Hyderabad', 45000, 'amit@gmail.com') <class 'tuple'> 5 2815781768144\n",
      "('Amit', 'Developer', 'Hyderabad', 45000, 'amit@gmail.com', 'Genpact', True) <class 'tuple'> 7 2815835391552\n"
     ]
    }
   ],
   "source": [
    "# function with variable number of arguments\n",
    "def funct7(*arg):    # *arg means forcefully defining arg of type tuple\n",
    "    print (arg, type(arg), len(arg), id(arg))\n",
    "    \n",
    "funct7(\"Amit\", \"Developer\", \"Hyderabad\")\n",
    "funct7(\"Amit\", \"Developer\", \"Hyderabad\", 45000, \"amit@gmail.com\")\n",
    "funct7(\"Amit\", \"Developer\", \"Hyderabad\", 45000, \"amit@gmail.com\", \"Genpact\", True)"
   ]
  },
  {
   "cell_type": "code",
   "execution_count": 167,
   "id": "dbdfcf03-817b-4283-bb6a-4844c88a9e3e",
   "metadata": {},
   "outputs": [
    {
     "name": "stdout",
     "output_type": "stream",
     "text": [
      "{'name': 'Amit', 'desig': 'Developer', 'city': 'Hyderabad'} <class 'dict'> 3 2815824428928\n",
      "{'name': 'Amit', 'desig': 'Developer', 'city': 'Hyderabad', 'salary': 45000, 'email': 'amit@gmail.com'} <class 'dict'> 5 2815825406336\n",
      "{'name': 'Amit', 'desig': 'Developer', 'city': 'Hyderabad', 'salary': 45000, 'email': 'amit@gmail.com', 'company': 'Genpact', 'married': True} <class 'dict'> 7 2815824425856\n"
     ]
    }
   ],
   "source": [
    "def funct8(**kwarg):    # **kwarg means key-word argument and here forcefully defining kwarg of type dictionary\n",
    "    print (kwarg, type(kwarg), len(kwarg), id(kwarg))\n",
    "    \n",
    "funct8(name=\"Amit\", desig=\"Developer\", city=\"Hyderabad\")\n",
    "funct8(name=\"Amit\", desig=\"Developer\", city=\"Hyderabad\", salary=45000, email=\"amit@gmail.com\")\n",
    "funct8(name=\"Amit\", desig=\"Developer\", city=\"Hyderabad\", salary=45000, email=\"amit@gmail.com\", company=\"Genpact\", married=True)"
   ]
  },
  {
   "cell_type": "code",
   "execution_count": 170,
   "id": "a2728638-7b91-4dbd-aaa4-e7467451aacf",
   "metadata": {},
   "outputs": [
    {
     "name": "stdout",
     "output_type": "stream",
     "text": [
      "('Amit', 'Developer', 'Hyderabad') <class 'tuple'> 3 2815824498176\n",
      "{'salary': 45000, 'email': 'amit@gmail.com', 'company': 'Genpact', 'married': True} <class 'dict'> 4 2815826013184\n",
      "('Amit', 'Developer', 'Hyderabad') <class 'tuple'> 3 2815824498176\n",
      "{} <class 'dict'> 0 2815826013824\n",
      "() <class 'tuple'> 0 2815733858368\n",
      "{'salary': 45000, 'email': 'amit@gmail.com', 'company': 'Genpact', 'married': True} <class 'dict'> 4 2815807093440\n"
     ]
    }
   ],
   "source": [
    "def funct9(*arg, **kwarg):\n",
    "    print (arg, type(arg), len(arg), id(arg))\n",
    "    print (kwarg, type(kwarg), len(kwarg), id(kwarg))\n",
    "    \n",
    "funct9(\"Amit\", \"Developer\", \"Hyderabad\", salary=45000, email=\"amit@gmail.com\", company=\"Genpact\", married=True)\n",
    "funct9(\"Amit\", \"Developer\", \"Hyderabad\")\n",
    "funct9(salary=45000, email=\"amit@gmail.com\", company=\"Genpact\", married=True)"
   ]
  },
  {
   "cell_type": "code",
   "execution_count": 174,
   "id": "fd1d4e2e-e456-4d37-b57f-5edc4acb599d",
   "metadata": {},
   "outputs": [
    {
     "name": "stdout",
     "output_type": "stream",
     "text": [
      "Before calling the function: 10 <class 'int'> 140730717972560\n",
      "100 <class 'int'> 140730717975440\n",
      "After calling the function: 10 <class 'int'> 140730717972560\n"
     ]
    }
   ],
   "source": [
    "i = 10\n",
    "def funct10():\n",
    "    i = 100\n",
    "    print (i, type(i), id(i))\n",
    "    \n",
    "print (\"Before calling the function:\", i, type(i), id(i))\n",
    "funct10()\n",
    "print (\"After calling the function:\", i, type(i), id(i))"
   ]
  },
  {
   "cell_type": "code",
   "execution_count": 178,
   "id": "6612252e-aea7-4f3c-ace0-9dfb33fa9fd4",
   "metadata": {},
   "outputs": [
    {
     "name": "stdout",
     "output_type": "stream",
     "text": [
      "Before calling the function: 10 <class 'int'> 140730717972560\n",
      "100 <class 'int'> 140730717975440\n",
      "After calling the function: 100 <class 'int'> 140730717975440\n",
      "<class 'function'>\n"
     ]
    }
   ],
   "source": [
    "i = 10\n",
    "def funct10():\n",
    "    global i\n",
    "    i = 100\n",
    "    print (i, type(i), id(i))\n",
    "    \n",
    "print (\"Before calling the function:\", i, type(i), id(i))\n",
    "funct10()\n",
    "print (\"After calling the function:\", i, type(i), id(i))\n",
    "print (type(funct10))"
   ]
  },
  {
   "cell_type": "code",
   "execution_count": 180,
   "id": "7c65d02a-dee2-409d-9d0c-cbeee6d9e158",
   "metadata": {},
   "outputs": [
    {
     "name": "stdout",
     "output_type": "stream",
     "text": [
      "So square of 5 is 25\n",
      "So square of 9 is 81\n",
      "<class 'function'>\n"
     ]
    }
   ],
   "source": [
    "# lambda or anonymous function\n",
    "mySquare = lambda number: number * number\n",
    "num = 5\n",
    "print (f\"So square of {num} is {mySquare(num)}\")\n",
    "num = 9\n",
    "print (f\"So square of {num} is {mySquare(num)}\")\n",
    "print (type(mySquare))"
   ]
  },
  {
   "cell_type": "raw",
   "id": "8384c8d5-8f02-4fe1-b855-ac28263863d7",
   "metadata": {},
   "source": [
    "num = a + b  # assignment statement\n",
    "+10 => here + is unary operator\n",
    "-10 => here - is unary operator\n",
    "20 + 30 => here + is binary operator"
   ]
  },
  {
   "cell_type": "code",
   "execution_count": 181,
   "id": "ac64bc14-a3a0-4ef0-ad52-c96d3a1a6ef8",
   "metadata": {},
   "outputs": [
    {
     "name": "stdout",
     "output_type": "stream",
     "text": [
      "So sum of 5 and 10 is 15\n",
      "So sum of 105 and 1010 is 1115\n"
     ]
    }
   ],
   "source": [
    "# lambda or anonymous function\n",
    "myAddition = lambda number1, number2: number1 + number2\n",
    "num1 = 5\n",
    "num2 = 10\n",
    "print (f\"So sum of {num1} and {num2} is {myAddition(num1, num2)}\")\n",
    "num1 = 105\n",
    "num2 = 1010\n",
    "print (f\"So sum of {num1} and {num2} is {myAddition(num1, num2)}\")"
   ]
  },
  {
   "cell_type": "code",
   "execution_count": 183,
   "id": "b0e23c63-7053-4d86-af83-ce813d6f89c8",
   "metadata": {},
   "outputs": [
    {
     "name": "stdout",
     "output_type": "stream",
     "text": [
      "So factorial of 5 is 120\n",
      "So factorial of 7 is 5040\n"
     ]
    }
   ],
   "source": [
    "# recursive lambda function\n",
    "myFactorial = lambda num: 1 if (num == 0 or num == 1) else num * myFactorial(num - 1)\n",
    "\n",
    "n = 5\n",
    "print (f\"So factorial of {n} is {myFactorial(n)}\")\n",
    "n = 7\n",
    "print (f\"So factorial of {n} is {myFactorial(n)}\")"
   ]
  },
  {
   "cell_type": "code",
   "execution_count": 188,
   "id": "e53b183c-c55b-44bd-9eef-14f001f159b8",
   "metadata": {},
   "outputs": [
    {
     "name": "stdout",
     "output_type": "stream",
     "text": [
      "50\n",
      "120\n",
      "120\n"
     ]
    }
   ],
   "source": [
    "def funct11(num):\n",
    "    myProd = lambda n: n * num\n",
    "    # print (type(myProd))\n",
    "    return myProd\n",
    "\n",
    "var10 = funct11(10)\n",
    "var20 = funct11(20)\n",
    "# print (var10, type(var10))\n",
    "print (var10(5))\n",
    "print (var20(6)) \n",
    "print (funct11(20)(6))"
   ]
  },
  {
   "cell_type": "raw",
   "id": "0cb85491-01c2-4817-8f44-61f4bbe33e03",
   "metadata": {},
   "source": [
    "American Standard Code for Information Interchange (ASCII) Code:\n",
    "ASCII Code is of 8 bits => Value will range from 0 to 255 and we shall have 256 values/combinations in total.\n",
    "\n",
    "Category 1: (0 to 127) Normal ASCII Codes (Printable)\n",
    "Category 2: (128 to 255) Extended ASCII Codes (Non-Printable)\n",
    "\n",
    "0 => 48   a => 97    A => 65  (Difference is 32)\n",
    "1 => 49   b => 98    B => 66  Esc => 27         Enter => 13\n",
    "...       ...        ...      Tab => 8\n",
    "...       ...        ...      Back Space => 9\n",
    "9 => 57   z => 122   Z => 90  Space => 32\n"
   ]
  },
  {
   "cell_type": "code",
   "execution_count": 192,
   "id": "893d4044-c50f-408a-a0c2-3b9365f12a88",
   "metadata": {},
   "outputs": [
    {
     "name": "stdout",
     "output_type": "stream",
     "text": [
      "A a z Z\n",
      "65 97 122 90\n"
     ]
    }
   ],
   "source": [
    "print (chr(65), chr(97), chr(122), chr(90))   # chr() will convert ASCII numeric code to character\n",
    "print (ord('A'), ord('a'), ord('z'), ord('Z'))   # ord() will convert character to ASCII numeric code"
   ]
  },
  {
   "cell_type": "raw",
   "id": "ef79a3a8-1325-4573-9d9a-8a42c7313e77",
   "metadata": {},
   "source": [
    "Class Assignment:\n",
    "\n",
    "n = 11 (Odd)     i   .   *    m = (n + 1) // 2 = 6\n",
    "               ------------- \n",
    "***********      1   0  11        (n, m, i)\n",
    ".*********       2   1   9   . => (i - 1)\n",
    "..*******        3   2   7\n",
    "...*****         4   3   5   * => (2 * (m - i) + 1)\n",
    "....***          5   4   3\n",
    ".....*         __6___5___1__\n",
    "....***          7   4   3\n",
    "...*****         8   3   5   . => (n - i)\n",
    "..*******        9   2   7\n",
    ".*********      10   1   9   * => (2 * (i - m) + 1)\n",
    "***********     11   0  11\n",
    "               ------------- "
   ]
  },
  {
   "cell_type": "code",
   "execution_count": 196,
   "id": "bc0a889e-becf-4f2a-b161-4e40f1c61451",
   "metadata": {},
   "outputs": [
    {
     "name": "stdin",
     "output_type": "stream",
     "text": [
      "Please enter ODD number of layers: 10\n",
      "Please enter ODD number of layers: 12\n",
      "Please enter ODD number of layers: 14\n",
      "Please enter ODD number of layers: 18\n",
      "Please enter ODD number of layers: 11\n"
     ]
    },
    {
     "name": "stdout",
     "output_type": "stream",
     "text": [
      "***********\n",
      ".*********\n",
      "..*******\n",
      "...*****\n",
      "....***\n",
      ".....*\n",
      "....***\n",
      "...*****\n",
      "..*******\n",
      ".*********\n",
      "***********\n",
      "End of the program...\n"
     ]
    }
   ],
   "source": [
    "while(True):\n",
    "    n = int(input(\"Please enter ODD number of layers:\"))\n",
    "    if (n % 2 == 1): break\n",
    "m = (n + 1) // 2\n",
    "for i in range(1, n + 1):\n",
    "    if (i > m): b = (n - i); s = (2 * (i - m) + 1)\n",
    "    else: b = (i - 1); s = (2 * (m - i) + 1)\n",
    "    print (\".\" * b + \"*\" * s)\n",
    "print (\"End of the program...\")"
   ]
  },
  {
   "cell_type": "code",
   "execution_count": null,
   "id": "46b0c1f0-a80f-48a3-9b51-c2b035b2e367",
   "metadata": {},
   "outputs": [],
   "source": [
    "Class Assignment:\n",
    "\n",
    "n = 11 (Odd)     i   .   *    m = (n + 1) // 2 = 6\n",
    "               ------------- \n",
    ".....A           1   5   1        (n, m, i)\n",
    "....ABC          2   4   3   . => (m - i)\n",
    "...ABCDE         3   3   5\n",
    "..ABCDEFG        4   2   7   * => (2 * i - 1)\n",
    ".ABCDEFGHI       5   1   9\n",
    "ABCDEFGHIJK    __6___0__11__\n",
    ".ABCDEFGHI       7   1   9\n",
    "..ABCDEFG        8   2   7   . => (i - m)\n",
    "...ABCDE         9   3   5\n",
    "....ABC         10   4   3   * => (2 * (n - i) + 1)\n",
    ".....A          11   5   1\n",
    "               -------------\n",
    "               Tracing Table"
   ]
  },
  {
   "cell_type": "code",
   "execution_count": 198,
   "id": "f68f51ad-6879-40c9-9c22-210ffe6057cb",
   "metadata": {},
   "outputs": [
    {
     "name": "stdin",
     "output_type": "stream",
     "text": [
      "Please enter ODD number of layers: 11\n"
     ]
    },
    {
     "name": "stdout",
     "output_type": "stream",
     "text": [
      ".....A\n",
      "....ABC\n",
      "...ABCDE\n",
      "..ABCDEFG\n",
      ".ABCDEFGHI\n",
      "ABCDEFGHIJK\n",
      ".ABCDEFGHI\n",
      "..ABCDEFG\n",
      "...ABCDE\n",
      "....ABC\n",
      ".....A\n",
      "End of the program...\n"
     ]
    }
   ],
   "source": [
    "while(True):\n",
    "    n = int(input(\"Please enter ODD number of layers:\"))\n",
    "    if (n % 2 == 1): break\n",
    "m = (n + 1) // 2\n",
    "for i in range(1, n + 1):\n",
    "    if (i > m): b = (i - m); s = (2 * (n - i) + 1)\n",
    "    else: b = (m - i); s = (2 * i - 1)\n",
    "    print (\".\" * b, end = \"\")\n",
    "    for i in range(1, s + 1):\n",
    "        print (chr(i + 64), end = \"\")\n",
    "    print ()\n",
    "print (\"End of the program...\")"
   ]
  },
  {
   "cell_type": "markdown",
   "id": "7d357cdd-a92e-45b9-b8b3-555e3ad965d1",
   "metadata": {},
   "source": [
    "### Math Module"
   ]
  },
  {
   "cell_type": "code",
   "execution_count": 199,
   "id": "b35f0df8-9432-4d45-8d91-d55ed1b5850f",
   "metadata": {},
   "outputs": [],
   "source": [
    "# importing the required module\n",
    "import math"
   ]
  },
  {
   "cell_type": "code",
   "execution_count": 220,
   "id": "f88ff7a8-ba25-49c3-8151-f1569883d3cf",
   "metadata": {},
   "outputs": [
    {
     "name": "stdout",
     "output_type": "stream",
     "text": [
      "0.0 1.0 0.0\n",
      "Num1 = 100, Num2 = 350, GCD = 50 and LCM = 700\n",
      "10 10 9 9\n",
      "120 5040\n",
      "2.302585092994046 10.0 10.0 4.0 4.0\n",
      "11.0 4.0\n",
      "10000.0 10000\n",
      "11.0 9.0\n",
      "10.45 10.45\n",
      "3.141592653589793 6.283185307179586 2.718281828459045\n"
     ]
    }
   ],
   "source": [
    "print (math.sin(0), math.cos(0), math.tan(0))\n",
    "num1 = 100\n",
    "num2 = 350\n",
    "print (f\"Num1 = {num1}, Num2 = {num2}, GCD = {math.gcd(num1, num2)} and LCM = {(num1 * num2) // math.gcd(num1, num2)}\")\n",
    "print (math.ceil(9.1), math.ceil(9.9), math.floor(9.1), math.floor(9.9))\n",
    "print (math.factorial(5), math.factorial(7))\n",
    "print (math.log(10), math.log(1024, 2), math.log2(1024), math.log(10000, 10), math.log10(10000))\n",
    "print (math.sqrt(121), math.sqrt(16))\n",
    "print (math.pow(10, 4), 10 ** 4)\n",
    "mySqrt = math.sqrt\n",
    "print (mySqrt(121), mySqrt(81))\n",
    "print (abs(-10.45), abs(10.45))\n",
    "print (math.pi, math.tau, math.e)"
   ]
  },
  {
   "cell_type": "code",
   "execution_count": 218,
   "id": "73787d16-a5ed-4374-9308-c04a64698916",
   "metadata": {},
   "outputs": [
    {
     "name": "stdout",
     "output_type": "stream",
     "text": [
      "Help on built-in function sqrt in module math:\n",
      "\n",
      "sqrt(x, /)\n",
      "    Return the square root of x.\n",
      "\n"
     ]
    }
   ],
   "source": [
    "help (math.sqrt)"
   ]
  },
  {
   "cell_type": "code",
   "execution_count": null,
   "id": "8783d85f-5d3e-4a80-92ff-590f5ee25727",
   "metadata": {},
   "outputs": [],
   "source": [
    "help(math)"
   ]
  },
  {
   "cell_type": "markdown",
   "id": "fbe734eb-9221-472b-b422-2492d5b27473",
   "metadata": {},
   "source": [
    "### String Processing"
   ]
  },
  {
   "cell_type": "raw",
   "id": "1e9bf0a1-c546-42d2-890f-5e57e76f2495",
   "metadata": {},
   "source": [
    "index from left to right =>   0   1   2   3   4   5   6   7   8   9\n",
    "                   mystr =>   u   n   i   v   e   r   s   i   t   y\n",
    "index from right to left => -10  -9  -8  -7  -6  -5  -4  -3  -2  -1"
   ]
  },
  {
   "cell_type": "code",
   "execution_count": 238,
   "id": "77d83d4a-b2a9-4c8e-9ee9-a7136bd28bd9",
   "metadata": {},
   "outputs": [
    {
     "name": "stdout",
     "output_type": "stream",
     "text": [
      "university 10 <class 'str'>\n",
      "e e t t n n\n",
      "sity sity univer univer\n",
      "niversi niversi niversi niversi\n",
      "nvriy uiest\n",
      "tisrev tisrev tisrev tisrev\n",
      "ytisrevinu\n"
     ]
    }
   ],
   "source": [
    "# indexing and slicing\n",
    "mystr = \"university\"\n",
    "print (mystr, len(mystr), type(mystr))\n",
    "print (mystr[4], mystr[-6], mystr[8], mystr[-2], mystr[1], mystr[-9])  # indexing\n",
    "print (mystr[6:], mystr[-4:], mystr[:6], mystr[:-4])\n",
    "print (mystr[1:8], mystr[-9:-2], mystr[1:-2], mystr[-9:8])\n",
    "print (mystr[1::2], mystr[::2])\n",
    "print (mystr[8:2:-1], mystr[-2:-8:-1], mystr[-2:2:-1], mystr[8:-8:-1])\n",
    "print (mystr[::-1])"
   ]
  },
  {
   "cell_type": "code",
   "execution_count": 239,
   "id": "9e161b9e-dcc1-4773-8a61-95824208ed0f",
   "metadata": {},
   "outputs": [
    {
     "name": "stdout",
     "output_type": "stream",
     "text": [
      "university 10 <class 'str'>\n",
      "ver ver ver ver\n"
     ]
    }
   ],
   "source": [
    "# print sub-string \"ver\" in 4 ways\n",
    "mystr = \"university\"\n",
    "print (mystr, len(mystr), type(mystr))\n",
    "print(mystr[3:6],mystr[3:-4],mystr[-7:6],mystr[-7:-4])"
   ]
  },
  {
   "cell_type": "code",
   "execution_count": 240,
   "id": "64069ebb-f87f-4bc0-8bd7-ee22d1f959e5",
   "metadata": {},
   "outputs": [
    {
     "name": "stdout",
     "output_type": "stream",
     "text": [
      "unIVerSIty of caLCuttA 22 <class 'str'>\n",
      "University Of Calcutta\n",
      "University of calcutta\n",
      "UNivERsiTY OF CAlcUTTa\n",
      "university of calcutta\n",
      "UNIVERSITY OF CALCUTTA\n"
     ]
    }
   ],
   "source": [
    "mystr = \"unIVerSIty of caLCuttA\"\n",
    "print (mystr, len(mystr), type(mystr))\n",
    "print (mystr.title())\n",
    "print (mystr.capitalize())\n",
    "print (mystr.swapcase())\n",
    "print (mystr.lower())\n",
    "print (mystr.upper())"
   ]
  },
  {
   "cell_type": "code",
   "execution_count": 241,
   "id": "8cda66d1-d61a-4a05-b86a-4492abb6b7a9",
   "metadata": {},
   "outputs": [
    {
     "name": "stdout",
     "output_type": "stream",
     "text": [
      "u\n",
      "n\n",
      "i\n",
      "v\n",
      "e\n",
      "r\n",
      "s\n",
      "i\n",
      "t\n",
      "y\n"
     ]
    }
   ],
   "source": [
    "mystr = \"university\"\n",
    "for ch in mystr:\n",
    "    print (ch)"
   ]
  },
  {
   "cell_type": "code",
   "execution_count": 242,
   "id": "b5ed585e-5ff2-4065-bb9f-3c9eefd6a79d",
   "metadata": {},
   "outputs": [
    {
     "name": "stdout",
     "output_type": "stream",
     "text": [
      "u\n",
      "n\n",
      "i\n",
      "v\n",
      "e\n",
      "r\n",
      "s\n",
      "i\n",
      "t\n",
      "y\n"
     ]
    }
   ],
   "source": [
    "mystr = \"university\"\n",
    "for i in range(len(mystr)):\n",
    "    print (mystr[i])"
   ]
  },
  {
   "cell_type": "code",
   "execution_count": 246,
   "id": "49aacd10-bae5-4664-bb83-b959d541ca28",
   "metadata": {},
   "outputs": [
    {
     "name": "stdout",
     "output_type": "stream",
     "text": [
      "abcdefgh 8 False True True False\n",
      "abcd1234 8 False False True False\n",
      "12345678 8 False False True True\n",
      "         8 True False False False\n"
     ]
    }
   ],
   "source": [
    "mystr = \"abcdefgh\"\n",
    "print (mystr, len(mystr), mystr.isspace(), mystr.isalpha(), mystr.isalnum(), mystr.isdigit())\n",
    "mystr = \"abcd1234\"\n",
    "print (mystr, len(mystr), mystr.isspace(), mystr.isalpha(), mystr.isalnum(), mystr.isdigit())\n",
    "mystr = \"12345678\"\n",
    "print (mystr, len(mystr), mystr.isspace(), mystr.isalpha(), mystr.isalnum(), mystr.isdigit())\n",
    "mystr = \"        \"\n",
    "print (mystr, len(mystr), mystr.isspace(), mystr.isalpha(), mystr.isalnum(), mystr.isdigit())"
   ]
  },
  {
   "cell_type": "code",
   "execution_count": 249,
   "id": "3c333a9f-79d1-4488-a070-a2d1a5de04f6",
   "metadata": {},
   "outputs": [
    {
     "name": "stdout",
     "output_type": "stream",
     "text": [
      "Good morning\n",
      "Good night\n",
      "Good morning\n",
      "Good night\n"
     ]
    }
   ],
   "source": [
    "mystr = \"Good morning\"\n",
    "print (mystr)\n",
    "print (mystr.replace(\"morning\", \"night\"))\n",
    "print (mystr)\n",
    "mystr = mystr.replace(\"morning\", \"night\")\n",
    "print (mystr)"
   ]
  },
  {
   "cell_type": "code",
   "execution_count": 254,
   "id": "45acc9e7-4c0b-4345-9a3b-5d37f2dc720d",
   "metadata": {},
   "outputs": [
    {
     "name": "stdout",
     "output_type": "stream",
     "text": [
      "charity begins at home 22 <class 'str'>\n",
      "8\n",
      "4\n",
      "Unsuccessful searching of the search string...\n"
     ]
    }
   ],
   "source": [
    "try:\n",
    "    mystr = \"charity begins at home\"\n",
    "    print (mystr, len(mystr), type(mystr))\n",
    "    print (mystr.index(\"beg\"))\n",
    "    print (mystr.index(\"ity\"))\n",
    "    print (mystr.index(\"Beg\"))\n",
    "except ValueError as ve:\n",
    "    print (\"Unsuccessful searching of the search string...\")"
   ]
  },
  {
   "cell_type": "code",
   "execution_count": 256,
   "id": "98abc5b9-2dc3-4ecf-b841-039278dd7c80",
   "metadata": {},
   "outputs": [
    {
     "name": "stdout",
     "output_type": "stream",
     "text": [
      "charity begins at home 22 <class 'str'>\n",
      "8\n",
      "4\n",
      "-1\n"
     ]
    }
   ],
   "source": [
    "mystr = \"charity begins at home\"\n",
    "print (mystr, len(mystr), type(mystr))\n",
    "print (mystr.find(\"beg\"))\n",
    "print (mystr.find(\"ity\"))\n",
    "print (mystr.find(\"Beg\"))"
   ]
  },
  {
   "cell_type": "code",
   "execution_count": 264,
   "id": "462ee137-ed0f-4664-aa92-a1852a59aa11",
   "metadata": {},
   "outputs": [
    {
     "name": "stdout",
     "output_type": "stream",
     "text": [
      "charity begins at home 22 <class 'str'>\n",
      "True\n",
      "False True True False\n",
      "False\n",
      "True False True False\n"
     ]
    }
   ],
   "source": [
    "# startswith() and endswith() methods\n",
    "mystr = \"charity begins at home\"\n",
    "print (mystr, len(mystr), type(mystr))\n",
    "print (mystr.endswith(\"home\"))\n",
    "print (mystr.endswith(\"begins\"), mystr.endswith(\"begins\", 0, 14), mystr.endswith(\"begins\", 5, 14), mystr.endswith(\"begins\", 5, 13))\n",
    "print (mystr.startswith(\"home\"))\n",
    "print (mystr.startswith(\"charity\"), mystr.startswith(\"begins\", 0, 14), mystr.startswith(\"begins\", 8, 14), mystr.startswith(\"begins\", 8, 10))"
   ]
  },
  {
   "cell_type": "code",
   "execution_count": 269,
   "id": "f177ce4e-2794-407a-8f55-82cf38db9221",
   "metadata": {},
   "outputs": [
    {
     "name": "stdout",
     "output_type": "stream",
     "text": [
      "    charity      at home      29 <class 'str'>\n",
      "charity      at home 20\n",
      "charity      at home      25\n",
      "    charity      at home 24\n"
     ]
    }
   ],
   "source": [
    "mystr = \"    charity      at home     \"\n",
    "print (mystr, len(mystr), type(mystr))\n",
    "print (mystr.strip(), len(mystr.strip()))\n",
    "print (mystr.lstrip(), len(mystr.lstrip()))\n",
    "print (mystr.rstrip(), len(mystr.rstrip()))"
   ]
  },
  {
   "cell_type": "code",
   "execution_count": 270,
   "id": "32a80067-acec-4a2e-8f92-0d642907b139",
   "metadata": {},
   "outputs": [
    {
     "name": "stdout",
     "output_type": "stream",
     "text": [
      "#@#@charity@@@@#at home@@###@ 29 <class 'str'>\n",
      "charity@@@@#at home 19\n",
      "charity@@@@#at home@@###@ 25\n",
      "#@#@charity@@@@#at home 23\n"
     ]
    }
   ],
   "source": [
    "mystr = \"#@#@charity@@@@#at home@@###@\"\n",
    "print (mystr, len(mystr), type(mystr))\n",
    "print (mystr.strip(\"@#\"), len(mystr.strip(\"@#\")))\n",
    "print (mystr.lstrip(\"@#\"), len(mystr.lstrip(\"@#\")))\n",
    "print (mystr.rstrip(\"@#\"), len(mystr.rstrip(\"@#\")))"
   ]
  },
  {
   "cell_type": "markdown",
   "id": "2ed3ca4f-7326-4653-84b6-2724069bdbc4",
   "metadata": {},
   "source": [
    "### List Processing"
   ]
  },
  {
   "cell_type": "code",
   "execution_count": 273,
   "id": "3668e61f-1726-42b3-bf9f-9abecdd643ed",
   "metadata": {},
   "outputs": [
    {
     "name": "stdout",
     "output_type": "stream",
     "text": [
      "[100, 200, 400, 500, 300, 600] 6 <class 'list'> 2815824781824\n",
      "600 100\n",
      "2100 350.0\n"
     ]
    }
   ],
   "source": [
    "list1 = [100, 200, 400, 500, 300, 600]\n",
    "print (list1, len(list1), type(list1), id(list1))\n",
    "print (max(list1), min(list1))\n",
    "print (sum(list1), sum(list1) / len(list1))"
   ]
  },
  {
   "cell_type": "code",
   "execution_count": 279,
   "id": "73c38a2e-35bf-4f68-a0e3-d6e56c78ffab",
   "metadata": {},
   "outputs": [
    {
     "name": "stdout",
     "output_type": "stream",
     "text": [
      "['Saturday', 'Friday', 'Sunday', 'Thursday'] 4 <class 'list'> 2815827485184\n",
      "Thursday Friday\n"
     ]
    }
   ],
   "source": [
    "list1 = ['Saturday', 'Friday', 'Sunday', 'Thursday']\n",
    "print (list1, len(list1), type(list1), id(list1))\n",
    "print (max(list1), min(list1))\n",
    "# print (sum(list1), sum(list1) / len(list1))"
   ]
  },
  {
   "cell_type": "code",
   "execution_count": 282,
   "id": "62d75760-ce59-4a6e-bff7-82995204bb1c",
   "metadata": {},
   "outputs": [
    {
     "name": "stdout",
     "output_type": "stream",
     "text": [
      "[100, 'Saturday', 'Friday', 200, 300, 'Sunday', 'Thursday'] 7 <class 'list'> 2815826015296\n"
     ]
    }
   ],
   "source": [
    "list1 = [100, 'Saturday', 'Friday', 200, 300, 'Sunday', 'Thursday']\n",
    "print (list1, len(list1), type(list1), id(list1))\n",
    "# print (max(list1), min(list1))\n",
    "# print (sum(list1), sum(list1) / len(list1))"
   ]
  },
  {
   "cell_type": "code",
   "execution_count": 283,
   "id": "04a11136-b573-4be5-a8d9-392b363b5732",
   "metadata": {},
   "outputs": [
    {
     "name": "stdout",
     "output_type": "stream",
     "text": [
      "['Amitava', True, 44000.5, 35] 4 <class 'list'> 2815825641152\n"
     ]
    }
   ],
   "source": [
    "list1 = ['Amitava', True, 44000.50, 35]\n",
    "print (list1, len(list1), type(list1), id(list1))"
   ]
  },
  {
   "cell_type": "code",
   "execution_count": 289,
   "id": "7cf9e507-00d9-4f77-9d25-90d6cd8fe5aa",
   "metadata": {},
   "outputs": [
    {
     "name": "stdout",
     "output_type": "stream",
     "text": [
      "['Saturday', 'Friday', 'Sunday'] 3\n",
      "['Thursday', 'Wednesday', 'Monday', 'Tuesday'] 4\n",
      "['Saturday', 'Friday', 'Sunday', 'Thursday', 'Wednesday', 'Monday', 'Tuesday'] 7\n",
      "[['Saturday', 'Friday', 'Sunday'], ['Thursday', 'Wednesday', 'Monday', 'Tuesday']] 2\n"
     ]
    }
   ],
   "source": [
    "list1 = ['Saturday', 'Friday', 'Sunday']\n",
    "list2 = ['Thursday', 'Wednesday', 'Monday', 'Tuesday']\n",
    "print (list1, len(list1))\n",
    "print (list2, len(list2))\n",
    "list3 = list1 + list2    # list concatenation\n",
    "print (list3, len(list3))\n",
    "list4 = [list1, list2]   # creating list of lists\n",
    "print (list4, len(list4))"
   ]
  },
  {
   "cell_type": "code",
   "execution_count": 297,
   "id": "65be672d-d898-4179-92e8-940e8466d68a",
   "metadata": {},
   "outputs": [
    {
     "name": "stdout",
     "output_type": "stream",
     "text": [
      "['Saturday', 'Friday', 'Sunday', 'Thursday', 'Wednesday', 'Monday', 'Tuesday'] 7\n",
      "Thursday Thursday Wednesday nes\n",
      "['Thursday', 'Wednesday', 'Monday', 'Tuesday'] ['Thursday', 'Wednesday', 'Monday', 'Tuesday']\n",
      "['Sunday', 'Thursday', 'Wednesday'] ['Sunday', 'Thursday', 'Wednesday']\n"
     ]
    }
   ],
   "source": [
    "# list indexing and slicing\n",
    "print (list3, len(list3))\n",
    "print (list3[3], list3[-4], list3[4], list3[4][3:6])\n",
    "print (list3[3:], list3[-4:])\n",
    "print (list3[2:5], list3[-5:-2])"
   ]
  },
  {
   "cell_type": "code",
   "execution_count": 302,
   "id": "ffd0129e-43cf-4098-8445-6d404823ba65",
   "metadata": {},
   "outputs": [
    {
     "name": "stdout",
     "output_type": "stream",
     "text": [
      "[['Saturday', 'Friday', 'Sunday'], ['Thursday', 'Wednesday', 'Monday', 'Tuesday']] 2\n",
      "['Saturday', 'Friday', 'Sunday'] ['Saturday', 'Friday', 'Sunday']\n",
      "['Wednesday', 'Monday'] ['Wednesday', 'Monday']\n",
      "nes\n"
     ]
    }
   ],
   "source": [
    "list4 = [list1, list2]   # creating list of lists\n",
    "print (list4, len(list4))\n",
    "print (list4[0], list4[-2])\n",
    "print (list4[1][1:3], list4[-1][-3:-1])\n",
    "print (list4[1][1][3:6])"
   ]
  },
  {
   "cell_type": "code",
   "execution_count": 284,
   "id": "ee1f1457-5436-456a-b89e-783631210b78",
   "metadata": {},
   "outputs": [
    {
     "name": "stdout",
     "output_type": "stream",
     "text": [
      "['Saturday', 'Friday', 'Sunday', 'Thursday'] 4 <class 'list'> 2815830668928\n",
      "['Saturday', 'Friday', 'Sunday', 'Thursday', 'Wednesday', 'Monday'] 6 <class 'list'> 2815830668928\n"
     ]
    }
   ],
   "source": [
    "# append and insert operations\n",
    "list1 = ['Saturday', 'Friday', 'Sunday', 'Thursday']\n",
    "print (list1, len(list1), type(list1), id(list1))\n",
    "list1.append(\"Wednesday\")\n",
    "list1.append('Monday')\n",
    "print (list1, len(list1), type(list1), id(list1))"
   ]
  },
  {
   "cell_type": "code",
   "execution_count": 305,
   "id": "283f780d-e1aa-4808-b3c0-2d87e637b5e2",
   "metadata": {},
   "outputs": [
    {
     "name": "stdout",
     "output_type": "stream",
     "text": [
      "['Saturday', 'Friday', 'Sunday', 'Thursday'] 4 <class 'list'> 2815826661504\n",
      "['Saturday', 'Friday', 'Wednesday', 'Sunday', 'Thursday'] 5 <class 'list'> 2815826661504\n",
      "['Saturday', 'Friday', 'Wednesday', 'Tuesday', 'Sunday', 'Thursday'] 6 <class 'list'> 2815826661504\n"
     ]
    }
   ],
   "source": [
    "list1 = ['Saturday', 'Friday', 'Sunday', 'Thursday']\n",
    "print (list1, len(list1), type(list1), id(list1))\n",
    "list1.insert(2, 'Wednesday')\n",
    "print (list1, len(list1), type(list1), id(list1))\n",
    "list1.insert(3, 'Tuesday')\n",
    "print (list1, len(list1), type(list1), id(list1))"
   ]
  },
  {
   "cell_type": "code",
   "execution_count": 307,
   "id": "81808e07-ed9e-453e-b59f-2aa94124d873",
   "metadata": {},
   "outputs": [
    {
     "name": "stdout",
     "output_type": "stream",
     "text": [
      "['Saturday', 'Friday', 'Wednesday', 'Tuesday', 'Sunday', 'Thursday'] 6 <class 'list'> 2815831070720\n",
      "Thursday\n",
      "Sunday\n",
      "Tuesday\n",
      "['Saturday', 'Friday', 'Wednesday'] 3 <class 'list'> 2815831070720\n"
     ]
    }
   ],
   "source": [
    "# delete operation\n",
    "list1 = ['Saturday', 'Friday', 'Wednesday', 'Tuesday', 'Sunday', 'Thursday']\n",
    "print (list1, len(list1), type(list1), id(list1))\n",
    "result = list1.pop()\n",
    "print (result)\n",
    "result = list1.pop()\n",
    "print (result)\n",
    "result = list1.pop()\n",
    "print (result)\n",
    "print (list1, len(list1), type(list1), id(list1))"
   ]
  },
  {
   "cell_type": "code",
   "execution_count": 311,
   "id": "4f5ce53c-0ee0-4864-b047-6f57cdffbc5b",
   "metadata": {},
   "outputs": [
    {
     "name": "stdout",
     "output_type": "stream",
     "text": [
      "['Saturday', 'Friday', 'Wednesday', 'Tuesday', 'Sunday', 'Thursday'] 6 <class 'list'> 2815830685888\n",
      "Wednesday\n",
      "['Saturday', 'Friday', 'Tuesday', 'Sunday', 'Thursday'] 5 <class 'list'> 2815830685888\n",
      "Sunday\n",
      "['Saturday', 'Friday', 'Tuesday', 'Thursday'] 4 <class 'list'> 2815830685888\n",
      "Saturday\n",
      "['Friday', 'Tuesday', 'Thursday'] 3 <class 'list'> 2815830685888\n"
     ]
    }
   ],
   "source": [
    "# delete operation\n",
    "list1 = ['Saturday', 'Friday', 'Wednesday', 'Tuesday', 'Sunday', 'Thursday']\n",
    "print (list1, len(list1), type(list1), id(list1))\n",
    "result = list1.pop(2)\n",
    "print (result)\n",
    "print (list1, len(list1), type(list1), id(list1))\n",
    "result = list1.pop(3)\n",
    "print (result)\n",
    "print (list1, len(list1), type(list1), id(list1))\n",
    "result = list1.pop(0)\n",
    "print (result)\n",
    "print (list1, len(list1), type(list1), id(list1))"
   ]
  },
  {
   "cell_type": "code",
   "execution_count": 313,
   "id": "3a856077-ed2f-44d2-9794-9c65eca9a4e5",
   "metadata": {},
   "outputs": [
    {
     "name": "stdout",
     "output_type": "stream",
     "text": [
      "['Saturday', 'Friday', 'Wednesday', 'Tuesday', 'Sunday', 'Thursday'] 6 <class 'list'> 2815825155840\n",
      "None\n",
      "['Saturday', 'Friday', 'Tuesday', 'Sunday', 'Thursday'] 5 <class 'list'> 2815825155840\n",
      "['Saturday', 'Friday', 'Tuesday', 'Thursday'] 4 <class 'list'> 2815825155840\n"
     ]
    }
   ],
   "source": [
    "# delete operation\n",
    "list1 = ['Saturday', 'Friday', 'Wednesday', 'Tuesday', 'Sunday', 'Thursday']\n",
    "print (list1, len(list1), type(list1), id(list1))\n",
    "result = list1.remove('Wednesday')\n",
    "print (result)\n",
    "print (list1, len(list1), type(list1), id(list1))\n",
    "list1.remove('Sunday')\n",
    "print (list1, len(list1), type(list1), id(list1))"
   ]
  },
  {
   "cell_type": "code",
   "execution_count": 314,
   "id": "436446cb-3980-4cae-b5a4-e9c7808080a8",
   "metadata": {},
   "outputs": [
    {
     "name": "stdout",
     "output_type": "stream",
     "text": [
      "['Saturday', 'Friday', 'Wednesday', 'Tuesday', 'Sunday', 'Thursday'] 6 <class 'list'> 2815828357504\n",
      "[] 0 <class 'list'> 2815828357504\n"
     ]
    }
   ],
   "source": [
    "list1 = ['Saturday', 'Friday', 'Wednesday', 'Tuesday', 'Sunday', 'Thursday']\n",
    "print (list1, len(list1), type(list1), id(list1))\n",
    "list1.clear()\n",
    "print (list1, len(list1), type(list1), id(list1))"
   ]
  },
  {
   "cell_type": "code",
   "execution_count": 315,
   "id": "ee5b1e59-257f-4f95-85ef-72e4a8cc6f4a",
   "metadata": {},
   "outputs": [
    {
     "name": "stdout",
     "output_type": "stream",
     "text": [
      "['Saturday', 'Friday', 'Wednesday', 'Tuesday', 'Sunday', 'Thursday'] 6 <class 'list'> 2815825236160\n"
     ]
    },
    {
     "ename": "NameError",
     "evalue": "name 'list1' is not defined",
     "output_type": "error",
     "traceback": [
      "\u001b[1;31m---------------------------------------------------------------------------\u001b[0m",
      "\u001b[1;31mNameError\u001b[0m                                 Traceback (most recent call last)",
      "\u001b[1;32m<ipython-input-315-3f803a2187ff>\u001b[0m in \u001b[0;36m<module>\u001b[1;34m\u001b[0m\n\u001b[0;32m      2\u001b[0m \u001b[0mprint\u001b[0m \u001b[1;33m(\u001b[0m\u001b[0mlist1\u001b[0m\u001b[1;33m,\u001b[0m \u001b[0mlen\u001b[0m\u001b[1;33m(\u001b[0m\u001b[0mlist1\u001b[0m\u001b[1;33m)\u001b[0m\u001b[1;33m,\u001b[0m \u001b[0mtype\u001b[0m\u001b[1;33m(\u001b[0m\u001b[0mlist1\u001b[0m\u001b[1;33m)\u001b[0m\u001b[1;33m,\u001b[0m \u001b[0mid\u001b[0m\u001b[1;33m(\u001b[0m\u001b[0mlist1\u001b[0m\u001b[1;33m)\u001b[0m\u001b[1;33m)\u001b[0m\u001b[1;33m\u001b[0m\u001b[1;33m\u001b[0m\u001b[0m\n\u001b[0;32m      3\u001b[0m \u001b[1;32mdel\u001b[0m \u001b[0mlist1\u001b[0m\u001b[1;33m\u001b[0m\u001b[1;33m\u001b[0m\u001b[0m\n\u001b[1;32m----> 4\u001b[1;33m \u001b[0mprint\u001b[0m \u001b[1;33m(\u001b[0m\u001b[0mlist1\u001b[0m\u001b[1;33m,\u001b[0m \u001b[0mlen\u001b[0m\u001b[1;33m(\u001b[0m\u001b[0mlist1\u001b[0m\u001b[1;33m)\u001b[0m\u001b[1;33m,\u001b[0m \u001b[0mtype\u001b[0m\u001b[1;33m(\u001b[0m\u001b[0mlist1\u001b[0m\u001b[1;33m)\u001b[0m\u001b[1;33m,\u001b[0m \u001b[0mid\u001b[0m\u001b[1;33m(\u001b[0m\u001b[0mlist1\u001b[0m\u001b[1;33m)\u001b[0m\u001b[1;33m)\u001b[0m\u001b[1;33m\u001b[0m\u001b[1;33m\u001b[0m\u001b[0m\n\u001b[0m",
      "\u001b[1;31mNameError\u001b[0m: name 'list1' is not defined"
     ]
    }
   ],
   "source": [
    "list1 = ['Saturday', 'Friday', 'Wednesday', 'Tuesday', 'Sunday', 'Thursday']\n",
    "print (list1, len(list1), type(list1), id(list1))\n",
    "del list1\n",
    "print (list1, len(list1), type(list1), id(list1))"
   ]
  },
  {
   "cell_type": "code",
   "execution_count": 318,
   "id": "17d7bb77-c687-4c15-b2d2-8356b0a91532",
   "metadata": {},
   "outputs": [
    {
     "name": "stdout",
     "output_type": "stream",
     "text": [
      "['Saturday', 'Tuesday', 'Sunday', 'Thursday'] 4 <class 'list'> 2815826527808\n",
      "['Saturday', 'Tuesday', 'Sunday', 'Thursday', 'Friday', 'Wednesday'] 6 <class 'list'> 2815826527808\n"
     ]
    }
   ],
   "source": [
    "list1 = ['Saturday', 'Tuesday', 'Sunday', 'Thursday']\n",
    "print (list1, len(list1), type(list1), id(list1))\n",
    "list1.extend(['Friday', 'Wednesday'])\n",
    "print (list1, len(list1), type(list1), id(list1))"
   ]
  },
  {
   "cell_type": "code",
   "execution_count": 321,
   "id": "8a0db6d7-76d5-4c58-b55c-27a528941917",
   "metadata": {},
   "outputs": [
    {
     "name": "stdout",
     "output_type": "stream",
     "text": [
      "['Saturday', 'Friday', 'Wednesday', 'Tuesday', 'Sunday', 'Thursday'] 6 <class 'list'> 2815824829824\n",
      "['Friday', 'Saturday', 'Sunday', 'Thursday', 'Tuesday', 'Wednesday'] 6 <class 'list'> 2815824829824\n",
      "['Wednesday', 'Tuesday', 'Thursday', 'Sunday', 'Saturday', 'Friday'] 6 <class 'list'> 2815824829824\n"
     ]
    }
   ],
   "source": [
    "list1 = ['Saturday', 'Friday', 'Wednesday', 'Tuesday', 'Sunday', 'Thursday']\n",
    "print (list1, len(list1), type(list1), id(list1))\n",
    "list1.sort()\n",
    "print (list1, len(list1), type(list1), id(list1))\n",
    "list1.reverse()\n",
    "print (list1, len(list1), type(list1), id(list1))"
   ]
  },
  {
   "cell_type": "code",
   "execution_count": 322,
   "id": "1d7f8a8d-7637-47a3-b2b9-e991bbbeaf7c",
   "metadata": {},
   "outputs": [
    {
     "name": "stdout",
     "output_type": "stream",
     "text": [
      "['Saturday', 'Friday', 'Wednesday', 'Tuesday', 'Sunday', 'Thursday'] 6 <class 'list'> 2815826681664\n",
      "['Friday', 'Saturday', 'Sunday', 'Thursday', 'Tuesday', 'Wednesday'] 6 <class 'list'> 2815825488320\n",
      "['Wednesday', 'Tuesday', 'Thursday', 'Sunday', 'Saturday', 'Friday'] 6 <class 'list'> 2815825488320\n"
     ]
    }
   ],
   "source": [
    "list1 = ['Saturday', 'Friday', 'Wednesday', 'Tuesday', 'Sunday', 'Thursday']\n",
    "print (list1, len(list1), type(list1), id(list1))\n",
    "list1 = sorted(list1)\n",
    "print (list1, len(list1), type(list1), id(list1))\n",
    "list1.reverse()\n",
    "print (list1, len(list1), type(list1), id(list1))"
   ]
  },
  {
   "cell_type": "code",
   "execution_count": 326,
   "id": "ad467321-5a41-4526-a58d-d9fa43d3601c",
   "metadata": {},
   "outputs": [
    {
     "name": "stdout",
     "output_type": "stream",
     "text": [
      "['Saturday', 'Friday', 'Wednesday', 'Tuesday', 'Sunday', 'Thursday'] 6 <class 'list'> 2815825075392\n",
      "True True\n",
      "['Saturday', 'Friday', '', 'Tuesday', 'Sunday', 'Thursday'] 6 <class 'list'> 2815830036288\n",
      "True False\n",
      "['', '', ''] 3 <class 'list'> 2815825074624\n",
      "False False\n"
     ]
    }
   ],
   "source": [
    "list1 = ['Saturday', 'Friday', 'Wednesday', 'Tuesday', 'Sunday', 'Thursday']\n",
    "print (list1, len(list1), type(list1), id(list1))\n",
    "print (any(list1), all(list1))\n",
    "list1 = ['Saturday', 'Friday', '', 'Tuesday', 'Sunday', 'Thursday']\n",
    "print (list1, len(list1), type(list1), id(list1))\n",
    "print (any(list1), all(list1))\n",
    "list1 = ['', '', '']\n",
    "print (list1, len(list1), type(list1), id(list1))\n",
    "print (any(list1), all(list1))"
   ]
  },
  {
   "cell_type": "code",
   "execution_count": 327,
   "id": "ef5921c0-897b-4576-ac29-c3c60bed3e84",
   "metadata": {},
   "outputs": [
    {
     "name": "stdout",
     "output_type": "stream",
     "text": [
      "['Saturday', 'Friday', 'Wednesday', 'Tuesday', 'Sunday', 'Thursday'] 6 <class 'list'> 2815830221120\n",
      "['Saturday', 'Friday', 'Tuesday', 'Tuesday', 'Sunday', 'Thursday'] 6 <class 'list'> 2815830221120\n"
     ]
    }
   ],
   "source": [
    "# update operation\n",
    "list1 = ['Saturday', 'Friday', 'Wednesday', 'Tuesday', 'Sunday', 'Thursday']\n",
    "print (list1, len(list1), type(list1), id(list1))\n",
    "list1[2] = 'Tuesday'\n",
    "print (list1, len(list1), type(list1), id(list1))"
   ]
  },
  {
   "cell_type": "code",
   "execution_count": null,
   "id": "9f4f7718-35bf-4a78-bdc0-514d0ec93982",
   "metadata": {},
   "outputs": [],
   "source": [
    "Class Assignment-1:\n",
    "Take a sentence (in any case, with any character) from user input and find number of vowels and consonants in it."
   ]
  },
  {
   "cell_type": "code",
   "execution_count": 328,
   "id": "84fd4afb-6453-4617-b0a5-efba5c401e82",
   "metadata": {},
   "outputs": [
    {
     "name": "stdin",
     "output_type": "stream",
     "text": [
      "Please enter a sentecnce:  ram IS a Good Boy.\n"
     ]
    },
    {
     "name": "stdout",
     "output_type": "stream",
     "text": [
      "So No. of Vowels = 6 and No. of Consonants = 7...\n"
     ]
    }
   ],
   "source": [
    "sentence = input(\"Please enter a sentecnce: \")\n",
    "vowel_count = 0\n",
    "consonant_count = 0\n",
    "for ch in sentence.lower():\n",
    "    if (ch.isalpha()):\n",
    "        if (ch in \"aeiou\"):\n",
    "            vowel_count += 1\n",
    "        else:\n",
    "            consonant_count += 1\n",
    "print (f\"So No. of Vowels = {vowel_count} and No. of Consonants = {consonant_count}...\")"
   ]
  },
  {
   "cell_type": "raw",
   "id": "fe6f24b4-8a9f-42d1-9ac1-0f575b166877",
   "metadata": {},
   "source": [
    "Class Assignment-2:\n",
    "Take n from the user. Take n number of numbers from the user and put them in a list and display it. Now segregate all even and odd numbers from the list and put them in two separate lists and print both the lists."
   ]
  },
  {
   "cell_type": "code",
   "execution_count": 331,
   "id": "38635ac2-99cd-4112-be43-200a020f9b18",
   "metadata": {},
   "outputs": [
    {
     "name": "stdin",
     "output_type": "stream",
     "text": [
      "Please enter number of numbers:  8\n",
      "Please enter number No. 1:  22\n",
      "Please enter number No. 2:  44\n",
      "Please enter number No. 3:  11\n",
      "Please enter number No. 4:  33\n",
      "Please enter number No. 5:  66\n",
      "Please enter number No. 6:  55\n",
      "Please enter number No. 7:  88\n",
      "Please enter number No. 8:  77\n"
     ]
    },
    {
     "name": "stdout",
     "output_type": "stream",
     "text": [
      "So set of input numbers are [22, 44, 11, 33, 66, 55, 88, 77]\n",
      "Even number list: [22, 44, 66, 88]\n",
      "Odd number list: [11, 33, 55, 77]\n",
      "End of the program...\n"
     ]
    }
   ],
   "source": [
    "n = int(input(\"Please enter number of numbers: \"))\n",
    "nums = []\n",
    "for i in range(n):\n",
    "    number = int(input(\"Please enter number No. \" + str(i + 1) + \": \"))\n",
    "    nums.append(number)\n",
    "print (\"So set of input numbers are\", nums)\n",
    "even_num = []\n",
    "odd_num = []\n",
    "for x in nums:\n",
    "    if (x % 2 == 0): even_num.append(x)\n",
    "    else: odd_num.append(x)\n",
    "print (\"Even number list:\", even_num)\n",
    "print (\"Odd number list:\", odd_num)\n",
    "print (\"End of the program...\")"
   ]
  },
  {
   "cell_type": "code",
   "execution_count": 336,
   "id": "e0dbdf7a-868b-4cbd-9928-ed0d3c1fde8e",
   "metadata": {},
   "outputs": [
    {
     "name": "stdout",
     "output_type": "stream",
     "text": [
      "Ram is a good boy 17\n",
      "['Ram', 'is', 'a', 'good', 'boy'] 5\n",
      "['Ram', 'is', 'a', 'good', 'boy'] 5\n",
      "['R', 'm is ', ' good boy'] 3\n"
     ]
    }
   ],
   "source": [
    "mystr = \"Ram is a good boy\"\n",
    "print (mystr, len(mystr))\n",
    "list1 = mystr.split()\n",
    "print (list1, len(list1))\n",
    "list1 = mystr.split(\" \")\n",
    "print (list1, len(list1))\n",
    "list1 = mystr.split(\"a\")\n",
    "print (list1, len(list1))"
   ]
  },
  {
   "cell_type": "code",
   "execution_count": 342,
   "id": "bc795ab4-91c5-4b1d-afff-8eb1bd79cd17",
   "metadata": {},
   "outputs": [
    {
     "name": "stdout",
     "output_type": "stream",
     "text": [
      "['Ram', 'is', 'a', 'good', 'boy'] 5\n",
      "Ram is a good boy 17\n",
      "Ram-is-a-good-boy 17\n",
      "Ram _ is _ a _ good _ boy 25\n"
     ]
    }
   ],
   "source": [
    "list1 = ['Ram', 'is', 'a', 'good', 'boy']\n",
    "print (list1, len(list1))\n",
    "mystr = \" \".join(list1)\n",
    "print (mystr, len(mystr))\n",
    "mystr = \"-\".join(list1)\n",
    "print (mystr, len(mystr))\n",
    "mystr = \" _ \".join(list1)\n",
    "print (mystr, len(mystr))"
   ]
  },
  {
   "cell_type": "markdown",
   "id": "1345c5e1-537e-405f-953a-e590b924abf2",
   "metadata": {},
   "source": [
    "### Tuple Processing"
   ]
  },
  {
   "cell_type": "code",
   "execution_count": 343,
   "id": "f926c7d6-75e7-43db-9648-c1a2357185e9",
   "metadata": {},
   "outputs": [
    {
     "name": "stdout",
     "output_type": "stream",
     "text": [
      "(100, 200, 400, 500, 300, 600) 6 <class 'tuple'> 2815828839872\n",
      "600 100\n",
      "2100 350.0\n"
     ]
    }
   ],
   "source": [
    "tuple1 = (100, 200, 400, 500, 300, 600)\n",
    "print (tuple1, len(tuple1), type(tuple1), id(tuple1))\n",
    "print (max(tuple1), min(tuple1))\n",
    "print (sum(tuple1), sum(tuple1) / len(tuple1))"
   ]
  },
  {
   "cell_type": "code",
   "execution_count": 348,
   "id": "20e3e96e-0fc3-4f7b-a4e6-9157d471fd14",
   "metadata": {},
   "outputs": [
    {
     "name": "stdout",
     "output_type": "stream",
     "text": [
      "('Saturday', 'Friday', 'Sunday', 'Thursday') 4 <class 'tuple'> 2815828825888\n",
      "Thursday Friday\n"
     ]
    }
   ],
   "source": [
    "tuple1 = ('Saturday', 'Friday', 'Sunday', 'Thursday')\n",
    "print (tuple1, len(tuple1), type(tuple1), id(tuple1))\n",
    "print (max(tuple1), min(tuple1))\n",
    "# print (sum(tuple1), sum(tuple1) / len(tuple1))"
   ]
  },
  {
   "cell_type": "code",
   "execution_count": 352,
   "id": "a1948b1d-c650-40f8-986d-d1e28c881316",
   "metadata": {},
   "outputs": [
    {
     "name": "stdout",
     "output_type": "stream",
     "text": [
      "(100, 'Saturday', 'Friday', 200, 300, 'Sunday', 'Thursday') 7 <class 'tuple'> 2815826021056\n"
     ]
    }
   ],
   "source": [
    "tuple1 = (100, 'Saturday', 'Friday', 200, 300, 'Sunday', 'Thursday')\n",
    "print (tuple1, len(tuple1), type(tuple1), id(tuple1))\n",
    "# print (max(tuple1), min(tuple1))\n",
    "# print (sum(tuple1), sum(tuple1) / len(tuple1))"
   ]
  },
  {
   "cell_type": "code",
   "execution_count": 346,
   "id": "cdac10a7-3da6-4972-a84f-851f34b3c06f",
   "metadata": {},
   "outputs": [
    {
     "name": "stdout",
     "output_type": "stream",
     "text": [
      "('Amitava', True, 44000.5, 35) 4 <class 'tuple'> 2815828825888\n"
     ]
    }
   ],
   "source": [
    "tuple1 = ('Amitava', True, 44000.50, 35)\n",
    "print (tuple1, len(tuple1), type(tuple1), id(tuple1))"
   ]
  },
  {
   "cell_type": "code",
   "execution_count": 355,
   "id": "dab9042d-37ab-4bf5-98d0-e26c17aa48ff",
   "metadata": {},
   "outputs": [
    {
     "name": "stdout",
     "output_type": "stream",
     "text": [
      "('Saturday', 'Friday', 'Sunday') 3\n",
      "('Thursday', 'Wednesday', 'Monday', 'Tuesday') 4\n",
      "('Saturday', 'Friday', 'Sunday', 'Thursday', 'Wednesday', 'Monday', 'Tuesday') 7\n",
      "(('Saturday', 'Friday', 'Sunday'), ('Thursday', 'Wednesday', 'Monday', 'Tuesday')) 2 3 4\n"
     ]
    }
   ],
   "source": [
    "tuple1 = ('Saturday', 'Friday', 'Sunday')\n",
    "tuple2 = ('Thursday', 'Wednesday', 'Monday', 'Tuesday')\n",
    "print (tuple1, len(tuple1))\n",
    "print (tuple2, len(tuple2))\n",
    "tuple3 = tuple1 + tuple2    # tuple concatenation\n",
    "print (tuple3, len(tuple3))\n",
    "tuple4 = (tuple1, tuple2)   # creating tuple of tuples\n",
    "print (tuple4, len(tuple4), len(tuple4[0]), len(tuple4[1]))"
   ]
  },
  {
   "cell_type": "code",
   "execution_count": 356,
   "id": "e9deb092-4cd1-493c-a3c2-7e4cb3d1e82c",
   "metadata": {},
   "outputs": [
    {
     "name": "stdout",
     "output_type": "stream",
     "text": [
      "('Saturday', 'Friday', 'Sunday', 'Thursday', 'Wednesday', 'Monday', 'Tuesday') 7\n",
      "Thursday Thursday Wednesday nes\n",
      "('Thursday', 'Wednesday', 'Monday', 'Tuesday') ('Thursday', 'Wednesday', 'Monday', 'Tuesday')\n",
      "('Sunday', 'Thursday', 'Wednesday') ('Sunday', 'Thursday', 'Wednesday')\n"
     ]
    }
   ],
   "source": [
    "print (tuple3, len(tuple3))\n",
    "print (tuple3[3], tuple3[-4], tuple3[4], tuple3[4][3:6])\n",
    "print (tuple3[3:], tuple3[-4:])\n",
    "print (tuple3[2:5], tuple3[-5:-2])"
   ]
  },
  {
   "cell_type": "code",
   "execution_count": 357,
   "id": "d2d75cfd-1c9b-4d42-87f9-de8233de596c",
   "metadata": {},
   "outputs": [
    {
     "name": "stdout",
     "output_type": "stream",
     "text": [
      "(('Saturday', 'Friday', 'Sunday'), ('Thursday', 'Wednesday', 'Monday', 'Tuesday')) 2\n",
      "('Saturday', 'Friday', 'Sunday') ('Saturday', 'Friday', 'Sunday')\n",
      "('Wednesday', 'Monday') ('Wednesday', 'Monday')\n",
      "nes\n"
     ]
    }
   ],
   "source": [
    "tuple3 = (tuple1, tuple2)   # creating tuple of tuples\n",
    "print (tuple3, len(tuple3))\n",
    "print (tuple3[0], tuple3[-2])\n",
    "print (tuple3[1][1:3], tuple3[-1][-3:-1])\n",
    "print (tuple3[1][1][3:6])"
   ]
  },
  {
   "cell_type": "code",
   "execution_count": 363,
   "id": "3ed1597c-522a-49c9-ba10-aecf05253f6e",
   "metadata": {},
   "outputs": [
    {
     "name": "stdout",
     "output_type": "stream",
     "text": [
      "(11, 22, 33, 22, 11, 33, 44, 44, 44, 44, 22) 11 <class 'tuple'> 2815831955008\n",
      "1 1 3 10\n",
      "3 4\n"
     ]
    }
   ],
   "source": [
    "tuple1 = (11, 22, 33, 22, 11, 33, 44, 44, 44, 44, 22)\n",
    "print (tuple1, len(tuple1), type(tuple1), id(tuple1))\n",
    "print (tuple1.index(22), tuple1.index(22, 1), tuple1.index(22, 2), tuple1.index(22, 4))\n",
    "print (tuple1.count(22), tuple1.count(44))"
   ]
  },
  {
   "cell_type": "markdown",
   "id": "ff4b22cb-d0a1-447f-9bfa-7ac7851c5193",
   "metadata": {},
   "source": [
    "### Dictionary Processing"
   ]
  },
  {
   "cell_type": "code",
   "execution_count": 367,
   "id": "a66879da-0841-45cb-9d17-77f555cf5ca2",
   "metadata": {},
   "outputs": [
    {
     "name": "stdout",
     "output_type": "stream",
     "text": [
      "{'mango': 100, 'orange': 200, 'apple': 300, 'guava': 350} 4 <class 'dict'> 2815824638208\n",
      "dict_items([('mango', 100), ('orange', 200), ('apple', 300), ('guava', 350)])\n",
      "dict_keys(['mango', 'orange', 'apple', 'guava'])\n",
      "dict_values([100, 200, 300, 350])\n"
     ]
    }
   ],
   "source": [
    "dict1 = {'mango':100, 'orange':200, 'apple':300, 'guava':350}\n",
    "print (dict1, len(dict1), type(dict1), id(dict1))\n",
    "print (dict1.items())\n",
    "print (dict1.keys())\n",
    "print (dict1.values())"
   ]
  },
  {
   "cell_type": "code",
   "execution_count": 368,
   "id": "469ec61d-e88b-47cc-9243-e1b818494f18",
   "metadata": {},
   "outputs": [
    {
     "name": "stdout",
     "output_type": "stream",
     "text": [
      "{'mango': 100, 'orange': 800, 'apple': 100, 'guava': 350} 4 <class 'dict'> 2815834580224\n"
     ]
    }
   ],
   "source": [
    "dict1 = {'mango':100, 'orange':200, 'apple':100, 'guava':350, 'orange':800}\n",
    "print (dict1, len(dict1), type(dict1), id(dict1))"
   ]
  },
  {
   "cell_type": "code",
   "execution_count": 372,
   "id": "e7256483-3d82-489d-88a2-3292d9abb512",
   "metadata": {},
   "outputs": [
    {
     "name": "stdout",
     "output_type": "stream",
     "text": [
      "{'mango': 100, 'orange': 200, 'apple': 300, 'guava': 350} 4 <class 'dict'> 2815831299584\n",
      "200\n",
      "200\n",
      "None\n",
      "Not available\n"
     ]
    },
    {
     "ename": "KeyError",
     "evalue": "'coconut'",
     "output_type": "error",
     "traceback": [
      "\u001b[1;31m---------------------------------------------------------------------------\u001b[0m",
      "\u001b[1;31mKeyError\u001b[0m                                  Traceback (most recent call last)",
      "\u001b[1;32m<ipython-input-372-97322c870036>\u001b[0m in \u001b[0;36m<module>\u001b[1;34m\u001b[0m\n\u001b[0;32m      5\u001b[0m \u001b[0mprint\u001b[0m \u001b[1;33m(\u001b[0m\u001b[0mdict1\u001b[0m\u001b[1;33m.\u001b[0m\u001b[0mget\u001b[0m\u001b[1;33m(\u001b[0m\u001b[1;34m\"coconut\"\u001b[0m\u001b[1;33m)\u001b[0m\u001b[1;33m)\u001b[0m\u001b[1;33m\u001b[0m\u001b[1;33m\u001b[0m\u001b[0m\n\u001b[0;32m      6\u001b[0m \u001b[0mprint\u001b[0m \u001b[1;33m(\u001b[0m\u001b[0mdict1\u001b[0m\u001b[1;33m.\u001b[0m\u001b[0mget\u001b[0m\u001b[1;33m(\u001b[0m\u001b[1;34m\"coconut\"\u001b[0m\u001b[1;33m,\u001b[0m \u001b[1;34m\"Not available\"\u001b[0m\u001b[1;33m)\u001b[0m\u001b[1;33m)\u001b[0m\u001b[1;33m\u001b[0m\u001b[1;33m\u001b[0m\u001b[0m\n\u001b[1;32m----> 7\u001b[1;33m \u001b[0mprint\u001b[0m \u001b[1;33m(\u001b[0m\u001b[0mdict1\u001b[0m\u001b[1;33m[\u001b[0m\u001b[1;34m\"coconut\"\u001b[0m\u001b[1;33m]\u001b[0m\u001b[1;33m)\u001b[0m\u001b[1;33m\u001b[0m\u001b[1;33m\u001b[0m\u001b[0m\n\u001b[0m",
      "\u001b[1;31mKeyError\u001b[0m: 'coconut'"
     ]
    }
   ],
   "source": [
    "dict1 = {'mango':100, 'orange':200, 'apple':300, 'guava':350}\n",
    "print (dict1, len(dict1), type(dict1), id(dict1))\n",
    "print (dict1[\"orange\"])\n",
    "print (dict1.get(\"orange\"))\n",
    "print (dict1.get(\"coconut\"))\n",
    "print (dict1.get(\"coconut\", \"Not available\"))\n",
    "print (dict1[\"coconut\"])"
   ]
  },
  {
   "cell_type": "code",
   "execution_count": 373,
   "id": "14b7a089-883b-4a5a-bc6f-1759eb57d62f",
   "metadata": {},
   "outputs": [
    {
     "name": "stdout",
     "output_type": "stream",
     "text": [
      "{'Key-1': 100, 'Key-2': 100, 'Key-3': 100, 'Key-4': 100} 4\n"
     ]
    }
   ],
   "source": [
    "mykeys = ['Key-1', 'Key-2', 'Key-3', 'Key-4']\n",
    "value = 100\n",
    "dict1 = dict.fromkeys(mykeys, value)\n",
    "print (dict1, len(dict1))"
   ]
  },
  {
   "cell_type": "code",
   "execution_count": 377,
   "id": "36fbfcf7-7d5d-454c-b566-220dc1e44550",
   "metadata": {},
   "outputs": [
    {
     "name": "stdout",
     "output_type": "stream",
     "text": [
      "{'mango': None}\n",
      "{'mango': None}\n",
      "{'mango': None, 'Mango': 500}\n"
     ]
    }
   ],
   "source": [
    "dict1 = {\"mango\": 100}\n",
    "print (dict1)\n",
    "dict1.setdefault(\"mango\", 500)\n",
    "print (dict1)\n",
    "dict1.setdefault(\"Mango\", 500)\n",
    "print (dict1)"
   ]
  },
  {
   "cell_type": "code",
   "execution_count": 379,
   "id": "77ce4ad5-c5bd-490e-b49b-e8a98b007831",
   "metadata": {},
   "outputs": [
    {
     "name": "stdout",
     "output_type": "stream",
     "text": [
      "{'mango': 100, 'orange': 200, 'apple': 300, 'guava': 350} 4 <class 'dict'> 2815831752128\n",
      "{'mango': 100, 'orange': 999, 'apple': 300, 'guava': 350} 4 <class 'dict'> 2815831752128\n",
      "{'mango': 100, 'orange': 999, 'apple': 300, 'guava': 350, 'coconut': 550} 5 <class 'dict'> 2815831752128\n"
     ]
    }
   ],
   "source": [
    "dict1 = {'mango':100, 'orange':200, 'apple':300, 'guava':350}\n",
    "print (dict1, len(dict1), type(dict1), id(dict1))\n",
    "dict1[\"orange\"] = 999   # update\n",
    "print (dict1, len(dict1), type(dict1), id(dict1))\n",
    "dict1[\"coconut\"] = 550  # insert\n",
    "print (dict1, len(dict1), type(dict1), id(dict1))"
   ]
  },
  {
   "cell_type": "code",
   "execution_count": 381,
   "id": "a87e0029-3563-4413-a0a6-90bceea7a8e1",
   "metadata": {},
   "outputs": [
    {
     "name": "stdout",
     "output_type": "stream",
     "text": [
      "{'mango': 100, 'orange': 200, 'apple': 300, 'guava': 350} 4 <class 'dict'> 2815834723584\n",
      "{} 0 <class 'dict'> 2815834723584\n"
     ]
    }
   ],
   "source": [
    "dict1 = {'mango':100, 'orange':200, 'apple':300, 'guava':350}\n",
    "print (dict1, len(dict1), type(dict1), id(dict1))\n",
    "dict1.clear()\n",
    "print (dict1, len(dict1), type(dict1), id(dict1))"
   ]
  },
  {
   "cell_type": "code",
   "execution_count": 382,
   "id": "c463d3a3-eded-4818-b5cb-f3645c2bade9",
   "metadata": {},
   "outputs": [
    {
     "name": "stdout",
     "output_type": "stream",
     "text": [
      "{'mango': 100, 'orange': 200, 'apple': 300, 'guava': 350} 4 <class 'dict'> 2815835422144\n"
     ]
    },
    {
     "ename": "NameError",
     "evalue": "name 'dict1' is not defined",
     "output_type": "error",
     "traceback": [
      "\u001b[1;31m---------------------------------------------------------------------------\u001b[0m",
      "\u001b[1;31mNameError\u001b[0m                                 Traceback (most recent call last)",
      "\u001b[1;32m<ipython-input-382-8484bcf0fa6e>\u001b[0m in \u001b[0;36m<module>\u001b[1;34m\u001b[0m\n\u001b[0;32m      2\u001b[0m \u001b[0mprint\u001b[0m \u001b[1;33m(\u001b[0m\u001b[0mdict1\u001b[0m\u001b[1;33m,\u001b[0m \u001b[0mlen\u001b[0m\u001b[1;33m(\u001b[0m\u001b[0mdict1\u001b[0m\u001b[1;33m)\u001b[0m\u001b[1;33m,\u001b[0m \u001b[0mtype\u001b[0m\u001b[1;33m(\u001b[0m\u001b[0mdict1\u001b[0m\u001b[1;33m)\u001b[0m\u001b[1;33m,\u001b[0m \u001b[0mid\u001b[0m\u001b[1;33m(\u001b[0m\u001b[0mdict1\u001b[0m\u001b[1;33m)\u001b[0m\u001b[1;33m)\u001b[0m\u001b[1;33m\u001b[0m\u001b[1;33m\u001b[0m\u001b[0m\n\u001b[0;32m      3\u001b[0m \u001b[1;32mdel\u001b[0m \u001b[0mdict1\u001b[0m\u001b[1;33m\u001b[0m\u001b[1;33m\u001b[0m\u001b[0m\n\u001b[1;32m----> 4\u001b[1;33m \u001b[0mprint\u001b[0m \u001b[1;33m(\u001b[0m\u001b[0mdict1\u001b[0m\u001b[1;33m,\u001b[0m \u001b[0mlen\u001b[0m\u001b[1;33m(\u001b[0m\u001b[0mdict1\u001b[0m\u001b[1;33m)\u001b[0m\u001b[1;33m,\u001b[0m \u001b[0mtype\u001b[0m\u001b[1;33m(\u001b[0m\u001b[0mdict1\u001b[0m\u001b[1;33m)\u001b[0m\u001b[1;33m,\u001b[0m \u001b[0mid\u001b[0m\u001b[1;33m(\u001b[0m\u001b[0mdict1\u001b[0m\u001b[1;33m)\u001b[0m\u001b[1;33m)\u001b[0m\u001b[1;33m\u001b[0m\u001b[1;33m\u001b[0m\u001b[0m\n\u001b[0m",
      "\u001b[1;31mNameError\u001b[0m: name 'dict1' is not defined"
     ]
    }
   ],
   "source": [
    "dict1 = {'mango':100, 'orange':200, 'apple':300, 'guava':350}\n",
    "print (dict1, len(dict1), type(dict1), id(dict1))\n",
    "del dict1\n",
    "print (dict1, len(dict1), type(dict1), id(dict1))"
   ]
  },
  {
   "cell_type": "code",
   "execution_count": 385,
   "id": "df4e237c-c824-4b2e-8382-b06d62532559",
   "metadata": {},
   "outputs": [
    {
     "name": "stdout",
     "output_type": "stream",
     "text": [
      "{'mango': 100, 'orange': 200, 'apple': 300, 'guava': 350, 'pineapple': 500, 'coconut': 450} 6 <class 'dict'> 2815824069632\n",
      "{'orange': 200, 'apple': 300, 'guava': 350, 'pineapple': 500, 'coconut': 450} 5 <class 'dict'> 2815824069632\n",
      "{'orange': 200, 'apple': 300, 'guava': 350, 'coconut': 450} 4 <class 'dict'> 2815824069632\n"
     ]
    }
   ],
   "source": [
    "dict1 = {'mango':100, 'orange':200, 'apple':300, 'guava':350, 'pineapple':500, 'coconut':450}\n",
    "print (dict1, len(dict1), type(dict1), id(dict1))\n",
    "del dict1[\"mango\"]\n",
    "print (dict1, len(dict1), type(dict1), id(dict1))\n",
    "del dict1[\"pineapple\"]\n",
    "print (dict1, len(dict1), type(dict1), id(dict1))"
   ]
  },
  {
   "cell_type": "code",
   "execution_count": 386,
   "id": "81b924cc-7c84-4b99-88b2-a6189d71b16e",
   "metadata": {},
   "outputs": [
    {
     "name": "stdout",
     "output_type": "stream",
     "text": [
      "{'mango': 100, 'orange': 200, 'apple': 300, 'guava': 350, 'pineapple': 500, 'coconut': 450} 6 <class 'dict'> 2815834546112\n",
      "('coconut', 450)\n",
      "{'mango': 100, 'orange': 200, 'apple': 300, 'guava': 350, 'pineapple': 500} 5 <class 'dict'> 2815834546112\n",
      "('pineapple', 500)\n",
      "{'mango': 100, 'orange': 200, 'apple': 300, 'guava': 350} 4 <class 'dict'> 2815834546112\n"
     ]
    }
   ],
   "source": [
    "dict1 = {'mango':100, 'orange':200, 'apple':300, 'guava':350, 'pineapple':500, 'coconut':450}\n",
    "print (dict1, len(dict1), type(dict1), id(dict1))\n",
    "result = dict1.popitem()\n",
    "print (result)\n",
    "print (dict1, len(dict1), type(dict1), id(dict1))\n",
    "result = dict1.popitem()\n",
    "print (result)\n",
    "print (dict1, len(dict1), type(dict1), id(dict1))"
   ]
  },
  {
   "cell_type": "code",
   "execution_count": 390,
   "id": "7bab8d4a-189e-4a45-baa0-b920859cc8aa",
   "metadata": {},
   "outputs": [
    {
     "name": "stdout",
     "output_type": "stream",
     "text": [
      "{'mango': 100, 'orange': 200, 'apple': 300, 'guava': 350, 'pineapple': 500, 'coconut': 450} 6 <class 'dict'> 2815835827392\n",
      "300\n",
      "{'mango': 100, 'orange': 200, 'guava': 350, 'pineapple': 500, 'coconut': 450} 5 <class 'dict'> 2815835827392\n",
      "200\n",
      "{'mango': 100, 'guava': 350, 'pineapple': 500, 'coconut': 450} 4 <class 'dict'> 2815835827392\n"
     ]
    }
   ],
   "source": [
    "dict1 = {'mango':100, 'orange':200, 'apple':300, 'guava':350, 'pineapple':500, 'coconut':450}\n",
    "print (dict1, len(dict1), type(dict1), id(dict1))\n",
    "result = dict1.pop('apple')\n",
    "print (result)\n",
    "print (dict1, len(dict1), type(dict1), id(dict1))\n",
    "result = dict1.pop('orange')\n",
    "print (result)\n",
    "print (dict1, len(dict1), type(dict1), id(dict1))"
   ]
  },
  {
   "cell_type": "code",
   "execution_count": 392,
   "id": "f8500204-69d6-4d4d-b4d1-80295914a1d3",
   "metadata": {},
   "outputs": [
    {
     "name": "stdout",
     "output_type": "stream",
     "text": [
      "{'mango': 100, 'orange': 200, 'apple': 300, 'guava': 350, 'pineapple': 500, 'coconut': 450} 6 <class 'dict'> 2815835849024\n",
      "{'mango': 100, 'orange': 200, 'guava': 350, 'pineapple': 500, 'coconut': 450} 5 <class 'dict'> 2815835849024\n",
      "{'mango': 100, 'orange': 200, 'guava': 350, 'coconut': 450} 4 <class 'dict'> 2815835849024\n"
     ]
    }
   ],
   "source": [
    "dict1 = {'mango':100, 'orange':200, 'apple':300, 'guava':350, 'pineapple':500, 'coconut':450}\n",
    "print (dict1, len(dict1), type(dict1), id(dict1))\n",
    "del dict1['apple']\n",
    "print (dict1, len(dict1), type(dict1), id(dict1))\n",
    "del dict1['pineapple']\n",
    "print (dict1, len(dict1), type(dict1), id(dict1))"
   ]
  },
  {
   "cell_type": "code",
   "execution_count": 393,
   "id": "2bcf8268-4fed-4bd7-a3cb-4cf8e084230d",
   "metadata": {},
   "outputs": [
    {
     "name": "stdout",
     "output_type": "stream",
     "text": [
      "{'mango': 100, 'orange': 200, 'guava': 350} 3 <class 'dict'> 2815826989248\n",
      "{'pineapple': 500, 'coconut': 450} 2 <class 'dict'> 2815831428352\n",
      "{'mango': 100, 'orange': 200, 'guava': 350, 'pineapple': 500, 'coconut': 450} 5 <class 'dict'> 2815826989248\n",
      "{'pineapple': 500, 'coconut': 450} 2 <class 'dict'> 2815831428352\n"
     ]
    }
   ],
   "source": [
    "dict1 = {'mango': 100, 'orange': 200, 'guava': 350}\n",
    "print (dict1, len(dict1), type(dict1), id(dict1))\n",
    "dict2 = {'pineapple': 500, 'coconut': 450}\n",
    "print (dict2, len(dict2), type(dict2), id(dict2))\n",
    "dict1.update(dict2)\n",
    "print (dict1, len(dict1), type(dict1), id(dict1))\n",
    "print (dict2, len(dict2), type(dict2), id(dict2))"
   ]
  },
  {
   "cell_type": "code",
   "execution_count": 398,
   "id": "9755cba2-cd8f-4d89-ac9b-c610b095386a",
   "metadata": {},
   "outputs": [
    {
     "name": "stdout",
     "output_type": "stream",
     "text": [
      "APR\n",
      "JUN\n",
      "JUL\n",
      "INALID MONTH NO.\n"
     ]
    }
   ],
   "source": [
    "def switch_demo(arg):\n",
    "    switcher = {1:'jan', 2:'feb', 3:'mar', 4:'apr', 5:'may', 6:'jun', 7:'jul', 8:'aug', 9:'sep', 10:'oct', 11:'nov', 12:'dec'}\n",
    "    return switcher.get(arg, \"Inalid Month No.\").upper()\n",
    "                \n",
    "print (switch_demo(4))\n",
    "print (switch_demo(6))\n",
    "print (switch_demo(7))\n",
    "print (switch_demo(14))"
   ]
  },
  {
   "cell_type": "raw",
   "id": "912ea217-b960-47be-9f35-7e3504c4889d",
   "metadata": {},
   "source": [
    "Class Assignment:\n",
    "Leetcode: 1. Two Sum (https://leetcode.com/problems/two-sum/)\n",
    "Given an array of integers nums and an integer target, return indices of the two numbers such that they add up to target.\n",
    "You may assume that each input would have exactly one solution, and you may not use the same element twice.\n",
    "You can return the answer in any order.\n",
    "\n",
    "Example 1:\n",
    "Input: nums = [2,7,11,15], target = 9\n",
    "Output: [0,1]\n",
    "Explanation: Because nums[0] + nums[1] == 9, we return [0, 1].\n",
    "\n",
    "Example 2:\n",
    "Input: nums = [3,2,4], target = 6\n",
    "Output: [1,2]\n",
    "\n",
    "Example 3:\n",
    "Input: nums = [3,3], target = 6\n",
    "Output: [0,1]\n",
    "\n",
    "def twoSum(self, nums, target):\n",
    "        \"\"\"\n",
    "        :type nums: List[int]\n",
    "        :type target: int\n",
    "        :rtype: List[int]\n",
    "        \"\"\""
   ]
  },
  {
   "cell_type": "code",
   "execution_count": 405,
   "id": "34393f01-61bf-4b11-a3ad-c4b7e1d696b2",
   "metadata": {},
   "outputs": [
    {
     "name": "stdout",
     "output_type": "stream",
     "text": [
      "{11: 0}\n",
      "{11: 0, 15: 1}\n",
      "{11: 0, 15: 1, 31: 2}\n",
      "{11: 0, 15: 1, 31: 2, 2: 3}\n",
      "[4, 3]\n",
      "{3: 0}\n",
      "{3: 0, 2: 1}\n",
      "[2, 1]\n",
      "{3: 0}\n",
      "[1, 0]\n"
     ]
    }
   ],
   "source": [
    "def twoSum(nums, target):\n",
    "    mydict = {}\n",
    "    for i in range(len(nums)):\n",
    "        if (target - nums[i]) in mydict:\n",
    "            return [i, mydict[target - nums[i]]]\n",
    "        else:\n",
    "            mydict[nums[i]] = i\n",
    "        print (mydict)\n",
    "    \n",
    "print (twoSum(nums = [11, 15, 31,2,7], target = 9))\n",
    "print (twoSum(nums = [3,2,4], target = 6))\n",
    "print (twoSum(nums = [3,3], target = 6))"
   ]
  },
  {
   "cell_type": "raw",
   "id": "ca8370c6-07da-4ad4-930e-9d45b76215e5",
   "metadata": {},
   "source": [
    "Class Assignment:\n",
    "Take a word from the user and find count of each distinct letter in the given word.\n",
    "Example: I/P -> missiccippi\n",
    "m -> 1\n",
    "c -> 2\n",
    "p -> 2\n",
    "i -> 4\n",
    "s -> 2"
   ]
  },
  {
   "cell_type": "code",
   "execution_count": 400,
   "id": "d5ba929b-17d5-492b-b778-976180639584",
   "metadata": {},
   "outputs": [
    {
     "name": "stdout",
     "output_type": "stream",
     "text": [
      "{'m': 1, 'i': 4, 's': 2, 'c': 2, 'p': 2}\n"
     ]
    }
   ],
   "source": [
    "myword = \"missiccippi\"\n",
    "mydict = {}\n",
    "for ch in myword:\n",
    "    if (ch in mydict): mydict[ch] += 1\n",
    "    else: mydict[ch] = 1\n",
    "print (mydict)"
   ]
  },
  {
   "cell_type": "markdown",
   "id": "d1946e6b-408f-4ccf-b0d0-7e6281b0020a",
   "metadata": {},
   "source": [
    "### Set Processing"
   ]
  },
  {
   "cell_type": "code",
   "execution_count": 408,
   "id": "6a9cfb48-c835-43a7-a6c1-c824313da1b6",
   "metadata": {},
   "outputs": [
    {
     "name": "stdout",
     "output_type": "stream",
     "text": [
      "[] 0 <class 'list'> 2815835498176\n",
      "() 0 <class 'tuple'> 2815733858368\n",
      "{} 0 <class 'dict'> 2815831678720\n",
      "set() 0 <class 'set'> 2815834552800\n"
     ]
    }
   ],
   "source": [
    "# defining empty list, tuples, dictionary and set\n",
    "list1 = []\n",
    "print (list1, len(list1), type(list1), id(list1))\n",
    "tuple1 = ()\n",
    "print (tuple1, len(tuple1), type(tuple1), id(tuple1))\n",
    "dict1 = {}\n",
    "print (dict1, len(dict1), type(dict1), id(dict1))\n",
    "set1 = set()\n",
    "print (set1, len(set1), type(set1), id(set1))"
   ]
  },
  {
   "cell_type": "code",
   "execution_count": 410,
   "id": "b6fcdd59-e9bd-4a12-9b15-99c8bfdf36cc",
   "metadata": {},
   "outputs": [
    {
     "name": "stdout",
     "output_type": "stream",
     "text": [
      "{'viper', 'cobra', 'python'} 3 <class 'set'> 2815825248320\n",
      "{'java', 'python', 'c++'} 3 <class 'set'> 2815825250784\n"
     ]
    }
   ],
   "source": [
    "snakes = set(['cobra', 'python', 'viper', 'cobra', 'python'])  # forming set from a list\n",
    "print (snakes, len(snakes), type(snakes), id(snakes))\n",
    "languages = {'c++', 'python', 'java'}    # forming a set directly\n",
    "print (languages, len(languages), type(languages), id(languages))"
   ]
  },
  {
   "cell_type": "markdown",
   "id": "aa79e8ab-ca5a-4056-b996-46af01b7641b",
   "metadata": {},
   "source": [
    "#### Set Operations"
   ]
  },
  {
   "cell_type": "markdown",
   "id": "7632eb4f-b5da-466e-9923-ccb9d996018c",
   "metadata": {},
   "source": [
    "<img src = \"SetOperations.png\" width = 300 height = 300>"
   ]
  },
  {
   "cell_type": "code",
   "execution_count": 414,
   "id": "63090f3d-13b8-42db-890c-bc0c67cbdfb6",
   "metadata": {},
   "outputs": [
    {
     "name": "stdout",
     "output_type": "stream",
     "text": [
      "{'java', 'python', 'c++'} 3 <class 'set'> 2815836373504\n",
      "{'viper', 'cobra', 'python'} 3 <class 'set'> 2815836374176\n",
      "{'java', 'viper', 'cobra', 'python', 'c++'} 5 <class 'set'> 2815837910176\n",
      "{'java', 'viper', 'cobra', 'python', 'c++'} 5 <class 'set'> 2815836374624\n",
      "{'java', 'python', 'c++'} 3 <class 'set'> 2815836373504\n",
      "{'viper', 'cobra', 'python'} 3 <class 'set'> 2815836374176\n"
     ]
    }
   ],
   "source": [
    "# union operation on set\n",
    "languages = {'java', 'python', 'c++'}\n",
    "print (languages, len(languages), type(languages), id(languages))\n",
    "snakes = {'viper', 'cobra', 'python'}\n",
    "print (snakes, len(snakes), type(snakes), id(snakes))\n",
    "result = languages.union(snakes)\n",
    "print (result, len(result), type(result), id(result))\n",
    "result = languages | snakes\n",
    "print (result, len(result), type(result), id(result))\n",
    "print (languages, len(languages), type(languages), id(languages))\n",
    "print (snakes, len(snakes), type(snakes), id(snakes))"
   ]
  },
  {
   "cell_type": "code",
   "execution_count": 415,
   "id": "2ca02256-85e4-4ef8-8a65-dbd4e256ab0a",
   "metadata": {},
   "outputs": [
    {
     "name": "stdout",
     "output_type": "stream",
     "text": [
      "frozenset({'java', 'python', 'c++'}) 3 <class 'frozenset'> 2815829396832\n",
      "frozenset({'viper', 'cobra', 'python'}) 3 <class 'frozenset'> 2815829395040\n",
      "frozenset({'java', 'viper', 'cobra', 'python', 'c++'}) 5 <class 'frozenset'> 2815829395936\n",
      "frozenset({'java', 'viper', 'cobra', 'python', 'c++'}) 5 <class 'frozenset'> 2815829394144\n",
      "frozenset({'java', 'python', 'c++'}) 3 <class 'frozenset'> 2815829396832\n",
      "frozenset({'viper', 'cobra', 'python'}) 3 <class 'frozenset'> 2815829395040\n"
     ]
    }
   ],
   "source": [
    "# union operation on frozen set\n",
    "languages = frozenset(['java', 'python', 'c++'])\n",
    "print (languages, len(languages), type(languages), id(languages))\n",
    "snakes = frozenset(['viper', 'cobra', 'python'])\n",
    "print (snakes, len(snakes), type(snakes), id(snakes))\n",
    "result = languages.union(snakes)\n",
    "print (result, len(result), type(result), id(result))\n",
    "result = languages | snakes\n",
    "print (result, len(result), type(result), id(result))\n",
    "print (languages, len(languages), type(languages), id(languages))\n",
    "print (snakes, len(snakes), type(snakes), id(snakes))"
   ]
  },
  {
   "cell_type": "code",
   "execution_count": 417,
   "id": "44b8f018-62ab-4cb1-9537-2c31867615f4",
   "metadata": {},
   "outputs": [
    {
     "name": "stdout",
     "output_type": "stream",
     "text": [
      "{'java', 'python', 'c++'} 3 <class 'set'> 2815828900320\n",
      "{'viper', 'cobra', 'python'} 3 <class 'set'> 2815828899424\n",
      "{'python'} 1 <class 'set'> 2815828901664\n",
      "{'python'} 1 <class 'set'> 2815828901440\n",
      "{'java', 'python', 'c++'} 3 <class 'set'> 2815828900320\n",
      "{'viper', 'cobra', 'python'} 3 <class 'set'> 2815828899424\n",
      "{'python'} 1 <class 'set'> 2815828900320\n",
      "{'viper', 'cobra', 'python'} 3 <class 'set'> 2815828899424\n"
     ]
    }
   ],
   "source": [
    "# intersection operation on set\n",
    "languages = {'java', 'python', 'c++'}\n",
    "print (languages, len(languages), type(languages), id(languages))\n",
    "snakes = {'viper', 'cobra', 'python'}\n",
    "print (snakes, len(snakes), type(snakes), id(snakes))\n",
    "result = languages.intersection(snakes)\n",
    "print (result, len(result), type(result), id(result))\n",
    "result = languages & snakes\n",
    "print (result, len(result), type(result), id(result))\n",
    "print (languages, len(languages), type(languages), id(languages))\n",
    "print (snakes, len(snakes), type(snakes), id(snakes))\n",
    "languages.intersection_update(snakes)\n",
    "print (languages, len(languages), type(languages), id(languages))\n",
    "print (snakes, len(snakes), type(snakes), id(snakes))"
   ]
  },
  {
   "cell_type": "code",
   "execution_count": 418,
   "id": "2574516a-396b-4d03-8c94-a45fce9fb598",
   "metadata": {},
   "outputs": [
    {
     "name": "stdout",
     "output_type": "stream",
     "text": [
      "frozenset({'java', 'python', 'c++'}) 3 <class 'frozenset'> 2815836820192\n",
      "frozenset({'viper', 'cobra', 'python'}) 3 <class 'frozenset'> 2815836822432\n",
      "frozenset({'python'}) 1 <class 'frozenset'> 2815836813792\n",
      "frozenset({'python'}) 1 <class 'frozenset'> 2815836811552\n",
      "frozenset({'java', 'python', 'c++'}) 3 <class 'frozenset'> 2815836820192\n",
      "frozenset({'viper', 'cobra', 'python'}) 3 <class 'frozenset'> 2815836822432\n"
     ]
    }
   ],
   "source": [
    "# intersection operation on frozen set\n",
    "languages = frozenset(['java', 'python', 'c++'])\n",
    "print (languages, len(languages), type(languages), id(languages))\n",
    "snakes = frozenset(['viper', 'cobra', 'python'])\n",
    "print (snakes, len(snakes), type(snakes), id(snakes))\n",
    "result = languages.intersection(snakes)\n",
    "print (result, len(result), type(result), id(result))\n",
    "result = languages & snakes\n",
    "print (result, len(result), type(result), id(result))\n",
    "print (languages, len(languages), type(languages), id(languages))\n",
    "print (snakes, len(snakes), type(snakes), id(snakes))"
   ]
  },
  {
   "cell_type": "code",
   "execution_count": 419,
   "id": "2937a03e-037d-4207-8dbd-909654aaed60",
   "metadata": {},
   "outputs": [
    {
     "name": "stdout",
     "output_type": "stream",
     "text": [
      "{'java', 'python', 'c++'} 3 <class 'set'> 2815836820640\n",
      "{'viper', 'cobra', 'python'} 3 <class 'set'> 2815837855072\n",
      "{'java', 'c++'} 2 <class 'set'> 2815838190496\n",
      "{'java', 'c++'} 2 <class 'set'> 2815838187808\n",
      "{'java', 'python', 'c++'} 3 <class 'set'> 2815836820640\n",
      "{'viper', 'cobra', 'python'} 3 <class 'set'> 2815837855072\n",
      "{'java', 'c++'} 2 <class 'set'> 2815836820640\n",
      "{'viper', 'cobra', 'python'} 3 <class 'set'> 2815837855072\n"
     ]
    }
   ],
   "source": [
    "# difference operation on set\n",
    "languages = {'java', 'python', 'c++'}\n",
    "print (languages, len(languages), type(languages), id(languages))\n",
    "snakes = {'viper', 'cobra', 'python'}\n",
    "print (snakes, len(snakes), type(snakes), id(snakes))\n",
    "result = languages.difference(snakes)\n",
    "print (result, len(result), type(result), id(result))\n",
    "result = languages - snakes\n",
    "print (result, len(result), type(result), id(result))\n",
    "print (languages, len(languages), type(languages), id(languages))\n",
    "print (snakes, len(snakes), type(snakes), id(snakes))\n",
    "languages.difference_update(snakes)\n",
    "print (languages, len(languages), type(languages), id(languages))\n",
    "print (snakes, len(snakes), type(snakes), id(snakes))"
   ]
  },
  {
   "cell_type": "code",
   "execution_count": 420,
   "id": "90203cac-2725-4c15-8d99-986743d2195d",
   "metadata": {},
   "outputs": [
    {
     "name": "stdout",
     "output_type": "stream",
     "text": [
      "frozenset({'java', 'python', 'c++'}) 3 <class 'frozenset'> 2815836903008\n",
      "frozenset({'viper', 'cobra', 'python'}) 3 <class 'frozenset'> 2815836904800\n",
      "frozenset({'java', 'c++'}) 2 <class 'frozenset'> 2815836903456\n",
      "frozenset({'java', 'c++'}) 2 <class 'frozenset'> 2815836901888\n",
      "frozenset({'java', 'python', 'c++'}) 3 <class 'frozenset'> 2815836903008\n",
      "frozenset({'viper', 'cobra', 'python'}) 3 <class 'frozenset'> 2815836904800\n"
     ]
    }
   ],
   "source": [
    "# difference operation on frozen set\n",
    "languages = frozenset(['java', 'python', 'c++'])\n",
    "print (languages, len(languages), type(languages), id(languages))\n",
    "snakes = frozenset(['viper', 'cobra', 'python'])\n",
    "print (snakes, len(snakes), type(snakes), id(snakes))\n",
    "result = languages.difference(snakes)\n",
    "print (result, len(result), type(result), id(result))\n",
    "result = languages - snakes\n",
    "print (result, len(result), type(result), id(result))\n",
    "print (languages, len(languages), type(languages), id(languages))\n",
    "print (snakes, len(snakes), type(snakes), id(snakes))"
   ]
  },
  {
   "cell_type": "code",
   "execution_count": 421,
   "id": "9c423a88-b1e7-40e4-80ee-46ccdf5523a5",
   "metadata": {},
   "outputs": [
    {
     "name": "stdout",
     "output_type": "stream",
     "text": [
      "{'java', 'python', 'c++'} 3 <class 'set'> 2815834865216\n",
      "{'viper', 'cobra', 'python'} 3 <class 'set'> 2815834864992\n",
      "{'cobra', 'c++', 'viper', 'java'} 4 <class 'set'> 2815834863872\n",
      "{'cobra', 'c++', 'viper', 'java'} 4 <class 'set'> 2815834862080\n",
      "{'java', 'python', 'c++'} 3 <class 'set'> 2815834865216\n",
      "{'viper', 'cobra', 'python'} 3 <class 'set'> 2815834864992\n",
      "{'cobra', 'c++', 'java', 'viper'} 4 <class 'set'> 2815834865216\n",
      "{'viper', 'cobra', 'python'} 3 <class 'set'> 2815834864992\n"
     ]
    }
   ],
   "source": [
    "# symmetric difference operation on set\n",
    "languages = {'java', 'python', 'c++'}\n",
    "print (languages, len(languages), type(languages), id(languages))\n",
    "snakes = {'viper', 'cobra', 'python'}\n",
    "print (snakes, len(snakes), type(snakes), id(snakes))\n",
    "result = languages.symmetric_difference(snakes)\n",
    "print (result, len(result), type(result), id(result))\n",
    "result = languages ^ snakes\n",
    "print (result, len(result), type(result), id(result))\n",
    "print (languages, len(languages), type(languages), id(languages))\n",
    "print (snakes, len(snakes), type(snakes), id(snakes))\n",
    "languages.symmetric_difference_update(snakes)\n",
    "print (languages, len(languages), type(languages), id(languages))\n",
    "print (snakes, len(snakes), type(snakes), id(snakes))"
   ]
  },
  {
   "cell_type": "code",
   "execution_count": 422,
   "id": "f9878258-b00f-460f-b862-8ad2ea41342d",
   "metadata": {},
   "outputs": [
    {
     "name": "stdout",
     "output_type": "stream",
     "text": [
      "frozenset({'java', 'python', 'c++'}) 3 <class 'frozenset'> 2815828367392\n",
      "frozenset({'viper', 'cobra', 'python'}) 3 <class 'frozenset'> 2815828368736\n",
      "frozenset({'cobra', 'c++', 'viper', 'java'}) 4 <class 'frozenset'> 2815828367840\n",
      "frozenset({'cobra', 'c++', 'viper', 'java'}) 4 <class 'frozenset'> 2815828366048\n",
      "frozenset({'java', 'python', 'c++'}) 3 <class 'frozenset'> 2815828367392\n",
      "frozenset({'viper', 'cobra', 'python'}) 3 <class 'frozenset'> 2815828368736\n"
     ]
    }
   ],
   "source": [
    "# symmetric difference operation on frozen set\n",
    "languages = frozenset(['java', 'python', 'c++'])\n",
    "print (languages, len(languages), type(languages), id(languages))\n",
    "snakes = frozenset(['viper', 'cobra', 'python'])\n",
    "print (snakes, len(snakes), type(snakes), id(snakes))\n",
    "result = languages.symmetric_difference(snakes)\n",
    "print (result, len(result), type(result), id(result))\n",
    "result = languages ^ snakes\n",
    "print (result, len(result), type(result), id(result))\n",
    "print (languages, len(languages), type(languages), id(languages))\n",
    "print (snakes, len(snakes), type(snakes), id(snakes))"
   ]
  },
  {
   "cell_type": "code",
   "execution_count": 430,
   "id": "8bdf39a2-2b65-4d01-88f4-d8752c91160c",
   "metadata": {},
   "outputs": [
    {
     "name": "stdout",
     "output_type": "stream",
     "text": [
      "{33, 11, 44, 22} 4 <class 'set'>\n",
      "{33, 44, 22} 3 <class 'set'>\n",
      "{88, 99, 77} 3 <class 'set'>\n",
      "False True False\n",
      "True False False\n",
      "False False True\n"
     ]
    }
   ],
   "source": [
    "set1 = set([11, 22, 33, 44])\n",
    "set2 = set([22, 33, 44])\n",
    "set3 = set([77, 88, 99])\n",
    "print (set1, len(set1), type(set1))\n",
    "print (set2, len(set2), type(set2))\n",
    "print (set3, len(set3), type(set3))\n",
    "print (set1.issubset(set2), set2.issubset(set1), set3.issubset(set1))\n",
    "print (set1.issuperset(set2), set2.issuperset(set1), set3.issuperset(set1))\n",
    "print (set1.isdisjoint(set2), set2.isdisjoint(set1), set3.isdisjoint(set1))"
   ]
  },
  {
   "cell_type": "code",
   "execution_count": 431,
   "id": "aa00bfdf-440c-470a-8d44-3fde05c7c414",
   "metadata": {},
   "outputs": [
    {
     "name": "stdout",
     "output_type": "stream",
     "text": [
      "frozenset({33, 11, 44, 22}) 4 <class 'frozenset'>\n",
      "frozenset({33, 44, 22}) 3 <class 'frozenset'>\n",
      "frozenset({88, 99, 77}) 3 <class 'frozenset'>\n",
      "False True False\n",
      "True False False\n",
      "False False True\n"
     ]
    }
   ],
   "source": [
    "set1 = frozenset([11, 22, 33, 44])\n",
    "set2 = frozenset([22, 33, 44])\n",
    "set3 = frozenset([77, 88, 99])\n",
    "print (set1, len(set1), type(set1))\n",
    "print (set2, len(set2), type(set2))\n",
    "print (set3, len(set3), type(set3))\n",
    "print (set1.issubset(set2), set2.issubset(set1), set3.issubset(set1))\n",
    "print (set1.issuperset(set2), set2.issuperset(set1), set3.issuperset(set1))\n",
    "print (set1.isdisjoint(set2), set2.isdisjoint(set1), set3.isdisjoint(set1))"
   ]
  },
  {
   "cell_type": "code",
   "execution_count": 434,
   "id": "6f33b903-8bdd-4ec8-b6b5-a2ce9724c1bf",
   "metadata": {},
   "outputs": [
    {
     "name": "stdout",
     "output_type": "stream",
     "text": [
      "{33, 11, 44, 22} 4 <class 'set'>\n",
      "{88, 99, 44, 77} 4 <class 'set'>\n",
      "{33, 99, 11, 44, 77, 22, 88} 7 <class 'set'>\n",
      "{88, 99, 44, 77} 4 <class 'set'>\n"
     ]
    }
   ],
   "source": [
    "set1 = set([11, 22, 33, 44])\n",
    "set2 = set([44, 77, 88, 99])\n",
    "print (set1, len(set1), type(set1))\n",
    "print (set2, len(set2), type(set2))\n",
    "set1.update(set2)\n",
    "print (set1, len(set1), type(set1))\n",
    "print (set2, len(set2), type(set2))"
   ]
  },
  {
   "cell_type": "code",
   "execution_count": 435,
   "id": "63904e90-3c06-4221-a230-efa68534e831",
   "metadata": {},
   "outputs": [
    {
     "name": "stdout",
     "output_type": "stream",
     "text": [
      "{33, 11, 44, 22} 4 <class 'set'>\n",
      "{33, 11, 44, 22, 55} 5 <class 'set'>\n",
      "{33, 11, 44, 77, 22, 55} 6 <class 'set'>\n",
      "{33, 99, 11, 44, 77, 22, 55} 7 <class 'set'>\n"
     ]
    }
   ],
   "source": [
    "set1 = set([11, 22, 33, 44])\n",
    "print (set1, len(set1), type(set1))\n",
    "set1.add(55)\n",
    "print (set1, len(set1), type(set1))\n",
    "set1.add(77)\n",
    "print (set1, len(set1), type(set1))\n",
    "set1.add(99)\n",
    "print (set1, len(set1), type(set1))"
   ]
  },
  {
   "cell_type": "code",
   "execution_count": 437,
   "id": "31537178-d692-437a-93b5-8b9d53fdece8",
   "metadata": {},
   "outputs": [
    {
     "name": "stdout",
     "output_type": "stream",
     "text": [
      "{33, 99, 11, 44, 77, 22, 55} 7 <class 'set'>\n",
      "33\n",
      "{99, 11, 44, 77, 22, 55} 6 <class 'set'>\n",
      "99\n",
      "{11, 44, 77, 22, 55} 5 <class 'set'>\n",
      "11\n",
      "{44, 77, 22, 55} 4 <class 'set'>\n"
     ]
    }
   ],
   "source": [
    "set1 = set([33, 99, 11, 44, 77, 22, 55])\n",
    "print (set1, len(set1), type(set1))\n",
    "print (set1.pop())\n",
    "print (set1, len(set1), type(set1))\n",
    "print (set1.pop())\n",
    "print (set1, len(set1), type(set1))\n",
    "print (set1.pop())\n",
    "print (set1, len(set1), type(set1))"
   ]
  },
  {
   "cell_type": "code",
   "execution_count": 441,
   "id": "25055ab1-d3d1-4be7-a492-ffe92ebfad9e",
   "metadata": {},
   "outputs": [
    {
     "name": "stdout",
     "output_type": "stream",
     "text": [
      "{33, 99, 11, 44, 77, 22, 55} 7 <class 'set'>\n",
      "{33, 99, 11, 77, 22, 55} 6 <class 'set'>\n",
      "{33, 11, 77, 22, 55} 5 <class 'set'>\n",
      "{33, 11, 77, 22, 55} 5 <class 'set'>\n"
     ]
    }
   ],
   "source": [
    "set1 = set([33, 99, 11, 44, 77, 22, 55])\n",
    "print (set1, len(set1), type(set1))\n",
    "set1.discard(44)\n",
    "print (set1, len(set1), type(set1))\n",
    "set1.discard(99)\n",
    "print (set1, len(set1), type(set1))\n",
    "set1.discard(100)\n",
    "print (set1, len(set1), type(set1))"
   ]
  },
  {
   "cell_type": "code",
   "execution_count": 443,
   "id": "6d8259d1-98d6-43ba-a2bf-f3a6cad0b262",
   "metadata": {},
   "outputs": [
    {
     "name": "stdout",
     "output_type": "stream",
     "text": [
      "{33, 99, 11, 44, 77, 22, 55} 7 <class 'set'>\n",
      "set() 0 <class 'set'>\n"
     ]
    }
   ],
   "source": [
    "set1 = set([33, 99, 11, 44, 77, 22, 55])\n",
    "print (set1, len(set1), type(set1))\n",
    "set1.clear()\n",
    "print (set1, len(set1), type(set1))"
   ]
  },
  {
   "cell_type": "code",
   "execution_count": 444,
   "id": "ad05e806-4346-4a96-b9d6-90c34aad21f6",
   "metadata": {},
   "outputs": [
    {
     "name": "stdout",
     "output_type": "stream",
     "text": [
      "{33, 99, 11, 44, 77, 22, 55} 7 <class 'set'>\n"
     ]
    },
    {
     "ename": "NameError",
     "evalue": "name 'set1' is not defined",
     "output_type": "error",
     "traceback": [
      "\u001b[1;31m---------------------------------------------------------------------------\u001b[0m",
      "\u001b[1;31mNameError\u001b[0m                                 Traceback (most recent call last)",
      "\u001b[1;32m<ipython-input-444-01f6009d645f>\u001b[0m in \u001b[0;36m<module>\u001b[1;34m\u001b[0m\n\u001b[0;32m      2\u001b[0m \u001b[0mprint\u001b[0m \u001b[1;33m(\u001b[0m\u001b[0mset1\u001b[0m\u001b[1;33m,\u001b[0m \u001b[0mlen\u001b[0m\u001b[1;33m(\u001b[0m\u001b[0mset1\u001b[0m\u001b[1;33m)\u001b[0m\u001b[1;33m,\u001b[0m \u001b[0mtype\u001b[0m\u001b[1;33m(\u001b[0m\u001b[0mset1\u001b[0m\u001b[1;33m)\u001b[0m\u001b[1;33m)\u001b[0m\u001b[1;33m\u001b[0m\u001b[1;33m\u001b[0m\u001b[0m\n\u001b[0;32m      3\u001b[0m \u001b[1;32mdel\u001b[0m \u001b[0mset1\u001b[0m\u001b[1;33m\u001b[0m\u001b[1;33m\u001b[0m\u001b[0m\n\u001b[1;32m----> 4\u001b[1;33m \u001b[0mprint\u001b[0m \u001b[1;33m(\u001b[0m\u001b[0mset1\u001b[0m\u001b[1;33m,\u001b[0m \u001b[0mlen\u001b[0m\u001b[1;33m(\u001b[0m\u001b[0mset1\u001b[0m\u001b[1;33m)\u001b[0m\u001b[1;33m,\u001b[0m \u001b[0mtype\u001b[0m\u001b[1;33m(\u001b[0m\u001b[0mset1\u001b[0m\u001b[1;33m)\u001b[0m\u001b[1;33m)\u001b[0m\u001b[1;33m\u001b[0m\u001b[1;33m\u001b[0m\u001b[0m\n\u001b[0m",
      "\u001b[1;31mNameError\u001b[0m: name 'set1' is not defined"
     ]
    }
   ],
   "source": [
    "set1 = set([33, 99, 11, 44, 77, 22, 55])\n",
    "print (set1, len(set1), type(set1))\n",
    "del set1\n",
    "print (set1, len(set1), type(set1))"
   ]
  },
  {
   "cell_type": "code",
   "execution_count": 445,
   "id": "44fd737d-872d-40ed-8ced-881b571dcb96",
   "metadata": {},
   "outputs": [
    {
     "name": "stdout",
     "output_type": "stream",
     "text": [
      "{33, 99, 11, 44, 77, 22, 55} 7 <class 'set'>\n",
      "{33, 999, 11, 44, 77, 22, 55} 7 <class 'set'>\n"
     ]
    }
   ],
   "source": [
    "set1 = set([33, 99, 11, 44, 77, 22, 55])\n",
    "print (set1, len(set1), type(set1))\n",
    "set1.discard(99)\n",
    "set1.add(999)\n",
    "print (set1, len(set1), type(set1))"
   ]
  },
  {
   "cell_type": "code",
   "execution_count": 447,
   "id": "7858b14e-5059-4102-9eb9-aaf597741d02",
   "metadata": {},
   "outputs": [
    {
     "name": "stdout",
     "output_type": "stream",
     "text": [
      "(11, 33, 22, 44, 22, 55) 6 <class 'tuple'>\n"
     ]
    },
    {
     "ename": "TypeError",
     "evalue": "'tuple' object does not support item assignment",
     "output_type": "error",
     "traceback": [
      "\u001b[1;31m---------------------------------------------------------------------------\u001b[0m",
      "\u001b[1;31mTypeError\u001b[0m                                 Traceback (most recent call last)",
      "\u001b[1;32m<ipython-input-447-b221d77d4ea7>\u001b[0m in \u001b[0;36m<module>\u001b[1;34m\u001b[0m\n\u001b[0;32m      1\u001b[0m \u001b[0mtuple1\u001b[0m \u001b[1;33m=\u001b[0m \u001b[1;33m(\u001b[0m\u001b[1;36m11\u001b[0m\u001b[1;33m,\u001b[0m \u001b[1;36m33\u001b[0m\u001b[1;33m,\u001b[0m \u001b[1;36m22\u001b[0m\u001b[1;33m,\u001b[0m \u001b[1;36m44\u001b[0m\u001b[1;33m,\u001b[0m \u001b[1;36m22\u001b[0m\u001b[1;33m,\u001b[0m \u001b[1;36m55\u001b[0m\u001b[1;33m)\u001b[0m\u001b[1;33m\u001b[0m\u001b[1;33m\u001b[0m\u001b[0m\n\u001b[0;32m      2\u001b[0m \u001b[0mprint\u001b[0m \u001b[1;33m(\u001b[0m\u001b[0mtuple1\u001b[0m\u001b[1;33m,\u001b[0m \u001b[0mlen\u001b[0m\u001b[1;33m(\u001b[0m\u001b[0mtuple1\u001b[0m\u001b[1;33m)\u001b[0m\u001b[1;33m,\u001b[0m \u001b[0mtype\u001b[0m\u001b[1;33m(\u001b[0m\u001b[0mtuple1\u001b[0m\u001b[1;33m)\u001b[0m\u001b[1;33m)\u001b[0m\u001b[1;33m\u001b[0m\u001b[1;33m\u001b[0m\u001b[0m\n\u001b[1;32m----> 3\u001b[1;33m \u001b[0mtuple1\u001b[0m\u001b[1;33m[\u001b[0m\u001b[1;36m1\u001b[0m\u001b[1;33m]\u001b[0m \u001b[1;33m=\u001b[0m \u001b[1;36m300\u001b[0m\u001b[1;33m\u001b[0m\u001b[1;33m\u001b[0m\u001b[0m\n\u001b[0m",
      "\u001b[1;31mTypeError\u001b[0m: 'tuple' object does not support item assignment"
     ]
    }
   ],
   "source": [
    "tuple1 = (11, 33, 22, 44, 22, 55)\n",
    "print (tuple1, len(tuple1), type(tuple1))\n",
    "tuple1[1] = 300"
   ]
  },
  {
   "cell_type": "code",
   "execution_count": 449,
   "id": "e6c2055f-0807-455f-9aa9-b244e43f320a",
   "metadata": {},
   "outputs": [
    {
     "name": "stdout",
     "output_type": "stream",
     "text": [
      "(11, 33, 22, 44, 22, 55) 6 <class 'tuple'> 2815824950464\n",
      "[11, 33, 22, 44, 22, 55] 6 <class 'list'> 2815827582464\n",
      "[11, 300, 22, 44, 22, 55] 6 <class 'list'> 2815827582464\n",
      "(11, 300, 22, 44, 22, 55) 6 <class 'tuple'> 2815838123008\n"
     ]
    }
   ],
   "source": [
    "# updating tuple in an indirect way\n",
    "tuple1 = (11, 33, 22, 44, 22, 55)\n",
    "print (tuple1, len(tuple1), type(tuple1), id(tuple1))\n",
    "# tuple1[1] = 300\n",
    "list1 = list(tuple1)\n",
    "print (list1, len(list1), type(list1), id(list1))\n",
    "list1[1] = 300\n",
    "print (list1, len(list1), type(list1), id(list1))\n",
    "tuple1 = tuple(list1)\n",
    "print (tuple1, len(tuple1), type(tuple1), id(tuple1))"
   ]
  },
  {
   "cell_type": "code",
   "execution_count": null,
   "id": "2edb6ad9-5f20-41dd-a7a6-97c5d523b541",
   "metadata": {},
   "outputs": [],
   "source": []
  },
  {
   "cell_type": "code",
   "execution_count": null,
   "id": "33bea956-5223-4417-8647-cd41ae99474a",
   "metadata": {},
   "outputs": [],
   "source": []
  },
  {
   "cell_type": "code",
   "execution_count": null,
   "id": "93ce432a-c702-4b1c-a725-5a0760200378",
   "metadata": {},
   "outputs": [],
   "source": []
  },
  {
   "cell_type": "code",
   "execution_count": null,
   "id": "2261550a-1a3d-49f5-b984-3ad17a9e4114",
   "metadata": {},
   "outputs": [],
   "source": []
  },
  {
   "cell_type": "code",
   "execution_count": null,
   "id": "13b3ed03-259d-4951-a181-3e66adb55312",
   "metadata": {},
   "outputs": [],
   "source": []
  },
  {
   "cell_type": "code",
   "execution_count": null,
   "id": "30843049-df2c-4214-9c33-4088cf9651c6",
   "metadata": {},
   "outputs": [],
   "source": []
  },
  {
   "cell_type": "code",
   "execution_count": null,
   "id": "df0dea2e-1dd7-4017-a006-8bcdf4a81997",
   "metadata": {},
   "outputs": [],
   "source": []
  },
  {
   "cell_type": "code",
   "execution_count": null,
   "id": "77abd935-5d11-4a1a-b4f2-7d2cfcc510b0",
   "metadata": {},
   "outputs": [],
   "source": []
  },
  {
   "cell_type": "code",
   "execution_count": null,
   "id": "c7e33ec1-33da-407c-a5f3-20fd0040cbec",
   "metadata": {},
   "outputs": [],
   "source": []
  },
  {
   "cell_type": "code",
   "execution_count": null,
   "id": "d972df93-27f0-4533-b0ae-860952ff8d00",
   "metadata": {},
   "outputs": [],
   "source": []
  },
  {
   "cell_type": "code",
   "execution_count": null,
   "id": "6fa32dc9-3c89-4427-8aad-66b76bd418c5",
   "metadata": {},
   "outputs": [],
   "source": []
  },
  {
   "cell_type": "code",
   "execution_count": null,
   "id": "6fe2d4b4-d440-4260-a0ef-126308087fbc",
   "metadata": {},
   "outputs": [],
   "source": []
  },
  {
   "cell_type": "code",
   "execution_count": null,
   "id": "729c144f-cbd6-419a-939c-3e11510c9768",
   "metadata": {},
   "outputs": [],
   "source": []
  },
  {
   "cell_type": "code",
   "execution_count": null,
   "id": "5323383e-46b3-49e7-8e85-b1c61a6174cc",
   "metadata": {},
   "outputs": [],
   "source": []
  },
  {
   "cell_type": "code",
   "execution_count": null,
   "id": "3ddfad0d-2a8e-49e5-95b6-fbaba27e4e3b",
   "metadata": {},
   "outputs": [],
   "source": []
  },
  {
   "cell_type": "code",
   "execution_count": null,
   "id": "f10a3fcd-1321-4e9c-bcfc-30183125f997",
   "metadata": {},
   "outputs": [],
   "source": []
  },
  {
   "cell_type": "code",
   "execution_count": null,
   "id": "e657d0cc-993b-4c75-ba9a-e5918b1b9b80",
   "metadata": {},
   "outputs": [],
   "source": []
  },
  {
   "cell_type": "code",
   "execution_count": null,
   "id": "066bd008-3bd8-4303-9d59-eb3cab212321",
   "metadata": {},
   "outputs": [],
   "source": []
  },
  {
   "cell_type": "code",
   "execution_count": null,
   "id": "6db04941-0f9a-47f2-8fc2-820d857f8e2b",
   "metadata": {},
   "outputs": [],
   "source": []
  },
  {
   "cell_type": "code",
   "execution_count": null,
   "id": "ebd36a70-1fe1-4e5e-af34-c5d75ea551e0",
   "metadata": {},
   "outputs": [],
   "source": []
  },
  {
   "cell_type": "code",
   "execution_count": null,
   "id": "c55a9d23-903d-4858-9486-23f3a3ba693b",
   "metadata": {},
   "outputs": [],
   "source": []
  },
  {
   "cell_type": "code",
   "execution_count": null,
   "id": "9fd4ab8c-a2fc-4d37-9757-c6fb1d90a6fa",
   "metadata": {},
   "outputs": [],
   "source": []
  },
  {
   "cell_type": "code",
   "execution_count": null,
   "id": "17a6cc1f-7b82-4a5a-aa89-1c3e2bbf4860",
   "metadata": {},
   "outputs": [],
   "source": []
  },
  {
   "cell_type": "code",
   "execution_count": null,
   "id": "ac695981-892a-40e1-b902-33e2f46afa63",
   "metadata": {},
   "outputs": [],
   "source": []
  },
  {
   "cell_type": "code",
   "execution_count": null,
   "id": "488a2526-22f6-4c37-be89-ba983456ff53",
   "metadata": {},
   "outputs": [],
   "source": []
  },
  {
   "cell_type": "code",
   "execution_count": null,
   "id": "1646344f-571e-47c7-a878-1a99b1b95fef",
   "metadata": {},
   "outputs": [],
   "source": []
  },
  {
   "cell_type": "code",
   "execution_count": null,
   "id": "c1507a6d-d7ed-4976-b4da-6a34191f5ebe",
   "metadata": {},
   "outputs": [],
   "source": []
  },
  {
   "cell_type": "code",
   "execution_count": null,
   "id": "f24664d3-7f16-4da5-ac6a-07bc5a74e953",
   "metadata": {},
   "outputs": [],
   "source": []
  },
  {
   "cell_type": "code",
   "execution_count": null,
   "id": "8eebc0a6-377b-45ec-b407-ae15ae82fa06",
   "metadata": {},
   "outputs": [],
   "source": []
  },
  {
   "cell_type": "code",
   "execution_count": null,
   "id": "51a2ceea-99dc-4ccc-a043-00ef67292df7",
   "metadata": {},
   "outputs": [],
   "source": []
  },
  {
   "cell_type": "code",
   "execution_count": null,
   "id": "076aa8a0-e44f-45ed-b1b1-5c7f31ccc494",
   "metadata": {},
   "outputs": [],
   "source": []
  },
  {
   "cell_type": "code",
   "execution_count": null,
   "id": "97ed9683-9eca-49c8-8745-6784a21e46c0",
   "metadata": {},
   "outputs": [],
   "source": []
  },
  {
   "cell_type": "code",
   "execution_count": null,
   "id": "c59c663d-4d4b-443d-b213-95f421e6d464",
   "metadata": {},
   "outputs": [],
   "source": []
  },
  {
   "cell_type": "code",
   "execution_count": null,
   "id": "8a52ac52-c4c1-4561-a8d5-0288136dcbcd",
   "metadata": {},
   "outputs": [],
   "source": []
  },
  {
   "cell_type": "code",
   "execution_count": null,
   "id": "28c88e2f-051c-418e-900a-afa4954112e5",
   "metadata": {},
   "outputs": [],
   "source": []
  },
  {
   "cell_type": "code",
   "execution_count": null,
   "id": "c4c78698-4614-4139-8e30-e5ab7d196a51",
   "metadata": {},
   "outputs": [],
   "source": []
  },
  {
   "cell_type": "code",
   "execution_count": null,
   "id": "e92ca54e-0636-4791-ac70-3ab222e909cb",
   "metadata": {},
   "outputs": [],
   "source": []
  },
  {
   "cell_type": "code",
   "execution_count": null,
   "id": "5b9ca299-60f3-4c3b-9dda-2de811824f70",
   "metadata": {},
   "outputs": [],
   "source": []
  },
  {
   "cell_type": "code",
   "execution_count": null,
   "id": "552eb267-291c-40e5-aefc-42e2f7818e0e",
   "metadata": {},
   "outputs": [],
   "source": []
  },
  {
   "cell_type": "code",
   "execution_count": null,
   "id": "73cda893-8173-43d7-b440-8ce44855cd53",
   "metadata": {},
   "outputs": [],
   "source": []
  },
  {
   "cell_type": "code",
   "execution_count": null,
   "id": "72762c59-8e61-4c62-80f0-8e7f8c25c08b",
   "metadata": {},
   "outputs": [],
   "source": []
  },
  {
   "cell_type": "code",
   "execution_count": null,
   "id": "3159a2d8-8cec-4fe3-a074-fce027035078",
   "metadata": {},
   "outputs": [],
   "source": []
  },
  {
   "cell_type": "code",
   "execution_count": null,
   "id": "b3a1b347-e886-4a10-9b42-09537fddb8fc",
   "metadata": {},
   "outputs": [],
   "source": []
  },
  {
   "cell_type": "code",
   "execution_count": null,
   "id": "c4a341c7-22fa-4a1d-88bc-46d9ec17eb71",
   "metadata": {},
   "outputs": [],
   "source": []
  },
  {
   "cell_type": "code",
   "execution_count": null,
   "id": "7ca20e76-fb43-4ab2-a0ca-13306085ab31",
   "metadata": {},
   "outputs": [],
   "source": []
  },
  {
   "cell_type": "code",
   "execution_count": null,
   "id": "05a07651-47b8-4a7c-b0de-c3fcc9ac4cd1",
   "metadata": {},
   "outputs": [],
   "source": []
  },
  {
   "cell_type": "code",
   "execution_count": null,
   "id": "708b39cc-aad6-4272-9374-68f597041e45",
   "metadata": {},
   "outputs": [],
   "source": []
  },
  {
   "cell_type": "code",
   "execution_count": null,
   "id": "6a39ef3b-112a-4e3b-a321-8d78ffd266ef",
   "metadata": {},
   "outputs": [],
   "source": []
  },
  {
   "cell_type": "code",
   "execution_count": null,
   "id": "53bc5f8d-7f39-4338-b736-a9ad64bfe417",
   "metadata": {},
   "outputs": [],
   "source": []
  },
  {
   "cell_type": "code",
   "execution_count": null,
   "id": "41723596-c857-4763-a7ab-3ce250cd2a52",
   "metadata": {},
   "outputs": [],
   "source": []
  },
  {
   "cell_type": "code",
   "execution_count": null,
   "id": "7722f8f8-e225-4e28-9eaa-2c109a1c29c1",
   "metadata": {},
   "outputs": [],
   "source": []
  },
  {
   "cell_type": "code",
   "execution_count": null,
   "id": "5dfdb46f-6a56-4da5-8773-fa72c67c792e",
   "metadata": {},
   "outputs": [],
   "source": []
  },
  {
   "cell_type": "code",
   "execution_count": null,
   "id": "421448ff-4a83-4ded-bba2-c1284c4eb6f0",
   "metadata": {},
   "outputs": [],
   "source": []
  },
  {
   "cell_type": "code",
   "execution_count": null,
   "id": "119dd4f7-48d4-4892-a704-97fcdc069ec8",
   "metadata": {},
   "outputs": [],
   "source": []
  },
  {
   "cell_type": "code",
   "execution_count": null,
   "id": "209f0640-1db7-438d-9afd-046af3fcb062",
   "metadata": {},
   "outputs": [],
   "source": []
  },
  {
   "cell_type": "code",
   "execution_count": null,
   "id": "fd15f3f7-1e81-4c48-8c9a-aa0a899bdd1c",
   "metadata": {},
   "outputs": [],
   "source": []
  },
  {
   "cell_type": "code",
   "execution_count": null,
   "id": "b770cae0-ccb8-41e7-bebf-a6b38d146369",
   "metadata": {},
   "outputs": [],
   "source": []
  },
  {
   "cell_type": "code",
   "execution_count": null,
   "id": "19d9517a-eae2-4168-a6f4-6b457cdc62bb",
   "metadata": {},
   "outputs": [],
   "source": []
  },
  {
   "cell_type": "code",
   "execution_count": null,
   "id": "fa35cc22-04a9-4357-bc39-14b5ad7ad0ef",
   "metadata": {},
   "outputs": [],
   "source": []
  },
  {
   "cell_type": "code",
   "execution_count": null,
   "id": "e9474ecf-143d-41b8-ad59-97f1be5f13d3",
   "metadata": {},
   "outputs": [],
   "source": []
  },
  {
   "cell_type": "code",
   "execution_count": null,
   "id": "e171e61f-29f2-48ec-bde8-0f3f7820026b",
   "metadata": {},
   "outputs": [],
   "source": []
  },
  {
   "cell_type": "code",
   "execution_count": null,
   "id": "590468d3-0374-4611-b9e0-ecc720ca41b1",
   "metadata": {},
   "outputs": [],
   "source": []
  }
 ],
 "metadata": {
  "kernelspec": {
   "display_name": "Python 3",
   "language": "python",
   "name": "python3"
  },
  "language_info": {
   "codemirror_mode": {
    "name": "ipython",
    "version": 3
   },
   "file_extension": ".py",
   "mimetype": "text/x-python",
   "name": "python",
   "nbconvert_exporter": "python",
   "pygments_lexer": "ipython3",
   "version": "3.8.8"
  }
 },
 "nbformat": 4,
 "nbformat_minor": 5
}
