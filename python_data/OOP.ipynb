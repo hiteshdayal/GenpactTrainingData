{
 "cells": [
  {
   "cell_type": "markdown",
   "id": "61158953-9c19-4a3f-928b-e317f188a3d5",
   "metadata": {},
   "source": [
    "## Object Oriented Programming in Python"
   ]
  },
  {
   "cell_type": "raw",
   "id": "b257018c-88b4-49b2-afba-01c4e14b6b2c",
   "metadata": {},
   "source": [
    "Procedural languages lack in encapsulation, difficult to manage when code size >= 10 KLOC, variables are unprotected, no automatic memory management by deleting dereferenced variables.\n",
    "\n",
    "A class definition can not be empty. Either it should contain a pass statement or a document string."
   ]
  },
  {
   "cell_type": "code",
   "execution_count": 3,
   "id": "a3759908-175e-4244-9eff-347b6ff9770e",
   "metadata": {},
   "outputs": [
    {
     "name": "stdout",
     "output_type": "stream",
     "text": [
      "This is a document string of the class...\n",
      "This is a document string of the class...\n"
     ]
    }
   ],
   "source": [
    "class MyFirstClass:\n",
    "    \"\"\"This is a document string of the class...\"\"\"\n",
    "    \n",
    "ob1 = MyFirstClass()\n",
    "print (ob1.__doc__)\n",
    "print (MyFirstClass.__doc__)"
   ]
  },
  {
   "cell_type": "code",
   "execution_count": 4,
   "id": "8e92a102-3a0d-474e-b532-9b37b3d94f6c",
   "metadata": {},
   "outputs": [
    {
     "name": "stdout",
     "output_type": "stream",
     "text": [
      "str(object='') -> str\n",
      "str(bytes_or_buffer[, encoding[, errors]]) -> str\n",
      "\n",
      "Create a new string object from the given object. If encoding or\n",
      "errors is specified, then the object must expose a data buffer\n",
      "that will be decoded using the given encoding and error handler.\n",
      "Otherwise, returns the result of object.__str__() (if defined)\n",
      "or repr(object).\n",
      "encoding defaults to sys.getdefaultencoding().\n",
      "errors defaults to 'strict'.\n"
     ]
    }
   ],
   "source": [
    "print (str.__doc__)"
   ]
  },
  {
   "cell_type": "code",
   "execution_count": 5,
   "id": "a245c3f1-e8a3-4862-9af2-a01117057956",
   "metadata": {},
   "outputs": [
    {
     "name": "stdout",
     "output_type": "stream",
     "text": [
      "int([x]) -> integer\n",
      "int(x, base=10) -> integer\n",
      "\n",
      "Convert a number or string to an integer, or return 0 if no arguments\n",
      "are given.  If x is a number, return x.__int__().  For floating point\n",
      "numbers, this truncates towards zero.\n",
      "\n",
      "If x is not a number or if base is given, then x must be a string,\n",
      "bytes, or bytearray instance representing an integer literal in the\n",
      "given base.  The literal can be preceded by '+' or '-' and be surrounded\n",
      "by whitespace.  The base defaults to 10.  Valid bases are 0 and 2-36.\n",
      "Base 0 means to interpret the base from the string as an integer literal.\n",
      ">>> int('0b100', base=0)\n",
      "4\n"
     ]
    }
   ],
   "source": [
    "print (int.__doc__)"
   ]
  },
  {
   "cell_type": "code",
   "execution_count": 7,
   "id": "ac57e85d-567d-4c8f-89d3-d886e11ea4be",
   "metadata": {},
   "outputs": [
    {
     "name": "stdout",
     "output_type": "stream",
     "text": [
      "None\n"
     ]
    }
   ],
   "source": [
    "class MyFirstClass:\n",
    "    pass\n",
    "\n",
    "ob1 = MyFirstClass()\n",
    "print (ob1.__doc__)"
   ]
  },
  {
   "cell_type": "code",
   "execution_count": 19,
   "id": "50be797a-9aa4-49b2-8bdf-fb852fd32515",
   "metadata": {},
   "outputs": [
    {
     "name": "stdout",
     "output_type": "stream",
     "text": [
      "Executing the constructor method...\n",
      "Executing the display method...\n",
      "1: Class variables are 100 and 200...\n",
      "2: Class variables are 100 and 200...\n",
      "Instance variables are 111 and 222...\n",
      "self = <__main__.MyClass object at 0x000001D22579A940>\n",
      "Updating class variable values...\n",
      "Executing the constructor method...\n",
      "Executing the display method...\n",
      "1: Class variables are 300 and 400...\n",
      "2: Class variables are 300 and 400...\n",
      "Instance variables are 333 and 444...\n",
      "self = <__main__.MyClass object at 0x000001D225797DC0>\n",
      "This is a document string containing definition of the class\n"
     ]
    }
   ],
   "source": [
    "class MyClass:   # declaration of the class\n",
    "    '''This is a document string containing definition of the class'''\n",
    "    class_var1 = 100     # class or static variable declaration\n",
    "    class_var2 = 200\n",
    "    def __init__(self, data1, data2):   # constructor method\n",
    "        print (\"Executing the constructor method...\")\n",
    "        self.inst_var1 = data1    # instance variable declaration\n",
    "        self.inst_var2 = data2\n",
    "    def display(self):    # self denotes object binding variable \n",
    "        print (\"Executing the display method...\")\n",
    "        print (f\"1: Class variables are {MyClass.class_var1} and {MyClass.class_var2}...\" )\n",
    "        print (f\"2: Class variables are {self.class_var1} and {self.class_var2}...\" )\n",
    "        print (f\"Instance variables are {self.inst_var1} and {self.inst_var2}...\" )\n",
    "        print (f\"self = {self}\")\n",
    "    def update(self):\n",
    "        print (\"Updating class variable values...\")\n",
    "        MyClass.class_var1 = 300\n",
    "        MyClass.class_var2 = 400\n",
    "    def __del__(self):   # destructor method\n",
    "        print (\"Destructor method executing...\")\n",
    "ob1 = MyClass(111, 222)   # defining the object, which is instance of a class\n",
    "ob1.display()\n",
    "ob1.update()\n",
    "ob2 = MyClass(333, 444)   # defining another object\n",
    "ob2.display()\n",
    "print (MyClass.__doc__)"
   ]
  },
  {
   "cell_type": "code",
   "execution_count": 20,
   "id": "a18ac2d7-e4ea-4a73-b78e-fa06c4c71887",
   "metadata": {},
   "outputs": [
    {
     "name": "stdout",
     "output_type": "stream",
     "text": [
      "Executing the display method...\n",
      "1: Class variables are 300 and 400...\n",
      "2: Class variables are 300 and 400...\n",
      "Instance variables are 111 and 222...\n",
      "self = <__main__.MyClass object at 0x000001D22579A940>\n",
      "Executing the display method...\n",
      "1: Class variables are 300 and 400...\n",
      "2: Class variables are 300 and 400...\n",
      "Instance variables are 333 and 444...\n",
      "self = <__main__.MyClass object at 0x000001D225797DC0>\n"
     ]
    }
   ],
   "source": [
    "ob1.display()\n",
    "ob2.display()"
   ]
  },
  {
   "cell_type": "code",
   "execution_count": 21,
   "id": "ba2b490f-6393-4bcf-a394-3287a5e1553a",
   "metadata": {},
   "outputs": [
    {
     "name": "stdout",
     "output_type": "stream",
     "text": [
      "Destructor method executing...\n"
     ]
    }
   ],
   "source": [
    "del ob1"
   ]
  },
  {
   "cell_type": "code",
   "execution_count": 22,
   "id": "f04228f5-9869-4127-af0f-f444b2026a33",
   "metadata": {},
   "outputs": [
    {
     "name": "stdout",
     "output_type": "stream",
     "text": [
      "Destructor method executing...\n"
     ]
    }
   ],
   "source": [
    "del ob2"
   ]
  },
  {
   "cell_type": "code",
   "execution_count": 23,
   "id": "0a55c87f-48ae-4146-bf19-b8238a7dd208",
   "metadata": {},
   "outputs": [
    {
     "ename": "NameError",
     "evalue": "name 'ob1' is not defined",
     "output_type": "error",
     "traceback": [
      "\u001b[1;31m---------------------------------------------------------------------------\u001b[0m",
      "\u001b[1;31mNameError\u001b[0m                                 Traceback (most recent call last)",
      "\u001b[1;32m<ipython-input-23-e33b2a9b39ff>\u001b[0m in \u001b[0;36m<module>\u001b[1;34m\u001b[0m\n\u001b[1;32m----> 1\u001b[1;33m \u001b[1;32mdel\u001b[0m \u001b[0mob1\u001b[0m\u001b[1;33m\u001b[0m\u001b[1;33m\u001b[0m\u001b[0m\n\u001b[0m",
      "\u001b[1;31mNameError\u001b[0m: name 'ob1' is not defined"
     ]
    }
   ],
   "source": [
    "del ob1"
   ]
  },
  {
   "cell_type": "code",
   "execution_count": 27,
   "id": "0163e79b-22ac-45be-a8f0-db5a7a68c5da",
   "metadata": {},
   "outputs": [
    {
     "name": "stdout",
     "output_type": "stream",
     "text": [
      "So total number of objects defined = 5\n"
     ]
    }
   ],
   "source": [
    "# keeping the count of number of objects created against a class\n",
    "class MyClass:\n",
    "    count = 0   # class / static variable\n",
    "    def __init__(self):\n",
    "        MyClass.count += 1\n",
    "        \n",
    "ob1 = MyClass()\n",
    "ob2 = MyClass()\n",
    "ob3 = MyClass()\n",
    "ob4 = MyClass()\n",
    "ob5 = MyClass()\n",
    "print (\"So total number of objects defined =\", MyClass.count)"
   ]
  },
  {
   "cell_type": "code",
   "execution_count": 36,
   "id": "222f3bb7-3c0d-4aaa-aa57-280072b99b07",
   "metadata": {},
   "outputs": [
    {
     "name": "stdout",
     "output_type": "stream",
     "text": [
      "Executing the instance method... <__main__.MyClass object at 0x000001D225F102E0>\n",
      "instVar = 100 and classVar = 222\n",
      "Executing the class method... <class '__main__.MyClass'>\n",
      "classVar1 = 333 and classVar2 = 444\n",
      "classVar1 = 333 and classVar2 = 444\n",
      "Executing the class method... <class '__main__.MyClass'>\n",
      "classVar1 = 333 and classVar2 = 444\n",
      "classVar1 = 333 and classVar2 = 444\n",
      "Executing the static method...\n",
      "classVar1 = 555 and classVar2 = 666\n"
     ]
    }
   ],
   "source": [
    "# there are three different methods in Python: instance, class and static methods\n",
    "class MyClass:\n",
    "    classVar1 = 111    # class variable initialized\n",
    "    classVar2 = 222\n",
    "    # declaring instance method\n",
    "    def instMethod(self):\n",
    "        print (\"Executing the instance method...\", self)\n",
    "        self.instVar = 100    # initializing an instance variable\n",
    "        MyClass.classVar = 222   # updating class variable\n",
    "        print (f\"instVar = {self.instVar} and classVar = {MyClass.classVar}\")\n",
    "    # declaring class method\n",
    "    @classmethod   # annotation or decorator\n",
    "    def classMethod(cla):   # cla is a class reference variable\n",
    "        print (\"Executing the class method...\", cla)\n",
    "        cla.classVar1 = 333\n",
    "        cla.classVar2 = 444\n",
    "        print (f\"classVar1 = {cla.classVar1} and classVar2 = {cla.classVar2}\")\n",
    "        print (f\"classVar1 = {MyClass.classVar1} and classVar2 = {MyClass.classVar2}\")\n",
    "    # declaring static method\n",
    "    @staticmethod   # annotation or decorator\n",
    "    def staticMethod():\n",
    "        print (\"Executing the static method...\")\n",
    "        MyClass.classVar1 = 555\n",
    "        MyClass.classVar2 = 666\n",
    "        print (f\"classVar1 = {MyClass.classVar1} and classVar2 = {MyClass.classVar2}\")\n",
    "        \n",
    "ob1 = MyClass()\n",
    "ob1.instMethod()\n",
    "# MyClass.instMethod()\n",
    "ob1.classMethod()\n",
    "MyClass.classMethod()\n",
    "MyClass.staticMethod()"
   ]
  },
  {
   "cell_type": "code",
   "execution_count": 46,
   "id": "ad8bab52-715f-4044-b822-e996fd4ad1db",
   "metadata": {},
   "outputs": [
    {
     "name": "stdout",
     "output_type": "stream",
     "text": [
      "False\n",
      "True\n",
      "True\n",
      "True\n",
      "100\n",
      "500\n",
      "True\n",
      "False\n",
      "{'instVar1': 500}\n",
      "['__class__', '__delattr__', '__dict__', '__dir__', '__doc__', '__eq__', '__format__', '__ge__', '__getattribute__', '__gt__', '__hash__', '__init__', '__init_subclass__', '__le__', '__lt__', '__module__', '__ne__', '__new__', '__reduce__', '__reduce_ex__', '__repr__', '__setattr__', '__sizeof__', '__str__', '__subclasshook__', '__weakref__', 'classVar1', 'function1', 'function2', 'instVar1']\n",
      "I am __str__() method executing...\n",
      "I am __str__() method executing...\n"
     ]
    }
   ],
   "source": [
    "# built-in Python methods\n",
    "class MyClass1:\n",
    "    def __init__(self):\n",
    "        print (\"Hello\")\n",
    "class MyClass2:\n",
    "    classVar1 = 100\n",
    "    def __init__(self):\n",
    "        self.instVar1 = 111\n",
    "    def function1(self):\n",
    "        print (f\"self.instVar1 = {self.instVar1}\")\n",
    "class MyClass3(MyClass2):\n",
    "    \"\"\"This is a document string for the class MyClass3...\"\"\"\n",
    "    def function2(self):\n",
    "        print (\"So function2() is executing...\")\n",
    "    def __str__(self):\n",
    "        return \"I am __str__() method executing...\"\n",
    "ob1 = MyClass3()\n",
    "print (isinstance(ob1, MyClass1))\n",
    "print (isinstance(ob1, MyClass2))\n",
    "print (isinstance(ob1, MyClass3))\n",
    "print (hasattr(ob1, \"classVar1\"))\n",
    "print (getattr(ob1, \"classVar1\"))\n",
    "setattr(ob1, \"instVar1\", 500)\n",
    "print (ob1.instVar1)\n",
    "print (issubclass(MyClass3, MyClass2))\n",
    "print (issubclass(MyClass3, MyClass1))\n",
    "print (vars(ob1))    # returns a dictionary of attributes of the object\n",
    "print (dir(ob1))     # returns a list of all the attributes of the object\n",
    "print (ob1)\n",
    "print (ob1.__str__())"
   ]
  },
  {
   "cell_type": "code",
   "execution_count": 48,
   "id": "d6711cbc-0574-405d-a95d-edac88a800fb",
   "metadata": {},
   "outputs": [
    {
     "name": "stdout",
     "output_type": "stream",
     "text": [
      "This is a document string for the class MyClass3...\n",
      "__main__\n",
      "{'instVar1': 500}\n"
     ]
    }
   ],
   "source": [
    "# built in Python atributes\n",
    "print (ob1.__doc__)\n",
    "print (ob1.__module__)\n",
    "print (ob1.__dict__)"
   ]
  },
  {
   "cell_type": "code",
   "execution_count": 8,
   "id": "05cc9942-5193-401c-a52c-50d1a829cd73",
   "metadata": {},
   "outputs": [
    {
     "name": "stdout",
     "output_type": "stream",
     "text": [
      "333\n",
      "222\n",
      "111\n",
      "Public method is executing...\n",
      "Protected method is executing...\n",
      "Private method is executing...\n"
     ]
    }
   ],
   "source": [
    "# dealing with private, protected and public members...\n",
    "class MyClass:\n",
    "    def __init__(self):\n",
    "        self.__privateVar = 111\n",
    "        self._protectedVar = 222\n",
    "        self.publicVar = 333\n",
    "    def publicMethod(self):\n",
    "        return \"Public method is executing...\"\n",
    "    def _protectedMethod(self):\n",
    "        return \"Protected method is executing...\"\n",
    "    def __privateMethod(self):\n",
    "        return \"Private method is executing...\"\n",
    "    \n",
    "ob1 = MyClass()\n",
    "print (ob1.publicVar)\n",
    "print (ob1._protectedVar)\n",
    "# print (ob1.__privateVar)\n",
    "print (ob1._MyClass__privateVar)\n",
    "print (ob1.publicMethod())\n",
    "print (ob1._protectedMethod())\n",
    "# print (ob1.__privateMethod())\n",
    "print (ob1._MyClass__privateMethod())"
   ]
  },
  {
   "cell_type": "markdown",
   "id": "71996095-4a98-43ee-9815-5c83e80812e2",
   "metadata": {},
   "source": [
    "### Dealing with Inheritance"
   ]
  },
  {
   "cell_type": "markdown",
   "id": "68ad7473-2b20-4a38-9ae0-c4813b78338b",
   "metadata": {},
   "source": [
    "<img src = \"java-types-of-inheritance.jpg\" width = 500 height = 500>"
   ]
  },
  {
   "cell_type": "code",
   "execution_count": 16,
   "id": "fcc90211-d6b5-460e-b178-4ca6b512447e",
   "metadata": {},
   "outputs": [
    {
     "name": "stdout",
     "output_type": "stream",
     "text": [
      "Derived: Derived class constructor executing...\n",
      "Base: Base class constructor executing...\n",
      "Base: Base class constructor executing...\n",
      "Base: Base class constructor executing...\n",
      "Base: Base class constructor executing...\n",
      "displayB: Display base method executing...\n",
      "displayD: Display derived method executing...\n"
     ]
    }
   ],
   "source": [
    "# single inheritance\n",
    "class Base :\n",
    "    def __init__(self):\n",
    "        print (\"Base: Base class constructor executing...\")\n",
    "    def displayB(self):\n",
    "        print (\"displayB: Display base method executing...\")\n",
    "class Derived(Base):\n",
    "    def __init__(self):\n",
    "        print (\"Derived: Derived class constructor executing...\")\n",
    "        super().__init__()\n",
    "        Base.__init__(self)\n",
    "        super(Derived, self).__init__()\n",
    "    def displayD(self):\n",
    "        print (\"displayD: Display derived method executing...\")\n",
    "ob1 = Derived()\n",
    "super(Derived, ob1).__init__()\n",
    "ob1.displayB()\n",
    "ob1.displayD()"
   ]
  },
  {
   "cell_type": "code",
   "execution_count": 28,
   "id": "3e49459a-355c-442f-9a2c-8df928ec1fbd",
   "metadata": {},
   "outputs": [
    {
     "name": "stdout",
     "output_type": "stream",
     "text": [
      "Base: Base class constructor executing...\n",
      "Base: displayB() executing...\n",
      "Derived1: displayD1() executing...\n",
      "Derived2: displayD2() executing...\n",
      "Derived2: function() executing...\n",
      "Derived1: function() executing...\n",
      "Derived1: function() executing...\n",
      "Derived1: function() executing...\n",
      "Base: function() executing...\n",
      "Derived1: function() executing...\n"
     ]
    }
   ],
   "source": [
    "# multilevel inheritance\n",
    "class Base:\n",
    "    def __init__(self):\n",
    "        print(\"Base: Base class constructor executing...\")\n",
    "    def displayB(self):\n",
    "        print (\"Base: displayB() executing...\")\n",
    "    def function(self):\n",
    "        print (\"Base: function() executing...\")\n",
    "class Derived1(Base):\n",
    "    def displayD1(self):\n",
    "        print (\"Derived1: displayD1() executing...\")\n",
    "    def function(self):\n",
    "        print (\"Derived1: function() executing...\")\n",
    "class Derived2(Derived1):\n",
    "    def displayD2(self):\n",
    "        print (\"Derived2: displayD2() executing...\")\n",
    "    def function(self):\n",
    "        print (\"Derived2: function() executing...\")\n",
    "        super().function()\n",
    "        super(Derived2, self).function()\n",
    "        Derived1.function(self)\n",
    "        Base.function(self)\n",
    "ob1 = Derived2()\n",
    "ob1.displayB()\n",
    "ob1.displayD1()\n",
    "ob1.displayD2()\n",
    "ob1.function()\n",
    "super(Derived2, ob1).function()"
   ]
  },
  {
   "cell_type": "code",
   "execution_count": 32,
   "id": "4650434d-3ae2-4cdc-8e77-60d08ac73357",
   "metadata": {},
   "outputs": [
    {
     "name": "stdout",
     "output_type": "stream",
     "text": [
      "Base: constructor executing...\n",
      "Base: displayB() executing...\n",
      "Derived1: displayD1() executing...\n",
      "Derived1: function() executing...\n",
      "Base: function() executing...\n",
      "\n",
      "Base: constructor executing...\n",
      "Base: displayB() executing...\n",
      "Derived2: displayD2() executing...\n",
      "Derived2: function() executing...\n",
      "Base: function() executing...\n"
     ]
    }
   ],
   "source": [
    "# hierarchical inheritance\n",
    "class Base:\n",
    "    def __init__(self):\n",
    "        print (\"Base: constructor executing...\")\n",
    "    def displayB(self):\n",
    "        print (\"Base: displayB() executing...\")\n",
    "    def function(self):\n",
    "        print (\"Base: function() executing...\")\n",
    "class Derived1(Base):\n",
    "    def displayD1(self):\n",
    "        print (\"Derived1: displayD1() executing...\")\n",
    "    def function(self):\n",
    "        print (\"Derived1: function() executing...\")\n",
    "class Derived2(Base):\n",
    "    def displayD2(self):\n",
    "        print (\"Derived2: displayD2() executing...\")\n",
    "    def function(self):\n",
    "        print (\"Derived2: function() executing...\")\n",
    "ob1 = Derived1()\n",
    "ob1.displayB()\n",
    "ob1.displayD1()\n",
    "ob1.function()\n",
    "super(Derived1, ob1).function()\n",
    "print ()\n",
    "ob2 = Derived2()\n",
    "ob2.displayB()\n",
    "ob2.displayD2()\n",
    "ob2.function()\n",
    "super(Derived2, ob2).function()"
   ]
  },
  {
   "cell_type": "code",
   "execution_count": 5,
   "id": "4394e6fa-59e4-4d9c-aff1-259c409e55e3",
   "metadata": {},
   "outputs": [
    {
     "name": "stdout",
     "output_type": "stream",
     "text": [
      "Base2: constructor executing...\n",
      "Base1: displayB1() executing...\n",
      "Base2: displayB2() executing...\n",
      "Derived: displayD() executing...\n",
      "Base2: myfunction() executing...\n"
     ]
    }
   ],
   "source": [
    "# multiple inheritance\n",
    "class Base1:\n",
    "    def __init__(self):\n",
    "        print (\"Base1: constructor executing...\")\n",
    "    def displayB1(self):\n",
    "        print (\"Base1: displayB1() executing...\")\n",
    "    def myfunction(self):\n",
    "        print (\"Base1: myfunction() executing...\")\n",
    "class Base2:\n",
    "    def __init__(self):\n",
    "        print (\"Base2: constructor executing...\")\n",
    "    def displayB2(self):\n",
    "        print (\"Base2: displayB2() executing...\")\n",
    "    def myfunction(self):\n",
    "        print (\"Base2: myfunction() executing...\")\n",
    "class Derived(Base2, Base1):    # It depends on Method Resolution Order (MRO)\n",
    "    # def __init__(self):\n",
    "    #     print (\"Derived: constructor executing...\")\n",
    "    def displayD(self):\n",
    "        print (\"Derived: displayD() executing...\")\n",
    "ob1 = Derived()\n",
    "ob1.displayB1()\n",
    "ob1.displayB2()\n",
    "ob1.displayD()\n",
    "ob1.myfunction()"
   ]
  },
  {
   "cell_type": "markdown",
   "id": "4a218a6a-623c-4856-8626-fb091847cba6",
   "metadata": {},
   "source": [
    "### Operator Overloading"
   ]
  },
  {
   "cell_type": "code",
   "execution_count": 1,
   "id": "43796cc2-8703-44df-ad5d-f630bce73826",
   "metadata": {},
   "outputs": [
    {
     "name": "stdout",
     "output_type": "stream",
     "text": [
      "So 100 + 200 = 300\n",
      "So 100 + 200 = 300\n",
      "So 100 - 200 = -100\n",
      "So 100 - 200 = -100\n",
      "So 100 * 200 = 20000\n",
      "So 100 * 200 = 20000\n",
      "So 100 >= 200 = False\n",
      "So 100 >= 200 = False\n"
     ]
    }
   ],
   "source": [
    "i = 100\n",
    "j = 200\n",
    "result = i + j\n",
    "print (f\"So {i} + {j} = {result}\")\n",
    "result = i.__add__(j)\n",
    "print (f\"So {i} + {j} = {result}\")\n",
    "\n",
    "result = i - j\n",
    "print (f\"So {i} - {j} = {result}\")\n",
    "result = i.__sub__(j)\n",
    "print (f\"So {i} - {j} = {result}\")\n",
    "\n",
    "result = i * j\n",
    "print (f\"So {i} * {j} = {result}\")\n",
    "result = i.__mul__(j)\n",
    "print (f\"So {i} * {j} = {result}\")\n",
    "\n",
    "result = i >= j\n",
    "print (f\"So {i} >= {j} = {result}\")\n",
    "result = i.__ge__(j)\n",
    "print (f\"So {i} >= {j} = {result}\")"
   ]
  },
  {
   "cell_type": "code",
   "execution_count": 9,
   "id": "798f3aa1-8e4d-4ac0-b1ad-7495162f5534",
   "metadata": {},
   "outputs": [
    {
     "name": "stdout",
     "output_type": "stream",
     "text": [
      "So ob1.x = 12 and ob1.y = 4\n",
      "So ob2.x = 16 and ob2.y = 7\n",
      "After performing the addition operation...\n",
      "So result.x = 28 and result.y = 11\n",
      "So result.x = 28 and result.y = 11\n",
      "After performing the greater-than operation...\n",
      "So result = True\n",
      "So result = True\n"
     ]
    }
   ],
   "source": [
    "class MyClass:\n",
    "    def __init__(self, xx, yy):\n",
    "        self.x = xx\n",
    "        self.y = yy\n",
    "    def __add__(self, ob):\n",
    "        temp = MyClass(0, 0)\n",
    "        temp.x = self.x + ob.x\n",
    "        temp.y = self.y + ob.y\n",
    "        return temp\n",
    "    def __gt__(self, ob):\n",
    "        temp = MyClass(0, 0)\n",
    "        temp.x = self.x + ob.x\n",
    "        temp.y = self.y + ob.y\n",
    "        return temp.x > temp.y\n",
    "ob1 = MyClass(12, 4)\n",
    "ob2 = MyClass(16, 7)\n",
    "print (f\"So ob1.x = {ob1.x} and ob1.y = {ob1.y}\")\n",
    "print (f\"So ob2.x = {ob2.x} and ob2.y = {ob2.y}\")\n",
    "print (\"After performing the addition operation...\")\n",
    "result = ob1 + ob2\n",
    "print (f\"So result.x = {result.x} and result.y = {result.y}\")\n",
    "result = ob1.__add__(ob2)\n",
    "print (f\"So result.x = {result.x} and result.y = {result.y}\")\n",
    "print (\"After performing the greater-than operation...\")\n",
    "result = ob1 > ob2\n",
    "print (f\"So result = {result}\")\n",
    "result = ob1.__gt__(ob2)\n",
    "print (f\"So result = {result}\")"
   ]
  },
  {
   "cell_type": "markdown",
   "id": "da68713d-b4bf-44e0-b0c0-d2855e46fef1",
   "metadata": {},
   "source": [
    "### Abstract Class and Interfaces"
   ]
  },
  {
   "cell_type": "code",
   "execution_count": 12,
   "id": "92b5c91b-9a75-429d-b12d-a617f0db297b",
   "metadata": {},
   "outputs": [
    {
     "name": "stdout",
     "output_type": "stream",
     "text": [
      "Abstract class constrcutor...\n",
      "The Abstract method is redefined...\n",
      "myConcreteMethod() is executing...\n"
     ]
    }
   ],
   "source": [
    "# abstract class\n",
    "from abc import ABC, abstractmethod   # here ABC stands for Abstract Base Class\n",
    "class AbsBaseClass(ABC):\n",
    "    def __init__(self):\n",
    "        print (\"Abstract class constrcutor...\")\n",
    "    @abstractmethod\n",
    "    def myAbstractMethod(self):\n",
    "        pass    # here pass is a statement placeholder\n",
    "    def myConcreteMethod(self):\n",
    "        print (\"myConcreteMethod() is executing...\")\n",
    "class Derived(AbsBaseClass):\n",
    "    def myAbstractMethod(self):\n",
    "        print (\"The Abstract method is redefined...\")\n",
    "ob1 = Derived()\n",
    "ob1.myAbstractMethod()\n",
    "ob1.myConcreteMethod()\n",
    "# ob2 = AbsBaseClass()"
   ]
  },
  {
   "cell_type": "code",
   "execution_count": 16,
   "id": "9d0b6802-0bad-4378-828c-3ab2a7d89e8a",
   "metadata": {},
   "outputs": [
    {
     "name": "stdout",
     "output_type": "stream",
     "text": [
      "Abstract class constrcutor...\n",
      "The Abstract method is redefined...\n",
      "Initial content...\n",
      "myConcreteMethod() is executing...\n"
     ]
    }
   ],
   "source": [
    "# abstract class\n",
    "from abc import ABC, abstractmethod   # here ABC stands for Abstract Base Class\n",
    "class AbsBaseClass(ABC):\n",
    "    def __init__(self):\n",
    "        print (\"Abstract class constrcutor...\")\n",
    "    @abstractmethod\n",
    "    def myAbstractMethod(self):\n",
    "        print (\"Initial content...\")\n",
    "    def myConcreteMethod(self):\n",
    "        print (\"myConcreteMethod() is executing...\")\n",
    "class Derived(AbsBaseClass):\n",
    "    def myAbstractMethod(self):\n",
    "        print (\"The Abstract method is redefined...\")\n",
    "        super().myAbstractMethod()\n",
    "ob1 = Derived()\n",
    "ob1.myAbstractMethod()\n",
    "ob1.myConcreteMethod()\n",
    "# ob2 = AbsBaseClass()"
   ]
  },
  {
   "cell_type": "code",
   "execution_count": 18,
   "id": "8c66d245-8243-4164-ad61-b13cab45e1e3",
   "metadata": {},
   "outputs": [
    {
     "name": "stdout",
     "output_type": "stream",
     "text": [
      "abstractmethod1() is redefined...\n",
      "abstractmethod2() is redefined...\n",
      "abstractmethod3() is redefined...\n"
     ]
    }
   ],
   "source": [
    "# dealing with the interface\n",
    "from abc import ABC, abstractmethod\n",
    "class MyInterface(ABC):\n",
    "    @abstractmethod\n",
    "    def abstractMethod1(self):\n",
    "        pass\n",
    "    @abstractmethod\n",
    "    def abstractMethod2(self):\n",
    "        pass\n",
    "    @abstractmethod\n",
    "    def abstractMethod3(self):\n",
    "        pass\n",
    "class Derived(MyInterface):\n",
    "    def abstractMethod1(self):\n",
    "        print (\"abstractmethod1() is redefined...\")\n",
    "    def abstractMethod2(self):\n",
    "        print (\"abstractmethod2() is redefined...\")\n",
    "    def abstractMethod3(self):\n",
    "        print (\"abstractmethod3() is redefined...\")\n",
    "ob1 = Derived()\n",
    "ob1.abstractMethod1()\n",
    "ob1.abstractMethod2()\n",
    "ob1.abstractMethod3()"
   ]
  },
  {
   "cell_type": "raw",
   "id": "31f0396f-e8b1-4d42-9843-cdc884f2eade",
   "metadata": {},
   "source": [
    "Class Assignment:\n",
    "Implement Hybrid Inheritance."
   ]
  },
  {
   "cell_type": "code",
   "execution_count": 19,
   "id": "cdc9ca9a-2fc4-45c5-935c-265704865a91",
   "metadata": {},
   "outputs": [
    {
     "name": "stdout",
     "output_type": "stream",
     "text": [
      "Derived3 : constructor executing\n",
      "Base : Display1 executing\n",
      "Derived1 : Display2 executing\n",
      "Derived3 : Display3 executing\n",
      "Derived3: Function executing\n",
      "Derived2: Function executing\n",
      "base: Function executing\n",
      "Derived1: Function executing\n"
     ]
    }
   ],
   "source": [
    "# Hybrid Inheritance\n",
    "class Base:\n",
    "    def __init__(self):\n",
    "        print(\"Base : constructor executing\")\n",
    "    def display1(self):\n",
    "        print(\"Base : Display1 executing\")\n",
    "    def function(self):\n",
    "        print(\"base: Function executing\")\n",
    "class Derived1(Base):\n",
    "    def __init__(self):\n",
    "        print(\"Derived1 : constructor executing\")\n",
    "    def display2(self):\n",
    "        print(\"Derived1 : Display2 executing\")\n",
    "    def function(self):\n",
    "        print(\"Derived1: Function executing\")\n",
    "class Derived2(Base):\n",
    "    def __init__(self):\n",
    "        print(\"Derived2 : constructor executing\")\n",
    "    def display2(self):\n",
    "        print(\"Derived2 : Display2 executing\")\n",
    "    def function(self):\n",
    "        print(\"Derived2: Function executing\")\n",
    "class Derived3(Derived1,Derived2):\n",
    "    def __init__(self):\n",
    "        print(\"Derived3 : constructor executing\")\n",
    "    def display3(self):\n",
    "        print(\"Derived3 : Display3 executing\")\n",
    "    def function(self):\n",
    "        print(\"Derived3: Function executing\")\n",
    "ob1 = Derived3()\n",
    "ob1.display1()\n",
    "ob1.display2()\n",
    "ob1.display3()\n",
    "ob1.function()\n",
    "super(Derived1, ob1).function()\n",
    "super(Derived2, ob1).function()\n",
    "super(Derived3, ob1).function()"
   ]
  },
  {
   "cell_type": "code",
   "execution_count": null,
   "id": "e2f8d636-90c6-4bc6-aae8-04d7ab6dcae4",
   "metadata": {},
   "outputs": [],
   "source": []
  }
 ],
 "metadata": {
  "kernelspec": {
   "display_name": "Python 3",
   "language": "python",
   "name": "python3"
  },
  "language_info": {
   "codemirror_mode": {
    "name": "ipython",
    "version": 3
   },
   "file_extension": ".py",
   "mimetype": "text/x-python",
   "name": "python",
   "nbconvert_exporter": "python",
   "pygments_lexer": "ipython3",
   "version": "3.8.8"
  }
 },
 "nbformat": 4,
 "nbformat_minor": 5
}
