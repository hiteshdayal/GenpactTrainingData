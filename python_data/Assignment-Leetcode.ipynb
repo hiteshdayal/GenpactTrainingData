{
 "cells": [
  {
   "cell_type": "raw",
   "id": "5af2c131-d1e8-4ada-83d4-cef85fe4bfaa",
   "metadata": {},
   "source": [
    "https://leetcode.com/problems/keyboard-row/\n",
    "\n",
    "Leetcode - 500. Keyboard Row\n",
    "Given an array of strings words, return the words that can be typed using letters of the alphabet on only one row of American keyboard like the image below.\n",
    "\n",
    "In the American keyboard:\n",
    "the first row consists of the characters \"qwertyuiop\",\n",
    "the second row consists of the characters \"asdfghjkl\", and\n",
    "the third row consists of the characters \"zxcvbnm\"."
   ]
  },
  {
   "cell_type": "markdown",
   "id": "b7fccf17-d9fa-48f0-bcd1-fa7808c9a7ca",
   "metadata": {},
   "source": [
    "<img src = \"KeyBoard.jpg\" width = 500 height = 500>"
   ]
  },
  {
   "cell_type": "markdown",
   "id": "b1970727-7adf-4e0d-938e-f3421af4455a",
   "metadata": {},
   "source": [
    "**Example 1:**<br>\n",
    "Input: words = [\"Hello\",\"Alaska\",\"Dad\",\"Peace\"]<br>\n",
    "Output: [\"Alaska\",\"Dad\"]<br>\n",
    "<br>\n",
    "**Example 2:**<br>\n",
    "Input: words = [\"omk\"]<br>\n",
    "Output: []<br>\n",
    "<br>\n",
    "**Example 3:**<br>\n",
    "Input: words = [\"adsdf\",\"sfd\"]<br>\n",
    "Output: [\"adsdf\",\"sfd\"]<br>\n",
    "<br>\n",
    "**Constraints:**<br>\n",
    "1 <= words.length <= 20<br>\n",
    "1 <= words[i].length <= 100<br>\n",
    "words[i] consists of English letters (both lowercase and uppercase).<br>"
   ]
  },
  {
   "cell_type": "code",
   "execution_count": 4,
   "id": "206e37af-136d-4e0a-a39d-6def4008bd50",
   "metadata": {},
   "outputs": [
    {
     "name": "stdout",
     "output_type": "stream",
     "text": [
      "['Alaska', 'Dad']\n"
     ]
    }
   ],
   "source": [
    "class Solution(object):\n",
    "    def findWords(self, words):\n",
    "        \"\"\"\n",
    "        :type words: List[str]\n",
    "        :rtype: List[str]\n",
    "        \"\"\"\n",
    "        set_row1 = set(\"qwertyuiop\")\n",
    "        set_row2 = set(\"asdfghjkl\")\n",
    "        set_row3 = set(\"zxcvbnm\")\n",
    "        # print (set_row1, set_row2, set_row3)\n",
    "        output_words = []\n",
    "        for wrd in words:\n",
    "            set_word = set(wrd.lower())\n",
    "            # print (set_word)\n",
    "            if (set_word.issubset(set_row1) or set_word.issubset(set_row2) or set_word.issubset(set_row3)):\n",
    "                output_words.append(wrd)\n",
    "        return (output_words)\n",
    "        \n",
    "ob1 = Solution()\n",
    "print (ob1.findWords([\"Hello\",\"Alaska\",\"Dad\",\"Peace\"]))"
   ]
  },
  {
   "cell_type": "code",
   "execution_count": null,
   "id": "c5c0a5f4-ad21-496f-a4e2-a6ded93f4060",
   "metadata": {},
   "outputs": [],
   "source": []
  }
 ],
 "metadata": {
  "kernelspec": {
   "display_name": "Python 3",
   "language": "python",
   "name": "python3"
  },
  "language_info": {
   "codemirror_mode": {
    "name": "ipython",
    "version": 3
   },
   "file_extension": ".py",
   "mimetype": "text/x-python",
   "name": "python",
   "nbconvert_exporter": "python",
   "pygments_lexer": "ipython3",
   "version": "3.8.8"
  }
 },
 "nbformat": 4,
 "nbformat_minor": 5
}
