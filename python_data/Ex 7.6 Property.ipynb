{
 "cells": [
  {
   "cell_type": "code",
   "execution_count": 3,
   "metadata": {},
   "outputs": [
    {
     "name": "stdout",
     "output_type": "stream",
     "text": [
      "Assigning temperature value\n",
      "Getting temperature value\n",
      "c.temperature:  5\n",
      "Getting temperature value\n",
      "c.temperature:  100\n",
      "{'_temperature': 100, 'temp': 500}\n",
      "100\n",
      "500\n"
     ]
    }
   ],
   "source": [
    "# Demonstrating the use of the property\n",
    "class Temp_Celsius:    \n",
    "    def __init__(self, temperature = 0):\n",
    "        print(\"Assigning temperature value\")\n",
    "        self._temperature = temperature\n",
    "        self.temp = 500\n",
    "\n",
    "    def convert_to_fahrenheit(self):\n",
    "        return (self._temperature * 1.8) + 32\n",
    "\n",
    "    def get_temperature(self):\n",
    "        print(\"Getting temperature value\")\n",
    "        return self._temperature\n",
    "\n",
    "    def set_temperature(self, value):\n",
    "        if value < -273:\n",
    "            raise ValueError(\"Temperature below -273 is not possible\")\n",
    "        print(\"Setting temperature value\")\n",
    "        self._temperature = value\n",
    "    # property() is a built-in function, creates and returns a property object\n",
    "    # property(fget=None, fset=None, fdel=None, doc=None)\n",
    "    # property object has three methods, getter(), setter(), and delete()\n",
    "    prop_temperature = property(get_temperature,set_temperature)\n",
    "    # make empty property\n",
    "    # temperature = property()\n",
    "    # assign fget\n",
    "    # temperature = temperature.getter(get_temperature)\n",
    "    # assign fset\n",
    "    # temperature = temperature.setter(set_temperature)\n",
    "\n",
    "c = Temp_Celsius(5)\n",
    "print(\"c.temperature: \",c.prop_temperature)\n",
    "c._temperature=100\n",
    "print(\"c.temperature: \",c.prop_temperature)\n",
    "print(c.__dict__)\n",
    "print(c.__dict__[\"_temperature\"])\n",
    "print(c.__dict__[\"temp\"])"
   ]
  },
  {
   "cell_type": "code",
   "execution_count": 10,
   "metadata": {},
   "outputs": [
    {
     "name": "stdout",
     "output_type": "stream",
     "text": [
      "Getting value\n",
      "5\n",
      "Setting value\n",
      "Getting value\n",
      "100\n"
     ]
    }
   ],
   "source": [
    "\n",
    "#Demonstrating the use of the property as a decorator\n",
    "class Celsius:\n",
    "    def __init__(self, temperature = 0):\n",
    "        self._temperature = temperature\n",
    "\n",
    "    def to_fahrenheit(self):\n",
    "        return (self.temperature * 1.8) + 32\n",
    "\n",
    "    @property\n",
    "    def prop_temperature(self):\n",
    "        print(\"Getting value\")\n",
    "        return self._temperature\n",
    "\n",
    "    @prop_temperature.setter\n",
    "    def prop_temperature(self, value):\n",
    "        if value < -273:\n",
    "            raise ValueError(\"Temperature below -273 is not possible\")\n",
    "        print(\"Setting value\")\n",
    "        self._temperature = value\n",
    "c = Celsius(5)\n",
    "print(c.prop_temperature)\n",
    "c.prop_temperature=100\n",
    "print(c.prop_temperature)\n"
   ]
  },
  {
   "cell_type": "code",
   "execution_count": null,
   "metadata": {},
   "outputs": [],
   "source": []
  }
 ],
 "metadata": {
  "kernelspec": {
   "display_name": "Python 3",
   "language": "python",
   "name": "python3"
  },
  "language_info": {
   "codemirror_mode": {
    "name": "ipython",
    "version": 3
   },
   "file_extension": ".py",
   "mimetype": "text/x-python",
   "name": "python",
   "nbconvert_exporter": "python",
   "pygments_lexer": "ipython3",
   "version": "3.7.0"
  }
 },
 "nbformat": 4,
 "nbformat_minor": 2
}
