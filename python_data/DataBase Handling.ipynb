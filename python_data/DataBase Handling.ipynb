{
 "cells": [
  {
   "cell_type": "markdown",
   "id": "d11ab766-7242-4832-8732-d281fafcfb1f",
   "metadata": {},
   "source": [
    "## Database Handling"
   ]
  },
  {
   "cell_type": "code",
   "execution_count": 1,
   "id": "fa8e57a5-6350-435f-8b28-c762451e64db",
   "metadata": {},
   "outputs": [],
   "source": [
    "# importing the required modules\n",
    "import sqlite3   # for Sqlite operations\n",
    "import csv       # for dealing with the csv files"
   ]
  },
  {
   "cell_type": "code",
   "execution_count": 3,
   "id": "9d0d32a0-ff91-416d-903a-7f78de782fca",
   "metadata": {},
   "outputs": [
    {
     "name": "stdout",
     "output_type": "stream",
     "text": [
      "Database has been connected successfully...\n"
     ]
    }
   ],
   "source": [
    "# creation of a databse\n",
    "# use the database if it pre-exists or create a new one\n",
    "try:\n",
    "    connection = sqlite3.connect(\"myemp.db\")\n",
    "    print (\"Database has been connected successfully...\")\n",
    "except exception as ex:\n",
    "    print (\"Error !!! Error !!! Error !!!\")\n",
    "    print (\"Error message is\", ex)\n",
    "    print (\"Error type is\", type(ex))"
   ]
  },
  {
   "cell_type": "code",
   "execution_count": 4,
   "id": "42c9a5a5-0b6b-4c79-9d38-a47b00025045",
   "metadata": {},
   "outputs": [
    {
     "name": "stdout",
     "output_type": "stream",
     "text": [
      "The employee table has been created successfully...\n"
     ]
    }
   ],
   "source": [
    "# create employee table as employee(emp_id, emp_name, emp_city, emp_salary)\n",
    "sqlStr = '''\n",
    "         CREATE TABLE employee (\n",
    "         emp_id INTEGER PRIMARY KEY,\n",
    "         emp_name TEXT,\n",
    "         emp_city TEXT,\n",
    "         emp_salary REAL);\n",
    "         '''\n",
    "try:   # create the table if it does not pre-exist\n",
    "    connection.execute(sqlStr)\n",
    "    print (\"The employee table has been created successfully...\")\n",
    "except:\n",
    "    print (\"Error !!! Error !!! Error !!!\")\n",
    "    print (\"The table is pre-existing...\")"
   ]
  },
  {
   "cell_type": "code",
   "execution_count": 15,
   "id": "de9644d1-15f0-4319-b926-ccc64801be5f",
   "metadata": {},
   "outputs": [
    {
     "name": "stdout",
     "output_type": "stream",
     "text": [
      "['1001', 'Dhiman', 'Kolkata', '39000'] 1001 Dhiman Kolkata 39000 4\n",
      "['1002', 'Anupam', 'Kolkata', '25000'] 1002 Anupam Kolkata 25000 4\n",
      "['1003', 'Subham', 'Mumbai', '36000'] 1003 Subham Mumbai 36000 4\n",
      "['1004', 'Dinesh', 'Chennai', '28000'] 1004 Dinesh Chennai 28000 4\n",
      "['1005', 'Kakali', 'Mumbai', '25000'] 1005 Kakali Mumbai 25000 4\n",
      "['1006', 'Bimal', 'Hyderabad', '30000'] 1006 Bimal Hyderabad 30000 4\n",
      "['1007', 'Tarun', 'Chennai', '17000'] 1007 Tarun Chennai 17000 4\n",
      "['1008', 'Rittik', 'Durgapur', '45000'] 1008 Rittik Durgapur 45000 4\n",
      "['1009', 'Barun', 'Hyderabad', '39000'] 1009 Barun Hyderabad 39000 4\n",
      "['1010', 'Utpal', 'Lucknow', '20000'] 1010 Utpal Lucknow 20000 4\n",
      "All records are inserted successfully..\n"
     ]
    }
   ],
   "source": [
    "# inserting records from the csv file and writing it to the database employee table\n",
    "sqlStr = \"INSERT INTO employee VALUES ('{e_id}', '{e_name}', '{e_city}', '{e_salary}');\"\n",
    "# read lines from the csv file and store them into the database table\n",
    "with open ('C://Users//Arnab\\\\Genpact\\\\Batch-3//emp_data.csv') as data_file:\n",
    "    csv_reader = csv.reader(data_file)\n",
    "    # reader is to read data from the csv file with ',' as the delimiter\n",
    "    for row in csv_reader:   # for each row, taking the data and inserting into the database table\n",
    "        print (row, row[0], row[1], row[2], row[3], len(row))\n",
    "        connection.execute(sqlStr.format(e_id = row[0], e_name = row[1], e_city = row[2], e_salary = row[3]))\n",
    "connection.commit()     # to make the change permanent\n",
    "print (\"All records are inserted successfully..\")"
   ]
  },
  {
   "cell_type": "code",
   "execution_count": 21,
   "id": "3ac66b45-f1c3-45bd-8d05-be60897feb24",
   "metadata": {},
   "outputs": [
    {
     "name": "stdout",
     "output_type": "stream",
     "text": [
      "Emp-ID: 1001, Emp-Name: Dhiman, Emp-City: Kolkata, Emp-Salary: 39000.0...\n",
      "Emp-ID: 1002, Emp-Name: Anupam, Emp-City: Kolkata, Emp-Salary: 25000.0...\n",
      "Emp-ID: 1003, Emp-Name: Subham, Emp-City: Mumbai, Emp-Salary: 36000.0...\n",
      "Emp-ID: 1004, Emp-Name: Dinesh, Emp-City: Chennai, Emp-Salary: 28000.0...\n",
      "Emp-ID: 1005, Emp-Name: Kakali, Emp-City: Mumbai, Emp-Salary: 25000.0...\n",
      "Emp-ID: 1006, Emp-Name: Bimal, Emp-City: Hyderabad, Emp-Salary: 30000.0...\n",
      "Emp-ID: 1007, Emp-Name: Tarun, Emp-City: Chennai, Emp-Salary: 17000.0...\n",
      "Emp-ID: 1008, Emp-Name: Rittik, Emp-City: Durgapur, Emp-Salary: 45000.0...\n",
      "Emp-ID: 1009, Emp-Name: Barun, Emp-City: Hyderabad, Emp-Salary: 39000.0...\n",
      "Emp-ID: 1010, Emp-Name: Utpal, Emp-City: Lucknow, Emp-Salary: 20000.0...\n"
     ]
    }
   ],
   "source": [
    "# retrieving records from the database table\n",
    "# SQL for fetching all attributes and all records from the database table\n",
    "sqlStr = \"SELECT * FROM employee;\"\n",
    "# read from table and point the cursor into the variable cur_table\n",
    "cur_table = connection.execute(sqlStr)\n",
    "# print (list(cur_table))\n",
    "# print (list(cur_table))\n",
    "for row in cur_table:\n",
    "    print (f\"Emp-ID: {row[0]}, Emp-Name: {row[1]}, Emp-City: {row[2]}, Emp-Salary: {row[3]}...\")"
   ]
  },
  {
   "cell_type": "code",
   "execution_count": 22,
   "id": "79afd4f5-5fa1-49d7-90d0-8546d0a9d11d",
   "metadata": {},
   "outputs": [
    {
     "name": "stdout",
     "output_type": "stream",
     "text": [
      "Emp-Name: Dhiman and Emp-Salary: 39000.0...\n",
      "Emp-Name: Subham and Emp-Salary: 36000.0...\n",
      "Emp-Name: Rittik and Emp-Salary: 45000.0...\n",
      "Emp-Name: Barun and Emp-Salary: 39000.0...\n"
     ]
    }
   ],
   "source": [
    "# SQL for fetching only name and salary of those employees whose salary is greater than 30000\n",
    "sqlStr = \"SELECT emp_name, emp_salary FROM employee WHERE emp_salary > 30000;\"\n",
    "# read from table and point the cursor into the variable cur_table\n",
    "cur_table = connection.execute(sqlStr)\n",
    "# print (list(cur_table))\n",
    "# print (list(cur_table))\n",
    "for row in cur_table:\n",
    "    print (f\"Emp-Name: {row[0]} and Emp-Salary: {row[1]}...\")"
   ]
  },
  {
   "cell_type": "code",
   "execution_count": 24,
   "id": "08b451ae-7d9f-42a4-8eee-f600b21822c8",
   "metadata": {},
   "outputs": [
    {
     "name": "stdout",
     "output_type": "stream",
     "text": [
      "So total number of records updated is 2\n",
      "Emp-ID: 1001, Emp-Name: Dhiman, Emp-City: Kolkata, Emp-Salary: 39000.0...\n",
      "Emp-ID: 1002, Emp-Name: Anupam, Emp-City: Kolkata, Emp-Salary: 25000.0...\n",
      "Emp-ID: 1003, Emp-Name: Subham, Emp-City: Mumbai, Emp-Salary: 36000.0...\n",
      "Emp-ID: 1004, Emp-Name: Dinesh, Emp-City: Chennai, Emp-Salary: 30000.0...\n",
      "Emp-ID: 1005, Emp-Name: Kakali, Emp-City: Mumbai, Emp-Salary: 25000.0...\n",
      "Emp-ID: 1006, Emp-Name: Bimal, Emp-City: Hyderabad, Emp-Salary: 30000.0...\n",
      "Emp-ID: 1007, Emp-Name: Tarun, Emp-City: Chennai, Emp-Salary: 30000.0...\n",
      "Emp-ID: 1008, Emp-Name: Rittik, Emp-City: Durgapur, Emp-Salary: 45000.0...\n",
      "Emp-ID: 1009, Emp-Name: Barun, Emp-City: Hyderabad, Emp-Salary: 39000.0...\n",
      "Emp-ID: 1010, Emp-Name: Utpal, Emp-City: Lucknow, Emp-Salary: 20000.0...\n"
     ]
    }
   ],
   "source": [
    "# update operation on the records of the table\n",
    "# update salary to 30000 where city is Chennai\n",
    "sqlStr = \"UPDATE employee SET emp_salary = 30000 WHERE emp_city = 'Chennai';\"\n",
    "table = connection.execute(sqlStr)\n",
    "connection.commit()   # to make the change permanent\n",
    "print (\"So total number of records updated is\", table.rowcount)\n",
    "\n",
    "# retrieving records from the database table\n",
    "# SQL for fetching all attributes and all records from the database table\n",
    "sqlStr = \"SELECT * FROM employee;\"\n",
    "# read from table and point the cursor into the variable cur_table\n",
    "cur_table = connection.execute(sqlStr)\n",
    "# print (list(cur_table))\n",
    "# print (list(cur_table))\n",
    "for row in cur_table:\n",
    "    print (f\"Emp-ID: {row[0]}, Emp-Name: {row[1]}, Emp-City: {row[2]}, Emp-Salary: {row[3]}...\")"
   ]
  },
  {
   "cell_type": "code",
   "execution_count": 25,
   "id": "97bd9e9c-a8f1-4cf6-b170-92bbbefe7335",
   "metadata": {},
   "outputs": [
    {
     "name": "stdout",
     "output_type": "stream",
     "text": [
      "So the total number of records got deleted is 2\n",
      "Emp-ID: 1003, Emp-Name: Subham, Emp-City: Mumbai, Emp-Salary: 36000.0...\n",
      "Emp-ID: 1004, Emp-Name: Dinesh, Emp-City: Chennai, Emp-Salary: 30000.0...\n",
      "Emp-ID: 1005, Emp-Name: Kakali, Emp-City: Mumbai, Emp-Salary: 25000.0...\n",
      "Emp-ID: 1006, Emp-Name: Bimal, Emp-City: Hyderabad, Emp-Salary: 30000.0...\n",
      "Emp-ID: 1007, Emp-Name: Tarun, Emp-City: Chennai, Emp-Salary: 30000.0...\n",
      "Emp-ID: 1008, Emp-Name: Rittik, Emp-City: Durgapur, Emp-Salary: 45000.0...\n",
      "Emp-ID: 1009, Emp-Name: Barun, Emp-City: Hyderabad, Emp-Salary: 39000.0...\n",
      "Emp-ID: 1010, Emp-Name: Utpal, Emp-City: Lucknow, Emp-Salary: 20000.0...\n"
     ]
    }
   ],
   "source": [
    "# deleting records from the database table\n",
    "# delete those records from the database table where city = 'Kolkata'\n",
    "sqlStr = \"DELETE FROM employee WHERE emp_city = 'Kolkata';\"\n",
    "table = connection.execute(sqlStr)\n",
    "connection.commit()   # to make the change permanent\n",
    "print (\"So the total number of records got deleted is\", table.rowcount)\n",
    "\n",
    "# retrieving records from the database table\n",
    "# SQL for fetching all attributes and all records from the database table\n",
    "sqlStr = \"SELECT * FROM employee;\"\n",
    "# read from table and point the cursor into the variable cur_table\n",
    "cur_table = connection.execute(sqlStr)\n",
    "# print (list(cur_table))\n",
    "# print (list(cur_table))\n",
    "for row in cur_table:\n",
    "    print (f\"Emp-ID: {row[0]}, Emp-Name: {row[1]}, Emp-City: {row[2]}, Emp-Salary: {row[3]}...\")"
   ]
  },
  {
   "cell_type": "raw",
   "id": "ce221f11-35ff-4a72-9898-78586f4dae70",
   "metadata": {},
   "source": [
    "Class Assignments:\n",
    "1. Take an integer n from the user. And insert n number of records into the database table with user input data\n",
    "\n",
    "2. Fetch employee name, salary and 7.5% TDS against salaries of all employees\n",
    "\n",
    "3. Display city wise average salaries from the database table."
   ]
  },
  {
   "cell_type": "code",
   "execution_count": 29,
   "id": "4832544b-16c4-4ba2-a580-3b472c0a6ace",
   "metadata": {},
   "outputs": [
    {
     "name": "stdin",
     "output_type": "stream",
     "text": [
      "Please enter the number of records:  3\n",
      "Please enter the EMP-ID (INT):  1011\n",
      "Please enter the EMP-Name (TEXT):  Anupama\n",
      "Please enter the EMP-City (TEXT):  Kolkata\n",
      "Please enter the EMP-Salary (INT):  45000\n",
      "Please enter the EMP-ID (INT):  1012\n",
      "Please enter the EMP-Name (TEXT):  Bidhun\n",
      "Please enter the EMP-City (TEXT):  Hyderabad\n",
      "Please enter the EMP-Salary (INT):  50000\n",
      "Please enter the EMP-ID (INT):  1013\n",
      "Please enter the EMP-Name (TEXT):  Sharmistha\n",
      "Please enter the EMP-City (TEXT):  Noida\n",
      "Please enter the EMP-Salary (INT):  65000\n"
     ]
    },
    {
     "name": "stdout",
     "output_type": "stream",
     "text": [
      "Records got inserted successfully...\n",
      "Emp-ID: 1003, Emp-Name: Subham, Emp-City: Mumbai, Emp-Salary: 36000.0...\n",
      "Emp-ID: 1004, Emp-Name: Dinesh, Emp-City: Chennai, Emp-Salary: 30000.0...\n",
      "Emp-ID: 1005, Emp-Name: Kakali, Emp-City: Mumbai, Emp-Salary: 25000.0...\n",
      "Emp-ID: 1006, Emp-Name: Bimal, Emp-City: Hyderabad, Emp-Salary: 30000.0...\n",
      "Emp-ID: 1007, Emp-Name: Tarun, Emp-City: Chennai, Emp-Salary: 30000.0...\n",
      "Emp-ID: 1008, Emp-Name: Rittik, Emp-City: Durgapur, Emp-Salary: 45000.0...\n",
      "Emp-ID: 1009, Emp-Name: Barun, Emp-City: Hyderabad, Emp-Salary: 39000.0...\n",
      "Emp-ID: 1010, Emp-Name: Utpal, Emp-City: Lucknow, Emp-Salary: 20000.0...\n",
      "Emp-ID: 1011, Emp-Name: Anupama, Emp-City: Kolkata, Emp-Salary: 45000.0...\n",
      "Emp-ID: 1012, Emp-Name: Bidhun, Emp-City: Hyderabad, Emp-Salary: 50000.0...\n",
      "Emp-ID: 1013, Emp-Name: Sharmistha, Emp-City: Noida, Emp-Salary: 65000.0...\n"
     ]
    }
   ],
   "source": [
    "# 1. Take an integer n from the user. And insert n number of records into the database table with user input data\n",
    "n = int(input(\"Please enter the number of records: \"))\n",
    "cursor = connection.cursor()\n",
    "sqlStr = \"INSERT INTO employee VALUES(?, ?, ?, ?)\"\n",
    "for i in range(n):\n",
    "    emp_id = int(input(\"Please enter the EMP-ID (INT): \"))\n",
    "    emp_name = input(\"Please enter the EMP-Name (TEXT): \")\n",
    "    emp_city = input(\"Please enter the EMP-City (TEXT): \")\n",
    "    emp_salary = int(input(\"Please enter the EMP-Salary (INT): \"))\n",
    "    cursor.execute(sqlStr, (emp_id, emp_name, emp_city, emp_salary))\n",
    "connection.commit()\n",
    "print (\"Records got inserted successfully...\")\n",
    "\n",
    "# retrieving records from the database table\n",
    "# SQL for fetching all attributes and all records from the database table\n",
    "sqlStr = \"SELECT * FROM employee;\"\n",
    "# read from table and point the cursor into the variable cur_table\n",
    "cur_table = connection.execute(sqlStr)\n",
    "# print (list(cur_table))\n",
    "# print (list(cur_table))\n",
    "for row in cur_table:\n",
    "    print (f\"Emp-ID: {row[0]}, Emp-Name: {row[1]}, Emp-City: {row[2]}, Emp-Salary: {row[3]}...\")"
   ]
  },
  {
   "cell_type": "code",
   "execution_count": 27,
   "id": "44e095db-f7c4-4560-b618-66455d727fd4",
   "metadata": {},
   "outputs": [
    {
     "name": "stdout",
     "output_type": "stream",
     "text": [
      "name: Subham, salary: 36000.0, TDS: 2700.0...\n",
      "name: Dinesh, salary: 30000.0, TDS: 2250.0...\n",
      "name: Kakali, salary: 25000.0, TDS: 1875.0...\n",
      "name: Bimal, salary: 30000.0, TDS: 2250.0...\n",
      "name: Tarun, salary: 30000.0, TDS: 2250.0...\n",
      "name: Rittik, salary: 45000.0, TDS: 3375.0...\n",
      "name: Barun, salary: 39000.0, TDS: 2925.0...\n",
      "name: Utpal, salary: 20000.0, TDS: 1500.0...\n"
     ]
    }
   ],
   "source": [
    "# 2. Fetch employee name, salary and 7.5% TDS against salaries of all employees\n",
    "sqlStr = \"SELECT emp_name, emp_salary, (emp_salary * 7.5)/100 as TDS FROM employee;\"\n",
    "\n",
    "cur_table = connection.execute(sqlStr)\n",
    "for row in cur_table:\n",
    "    print (f\"name: {row[0]}, salary: {row[1]}, TDS: {row[2]}...\")"
   ]
  },
  {
   "cell_type": "code",
   "execution_count": 28,
   "id": "de97b2a2-050b-4a9e-844c-0084ee34c1b0",
   "metadata": {},
   "outputs": [
    {
     "name": "stdout",
     "output_type": "stream",
     "text": [
      "City-name: Chennai and Avg-salary: 30000.0...\n",
      "City-name: Durgapur and Avg-salary: 45000.0...\n",
      "City-name: Hyderabad and Avg-salary: 34500.0...\n",
      "City-name: Lucknow and Avg-salary: 20000.0...\n",
      "City-name: Mumbai and Avg-salary: 30500.0...\n"
     ]
    }
   ],
   "source": [
    "# 3. Display city wise average salaries from the database table.\n",
    "sqlStr = \"SELECT Avg(emp_salary) as averagesalary, emp_city FROM employee group by emp_city;\"\n",
    "cur_table = connection.execute(sqlStr)\n",
    "for row in cur_table:\n",
    "    print (f\"City-name: {row[1]} and Avg-salary: {row[0]}...\")"
   ]
  },
  {
   "cell_type": "code",
   "execution_count": 30,
   "id": "8630fe9c-dc7c-4ba5-b095-06f682b24ce8",
   "metadata": {},
   "outputs": [],
   "source": [
    "# fetching records from database table and putting it on to the Pandas DataFrame\n",
    "# importing required modules\n",
    "import pandas as pd"
   ]
  },
  {
   "cell_type": "code",
   "execution_count": 34,
   "id": "ee7c942c-62f0-4fe4-adb4-d49b98d6a0ac",
   "metadata": {},
   "outputs": [
    {
     "name": "stdout",
     "output_type": "stream",
     "text": [
      "<class 'pandas.core.frame.DataFrame'>\n"
     ]
    },
    {
     "data": {
      "text/html": [
       "<div>\n",
       "<style scoped>\n",
       "    .dataframe tbody tr th:only-of-type {\n",
       "        vertical-align: middle;\n",
       "    }\n",
       "\n",
       "    .dataframe tbody tr th {\n",
       "        vertical-align: top;\n",
       "    }\n",
       "\n",
       "    .dataframe thead th {\n",
       "        text-align: right;\n",
       "    }\n",
       "</style>\n",
       "<table border=\"1\" class=\"dataframe\">\n",
       "  <thead>\n",
       "    <tr style=\"text-align: right;\">\n",
       "      <th></th>\n",
       "      <th>EMP-ID</th>\n",
       "      <th>EMP-Name</th>\n",
       "      <th>EMP-City</th>\n",
       "      <th>EMP-Salary</th>\n",
       "    </tr>\n",
       "  </thead>\n",
       "  <tbody>\n",
       "    <tr>\n",
       "      <th>0</th>\n",
       "      <td>1003</td>\n",
       "      <td>Subham</td>\n",
       "      <td>Mumbai</td>\n",
       "      <td>36000.0</td>\n",
       "    </tr>\n",
       "    <tr>\n",
       "      <th>1</th>\n",
       "      <td>1004</td>\n",
       "      <td>Dinesh</td>\n",
       "      <td>Chennai</td>\n",
       "      <td>30000.0</td>\n",
       "    </tr>\n",
       "    <tr>\n",
       "      <th>2</th>\n",
       "      <td>1005</td>\n",
       "      <td>Kakali</td>\n",
       "      <td>Mumbai</td>\n",
       "      <td>25000.0</td>\n",
       "    </tr>\n",
       "    <tr>\n",
       "      <th>3</th>\n",
       "      <td>1006</td>\n",
       "      <td>Bimal</td>\n",
       "      <td>Hyderabad</td>\n",
       "      <td>30000.0</td>\n",
       "    </tr>\n",
       "    <tr>\n",
       "      <th>4</th>\n",
       "      <td>1007</td>\n",
       "      <td>Tarun</td>\n",
       "      <td>Chennai</td>\n",
       "      <td>30000.0</td>\n",
       "    </tr>\n",
       "    <tr>\n",
       "      <th>5</th>\n",
       "      <td>1008</td>\n",
       "      <td>Rittik</td>\n",
       "      <td>Durgapur</td>\n",
       "      <td>45000.0</td>\n",
       "    </tr>\n",
       "    <tr>\n",
       "      <th>6</th>\n",
       "      <td>1009</td>\n",
       "      <td>Barun</td>\n",
       "      <td>Hyderabad</td>\n",
       "      <td>39000.0</td>\n",
       "    </tr>\n",
       "    <tr>\n",
       "      <th>7</th>\n",
       "      <td>1010</td>\n",
       "      <td>Utpal</td>\n",
       "      <td>Lucknow</td>\n",
       "      <td>20000.0</td>\n",
       "    </tr>\n",
       "    <tr>\n",
       "      <th>8</th>\n",
       "      <td>1011</td>\n",
       "      <td>Anupama</td>\n",
       "      <td>Kolkata</td>\n",
       "      <td>45000.0</td>\n",
       "    </tr>\n",
       "    <tr>\n",
       "      <th>9</th>\n",
       "      <td>1012</td>\n",
       "      <td>Bidhun</td>\n",
       "      <td>Hyderabad</td>\n",
       "      <td>50000.0</td>\n",
       "    </tr>\n",
       "    <tr>\n",
       "      <th>10</th>\n",
       "      <td>1013</td>\n",
       "      <td>Sharmistha</td>\n",
       "      <td>Noida</td>\n",
       "      <td>65000.0</td>\n",
       "    </tr>\n",
       "  </tbody>\n",
       "</table>\n",
       "</div>"
      ],
      "text/plain": [
       "    EMP-ID    EMP-Name   EMP-City  EMP-Salary\n",
       "0     1003      Subham     Mumbai     36000.0\n",
       "1     1004      Dinesh    Chennai     30000.0\n",
       "2     1005      Kakali     Mumbai     25000.0\n",
       "3     1006       Bimal  Hyderabad     30000.0\n",
       "4     1007       Tarun    Chennai     30000.0\n",
       "5     1008      Rittik   Durgapur     45000.0\n",
       "6     1009       Barun  Hyderabad     39000.0\n",
       "7     1010       Utpal    Lucknow     20000.0\n",
       "8     1011     Anupama    Kolkata     45000.0\n",
       "9     1012      Bidhun  Hyderabad     50000.0\n",
       "10    1013  Sharmistha      Noida     65000.0"
      ]
     },
     "execution_count": 34,
     "metadata": {},
     "output_type": "execute_result"
    }
   ],
   "source": [
    "sqlStr = \"SELECT * FROM employee;\"\n",
    "table = connection.execute(sqlStr)\n",
    "column_names = ['EMP-ID', 'EMP-Name', 'EMP-City', 'EMP-Salary']\n",
    "# print (list(table))\n",
    "records_df = pd.DataFrame(data = list(table), columns = column_names)\n",
    "print (type(records_df))\n",
    "records_df"
   ]
  },
  {
   "cell_type": "code",
   "execution_count": 40,
   "id": "25ed23e7-b96f-4a81-9222-8a1793cd8cdb",
   "metadata": {},
   "outputs": [
    {
     "data": {
      "image/png": "[encoded data removed]",
      "text/plain": [
       "<Figure size 432x288 with 1 Axes>"
      ]
     },
     "metadata": {
      "needs_background": "light"
     },
     "output_type": "display_data"
    }
   ],
   "source": [
    "# basic plots\n",
    "import matplotlib.pyplot as plt\n",
    "plt.scatter(records_df['EMP-ID'], records_df['EMP-Salary'], s = 100)\n",
    "plt.xlabel(\"Employee ID --->\")\n",
    "plt.ylabel(\"Employee Salary --->\")\n",
    "plt.title(\"Employee ID Vs. Employee Salary...\")\n",
    "plt.show()"
   ]
  },
  {
   "cell_type": "code",
   "execution_count": 42,
   "id": "1e8207f8-64b6-4393-a2cb-71bf4881b2fe",
   "metadata": {},
   "outputs": [
    {
     "data": {
      "image/png": "[encoded data removed]",
      "text/plain": [
       "<Figure size 432x288 with 1 Axes>"
      ]
     },
     "metadata": {
      "needs_background": "light"
     },
     "output_type": "display_data"
    }
   ],
   "source": [
    "plt.scatter(records_df['EMP-City'], records_df['EMP-Salary'], s = 100)\n",
    "plt.xlabel(\"Employee City --->\")\n",
    "plt.ylabel(\"Employee Salary --->\")\n",
    "plt.title(\"Employee City Vs. Employee Salary...\")\n",
    "plt.show()"
   ]
  },
  {
   "cell_type": "code",
   "execution_count": 43,
   "id": "36e132e7-c1dd-4434-bf5d-38de21d57371",
   "metadata": {},
   "outputs": [
    {
     "data": {
      "image/png": "[encoded data removed]",
      "text/plain": [
       "<Figure size 432x288 with 1 Axes>"
      ]
     },
     "metadata": {
      "needs_background": "light"
     },
     "output_type": "display_data"
    }
   ],
   "source": [
    "plt.scatter(records_df['EMP-Salary'], records_df['EMP-City'], s = 100)\n",
    "plt.ylabel(\"Employee City --->\")\n",
    "plt.xlabel(\"Employee Salary --->\")\n",
    "plt.title(\"Employee Salary Vs. Employee City...\")\n",
    "plt.show()"
   ]
  },
  {
   "cell_type": "code",
   "execution_count": null,
   "id": "f3377afe-17be-463e-a103-5bab7615d111",
   "metadata": {},
   "outputs": [],
   "source": []
  }
 ],
 "metadata": {
  "kernelspec": {
   "display_name": "Python 3",
   "language": "python",
   "name": "python3"
  },
  "language_info": {
   "codemirror_mode": {
    "name": "ipython",
    "version": 3
   },
   "file_extension": ".py",
   "mimetype": "text/x-python",
   "name": "python",
   "nbconvert_exporter": "python",
   "pygments_lexer": "ipython3",
   "version": "3.8.8"
  }
 },
 "nbformat": 4,
 "nbformat_minor": 5
}
