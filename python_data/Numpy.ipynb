{
 "cells": [
  {
   "cell_type": "markdown",
   "id": "7da5f3ea-ba3c-4a20-8bdd-b9515492d3ea",
   "metadata": {},
   "source": [
    "## NUMPY: ARRAYS AND MATRICES"
   ]
  },
  {
   "cell_type": "raw",
   "id": "950d4ffe-0c62-4317-ba32-6132db3fc26d",
   "metadata": {},
   "source": [
    "NumPy (also known as Numeric Python) is an extension to the Python Programming language, adding support for large, multi-dimensional (numerical) arrays and matrices, along with a large library of high-level mathematical functions to operate on these arrays."
   ]
  },
  {
   "cell_type": "code",
   "execution_count": 2,
   "id": "237ac863-bf52-4ab4-b42e-e8fcfa8fad29",
   "metadata": {},
   "outputs": [],
   "source": [
    "# importing required modules\n",
    "import numpy as np"
   ]
  },
  {
   "cell_type": "markdown",
   "id": "37c2ace0-376d-4f90-a69c-93d67c193879",
   "metadata": {},
   "source": [
    "### Create Arrays"
   ]
  },
  {
   "cell_type": "code",
   "execution_count": 14,
   "id": "6d4e8513-4f30-4ca2-be80-7cefdaef80c6",
   "metadata": {},
   "outputs": [
    {
     "name": "stdout",
     "output_type": "stream",
     "text": [
      "(1, 2, 3, 4, 5, 6, 7, 8) 8 <class 'tuple'> 2401509330048\n",
      "[1 2 3 4 5 6 7 8] 8 (8,) <class 'numpy.ndarray'> 2401508721264\n"
     ]
    }
   ],
   "source": [
    "# create ndarray from a tuple\n",
    "data1 = (1, 2, 3, 4, 5, 6, 7, 8)\n",
    "print (data1, len(data1), type(data1), id(data1))\n",
    "arr1 = np.array(data1)\n",
    "print (arr1, len(arr1), arr1.shape, type(arr1), id(arr1))   # (8,) denotes singleton notation, means tuple with single data item"
   ]
  },
  {
   "cell_type": "code",
   "execution_count": 17,
   "id": "594c1446-060b-45f2-b3ce-1d0419ad3a28",
   "metadata": {},
   "outputs": [
    {
     "name": "stdout",
     "output_type": "stream",
     "text": [
      "[1, 2, 3, 4, 5, 6, 7, 8] 8 <class 'list'> 2401518461888\n",
      "[1 2 3 4 5 6 7 8] 8 (8,) <class 'numpy.ndarray'> 2401508724528\n",
      "[1, 2, 3, 4, 5, 6, 7, 8]\n"
     ]
    }
   ],
   "source": [
    "# create ndarray from a list\n",
    "data1 = [1, 2, 3, 4, 5, 6, 7, 8]\n",
    "print (data1, len(data1), type(data1), id(data1))\n",
    "arr1 = np.array(data1)\n",
    "print (arr1, len(arr1), arr1.shape, type(arr1), id(arr1))\n",
    "print (arr1.tolist())"
   ]
  },
  {
   "cell_type": "code",
   "execution_count": 117,
   "id": "3166959c-3079-40d8-9b0f-2bf735f511f5",
   "metadata": {},
   "outputs": [
    {
     "name": "stdout",
     "output_type": "stream",
     "text": [
      "[1, 2.0, 3, 4, 5, 6, 7, 8] 8 <class 'list'> 2401524781696\n",
      "[1. 2. 3. 4. 5. 6. 7. 8.] 8 (8,) <class 'numpy.ndarray'> 2401529838832\n",
      "[1.0, 2.0, 3.0, 4.0, 5.0, 6.0, 7.0, 8.0]\n"
     ]
    }
   ],
   "source": [
    "# create ndarray from a list\n",
    "data1 = [1, 2.0, 3, 4, 5, 6, 7, 8]\n",
    "print (data1, len(data1), type(data1), id(data1))\n",
    "arr1 = np.array(data1)\n",
    "print (arr1, len(arr1), arr1.shape, type(arr1), id(arr1))\n",
    "print (arr1.tolist())"
   ]
  },
  {
   "cell_type": "code",
   "execution_count": 118,
   "id": "88e4ae7b-8405-447e-b4b8-e4224b8425a9",
   "metadata": {},
   "outputs": [
    {
     "name": "stdout",
     "output_type": "stream",
     "text": [
      "[1, 2, '3.0', 4, 5, 6, 7, 8] 8 <class 'list'> 2401524745344\n",
      "['1' '2' '3.0' '4' '5' '6' '7' '8'] 8 (8,) <class 'numpy.ndarray'> 2401515105616\n",
      "['1', '2', '3.0', '4', '5', '6', '7', '8']\n"
     ]
    }
   ],
   "source": [
    "# create ndarray from a list\n",
    "data1 = [1, 2, '3.0', 4, 5, 6, 7, 8]\n",
    "print (data1, len(data1), type(data1), id(data1))\n",
    "arr1 = np.array(data1)\n",
    "print (arr1, len(arr1), arr1.shape, type(arr1), id(arr1))\n",
    "print (arr1.tolist())"
   ]
  },
  {
   "cell_type": "code",
   "execution_count": 120,
   "id": "c8723fa7-ff42-402c-880c-52b65121e00a",
   "metadata": {},
   "outputs": [
    {
     "name": "stdout",
     "output_type": "stream",
     "text": [
      "[1, 2, 3, True, 5, 6, False, 8] 8 <class 'list'> 2401524284224\n",
      "[1 2 3 1 5 6 0 8] 8 (8,) <class 'numpy.ndarray'> 2401525105456\n",
      "[1, 2, 3, 1, 5, 6, 0, 8]\n"
     ]
    }
   ],
   "source": [
    "# create ndarray from a list\n",
    "data1 = [1, 2, 3, True, 5, 6, False, 8]\n",
    "print (data1, len(data1), type(data1), id(data1))\n",
    "arr1 = np.array(data1)\n",
    "print (arr1, len(arr1), arr1.shape, type(arr1), id(arr1))\n",
    "print (arr1.tolist())"
   ]
  },
  {
   "cell_type": "code",
   "execution_count": 121,
   "id": "335c9fc2-c56f-4cae-8685-bedeb792430c",
   "metadata": {},
   "outputs": [
    {
     "name": "stdout",
     "output_type": "stream",
     "text": [
      "[1, 2, 3, True, 5.5, '6', 7, 8] 8 <class 'list'> 2401518104384\n",
      "['1' '2' '3' 'True' '5.5' '6' '7' '8'] 8 (8,) <class 'numpy.ndarray'> 2401525105936\n",
      "['1', '2', '3', 'True', '5.5', '6', '7', '8']\n"
     ]
    }
   ],
   "source": [
    "# create ndarray from a list\n",
    "data1 = [1, 2, 3, True, 5.5, '6', 7, 8]\n",
    "print (data1, len(data1), type(data1), id(data1))\n",
    "arr1 = np.array(data1)\n",
    "print (arr1, len(arr1), arr1.shape, type(arr1), id(arr1))\n",
    "print (arr1.tolist())"
   ]
  },
  {
   "cell_type": "code",
   "execution_count": 12,
   "id": "0fb1d157-b08c-459a-9176-01dbdf8c8bcf",
   "metadata": {},
   "outputs": [
    {
     "name": "stdout",
     "output_type": "stream",
     "text": [
      "range(1, 5) [1, 2, 3, 4] 4 <class 'range'> 2401508636784\n",
      "[1 2 3 4] 4 (4,) <class 'numpy.ndarray'> 2401508724528\n"
     ]
    }
   ],
   "source": [
    "data2 = range(1,5)\n",
    "print (data2, list(data2), len(data2), type(data2), id(data2))\n",
    "arr2 = np.array(data2)\n",
    "print (arr2, len(arr2), arr2.shape, type(arr2), id(arr2))"
   ]
  },
  {
   "cell_type": "code",
   "execution_count": 11,
   "id": "a21fac24-df0e-4bd3-b955-6c2030365c3d",
   "metadata": {},
   "outputs": [
    {
     "name": "stdout",
     "output_type": "stream",
     "text": [
      "[range(1, 5), range(5, 9)] [range(1, 5), range(5, 9)] 2 <class 'list'> 2401508453376\n",
      "[[1 2 3 4]\n",
      " [5 6 7 8]] 2 (2, 4) <class 'numpy.ndarray'> 2401508724144\n"
     ]
    }
   ],
   "source": [
    "data2 = [range(1,5), range(5, 9)]\n",
    "print (data2, list(data2), len(data2), type(data2), id(data2))\n",
    "arr2 = np.array(data2)\n",
    "print (arr2, len(arr2), arr2.shape, type(arr2), id(arr2))"
   ]
  },
  {
   "cell_type": "code",
   "execution_count": 16,
   "id": "9c3b0523-0af2-4dda-ae63-038bfd86ad6b",
   "metadata": {},
   "outputs": [
    {
     "name": "stdout",
     "output_type": "stream",
     "text": [
      "[range(1, 5), range(5, 9), range(9, 13)] [range(1, 5), range(5, 9), range(9, 13)] 3 <class 'list'> 2401512168832\n",
      "[[ 1  2  3  4]\n",
      " [ 5  6  7  8]\n",
      " [ 9 10 11 12]] 3 (3, 4) <class 'numpy.ndarray'> 2401513473104\n",
      "[[1, 2, 3, 4], [5, 6, 7, 8], [9, 10, 11, 12]]\n"
     ]
    }
   ],
   "source": [
    "data2 = [range(1,5), range(5, 9), range(9, 13)]\n",
    "print (data2, list(data2), len(data2), type(data2), id(data2))\n",
    "arr2 = np.array(data2)\n",
    "print (arr2, len(arr2), arr2.shape, type(arr2), id(arr2))\n",
    "print (arr2.tolist())"
   ]
  },
  {
   "cell_type": "code",
   "execution_count": 23,
   "id": "ff6f597f-76b6-46be-87da-4f12d7656020",
   "metadata": {},
   "outputs": [
    {
     "name": "stdout",
     "output_type": "stream",
     "text": [
      "[1, 2, 3, 4, 5, 6, 7, 8] 8 <class 'list'> 2401515526976\n",
      "[1 2 3 4 5 6 7 8] 8 (8,) <class 'numpy.ndarray'> 2401519190544\n",
      "int32 1 (8,) 8 8\n"
     ]
    }
   ],
   "source": [
    "# examining arrays\n",
    "data1 = [1, 2, 3, 4, 5, 6, 7, 8]\n",
    "print (data1, len(data1), type(data1), id(data1))\n",
    "arr1 = np.array(data1)\n",
    "print (arr1, len(arr1), arr1.shape, type(arr1), id(arr1))\n",
    "print (arr1.dtype, arr1.ndim, arr1.shape, arr1.size, len(arr1))"
   ]
  },
  {
   "cell_type": "code",
   "execution_count": 24,
   "id": "587320c3-c3a0-4bb3-9bfb-e04626490eca",
   "metadata": {},
   "outputs": [
    {
     "name": "stdout",
     "output_type": "stream",
     "text": [
      "[range(1, 5), range(5, 9), range(9, 13)] [range(1, 5), range(5, 9), range(9, 13)] 3 <class 'list'> 2401515416000\n",
      "[[ 1  2  3  4]\n",
      " [ 5  6  7  8]\n",
      " [ 9 10 11 12]] 3 (3, 4) <class 'numpy.ndarray'> 2401519194000\n",
      "int32 2 (3, 4) 12 3\n"
     ]
    }
   ],
   "source": [
    "data2 = [range(1,5), range(5, 9), range(9, 13)]\n",
    "print (data2, list(data2), len(data2), type(data2), id(data2))\n",
    "arr2 = np.array(data2)\n",
    "print (arr2, len(arr2), arr2.shape, type(arr2), id(arr2))\n",
    "print (arr2.dtype, arr2.ndim, arr2.shape, arr2.size, len(arr2))"
   ]
  },
  {
   "cell_type": "code",
   "execution_count": 36,
   "id": "7568d376-bbaf-4875-9e14-03dc3041a663",
   "metadata": {},
   "outputs": [
    {
     "name": "stdout",
     "output_type": "stream",
     "text": [
      "[0. 0. 0. 0. 0. 0. 0. 0. 0. 0. 0. 0.]\n",
      "[0 0 0 0 0 0 0 0 0 0 0 0]\n",
      "['0.0' '0.0' '0.0' '0.0' '0.0' '0.0' '0.0' '0.0' '0.0' '0.0' '0.0' '0.0']\n",
      "[[0 0 0 0]\n",
      " [0 0 0 0]\n",
      " [0 0 0 0]]\n",
      "[[0. 0. 0. 0.]\n",
      " [0. 0. 0. 0.]\n",
      " [0. 0. 0. 0.]]\n",
      "[[0 0 0 0]\n",
      " [0 0 0 0]\n",
      " [0 0 0 0]]\n",
      "[[[0. 0. 0. 0.]\n",
      "  [0. 0. 0. 0.]\n",
      "  [0. 0. 0. 0.]]\n",
      "\n",
      " [[0. 0. 0. 0.]\n",
      "  [0. 0. 0. 0.]\n",
      "  [0. 0. 0. 0.]]]\n"
     ]
    }
   ],
   "source": [
    "# create special arrays\n",
    "print (np.zeros(12))\n",
    "print (np.zeros(12).astype(int))\n",
    "print (np.zeros(12).astype(str))\n",
    "print (np.zeros(12).astype(int).reshape(3, 4))\n",
    "print (np.zeros(12).reshape(3, 4))\n",
    "print (np.zeros(12).reshape(3, 4).astype(int))\n",
    "print (np.zeros(24).reshape(2, 3, 4))"
   ]
  },
  {
   "cell_type": "code",
   "execution_count": 37,
   "id": "2b768105-029d-4362-8f8f-a60be0e132cb",
   "metadata": {},
   "outputs": [
    {
     "name": "stdout",
     "output_type": "stream",
     "text": [
      "[1. 1. 1. 1. 1. 1. 1. 1. 1. 1. 1. 1.]\n",
      "[1 1 1 1 1 1 1 1 1 1 1 1]\n",
      "['1.0' '1.0' '1.0' '1.0' '1.0' '1.0' '1.0' '1.0' '1.0' '1.0' '1.0' '1.0']\n",
      "[[1 1 1 1]\n",
      " [1 1 1 1]\n",
      " [1 1 1 1]]\n",
      "[[1. 1. 1. 1.]\n",
      " [1. 1. 1. 1.]\n",
      " [1. 1. 1. 1.]]\n",
      "[[1 1 1 1]\n",
      " [1 1 1 1]\n",
      " [1 1 1 1]]\n",
      "[[[1. 1. 1. 1.]\n",
      "  [1. 1. 1. 1.]\n",
      "  [1. 1. 1. 1.]]\n",
      "\n",
      " [[1. 1. 1. 1.]\n",
      "  [1. 1. 1. 1.]\n",
      "  [1. 1. 1. 1.]]]\n"
     ]
    }
   ],
   "source": [
    "print (np.ones(12))\n",
    "print (np.ones(12).astype(int))\n",
    "print (np.ones(12).astype(str))\n",
    "print (np.ones(12).astype(int).reshape(3, 4))\n",
    "print (np.ones(12).reshape(3, 4))\n",
    "print (np.ones(12).reshape(3, 4).astype(int))\n",
    "print (np.ones(24).reshape(2, 3, 4))"
   ]
  },
  {
   "cell_type": "code",
   "execution_count": 42,
   "id": "8b2380c6-9d19-4faf-b355-1d929b9345d8",
   "metadata": {},
   "outputs": [
    {
     "name": "stdout",
     "output_type": "stream",
     "text": [
      "[0. 0. 0. 0. 0. 0. 0. 0. 0. 0. 0. 0. 0. 0. 0. 0. 0. 0. 0. 0.]\n",
      "[[0. 0. 0. 0.]\n",
      " [0. 0. 0. 0.]\n",
      " [0. 0. 0. 0.]\n",
      " [0. 0. 0. 0.]\n",
      " [0. 0. 0. 0.]]\n",
      "[[0 0 0 0]\n",
      " [0 0 0 0]\n",
      " [0 0 0 0]\n",
      " [0 0 0 0]\n",
      " [0 0 0 0]]\n",
      "[[0, 0, 0, 0], [0, 0, 0, 0], [0, 0, 0, 0], [0, 0, 0, 0], [0, 0, 0, 0]]\n"
     ]
    }
   ],
   "source": [
    "list1 = np.zeros(20)\n",
    "print (list1)\n",
    "list1 = np.zeros(20).reshape(5, 4)\n",
    "print (list1)\n",
    "list1 = np.zeros(20).reshape(5, 4).astype(int)\n",
    "print (list1)\n",
    "list1 = np.zeros(20).reshape(5, 4).astype(int).tolist()\n",
    "print (list1)"
   ]
  },
  {
   "cell_type": "code",
   "execution_count": 45,
   "id": "150e5ddf-f3a5-47d0-8587-c3a457958feb",
   "metadata": {},
   "outputs": [
    {
     "name": "stdout",
     "output_type": "stream",
     "text": [
      "[0.   0.25 0.5  0.75 1.  ]\n",
      "[ 0.  1.  2.  3.  4.  5.  6.  7.  8.  9. 10.]\n",
      "[ 0.   0.5  1.   1.5  2.   2.5  3.   3.5  4.   4.5  5.   5.5  6.   6.5\n",
      "  7.   7.5  8.   8.5  9.   9.5 10. ]\n"
     ]
    }
   ],
   "source": [
    "print (np.linspace(0, 1, 5))\n",
    "print (np.linspace(0, 10, 11))\n",
    "print (np.linspace(0, 10, 21))"
   ]
  },
  {
   "cell_type": "code",
   "execution_count": 48,
   "id": "2ccf0281-0cd0-4e6b-bee1-68aab61c9384",
   "metadata": {},
   "outputs": [
    {
     "name": "stdout",
     "output_type": "stream",
     "text": [
      "[0. 1. 2. 3.]\n",
      "[   1.   10.  100. 1000.]\n",
      "[   1   10  100 1000]\n"
     ]
    }
   ],
   "source": [
    "print (np.linspace(0, 3, 4))\n",
    "print (np.logspace(0, 3, 4))\n",
    "print (np.logspace(0, 3, 4).astype(int))"
   ]
  },
  {
   "cell_type": "code",
   "execution_count": 59,
   "id": "43d40166-780a-4b57-9963-8ea410e594d8",
   "metadata": {},
   "outputs": [
    {
     "name": "stdout",
     "output_type": "stream",
     "text": [
      "[11, 22, 33, 44, 55, 66, 77, 88] 8 <class 'list'> 2401518246848\n",
      "[11 22 33 44 55 66 77 88] 8 (8,) <class 'numpy.ndarray'> 2401526754256\n",
      "55 55 77 77\n",
      "[33 44 55 66] [33 44 55 66] [33 44 55 66] [33 44 55 66]\n",
      "[66 55 44] [66 55 44] [66 55 44] [66 55 44]\n",
      "[11 33 55 77] [22 44 66 88]\n"
     ]
    }
   ],
   "source": [
    "# slicing and indexing\n",
    "data1 = [11, 22, 33, 44, 55, 66, 77, 88]\n",
    "print (data1, len(data1), type(data1), id(data1))\n",
    "arr1 = np.array(data1)\n",
    "print (arr1, len(arr1), arr1.shape, type(arr1), id(arr1))\n",
    "print (arr1[4], arr1[-4], arr1[6], arr1[-2])      # indexing\n",
    "print (arr1[2: 6], arr1[-6: -2], arr1[2: -2], arr1[-6: 6])\n",
    "print (arr1[5: 2: -1], arr1[-3: -6: -1], arr1[5: -6: -1], arr1[-3: 2: -1])\n",
    "print (arr1[::2], arr1[1::2])"
   ]
  },
  {
   "cell_type": "code",
   "execution_count": 74,
   "id": "4bf36e1e-3ec9-447c-b8cb-cc2554ad6a45",
   "metadata": {},
   "outputs": [
    {
     "name": "stdout",
     "output_type": "stream",
     "text": [
      "[11, 22, 33, 44, 55, 66, 77, 88, 99, 111, 222, 333] 12 <class 'list'> 2401524622208\n",
      "[[ 11  22  33  44]\n",
      " [ 55  66  77  88]\n",
      " [ 99 111 222 333]] 3 (3, 4) <class 'numpy.ndarray'> 2401525106224\n",
      "111 111 111 111\n",
      "[[ 22  33]\n",
      " [ 66  77]\n",
      " [111 222]]\n",
      "[[11 22 33 44]\n",
      " [55 66 77 88]]\n"
     ]
    }
   ],
   "source": [
    "data1 = [11, 22, 33, 44, 55, 66, 77, 88, 99, 111, 222, 333]\n",
    "print (data1, len(data1), type(data1), id(data1))\n",
    "arr1 = np.array(data1).reshape(3, 4)\n",
    "print (arr1, len(arr1), arr1.shape, type(arr1), id(arr1))\n",
    "print (arr1[2, 1], arr1[2][1], arr1[-1, -3], arr1[-1][-3])\n",
    "print (arr1[:, 1:3])\n",
    "print (arr1[0:2, :])"
   ]
  },
  {
   "cell_type": "raw",
   "id": "29ece305-d4dc-4727-b09d-81c55de24ab0",
   "metadata": {},
   "source": [
    "Class Assignment:\n",
    "Slice [[22  33]\n",
    "       [66  77]]"
   ]
  },
  {
   "cell_type": "code",
   "execution_count": 77,
   "id": "5016ec13-a434-44ea-a85b-22b3914756ce",
   "metadata": {},
   "outputs": [
    {
     "name": "stdout",
     "output_type": "stream",
     "text": [
      "[[22 33]\n",
      " [66 77]]\n",
      "[[22 33]\n",
      " [66 77]]\n",
      "[[22 33]\n",
      " [66 77]]\n"
     ]
    }
   ],
   "source": [
    "print (arr1[0:2,1:3])\n",
    "print (arr1[:2,1:3])\n",
    "print (arr1[:-1, -3: -1])"
   ]
  },
  {
   "cell_type": "code",
   "execution_count": 85,
   "id": "06814fc1-3377-49a5-83e0-273ca37039b4",
   "metadata": {},
   "outputs": [
    {
     "name": "stdout",
     "output_type": "stream",
     "text": [
      "[0 1 2 3 4 5 6 7 8 9]\n",
      "[5 6 7]\n",
      "[ 0  1  2  3  4 50 50 50  8  9]\n",
      "[50 50 50]\n",
      "[100 100 100]\n",
      "[  0   1   2   3   4 100 100 100   8   9]\n"
     ]
    }
   ],
   "source": [
    "# views and copies\n",
    "arr = np.arange(10)\n",
    "print (arr)\n",
    "print (arr[5:8])\n",
    "arr[5:8] = 50\n",
    "print (arr)\n",
    "arr_view = arr[5:8]        # referring same instance\n",
    "print (arr_view)\n",
    "arr_view[:] = 100\n",
    "print (arr_view)\n",
    "print (arr)"
   ]
  },
  {
   "cell_type": "code",
   "execution_count": 86,
   "id": "d294557b-2fca-4b34-ba53-93bd4e1c494d",
   "metadata": {},
   "outputs": [
    {
     "name": "stdout",
     "output_type": "stream",
     "text": [
      "[0 1 2 3 4 5 6 7 8 9]\n",
      "[5 6 7]\n",
      "[ 0  1  2  3  4 50 50 50  8  9]\n",
      "[50 50 50]\n",
      "[100 100 100]\n",
      "[ 0  1  2  3  4 50 50 50  8  9]\n"
     ]
    }
   ],
   "source": [
    "arr = np.arange(10)\n",
    "print (arr)\n",
    "print (arr[5:8])\n",
    "arr[5:8] = 50\n",
    "print (arr)\n",
    "arr_view = arr[5:8].copy()   # referring separate instance\n",
    "print (arr_view)\n",
    "arr_view[:] = 100\n",
    "print (arr_view)\n",
    "print (arr)"
   ]
  },
  {
   "cell_type": "code",
   "execution_count": 98,
   "id": "bde163ec-8eb8-4d1c-97a3-7b73c546cfdd",
   "metadata": {},
   "outputs": [
    {
     "name": "stdout",
     "output_type": "stream",
     "text": [
      "[0 1 2 3 4 5 6 7 8 9]\n",
      "[False False False False False False  True  True  True  True]\n",
      "[ True  True  True  True  True  True False False False False]\n",
      "[6 7 8 9]\n",
      "True False False True\n",
      "[0 1 2 3 4 5]\n",
      "[  0   1   2   3   4   5 100 100 100 100]\n"
     ]
    }
   ],
   "source": [
    "# using boolean arrays\n",
    "arr = np.arange(0, 10)\n",
    "print (arr)\n",
    "print (arr > 5)\n",
    "print (~(arr > 5))\n",
    "print (arr[arr > 5])\n",
    "print (True, not True, False, not False)\n",
    "print (arr[~(arr > 5)])\n",
    "arr[arr > 5] = 100\n",
    "print (arr)"
   ]
  },
  {
   "cell_type": "code",
   "execution_count": 106,
   "id": "364044e1-d3d9-4e54-9fad-b6c62849fb11",
   "metadata": {},
   "outputs": [
    {
     "name": "stdout",
     "output_type": "stream",
     "text": [
      "[0 1 2 3 4 5 6 7 8 9]\n",
      "[False False False False  True  True  True  True False False]\n",
      "[4 5 6 7]\n",
      "[ True  True  True False False False False False False  True]\n",
      "[0 1 2 9]\n"
     ]
    }
   ],
   "source": [
    "arr = np.arange(0, 10)\n",
    "print (arr)\n",
    "print ((arr > 3) & (arr < 8))\n",
    "print (arr[(arr > 3) & (arr < 8)])\n",
    "print ((arr < 3) | (arr > 8))\n",
    "print (arr[(arr < 3) | (arr > 8)])"
   ]
  },
  {
   "cell_type": "code",
   "execution_count": 111,
   "id": "6115907f-6ace-49ec-ba7e-c8b4ca5a7975",
   "metadata": {},
   "outputs": [
    {
     "name": "stdout",
     "output_type": "stream",
     "text": [
      "[0 1 2 3 4 5 6 7 8 9]\n",
      "[ True False  True False  True False  True False  True False]\n",
      "[0 2 4 6 8]\n",
      "[1 3 5 7 9]\n",
      "[1 3 5 7 9]\n"
     ]
    }
   ],
   "source": [
    "arr = np.arange(0, 10)\n",
    "print (arr)\n",
    "print (arr % 2 == 0)\n",
    "print (arr[arr % 2 == 0])\n",
    "print (arr[arr % 2 == 1])\n",
    "print (arr[arr % 2 != 0])"
   ]
  },
  {
   "cell_type": "code",
   "execution_count": 128,
   "id": "27a77d25-3fd7-4ddd-8bf1-f664f155891c",
   "metadata": {},
   "outputs": [
    {
     "name": "stdout",
     "output_type": "stream",
     "text": [
      "['Bob' 'Joe' 'Will' 'Bob'] <class 'numpy.ndarray'>\n",
      "[ True False False  True]\n",
      "[False False False False]\n",
      "[False  True  True False]\n",
      "['Joe' 'Will']\n",
      "[ True  True False  True]\n",
      "['Bob' 'Joe' 'Bob']\n",
      "['Tom' 'Joe' 'Will' 'Tom']\n"
     ]
    }
   ],
   "source": [
    "names = np.array(['Bob', 'Joe', 'Will', 'Bob'])\n",
    "print (names, type(names))\n",
    "print (names == 'Bob')\n",
    "print (names == 'bob')\n",
    "print (names != 'Bob')\n",
    "print (names[names != 'Bob'])\n",
    "print ((names == 'Bob') | (names == 'Joe'))\n",
    "print (names[(names == 'Bob') | (names == 'Joe')])\n",
    "names[names == 'Bob'] = 'Tom'\n",
    "print (names)"
   ]
  },
  {
   "cell_type": "code",
   "execution_count": 129,
   "id": "52ec6399-ee30-45cc-a640-8bf4871066cb",
   "metadata": {},
   "outputs": [
    {
     "name": "stdout",
     "output_type": "stream",
     "text": [
      "['Bob' 'Joe' 'Will' 'Will' 'Joe' 'Bob' 'Bob'] <class 'numpy.ndarray'>\n",
      "['Bob' 'Joe' 'Will']\n"
     ]
    }
   ],
   "source": [
    "names = np.array(['Bob', 'Joe', 'Will', 'Will', 'Joe', 'Bob', 'Bob'])\n",
    "print (names, type(names))\n",
    "print (np.unique(names))"
   ]
  },
  {
   "cell_type": "markdown",
   "id": "6b5915a5-4382-4279-a5a1-67f4f2428313",
   "metadata": {},
   "source": [
    "### Vectorized Operations"
   ]
  },
  {
   "cell_type": "code",
   "execution_count": 135,
   "id": "b5bbf502-8dac-4d6f-9e8e-74b09caaf1b2",
   "metadata": {},
   "outputs": [
    {
     "name": "stdout",
     "output_type": "stream",
     "text": [
      "[0 1 2 3 4 5 6 7 8 9] <class 'numpy.ndarray'>\n",
      "[0, 1, 2, 3, 4, 5, 6, 7, 8, 9] <class 'list'> [0, 1, 2, 3, 4, 5, 6, 7, 8, 9] <class 'list'>\n"
     ]
    }
   ],
   "source": [
    "nums = np.arange(10)\n",
    "print (nums, type(nums))\n",
    "print (list(nums), type(list(nums)), nums.tolist(), type(nums.tolist()))"
   ]
  },
  {
   "cell_type": "code",
   "execution_count": 148,
   "id": "a57b73b2-c530-403f-945e-528053799a5c",
   "metadata": {},
   "outputs": [
    {
     "name": "stdout",
     "output_type": "stream",
     "text": [
      "[0 1 2 3 4 5 6 7 8 9] <class 'numpy.ndarray'>\n",
      "[  0 100 200 300 400 500 600 700 800 900]\n",
      "[  0 100 200 300 400 500 600 700 800 900]\n",
      "[0.         1.         1.41421356 1.73205081 2.         2.23606798\n",
      " 2.44948974 2.64575131 2.82842712 3.        ] 10.0 10.0\n",
      "[0.         1.         1.41421356 1.73205081 2.         2.23606798\n",
      " 2.44948974 2.64575131 2.82842712 3.        ]\n",
      "[0. 1. 2. 2. 2. 3. 3. 3. 3. 3.]\n",
      "[0. 1. 1. 1. 2. 2. 2. 2. 2. 3.]\n"
     ]
    }
   ],
   "source": [
    "import math\n",
    "nums = np.arange(10)\n",
    "print (nums, type(nums))\n",
    "print (nums * 100)    # vector * scalar operation\n",
    "print (nums * np.array([100, 100, 100, 100, 100, 100, 100, 100, 100, 100]))    # vector * vector operation\n",
    "print (np.sqrt(nums), math.sqrt(100), np.sqrt(100))     # Error !!! for math.sqrt(nums))\n",
    "print (np.sqrt(nums))\n",
    "print (np.ceil(np.sqrt(nums)))\n",
    "print (np.floor(np.sqrt(nums)))"
   ]
  },
  {
   "cell_type": "code",
   "execution_count": null,
   "id": "3bf6fadf-e22d-4eea-a8b5-d7d32bcb9ac5",
   "metadata": {},
   "outputs": [],
   "source": []
  },
  {
   "cell_type": "code",
   "execution_count": null,
   "id": "bd0fbd51-3623-44cd-afee-d11a56b50e93",
   "metadata": {},
   "outputs": [],
   "source": []
  },
  {
   "cell_type": "code",
   "execution_count": null,
   "id": "26179cba-1274-407e-b3cd-8dff923c274e",
   "metadata": {},
   "outputs": [],
   "source": []
  },
  {
   "cell_type": "code",
   "execution_count": null,
   "id": "b947448c-5d86-4280-bcc5-f7cbda73e0ea",
   "metadata": {},
   "outputs": [],
   "source": []
  },
  {
   "cell_type": "code",
   "execution_count": null,
   "id": "8306db06-733c-4f62-8e47-c38f1596988a",
   "metadata": {},
   "outputs": [],
   "source": []
  },
  {
   "cell_type": "code",
   "execution_count": null,
   "id": "6c3a4c55-7a23-4e61-85d4-0c9e87d4f5f3",
   "metadata": {},
   "outputs": [],
   "source": []
  },
  {
   "cell_type": "code",
   "execution_count": null,
   "id": "ced4e144-2be0-4c20-870f-5978d20bc699",
   "metadata": {},
   "outputs": [],
   "source": []
  },
  {
   "cell_type": "code",
   "execution_count": null,
   "id": "71e8547c-d1bb-410c-8e13-db60853e1443",
   "metadata": {},
   "outputs": [],
   "source": []
  },
  {
   "cell_type": "code",
   "execution_count": null,
   "id": "04a26580-9f94-4218-b30f-0d6ad0ceaa34",
   "metadata": {},
   "outputs": [],
   "source": []
  },
  {
   "cell_type": "code",
   "execution_count": null,
   "id": "e5b4c382-2b20-440a-b3f4-039719d43759",
   "metadata": {},
   "outputs": [],
   "source": []
  },
  {
   "cell_type": "code",
   "execution_count": null,
   "id": "ae2f4963-924f-4908-918a-cd761253b9c3",
   "metadata": {},
   "outputs": [],
   "source": []
  },
  {
   "cell_type": "code",
   "execution_count": null,
   "id": "03b70819-66ba-4c52-aa33-ecdecbe0a509",
   "metadata": {},
   "outputs": [],
   "source": []
  },
  {
   "cell_type": "code",
   "execution_count": null,
   "id": "0ed32ac2-2878-4957-864a-d6092af96105",
   "metadata": {},
   "outputs": [],
   "source": []
  },
  {
   "cell_type": "code",
   "execution_count": null,
   "id": "087d434c-d8b7-468c-949e-a06b44492b62",
   "metadata": {},
   "outputs": [],
   "source": []
  },
  {
   "cell_type": "code",
   "execution_count": null,
   "id": "096523e5-e40c-407c-84c9-fed5aff29840",
   "metadata": {},
   "outputs": [],
   "source": []
  },
  {
   "cell_type": "code",
   "execution_count": null,
   "id": "10162187-bb80-4c43-8c3c-f540fb592f56",
   "metadata": {},
   "outputs": [],
   "source": []
  },
  {
   "cell_type": "code",
   "execution_count": null,
   "id": "72aaa5c1-169c-46bf-bb3d-85718084d249",
   "metadata": {},
   "outputs": [],
   "source": []
  },
  {
   "cell_type": "code",
   "execution_count": null,
   "id": "40caef38-ff53-495e-966f-3e225b409ded",
   "metadata": {},
   "outputs": [],
   "source": []
  },
  {
   "cell_type": "code",
   "execution_count": null,
   "id": "f984b184-6669-40e9-b3fb-f7fdae649318",
   "metadata": {},
   "outputs": [],
   "source": []
  },
  {
   "cell_type": "code",
   "execution_count": null,
   "id": "dfa0316d-5409-406e-955b-acbac5e8dda4",
   "metadata": {},
   "outputs": [],
   "source": []
  },
  {
   "cell_type": "code",
   "execution_count": null,
   "id": "57e952bf-9dc3-443d-8e05-916f77b3adf6",
   "metadata": {},
   "outputs": [],
   "source": []
  },
  {
   "cell_type": "code",
   "execution_count": null,
   "id": "b1138f99-4df3-4054-a234-a453418887da",
   "metadata": {},
   "outputs": [],
   "source": []
  },
  {
   "cell_type": "code",
   "execution_count": null,
   "id": "c8c5913a-5e36-4db8-9caf-5f5dd31d54ad",
   "metadata": {},
   "outputs": [],
   "source": []
  },
  {
   "cell_type": "code",
   "execution_count": null,
   "id": "1fa0fb99-d103-4861-a5b7-58d72a2539ca",
   "metadata": {},
   "outputs": [],
   "source": []
  },
  {
   "cell_type": "code",
   "execution_count": null,
   "id": "c583dbc8-818b-4986-9360-f744d66c84ef",
   "metadata": {},
   "outputs": [],
   "source": []
  },
  {
   "cell_type": "code",
   "execution_count": null,
   "id": "e0c569e6-8150-4396-8036-64cb9d4e318e",
   "metadata": {},
   "outputs": [],
   "source": []
  },
  {
   "cell_type": "code",
   "execution_count": null,
   "id": "8cdbddfa-0d7e-452d-8feb-9935b76e0a6b",
   "metadata": {},
   "outputs": [],
   "source": []
  },
  {
   "cell_type": "code",
   "execution_count": null,
   "id": "a653aae7-fbac-4b85-a474-bf2780ac589d",
   "metadata": {},
   "outputs": [],
   "source": []
  },
  {
   "cell_type": "code",
   "execution_count": null,
   "id": "f0f2da47-82ba-46a9-8a58-2d6a8fc2fd58",
   "metadata": {},
   "outputs": [],
   "source": []
  },
  {
   "cell_type": "code",
   "execution_count": null,
   "id": "333976ee-012f-405f-a7e5-0165df86f733",
   "metadata": {},
   "outputs": [],
   "source": []
  },
  {
   "cell_type": "code",
   "execution_count": null,
   "id": "8cdf2f46-f6ff-485b-90d4-0a0efa9c9a5b",
   "metadata": {},
   "outputs": [],
   "source": []
  },
  {
   "cell_type": "code",
   "execution_count": null,
   "id": "1c35e373-2518-4f16-916f-8421e56ac6c2",
   "metadata": {},
   "outputs": [],
   "source": []
  },
  {
   "cell_type": "code",
   "execution_count": null,
   "id": "f1c7970f-bc26-48b9-bfc5-3d1665169b9d",
   "metadata": {},
   "outputs": [],
   "source": []
  },
  {
   "cell_type": "code",
   "execution_count": null,
   "id": "a0fd22a8-10cc-48ba-a3f8-3ee3ccc3c392",
   "metadata": {},
   "outputs": [],
   "source": []
  },
  {
   "cell_type": "code",
   "execution_count": null,
   "id": "fc637b41-62f1-4576-91bf-d46605cc0787",
   "metadata": {},
   "outputs": [],
   "source": []
  },
  {
   "cell_type": "code",
   "execution_count": null,
   "id": "4633920d-1fec-4e6d-a39c-32c20dc7ef47",
   "metadata": {},
   "outputs": [],
   "source": []
  },
  {
   "cell_type": "code",
   "execution_count": null,
   "id": "989c8a64-845e-40e9-a8bf-7634cfbb14e8",
   "metadata": {},
   "outputs": [],
   "source": []
  },
  {
   "cell_type": "code",
   "execution_count": null,
   "id": "93760730-404c-4a4a-9bd0-5b047a39af70",
   "metadata": {},
   "outputs": [],
   "source": []
  },
  {
   "cell_type": "code",
   "execution_count": null,
   "id": "cf69ee75-3ec7-4be1-b932-58acac886b5c",
   "metadata": {},
   "outputs": [],
   "source": []
  },
  {
   "cell_type": "code",
   "execution_count": null,
   "id": "f22d7689-0341-4026-b325-a669e52cc150",
   "metadata": {},
   "outputs": [],
   "source": []
  },
  {
   "cell_type": "code",
   "execution_count": null,
   "id": "064c1484-7bc4-4153-977f-9c24bc05ecbe",
   "metadata": {},
   "outputs": [],
   "source": []
  },
  {
   "cell_type": "code",
   "execution_count": null,
   "id": "f27af5dc-0c91-4867-93f7-a6537772346f",
   "metadata": {},
   "outputs": [],
   "source": []
  },
  {
   "cell_type": "code",
   "execution_count": null,
   "id": "7ae38350-6bcd-4018-ac6f-943f829ee007",
   "metadata": {},
   "outputs": [],
   "source": []
  },
  {
   "cell_type": "code",
   "execution_count": null,
   "id": "636c6777-49e2-4dad-a4b7-ff4cfc72e089",
   "metadata": {},
   "outputs": [],
   "source": []
  },
  {
   "cell_type": "code",
   "execution_count": null,
   "id": "9cdd2fd5-d1a1-4ad1-a769-ac7e72511e03",
   "metadata": {},
   "outputs": [],
   "source": []
  },
  {
   "cell_type": "code",
   "execution_count": null,
   "id": "cd820de7-9df8-4ab8-8bc2-11e2f8df42d8",
   "metadata": {},
   "outputs": [],
   "source": []
  },
  {
   "cell_type": "code",
   "execution_count": null,
   "id": "767b44f6-bb7b-471f-ad2e-5635bd1d78df",
   "metadata": {},
   "outputs": [],
   "source": []
  },
  {
   "cell_type": "code",
   "execution_count": null,
   "id": "ac6895e6-7046-4928-9234-e0163f05d4c3",
   "metadata": {},
   "outputs": [],
   "source": []
  }
 ],
 "metadata": {
  "kernelspec": {
   "display_name": "Python 3",
   "language": "python",
   "name": "python3"
  },
  "language_info": {
   "codemirror_mode": {
    "name": "ipython",
    "version": 3
   },
   "file_extension": ".py",
   "mimetype": "text/x-python",
   "name": "python",
   "nbconvert_exporter": "python",
   "pygments_lexer": "ipython3",
   "version": "3.8.8"
  }
 },
 "nbformat": 4,
 "nbformat_minor": 5
}
