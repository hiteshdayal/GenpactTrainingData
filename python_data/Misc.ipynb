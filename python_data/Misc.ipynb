{
 "cells": [
  {
   "cell_type": "markdown",
   "id": "e1c77c17-78e4-445c-ad04-34df8d66d5db",
   "metadata": {},
   "source": [
    "## Python map() function"
   ]
  },
  {
   "cell_type": "raw",
   "id": "acc0dace-c2b2-413f-b94b-19a225654c9b",
   "metadata": {},
   "source": [
    "The map() function executes a specified function for each item in an iterable. The item is sent to the function as a parameter.\n",
    "syntax: map(function, iterables)"
   ]
  },
  {
   "cell_type": "code",
   "execution_count": 3,
   "id": "28890a97-b624-4e69-bc18-2f7220ab4662",
   "metadata": {},
   "outputs": [
    {
     "name": "stdout",
     "output_type": "stream",
     "text": [
      "<map object at 0x0000016C7D1AF7C0>\n",
      "[6, 8, 6, 8]\n",
      "(6, 8, 6, 8)\n"
     ]
    }
   ],
   "source": [
    "def myfunct(par):\n",
    "    return len(par)\n",
    "\n",
    "list1 = ['Monday', 'Thursday', 'Friday', 'Saturday']\n",
    "result = map(myfunct, list1)\n",
    "print (result)\n",
    "result = list(map(myfunct, list1))\n",
    "print (result)\n",
    "result = tuple(map(myfunct, list1))\n",
    "print (result)"
   ]
  },
  {
   "cell_type": "code",
   "execution_count": 8,
   "id": "e1631eec-d903-462b-849e-32ef0c72d2d3",
   "metadata": {},
   "outputs": [
    {
     "name": "stdout",
     "output_type": "stream",
     "text": [
      "['Sunday', 'Thursday', 'Friday']\n",
      "[1111, 2222, 3333, 4444, 5555]\n"
     ]
    }
   ],
   "source": [
    "def myfunct(par1, par2):\n",
    "    return par1 + par2\n",
    "\n",
    "list1 = list(map(myfunct, ('Sund', 'Thursda', 'Fr', 'Satur'), ('ay', 'y', 'iday')))   # operation is string concatenation\n",
    "print (list1)\n",
    "list1 = list(map(myfunct, [1000, 2000, 3000, 4000, 5000], [111, 222, 333, 444, 555]))   # operation is algebraic addition\n",
    "print (list1)"
   ]
  },
  {
   "cell_type": "markdown",
   "id": "d635b869-8a24-4dcc-86b9-585db286d4dd",
   "metadata": {},
   "source": [
    "## Python filter() function"
   ]
  },
  {
   "cell_type": "raw",
   "id": "2546b9d8-9ead-45ec-9d64-4690c034a679",
   "metadata": {},
   "source": [
    "The filter() function returns an iterator where the items are filtered through a function to test if the item is accepted or not.\n",
    "syntax: filter(function, iterable)"
   ]
  },
  {
   "cell_type": "code",
   "execution_count": 12,
   "id": "c14d0943-1e93-4c80-93e1-73e1f91d71b9",
   "metadata": {},
   "outputs": [
    {
     "name": "stdout",
     "output_type": "stream",
     "text": [
      "<filter object at 0x0000016C7D547C10>\n",
      "[18, 90, 74, 20]\n",
      "(18, 90, 74, 20)\n"
     ]
    }
   ],
   "source": [
    "def myfunct(age_val):\n",
    "    if (age_val >= 18): return True\n",
    "    else: return False\n",
    "\n",
    "ages = [18, 17, 90, 4, 12, 11, 74, 20]\n",
    "adults = filter(myfunct, ages)\n",
    "print (adults)\n",
    "\n",
    "adults = list(filter(myfunct, ages))\n",
    "print (adults)\n",
    "\n",
    "adults = tuple(filter(myfunct, ages))\n",
    "print (adults)"
   ]
  },
  {
   "cell_type": "markdown",
   "id": "12a32a8a-a860-49cf-be17-92fb61ea596d",
   "metadata": {},
   "source": [
    "## Python reduce() function"
   ]
  },
  {
   "cell_type": "raw",
   "id": "3fcc6454-b2be-478d-ba02-d98242da5360",
   "metadata": {},
   "source": [
    "The reduce() function applies a function of two arguments cumulatively to the elements of an iterable, optionally starting with an initial argument.\n",
    "syntax: reduce(function, iterable[, initial])"
   ]
  },
  {
   "cell_type": "code",
   "execution_count": 27,
   "id": "1c903bca-abe2-42fe-931f-b35d37922e12",
   "metadata": {},
   "outputs": [
    {
     "name": "stdout",
     "output_type": "stream",
     "text": [
      "187\n",
      "1187\n"
     ]
    }
   ],
   "source": [
    "from functools import reduce\n",
    "def cumulative_sum(first_num, second_num):\n",
    "    # print (first_num, second_num)\n",
    "    return first_num + second_num\n",
    "\n",
    "numbers = [11, 33, 22, 55, 66]\n",
    "result = reduce(cumulative_sum, numbers)\n",
    "print (result)\n",
    "\n",
    "result = reduce(cumulative_sum, numbers, 1000)\n",
    "print (result)"
   ]
  },
  {
   "cell_type": "markdown",
   "id": "2537489d-9a05-4cfc-92ff-bc15116d77f8",
   "metadata": {},
   "source": [
    "## Python zip() function"
   ]
  },
  {
   "cell_type": "code",
   "execution_count": 28,
   "id": "0d6a296f-19f3-498d-a835-c05f1c231e58",
   "metadata": {},
   "outputs": [
    {
     "name": "stdout",
     "output_type": "stream",
     "text": [
      "<zip object at 0x0000016C7CF62C80>\n",
      "[('mango', 100), ('apple', 200), ('coconut', 300), ('banana', 350), ('pineapple', 500)]\n",
      "{'mango': 100, 'apple': 200, 'coconut': 300, 'banana': 350, 'pineapple': 500}\n"
     ]
    }
   ],
   "source": [
    "fruits = ['mango', 'apple', 'coconut', 'banana', 'pineapple']\n",
    "prices = [100, 200, 300, 350, 500, 600]\n",
    "\n",
    "result = zip(fruits, prices)\n",
    "print (result)\n",
    "\n",
    "result = list(zip(fruits, prices))\n",
    "print (result)\n",
    "\n",
    "result = dict(list(zip(fruits, prices)))\n",
    "print (result)"
   ]
  },
  {
   "cell_type": "markdown",
   "id": "46c569fa-cdc3-4833-99c3-8b07dcd7d0a8",
   "metadata": {},
   "source": [
    "## Cartesian product of list items"
   ]
  },
  {
   "cell_type": "code",
   "execution_count": 21,
   "id": "f1544833-f5ed-493d-ad79-f9be66f5f79e",
   "metadata": {},
   "outputs": [
    {
     "name": "stdout",
     "output_type": "stream",
     "text": [
      "<itertools.product object at 0x0000016C7D75F180>\n",
      "[(111, 100), (111, 200), (111, 300), (222, 100), (222, 200), (222, 300), (333, 100), (333, 200), (333, 300), (444, 100), (444, 200), (444, 300)]\n",
      "((111, 100), (111, 200), (111, 300), (222, 100), (222, 200), (222, 300), (333, 100), (333, 200), (333, 300), (444, 100), (444, 200), (444, 300))\n"
     ]
    }
   ],
   "source": [
    "from itertools import product\n",
    "list1 = [111, 222, 333, 444]\n",
    "list2 = [100, 200, 300]\n",
    "\n",
    "result = product(list1, list2)\n",
    "print (result)\n",
    "result = list(product(list1, list2))\n",
    "print (result)\n",
    "result = tuple(product(list1, list2))\n",
    "print (result)"
   ]
  },
  {
   "cell_type": "code",
   "execution_count": 24,
   "id": "e56ff648-086f-4e77-bd42-ec1a255d4984",
   "metadata": {},
   "outputs": [
    {
     "name": "stdout",
     "output_type": "stream",
     "text": [
      "(11, 22)\n",
      "(22, 33)\n",
      "(33, 44)\n",
      "(44, 11)\n",
      "(11, 22)\n",
      "(22, 33)\n"
     ]
    }
   ],
   "source": [
    "from itertools import cycle\n",
    "result = cycle([(11, 22), (22, 33), (33, 44), (44, 11)])\n",
    "print (next(result))\n",
    "print (next(result))\n",
    "print (next(result))\n",
    "print (next(result))\n",
    "print (next(result))\n",
    "print (next(result))"
   ]
  },
  {
   "cell_type": "code",
   "execution_count": 25,
   "id": "706e23b6-abe1-48cc-8b7f-2915e6e3d65a",
   "metadata": {},
   "outputs": [
    {
     "name": "stdout",
     "output_type": "stream",
     "text": [
      "Emp-001\n",
      "Amit\n",
      "Developer\n",
      "Emp-001\n",
      "Amit\n",
      "Developer\n"
     ]
    }
   ],
   "source": [
    "result = cycle(['Emp-001', 'Amit', 'Developer'])\n",
    "print (next(result))\n",
    "print (next(result))\n",
    "print (next(result))\n",
    "print (next(result))\n",
    "print (next(result))\n",
    "print (next(result))"
   ]
  },
  {
   "cell_type": "markdown",
   "id": "d032275e-9076-4e59-8c7f-f0cf0b004b4d",
   "metadata": {},
   "source": [
    "## bisect_left and bisect_right"
   ]
  },
  {
   "cell_type": "code",
   "execution_count": 32,
   "id": "5c8c4558-0680-4386-af6d-6508e9db5785",
   "metadata": {},
   "outputs": [
    {
     "name": "stdout",
     "output_type": "stream",
     "text": [
      "1 2\n",
      "7 8\n",
      "3 4\n",
      "3 3\n",
      "5 5\n"
     ]
    }
   ],
   "source": [
    "from bisect import bisect_left\n",
    "from bisect import bisect_right\n",
    "list1 = [11, 22, 33, 44, 55, 66, 77, 88]\n",
    "print (bisect_left(list1, 22), bisect_right(list1, 22))\n",
    "print (bisect_left(list1, 88), bisect_right(list1, 88))\n",
    "print (bisect_left(list1, 44), bisect_right(list1, 44))\n",
    "print (bisect_left(list1, 35), bisect_right(list1, 35))\n",
    "print (bisect_left(list1, 65), bisect_right(list1, 65))"
   ]
  },
  {
   "cell_type": "code",
   "execution_count": 36,
   "id": "91353231-362f-4d9e-a6f0-488cfa1654eb",
   "metadata": {},
   "outputs": [
    {
     "name": "stdin",
     "output_type": "stream",
     "text": [
      "Please enter multiple data items: 11 22 33 44 66 55 88 77\n"
     ]
    },
    {
     "name": "stdout",
     "output_type": "stream",
     "text": [
      "['11', '22', '33', '44', '66', '55', '88', '77'] <class 'list'>\n"
     ]
    }
   ],
   "source": [
    "result = input(\"Please enter multiple data items:\").split(\" \")\n",
    "print (result, type(result))"
   ]
  },
  {
   "cell_type": "code",
   "execution_count": 38,
   "id": "5397f65b-5e44-48cf-aa57-11892c0e15a2",
   "metadata": {},
   "outputs": [
    {
     "name": "stdin",
     "output_type": "stream",
     "text": [
      "Please enter multiple data items: 11 22 33 44 66 55 88 77\n"
     ]
    },
    {
     "name": "stdout",
     "output_type": "stream",
     "text": [
      "[11, 22, 33, 44, 66, 55, 88, 77] <class 'list'>\n"
     ]
    }
   ],
   "source": [
    "result = list(map(int, input(\"Please enter multiple data items:\").split(\" \")))\n",
    "print (result, type(result))"
   ]
  },
  {
   "cell_type": "code",
   "execution_count": 39,
   "id": "3029883f-cbed-4bb2-811d-528c8595d439",
   "metadata": {},
   "outputs": [
    {
     "name": "stdin",
     "output_type": "stream",
     "text": [
      " 11\n",
      " 22\n",
      " 33\n",
      " 44\n",
      " 55\n",
      " 66\n"
     ]
    },
    {
     "name": "stdout",
     "output_type": "stream",
     "text": [
      "[[11, 22], [33, 44], [55, 66]]\n"
     ]
    }
   ],
   "source": [
    "result = [[int(input()) for i in range(2)] for j in range(3)]\n",
    "print (result)"
   ]
  },
  {
   "cell_type": "code",
   "execution_count": 40,
   "id": "5944247e-ef30-4e87-bd30-189187131048",
   "metadata": {},
   "outputs": [
    {
     "name": "stdin",
     "output_type": "stream",
     "text": [
      " 11\n",
      " 22\n",
      " 33\n",
      " 44\n",
      " 55\n",
      " 66\n"
     ]
    },
    {
     "name": "stdout",
     "output_type": "stream",
     "text": [
      "[[11, 22, 33], [44, 55, 66]]\n"
     ]
    }
   ],
   "source": [
    "result = [[int(input()) for i in range(3)] for j in range(2)]\n",
    "print (result)"
   ]
  },
  {
   "cell_type": "markdown",
   "id": "c4cda09d-dfcf-4199-afeb-0517eba381ff",
   "metadata": {},
   "source": [
    "## List Comprehension"
   ]
  },
  {
   "cell_type": "raw",
   "id": "4dd4b05f-0b2b-4832-91c0-68504dafbcfb",
   "metadata": {},
   "source": [
    "List comprehension is a complete substitution to for loops, lambda functions as well as the functions like map(), filter() and reduce()"
   ]
  },
  {
   "cell_type": "code",
   "execution_count": 41,
   "id": "bf32a08c-585e-4ab0-837b-02aab74ccb08",
   "metadata": {},
   "outputs": [
    {
     "name": "stdout",
     "output_type": "stream",
     "text": [
      "[0, 1, 4, 9, 16, 25, 36, 49, 64, 81]\n",
      "[0, 1, 4, 9, 16, 25, 36, 49, 64, 81]\n"
     ]
    }
   ],
   "source": [
    "list1 = []\n",
    "for x in range(10):\n",
    "    list1.append(x ** 2)\n",
    "print (list1)\n",
    "\n",
    "# list comprehension\n",
    "list1 = [x ** 2 for x in range(10)]\n",
    "print (list1)"
   ]
  },
  {
   "cell_type": "code",
   "execution_count": 42,
   "id": "42e57495-be76-442f-b5f4-5bf3543afbe9",
   "metadata": {},
   "outputs": [
    {
     "name": "stdout",
     "output_type": "stream",
     "text": [
      "[0, 2, 4, 6, 8, 10, 12, 14, 16, 18]\n",
      "[0, 2, 4, 6, 8, 10, 12, 14, 16, 18]\n"
     ]
    }
   ],
   "source": [
    "list1 = []\n",
    "for x in range(10):\n",
    "    list1.append(2 * x)\n",
    "print (list1)\n",
    "\n",
    "# list comprehension\n",
    "list1 = [2 * x for x in range(10)]\n",
    "print (list1)"
   ]
  },
  {
   "cell_type": "code",
   "execution_count": 49,
   "id": "20e6a485-d9d6-4696-88d7-9d659cd32153",
   "metadata": {},
   "outputs": [
    {
     "name": "stdout",
     "output_type": "stream",
     "text": [
      "[11, 22, 33, 44, 55, 66, 77, 88]\n",
      "[22, 44, 66, 88]\n",
      "[22, 44, 66, 88]\n",
      "[22, 44, 66, 88]\n"
     ]
    }
   ],
   "source": [
    "list1 = [11, 22, 33, 44, 55, 66, 77, 88]\n",
    "list2 = []\n",
    "for x in list1:\n",
    "    if (x % 2 == 0):\n",
    "        list2.append(x)\n",
    "print (list1)\n",
    "print (list2)\n",
    "\n",
    "# list comprehension with if condition\n",
    "list2 = [x for x in list1 if (x % 2 == 0)]\n",
    "print (list2)\n",
    "list2 = [x for x in list1 if x % 2 == 0]\n",
    "print (list2)"
   ]
  },
  {
   "cell_type": "code",
   "execution_count": 55,
   "id": "aca8e7ad-6d14-425a-8485-325bf82f1071",
   "metadata": {},
   "outputs": [
    {
     "name": "stdout",
     "output_type": "stream",
     "text": [
      "[12, 18]\n",
      "[12, 18]\n",
      "[12, 18]\n"
     ]
    }
   ],
   "source": [
    "list1 = [11, 12, 13, 14, 15, 16, 17, 18, 19, 20]\n",
    "list2 = []\n",
    "for x in list1:\n",
    "    if (x % 2 == 0):\n",
    "        if (x % 3 == 0):\n",
    "            list2.append(x)\n",
    "print (list2)\n",
    "\n",
    "# list comprehension with multiple if conditions\n",
    "list2 = [x for x in list1 if (x % 2 == 0) if (x % 3 == 0)]\n",
    "print (list2)\n",
    "list2 = [x for x in list1 if ((x % 2 == 0) and (x % 3 == 0))]\n",
    "print (list2)"
   ]
  },
  {
   "cell_type": "code",
   "execution_count": 58,
   "id": "5139edec-5b95-4d28-ad54-43e638c1aa65",
   "metadata": {},
   "outputs": [
    {
     "name": "stdout",
     "output_type": "stream",
     "text": [
      "[1, 2, 3, 4, 5, 6, 7, 8]\n",
      "[2, 3, 4, 5, 10, 11, 12, 13]\n",
      "[2, 3, 4, 5, 10, 11, 12, 13]\n"
     ]
    }
   ],
   "source": [
    "list1 = [1, 2, 3, 4, 5, 6, 7, 8]\n",
    "list2 = []\n",
    "for x in list1:\n",
    "    if (x > 4): list2.append(x + 5)\n",
    "    else: list2.append(x + 1)\n",
    "print (list1)\n",
    "print (list2)\n",
    "\n",
    "# list comprehension with if-else condition\n",
    "list2 = [x + 5 if (x > 4) else x + 1 for x in list1]\n",
    "print (list2)"
   ]
  },
  {
   "cell_type": "code",
   "execution_count": 61,
   "id": "733b1664-4ede-416d-b0d6-1906768acf2f",
   "metadata": {},
   "outputs": [
    {
     "name": "stdout",
     "output_type": "stream",
     "text": [
      "[[0, 0, 0, 0], [0, 0, 0, 0], [0, 0, 0, 0]]\n",
      "[[0, 0, 0, 0], [0, 0, 0, 0], [0, 0, 0, 0]]\n"
     ]
    }
   ],
   "source": [
    "list1 = []\n",
    "for x in range(3):\n",
    "    temp_list = []\n",
    "    for y in range(4):\n",
    "        temp_list.append(0)\n",
    "    list1.append(temp_list)\n",
    "print (list1)\n",
    "\n",
    "# nested list comprehensions, creation of a matrix\n",
    "list1 = [[0 for col in range(4)] for row in range(3)]\n",
    "print (list1)"
   ]
  },
  {
   "cell_type": "markdown",
   "id": "95a98062-17be-4a1c-8901-9222c4cec184",
   "metadata": {},
   "source": [
    "## How to replace map() function in combination of lambda functions"
   ]
  },
  {
   "cell_type": "code",
   "execution_count": 64,
   "id": "2ff353aa-feb7-4fd6-bfba-dc7d464ae820",
   "metadata": {},
   "outputs": [
    {
     "name": "stdout",
     "output_type": "stream",
     "text": [
      "[20, 40, 60, 80, 100]\n",
      "[20, 40, 60, 80, 100]\n"
     ]
    }
   ],
   "source": [
    "list1 = [10, 20, 30, 40, 50]\n",
    "list2 = list(map(lambda x: 2 * x, list1))\n",
    "print (list2)\n",
    "\n",
    "# list comprehension\n",
    "list2 = [2 * x for x in list1]\n",
    "print (list2)"
   ]
  },
  {
   "cell_type": "markdown",
   "id": "259ce4f7-7f79-4fea-8773-0ffe0314da19",
   "metadata": {},
   "source": [
    "## How to replace filter() function in combination of lambda functions"
   ]
  },
  {
   "cell_type": "code",
   "execution_count": 66,
   "id": "b350de89-5d9f-4327-aa3f-f18e8ceab200",
   "metadata": {},
   "outputs": [
    {
     "name": "stdout",
     "output_type": "stream",
     "text": [
      "[11, 33, 55, 77]\n",
      "[11, 33, 55, 77]\n"
     ]
    }
   ],
   "source": [
    "list1 = [11, 22, 33, 44, 55, 66, 77, 88]\n",
    "oddnum = list(filter(lambda x: x % 2, list1))\n",
    "print (oddnum)\n",
    "\n",
    "# list comprehension with if condition\n",
    "oddnum = [x for x in list1 if x % 2 == 1]\n",
    "print (oddnum)"
   ]
  },
  {
   "cell_type": "markdown",
   "id": "d7e4fe34-f0e1-4227-a2cf-c730e2bf7d37",
   "metadata": {},
   "source": [
    "## How to replace reduce() function in combination of lambda functions"
   ]
  },
  {
   "cell_type": "code",
   "execution_count": 72,
   "id": "74969525-2dc3-411a-994c-12a924a95b57",
   "metadata": {},
   "outputs": [
    {
     "name": "stdout",
     "output_type": "stream",
     "text": [
      "396\n",
      "49.5 396.0 396\n",
      "396\n"
     ]
    }
   ],
   "source": [
    "import numpy as np\n",
    "from functools import reduce\n",
    "list1 = [11, 22, 33, 44, 55, 66, 77, 88]\n",
    "result = reduce(lambda x, y: x + y, list1)\n",
    "print (result)\n",
    "print (np.median(list1), np.median(list1) * 8, sum(list1))\n",
    "\n",
    "# list comprehension\n",
    "result = sum([x for x in list1])\n",
    "print (result)"
   ]
  },
  {
   "cell_type": "code",
   "execution_count": null,
   "id": "3bea7e74-5f6a-47c9-8df9-dabbe46468d9",
   "metadata": {},
   "outputs": [],
   "source": []
  }
 ],
 "metadata": {
  "kernelspec": {
   "display_name": "Python 3",
   "language": "python",
   "name": "python3"
  },
  "language_info": {
   "codemirror_mode": {
    "name": "ipython",
    "version": 3
   },
   "file_extension": ".py",
   "mimetype": "text/x-python",
   "name": "python",
   "nbconvert_exporter": "python",
   "pygments_lexer": "ipython3",
   "version": "3.8.8"
  }
 },
 "nbformat": 4,
 "nbformat_minor": 5
}
