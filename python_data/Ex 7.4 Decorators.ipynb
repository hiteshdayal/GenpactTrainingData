{
 "cells": [
  {
   "cell_type": "code",
   "execution_count": 2,
   "metadata": {},
   "outputs": [
    {
     "name": "stdout",
     "output_type": "stream",
     "text": [
      "I am here...\n",
      "I got decorated\n",
      "I am a simple function\n",
      "I got decorated again\n"
     ]
    }
   ],
   "source": [
    "# Demonstration\n",
    "def make_decorated(func):\n",
    "    print (\"I am here...\")\n",
    "    def inner_function():\n",
    "        print(\"I got decorated\")\n",
    "        func()\n",
    "        print(\"I got decorated again\")\n",
    "    return inner_function\n",
    "\n",
    "@make_decorated\n",
    "def simple_func():\n",
    "    print(\"I am a simple function\")\n",
    "\n",
    "# decor = make_decorated(simple_func)\n",
    "# decor()\n",
    "\n",
    "simple_func()"
   ]
  },
  {
   "cell_type": "code",
   "execution_count": 6,
   "metadata": {},
   "outputs": [
    {
     "name": "stdout",
     "output_type": "stream",
     "text": [
      "I am dividing  20  and  2\n",
      "10.0\n",
      "I am dividing  20  and  0\n",
      "Oops! Division by ZERO is illegal...!!!\n",
      "None\n"
     ]
    }
   ],
   "source": [
    "#Another example\n",
    "def my_smart_div(func):\n",
    "   def inner_func(x,y):\n",
    "      print(\"I am dividing \",x,\" and \",y)\n",
    "      if y == 0:\n",
    "         print(\"Oops! Division by ZERO is illegal...!!!\")\n",
    "         return\n",
    "\n",
    "      return func(x,y)\n",
    "   return inner_func\n",
    "\n",
    "@my_smart_div\n",
    "def go_divide(a,b):      # Generally, we decorate a function and reassign it as,\n",
    "    return a/b           # go_divide = my_smart_div(go_divide)\n",
    "\n",
    "print(go_divide(20,2))\n",
    "print(go_divide(20,0))\n"
   ]
  },
  {
   "cell_type": "code",
   "execution_count": 9,
   "metadata": {},
   "outputs": [
    {
     "name": "stdout",
     "output_type": "stream",
     "text": [
      "******************************\n",
      "%%%%%%%%%%%%%%%%%%%%%%%%%%%%%%\n",
      "Hello\n",
      "%%%%%%%%%%%%%%%%%%%%%%%%%%%%%%\n",
      "******************************\n"
     ]
    }
   ],
   "source": [
    "\n",
    "#Changing Decorators\n",
    "def my_star(function):\n",
    "    def inner_func(*args, **kwargs):\n",
    "        print(\"*\" * 30)\n",
    "        function(*args, **kwargs)\n",
    "        print(\"*\" * 30)\n",
    "    return inner_func\n",
    "\n",
    "def my_percent(function):\n",
    "    def inner_func(*args, **kwargs):\n",
    "        print(\"%\" * 30)\n",
    "        function(*args, **kwargs)\n",
    "        print(\"%\" * 30)\n",
    "    return inner_func\n",
    "\n",
    "@my_star\n",
    "@my_percent\n",
    "def printer(msg):            # printer = my_star(my_percent(printer))\n",
    "    print(msg)\n",
    "printer(\"Hello\")"
   ]
  },
  {
   "cell_type": "code",
   "execution_count": null,
   "metadata": {},
   "outputs": [],
   "source": []
  }
 ],
 "metadata": {
  "kernelspec": {
   "display_name": "Python 3",
   "language": "python",
   "name": "python3"
  },
  "language_info": {
   "codemirror_mode": {
    "name": "ipython",
    "version": 3
   },
   "file_extension": ".py",
   "mimetype": "text/x-python",
   "name": "python",
   "nbconvert_exporter": "python",
   "pygments_lexer": "ipython3",
   "version": "3.8.8"
  }
 },
 "nbformat": 4,
 "nbformat_minor": 4
}
