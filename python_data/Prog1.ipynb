{
 "cells": [
  {
   "cell_type": "code",
   "execution_count": 3,
   "id": "e399df17-27b1-45b5-a2dc-ba2b902875f4",
   "metadata": {},
   "outputs": [
    {
     "name": "stdout",
     "output_type": "stream",
     "text": [
      "Hello\n",
      "Welcome\n"
     ]
    }
   ],
   "source": [
    "print (\"Hello\")\n",
    "print (\"Welcome\")"
   ]
  },
  {
   "cell_type": "markdown",
   "id": "519e6591-af2d-4685-8d3b-0f29567980c9",
   "metadata": {},
   "source": [
    "# This is in Heading-1\n",
    "## This is in Heading-2\n",
    "### This is in Heading-3\n",
    "#### This is in Heading-4\n",
    "##### This is in Heading-5\n",
    "###### This is in Heading-6"
   ]
  },
  {
   "cell_type": "markdown",
   "id": "2295afb4-b3fb-4e71-b07d-765fe138305c",
   "metadata": {},
   "source": [
    "*This line in in italics*\n",
    "<br>\n",
    "**This line in in bold**"
   ]
  },
  {
   "cell_type": "code",
   "execution_count": 6,
   "id": "abffa202-b6ef-4b8a-9e42-6cd322feba57",
   "metadata": {},
   "outputs": [
    {
     "data": {
      "text/plain": [
       "'\\nThis is a \\nmulti-line\\ntext'"
      ]
     },
     "execution_count": 6,
     "metadata": {},
     "output_type": "execute_result"
    }
   ],
   "source": [
    "# This is a comment line\n",
    "'''\n",
    "This is a \n",
    "multi-line\n",
    "text'''"
   ]
  },
  {
   "cell_type": "code",
   "execution_count": 12,
   "id": "57662dd1-9ab7-46ea-9f81-7da23fb769fd",
   "metadata": {},
   "outputs": [
    {
     "name": "stdout",
     "output_type": "stream",
     "text": [
      "Hello...\n",
      "Hello...\n"
     ]
    }
   ],
   "source": [
    "print (\"Hello...\")\n",
    "print ('Hello...')"
   ]
  },
  {
   "cell_type": "code",
   "execution_count": 14,
   "id": "882c07b4-626b-47d3-822f-7cab03a12be7",
   "metadata": {},
   "outputs": [
    {
     "name": "stdin",
     "output_type": "stream",
     "text": [
      "Please enter the first number:  100\n",
      "Please enter the second number:  200\n"
     ]
    },
    {
     "name": "stdout",
     "output_type": "stream",
     "text": [
      "100 <class 'str'> 200 <class 'str'>\n",
      "100 + 200 = 100200\n",
      "End of the program...\n"
     ]
    }
   ],
   "source": [
    "num1 = input(\"Please enter the first number: \")\n",
    "num2 = input(\"Please enter the second number: \")\n",
    "print (num1, type(num1), num2, type(num2))\n",
    "total = num1 + num2    # string concatenation\n",
    "print (num1, \"+\", num2, \"=\", total)\n",
    "print (\"End of the program...\")"
   ]
  },
  {
   "cell_type": "code",
   "execution_count": 15,
   "id": "88bbed96-3eba-4d18-b82e-4042c70531a8",
   "metadata": {},
   "outputs": [
    {
     "name": "stdin",
     "output_type": "stream",
     "text": [
      "Please enter the first number:  100\n",
      "Please enter the second number:  200\n"
     ]
    },
    {
     "name": "stdout",
     "output_type": "stream",
     "text": [
      "100 <class 'int'> 200 <class 'int'>\n",
      "100 + 200 = 300\n",
      "End of the program...\n"
     ]
    }
   ],
   "source": [
    "num1 = int(input(\"Please enter the first number: \"))\n",
    "num2 = int(input(\"Please enter the second number: \"))\n",
    "print (num1, type(num1), num2, type(num2))\n",
    "total = num1 + num2    # algebraic addition\n",
    "print (num1, \"+\", num2, \"=\", total)\n",
    "print (\"End of the program...\")"
   ]
  },
  {
   "cell_type": "code",
   "execution_count": 17,
   "id": "117bdbe2-ba58-48ee-9ac5-0da3273c0a33",
   "metadata": {},
   "outputs": [
    {
     "name": "stdin",
     "output_type": "stream",
     "text": [
      "Please enter the first number:  100\n",
      "Please enter the second number:  500\n"
     ]
    }
   ],
   "source": [
    "num1 = int(input(\"Please enter the first number: \"))\n",
    "num2 = int(input(\"Please enter the second number: \"))\n",
    "total = num1 + num2"
   ]
  },
  {
   "cell_type": "code",
   "execution_count": 31,
   "id": "5832b98f-8a12-4b16-b420-c686cbeba5e8",
   "metadata": {},
   "outputs": [
    {
     "name": "stdout",
     "output_type": "stream",
     "text": [
      "So 100 + 500 = 600\n",
      "So 100 + 500 = 600\n",
      "So 100 + 500 = 600\n",
      "So 100 + 500 = 600\n",
      "So 100 + 500 = 600\n",
      "So 100 + 500 = 600\n",
      "So 100 + 500 = 600\n",
      "So 100 + 500 = 600\n",
      "So 100 +  500.000 = 600\n",
      "So 100 + 500 = 600\n"
     ]
    }
   ],
   "source": [
    "print (\"So\", num1, \"+\", num2, \"=\", total)\n",
    "print (\"So \" + str(num1) + \" + \" + str(num2) + \" = \" + str(total))\n",
    "print (\"So {} + {} = {}\".format(num1, num2, total))\n",
    "print (\"So {0} + {1} = {2}\".format(num1, num2, total))\n",
    "print (\"So {2} + {0} = {1}\".format(num2, total, num1))\n",
    "print (\"So {fnum} + {snum} = {result}\".format(fnum = num1, snum = num2, result = total))\n",
    "print (\"So {fnum} + {snum} = {result}\".format(snum = num2, fnum = num1, result = total))\n",
    "print (\"So %d + %d = %d\"%(num1, num2, total))\n",
    "print (\"So %d + %8.3f = %d\"%(num1, num2, total))\n",
    "print (f\"So {num1} + {num2} = {total}\")"
   ]
  },
  {
   "cell_type": "markdown",
   "id": "f113aa4b-dd64-4cb9-8d67-b0738613a621",
   "metadata": {},
   "source": [
    "### Arithmetic Operators"
   ]
  },
  {
   "cell_type": "code",
   "execution_count": 34,
   "id": "a9aaddaa-ddce-4826-819b-caaf8bba1bfe",
   "metadata": {},
   "outputs": [
    {
     "name": "stdout",
     "output_type": "stream",
     "text": [
      "140\n",
      "60\n",
      "4000\n",
      "2.5\n",
      "2\n",
      "100000000\n",
      "20\n"
     ]
    }
   ],
   "source": [
    "print (100 + 40)    # addition\n",
    "print (100 - 40)    # subtraction\n",
    "print (100 * 40)    # multiplication\n",
    "print (100 / 40)    # division\n",
    "print (100 // 40)   # integer division\n",
    "print (100 ** 4)    # exponentiation\n",
    "print (100 % 40)    # modulus, remainder of the division"
   ]
  },
  {
   "cell_type": "markdown",
   "id": "8ee66ecd-8f4f-4f19-be01-8c5c6cf231df",
   "metadata": {},
   "source": [
    "### Logical Operators"
   ]
  },
  {
   "cell_type": "code",
   "execution_count": 37,
   "id": "5bf5959f-e903-4215-a79e-d5c68dcc9b00",
   "metadata": {},
   "outputs": [
    {
     "name": "stdout",
     "output_type": "stream",
     "text": [
      "False False False True\n",
      "False True True True\n",
      "True False\n"
     ]
    }
   ],
   "source": [
    "# logical operators: and or not\n",
    "print (False and False, False and True, True and False, True and True)\n",
    "print (False or False, False or True, True or False, True or True)\n",
    "print (not False, not True)"
   ]
  },
  {
   "cell_type": "markdown",
   "id": "0392daa6-4360-445d-8138-48ca0278ba56",
   "metadata": {},
   "source": [
    "### Relational Operators"
   ]
  },
  {
   "cell_type": "code",
   "execution_count": 38,
   "id": "b35d5e77-6232-41c8-81bb-b785a0c6865d",
   "metadata": {},
   "outputs": [
    {
     "name": "stdout",
     "output_type": "stream",
     "text": [
      "True True False False\n",
      "True True False False\n"
     ]
    }
   ],
   "source": [
    "# relational operators: > >= < <= == !=\n",
    "print (100 >= 50, 100 > 50, 100 <= 50, 100 < 50)\n",
    "print (100 == 100, 100 != 200, 100 != 100, 100 == 200)"
   ]
  },
  {
   "cell_type": "markdown",
   "id": "1c57ea4a-3a09-44a1-b3be-9eda548b2fef",
   "metadata": {},
   "source": [
    "### Assignment operators"
   ]
  },
  {
   "cell_type": "code",
   "execution_count": 41,
   "id": "56de26c9-a7af-401a-a68f-f265cca03fa3",
   "metadata": {},
   "outputs": [
    {
     "name": "stdout",
     "output_type": "stream",
     "text": [
      "100 200 300\n",
      "300 200\n",
      "40000\n"
     ]
    }
   ],
   "source": [
    "# Assignment operators: = += -= *= /= //= **= %=\n",
    "a = 100\n",
    "b = 200\n",
    "c = a + b\n",
    "print (a, b, c)\n",
    "a += b   # a = a + b\n",
    "print (a, b)\n",
    "b **= 2\n",
    "print (b)"
   ]
  },
  {
   "cell_type": "markdown",
   "id": "44134359-7dad-4bca-94fb-35c027eeaa6a",
   "metadata": {},
   "source": [
    "### Conditional Statements"
   ]
  },
  {
   "cell_type": "code",
   "execution_count": 50,
   "id": "f3779b68-8210-4cbd-8612-bc2edc901458",
   "metadata": {},
   "outputs": [
    {
     "ename": "IndentationError",
     "evalue": "unexpected indent (<ipython-input-50-bb56ac542b0f>, line 7)",
     "output_type": "error",
     "traceback": [
      "\u001b[1;36m  File \u001b[1;32m\"<ipython-input-50-bb56ac542b0f>\"\u001b[1;36m, line \u001b[1;32m7\u001b[0m\n\u001b[1;33m    print (\"So the maximum number is\", num1)\u001b[0m\n\u001b[1;37m    ^\u001b[0m\n\u001b[1;31mIndentationError\u001b[0m\u001b[1;31m:\u001b[0m unexpected indent\n"
     ]
    }
   ],
   "source": [
    "num1 = int(input(\"Please enter the first number: \"))\n",
    "num2 = int(input(\"Please enter the second number: \"))\n",
    "num3 = int(input(\"Please enter the third number: \"))\n",
    "if (num1 >= num2):\n",
    "    if (num1 >= num3):\n",
    "        print (\"I am here executing...\")\n",
    "        print (\"So the maximum number is\", num1)\n",
    "    else:\n",
    "        print (\"So the maximum number is\", num3)\n",
    "elif (num2 >= num3):\n",
    "    print (\"So the maximum number is\", num2)\n",
    "else:\n",
    "    print (\"So the maximum number is\", num3)\n",
    "print (\"End of the program...\")"
   ]
  },
  {
   "cell_type": "code",
   "execution_count": 53,
   "id": "e95d79e8-54a0-4d8b-9efa-a333ad7c1f07",
   "metadata": {},
   "outputs": [
    {
     "name": "stdin",
     "output_type": "stream",
     "text": [
      "Please enter the first number:  200\n",
      "Please enter the second number:  300\n",
      "Please enter the third number:  100\n"
     ]
    },
    {
     "name": "stdout",
     "output_type": "stream",
     "text": [
      "So the maximum number is 300\n",
      "End of the program...\n"
     ]
    }
   ],
   "source": [
    "num1 = int(input(\"Please enter the first number: \"))\n",
    "num2 = int(input(\"Please enter the second number: \"))\n",
    "num3 = int(input(\"Please enter the third number: \"))\n",
    "if (num1 >= num2 and num1 >= num3):\n",
    "    print (\"So the maximum number is\", num1)\n",
    "elif (num2 >= num3):\n",
    "    print (\"So the maximum number is\", num2)\n",
    "else:\n",
    "    print (\"So the maximum number is\", num3)\n",
    "print (\"End of the program...\")"
   ]
  },
  {
   "cell_type": "raw",
   "id": "c5bff28a-f1a8-427d-a2e4-fe53e5eb535a",
   "metadata": {},
   "source": [
    "Class Assignment -\n",
    "Take three integer numbers from the user and find the second maximum.\n",
    "\n",
    "Take 3 numbers as input in num1, num2 and num3\n",
    "Step-1:\n",
    "Out of num1 and num2 put the maximum in max1 and other number in max2\n",
    "Step-2:\n",
    "Now compare num3, max1 and max2\n",
    "                        max1      max2\n",
    "                        500       100\n",
    "num3 =>        700           400        50\n",
    "               500           400        100\n",
    "               max1          num3       max2"
   ]
  },
  {
   "cell_type": "code",
   "execution_count": 61,
   "id": "e42eb97b-6d56-4524-9f32-2b0a4a24e34f",
   "metadata": {},
   "outputs": [
    {
     "name": "stdin",
     "output_type": "stream",
     "text": [
      "Please enter the first number:  100\n",
      "Please enter the second number:  300\n",
      "Please enter the third number:  200\n"
     ]
    },
    {
     "name": "stdout",
     "output_type": "stream",
     "text": [
      "So the second maximum is 200\n",
      "End of the program...\n"
     ]
    }
   ],
   "source": [
    "num1 = int(input(\"Please enter the first number: \"))\n",
    "num2 = int(input(\"Please enter the second number: \"))\n",
    "num3 = int(input(\"Please enter the third number: \"))\n",
    "if (num1 >= num2): max1 = num1; max2 = num2\n",
    "else: max1 = num2; max2 = num1\n",
    "if (num3 >= max1): print (\"So the second maximum is\", max1)\n",
    "elif (num3 >= max2): print (\"So the second maximum is\", num3)\n",
    "else: print (\"So the second maximum is\", max2)\n",
    "print (\"End of the program...\")"
   ]
  },
  {
   "cell_type": "markdown",
   "id": "05da02d8-0992-4cd4-96e2-ad7fde62f3df",
   "metadata": {},
   "source": [
    "### Python Loops"
   ]
  },
  {
   "cell_type": "code",
   "execution_count": 70,
   "id": "007eb21d-c37e-417e-88ae-ec83550ac7ce",
   "metadata": {},
   "outputs": [
    {
     "name": "stdout",
     "output_type": "stream",
     "text": [
      "Executing for i = 1\n",
      "Executing for i = 4\n",
      "Executing for i = 7\n",
      "Executing for i = 10\n",
      "So the number of times loop got executed is 4\n",
      "End of the program...\n"
     ]
    }
   ],
   "source": [
    "i = 1\n",
    "loopcount = 0\n",
    "while (i <= 10):\n",
    "    print (f\"Executing for i = {i}\")\n",
    "    i += 3\n",
    "    loopcount += 1\n",
    "print (\"So the number of times loop got executed is\", loopcount)\n",
    "print (\"End of the program...\")"
   ]
  },
  {
   "cell_type": "code",
   "execution_count": 71,
   "id": "9a49005c-65f4-4d2b-bcc1-a0cec84ff6a6",
   "metadata": {},
   "outputs": [
    {
     "name": "stdout",
     "output_type": "stream",
     "text": [
      "Executing for i = 1\n",
      "Executing for i = 4\n",
      "Executing for i = 7\n",
      "Executing for i = 10\n",
      "Else part is executing...\n",
      "So the number of times loop got executed is 4\n",
      "End of the program...\n"
     ]
    }
   ],
   "source": [
    "i = 1\n",
    "loopcount = 0\n",
    "while (i <= 10):\n",
    "    print (f\"Executing for i = {i}\")\n",
    "    i += 3\n",
    "    loopcount += 1\n",
    "else:\n",
    "    print (\"Else part is executing...\")\n",
    "print (\"So the number of times loop got executed is\", loopcount)\n",
    "print (\"End of the program...\")"
   ]
  },
  {
   "cell_type": "code",
   "execution_count": 72,
   "id": "f3c043f2-8b28-467f-b5d0-ba131ccd4118",
   "metadata": {},
   "outputs": [
    {
     "name": "stdout",
     "output_type": "stream",
     "text": [
      "Executing for i = 1\n",
      "Executing for i = 2\n",
      "Executing for i = 3\n",
      "Executing for i = 4\n",
      "Executing for i = 5\n",
      "Executing for i = 6\n",
      "Executing for i = 7\n",
      "Executing for i = 8\n",
      "So the number of times loop got executed is 7\n",
      "End of the program...\n"
     ]
    }
   ],
   "source": [
    "i = 1\n",
    "loopcount = 0\n",
    "while (i <= 10):\n",
    "    print (f\"Executing for i = {i}\")\n",
    "    if (i == 8):\n",
    "        break\n",
    "    i += 1\n",
    "    loopcount += 1\n",
    "else:\n",
    "    print (\"Else part is executing...\")\n",
    "print (\"So the number of times loop got executed is\", loopcount)\n",
    "print (\"End of the program...\")"
   ]
  },
  {
   "cell_type": "code",
   "execution_count": 74,
   "id": "42d638ad-44a8-4636-8061-8fb4184f8bc3",
   "metadata": {},
   "outputs": [
    {
     "name": "stdout",
     "output_type": "stream",
     "text": [
      "Executing for i = 1\n",
      "Executing for i = 2\n",
      "Executing for i = 3\n",
      "Executing for i = 5\n",
      "Executing for i = 6\n",
      "Executing for i = 7\n",
      "Executing for i = 9\n",
      "Executing for i = 10\n",
      "Else part is executing...\n",
      "So the number of times loop got executed is 8\n",
      "End of the program...\n"
     ]
    }
   ],
   "source": [
    "i = 1\n",
    "loopcount = 0\n",
    "while (i <= 10):\n",
    "    if (i == 4 or i == 8):\n",
    "        i += 1\n",
    "        continue\n",
    "    print (f\"Executing for i = {i}\")\n",
    "    i += 1\n",
    "    loopcount += 1\n",
    "else:\n",
    "    print (\"Else part is executing...\")\n",
    "print (\"So the number of times loop got executed is\", loopcount)\n",
    "print (\"End of the program...\")"
   ]
  },
  {
   "cell_type": "code",
   "execution_count": 77,
   "id": "0b02d4e5-f47d-4289-9c8c-72f65c29da91",
   "metadata": {},
   "outputs": [
    {
     "name": "stdout",
     "output_type": "stream",
     "text": [
      "So i = 1\n",
      "So i = 3\n",
      "So i = 5\n",
      "So i = 7\n",
      "So i = 9\n",
      "Else block is executing...\n",
      "So total number of iterations is 5\n",
      "End of the program...\n"
     ]
    }
   ],
   "source": [
    "loopcount = 0\n",
    "for i in range(1, 10, 2):\n",
    "    print (f\"So i = {i}\")\n",
    "    loopcount += 1\n",
    "else:\n",
    "    print (\"Else block is executing...\")\n",
    "print (\"So total number of iterations is\", loopcount)\n",
    "print (\"End of the program...\")"
   ]
  },
  {
   "cell_type": "code",
   "execution_count": 78,
   "id": "fe031111-1be1-4a93-a7ca-fe973ed08579",
   "metadata": {},
   "outputs": [
    {
     "name": "stdout",
     "output_type": "stream",
     "text": [
      "So i = 10\n",
      "So i = 9\n",
      "So i = 8\n",
      "So i = 7\n",
      "So i = 6\n",
      "So i = 5\n",
      "So i = 4\n",
      "So i = 3\n",
      "So i = 2\n",
      "So i = 1\n",
      "Else block is executing...\n",
      "So total number of iterations is 10\n",
      "End of the program...\n"
     ]
    }
   ],
   "source": [
    "loopcount = 0\n",
    "for i in range(10, 0, -1):\n",
    "    print (f\"So i = {i}\")\n",
    "    loopcount += 1\n",
    "else:\n",
    "    print (\"Else block is executing...\")\n",
    "print (\"So total number of iterations is\", loopcount)\n",
    "print (\"End of the program...\")"
   ]
  },
  {
   "cell_type": "code",
   "execution_count": 81,
   "id": "b7755fad-30a1-406b-adbd-c71a9480c16e",
   "metadata": {},
   "outputs": [
    {
     "name": "stdout",
     "output_type": "stream",
     "text": [
      "So i = 1\n",
      "So i = 2\n",
      "So i = 3\n",
      "So i = 4\n",
      "So total number of iterations is 4\n",
      "End of the program...\n"
     ]
    }
   ],
   "source": [
    "loopcount = 0\n",
    "for i in range(1, 11, 1):\n",
    "    print (f\"So i = {i}\")\n",
    "    loopcount += 1\n",
    "    if (i == 4 or i == 8): break\n",
    "else:\n",
    "    print (\"Else block is executing...\")\n",
    "print (\"So total number of iterations is\", loopcount)\n",
    "print (\"End of the program...\")"
   ]
  },
  {
   "cell_type": "code",
   "execution_count": 82,
   "id": "e17b7daf-dac5-4d4b-9049-7903e1fd1caf",
   "metadata": {},
   "outputs": [
    {
     "name": "stdout",
     "output_type": "stream",
     "text": [
      "So i = 1\n",
      "So i = 2\n",
      "So i = 3\n",
      "So i = 5\n",
      "So i = 6\n",
      "So i = 7\n",
      "So i = 9\n",
      "So i = 10\n",
      "Else block is executing...\n",
      "So total number of iterations is 8\n",
      "End of the program...\n"
     ]
    }
   ],
   "source": [
    "loopcount = 0\n",
    "for i in range(1, 11, 1):\n",
    "    if (i == 4 or i == 8):continue\n",
    "    print (f\"So i = {i}\")\n",
    "    loopcount += 1\n",
    "else:\n",
    "    print (\"Else block is executing...\")\n",
    "print (\"So total number of iterations is\", loopcount)\n",
    "print (\"End of the program...\")"
   ]
  },
  {
   "cell_type": "code",
   "execution_count": 87,
   "id": "819435ba-6e78-4b74-855e-78161c93983e",
   "metadata": {},
   "outputs": [
    {
     "name": "stdin",
     "output_type": "stream",
     "text": [
      "Please enter an integer:  101\n"
     ]
    }
   ],
   "source": [
    "num1 = int(input(\"Please enter an integer: \"))\n",
    "if (num1 % 2 == 0):\n",
    "    print (f\"So {num1} is an EVEN number...\")"
   ]
  },
  {
   "cell_type": "code",
   "execution_count": 89,
   "id": "90451d3f-768e-4724-9b0e-49c12568ac32",
   "metadata": {},
   "outputs": [
    {
     "name": "stdin",
     "output_type": "stream",
     "text": [
      "Please enter an integer:  100\n"
     ]
    },
    {
     "name": "stdout",
     "output_type": "stream",
     "text": [
      "So 100 is an EVEN number...\n"
     ]
    }
   ],
   "source": [
    "num1 = int(input(\"Please enter an integer: \"))\n",
    "if (num1 % 2 == 1):\n",
    "    pass   # statement placeholder\n",
    "else:\n",
    "    print (f\"So {num1} is an EVEN number...\")"
   ]
  },
  {
   "cell_type": "code",
   "execution_count": 90,
   "id": "4f191c8c-3eea-4317-baad-7c992ab7ced6",
   "metadata": {},
   "outputs": [
    {
     "name": "stdout",
     "output_type": "stream",
     "text": [
      "VISIT Doctor...\n",
      "Good Morning...\n",
      "Day number: 1 and Medicine number: 1\n",
      "Day number: 1 and Medicine number: 2\n",
      "Day number: 1 and Medicine number: 3\n",
      "Good Night...\n",
      "~~~~~~~~~~~~~~~~~~~~~~~~~~~~~~~~~~~~~~~~~~~~~~~~~~\n",
      "Good Morning...\n",
      "Day number: 2 and Medicine number: 1\n",
      "Day number: 2 and Medicine number: 2\n",
      "Day number: 2 and Medicine number: 3\n",
      "Good Night...\n",
      "~~~~~~~~~~~~~~~~~~~~~~~~~~~~~~~~~~~~~~~~~~~~~~~~~~\n",
      "Good Morning...\n",
      "Day number: 3 and Medicine number: 1\n",
      "Day number: 3 and Medicine number: 2\n",
      "Day number: 3 and Medicine number: 3\n",
      "Good Night...\n",
      "~~~~~~~~~~~~~~~~~~~~~~~~~~~~~~~~~~~~~~~~~~~~~~~~~~\n",
      "Good Morning...\n",
      "Day number: 4 and Medicine number: 1\n",
      "Day number: 4 and Medicine number: 2\n",
      "Day number: 4 and Medicine number: 3\n",
      "Good Night...\n",
      "~~~~~~~~~~~~~~~~~~~~~~~~~~~~~~~~~~~~~~~~~~~~~~~~~~\n",
      "Good Morning...\n",
      "Day number: 5 and Medicine number: 1\n",
      "Day number: 5 and Medicine number: 2\n",
      "Day number: 5 and Medicine number: 3\n",
      "Good Night...\n",
      "~~~~~~~~~~~~~~~~~~~~~~~~~~~~~~~~~~~~~~~~~~~~~~~~~~\n",
      "THANKS Doctor...\n"
     ]
    }
   ],
   "source": [
    "# example of nested looping...\n",
    "print (\"VISIT Doctor...\")    # 1 time\n",
    "for day in range(1, 6):\n",
    "    print (\"Good Morning...\")    # 5 times\n",
    "    for medi in range(1, 4):\n",
    "        print (f\"Day number: {day} and Medicine number: {medi}\")    # 15 times\n",
    "    print (\"Good Night...\")    # 5 times\n",
    "    print (\"~~~~~~~~~~~~~~~~~~~~~~~~~~~~~~~~~~~~~~~~~~~~~~~~~~\")\n",
    "print (\"THANKS Doctor...\")    # 1 time"
   ]
  },
  {
   "cell_type": "code",
   "execution_count": 93,
   "id": "356d197f-576d-407c-a39a-512a38cba5ba",
   "metadata": {},
   "outputs": [
    {
     "name": "stdout",
     "output_type": "stream",
     "text": [
      "HelloHelloHelloHelloHello\n",
      "Hello Hello Hello Hello Hello \n",
      "Hi !!! Hi !!! Hi !!! Hi !!! Hi !!! Hi !!! Hi !!! Hi !!! \n"
     ]
    }
   ],
   "source": [
    "print (\"Hello\" * 5)\n",
    "print (\"Hello \" * 5)\n",
    "print (\"Hi !!! \" * 8)"
   ]
  },
  {
   "cell_type": "raw",
   "id": "cfde464c-2b27-4fe3-b121-e911006213a6",
   "metadata": {},
   "source": [
    "Class Assignment:\n",
    "\n",
    "Take user input for number of layers and draw the pattern\n",
    "                   i   .   *\n",
    "n = 6           ---------------    \n",
    ".....*             1   5   1\n",
    "....***            2   4   3    . => (n - i)\n",
    "...*****           3   3   5\n",
    "..*******          4   2   7    * => (2 * i - 1)\n",
    ".*********         5   1   9\n",
    "***********        6   0  11\n",
    "                ---------------"
   ]
  },
  {
   "cell_type": "code",
   "execution_count": 96,
   "id": "5397371a-37d7-4d3d-9013-8053bdba845a",
   "metadata": {},
   "outputs": [
    {
     "name": "stdin",
     "output_type": "stream",
     "text": [
      "Please enter the number of layers:  10\n"
     ]
    },
    {
     "name": "stdout",
     "output_type": "stream",
     "text": [
      ".........*\n",
      "........***\n",
      ".......*****\n",
      "......*******\n",
      ".....*********\n",
      "....***********\n",
      "...*************\n",
      "..***************\n",
      ".*****************\n",
      "*******************\n",
      "End of the program...\n"
     ]
    }
   ],
   "source": [
    "n = int(input(\"Please enter the number of layers: \"))\n",
    "for i in range(1, n + 1):\n",
    "    print (\".\" * (n - i) + \"*\" * (2 * i - 1))\n",
    "print (\"End of the program...\")"
   ]
  },
  {
   "cell_type": "raw",
   "id": "503954ce-95d3-4a16-9010-870d738c172b",
   "metadata": {},
   "source": [
    "Class Assignment:\n",
    "Take value of n from the user. Now take n number of integers from the user.\n",
    "Now calculate and print sum, average, maximum, minimumm, even count and odd count of these numbers."
   ]
  },
  {
   "cell_type": "code",
   "execution_count": 98,
   "id": "2deb95f6-4e77-45d1-aff3-0d956ab6470c",
   "metadata": {},
   "outputs": [
    {
     "name": "stdin",
     "output_type": "stream",
     "text": [
      "Please enter the number of numbers:  6\n",
      "Please enter an integer:  -33\n",
      "Please enter an integer:  -22\n",
      "Please enter an integer:  -44\n",
      "Please enter an integer:  -66\n",
      "Please enter an integer:  -55\n",
      "Please enter an integer:  -11\n"
     ]
    },
    {
     "name": "stdout",
     "output_type": "stream",
     "text": [
      "So total = -231, max = -11, min = -66 and average = -38.5\n",
      "End of the program...\n"
     ]
    }
   ],
   "source": [
    "n = int(input(\"Please enter the number of numbers: \"))\n",
    "num1 = int(input(\"Please enter an integer: \"))\n",
    "max_num = min_num = num1\n",
    "total = num1\n",
    "for i in range(1, n):\n",
    "    num1  = int(input(\"Please enter an integer: \"))\n",
    "    total += num1\n",
    "    if (max_num < num1): max_num = num1\n",
    "    if (min_num > num1): min_num = num1\n",
    "print (f\"So total = {total}, max = {max_num}, min = {min_num} and average = {total / n}\")\n",
    "print (\"End of the program...\")"
   ]
  },
  {
   "cell_type": "markdown",
   "id": "a4720962-e9a1-4109-bd85-0021bb9cb331",
   "metadata": {},
   "source": [
    "### Python User Defined Functions"
   ]
  },
  {
   "cell_type": "code",
   "execution_count": 101,
   "id": "296afba3-f8e2-4703-bd19-ae07583b9a6b",
   "metadata": {},
   "outputs": [
    {
     "name": "stdout",
     "output_type": "stream",
     "text": [
      "Hello Hello Hello Hello Hello \n",
      "Hello Hello Hello Hello Hello \n",
      "Hello Hello Hello Hello Hello \n"
     ]
    }
   ],
   "source": [
    "def funct1():\n",
    "    print (\"Hello \" * 5)\n",
    "    \n",
    "funct1()\n",
    "funct1()\n",
    "funct1()"
   ]
  },
  {
   "cell_type": "code",
   "execution_count": 106,
   "id": "aa161c5f-387a-446d-be1d-fb6e0f67b53e",
   "metadata": {},
   "outputs": [
    {
     "name": "stdout",
     "output_type": "stream",
     "text": [
      "Welcome Welcome Welcome Welcome \n",
      "Hello !!! Hello !!! Hello !!! Hello !!! Hello !!! \n",
      "Hey... Hey... Hey... \n"
     ]
    }
   ],
   "source": [
    "def funct2(msg, times):\n",
    "    print (msg * times)\n",
    "    \n",
    "funct2(\"Welcome \", 4)\n",
    "funct2(\"Hello !!! \", 5)\n",
    "funct2(\"Hey... \", 3)"
   ]
  },
  {
   "cell_type": "code",
   "execution_count": 108,
   "id": "9b458109-35f4-4ff0-b5ec-b43467ffd9da",
   "metadata": {},
   "outputs": [
    {
     "name": "stdout",
     "output_type": "stream",
     "text": [
      "Hello Hello Hello Hello Hello \n",
      "Welcome Welcome Welcome \n"
     ]
    }
   ],
   "source": [
    "def funct3(msg, times):\n",
    "    return msg * times\n",
    "\n",
    "result = funct3(\"Hello \", 5)\n",
    "print (result)\n",
    "print (funct3(\"Welcome \", 3))"
   ]
  },
  {
   "cell_type": "code",
   "execution_count": 119,
   "id": "7b4e7309-2143-4821-be77-5d5f8a38f6dd",
   "metadata": {},
   "outputs": [
    {
     "name": "stdout",
     "output_type": "stream",
     "text": [
      "Par1 = 100, Par2 = 200 and Par3 = 300\n",
      "Par1 = 100, Par2 = 200 and Par3 = 333\n",
      "Par1 = 100, Par2 = 222 and Par3 = 333\n",
      "Par1 = 111, Par2 = 222 and Par3 = 333\n",
      "Par1 = 100, Par2 = 222 and Par3 = 300\n",
      "Par1 = 111, Par2 = 200 and Par3 = 300\n"
     ]
    }
   ],
   "source": [
    "# function with default arguments\n",
    "def funct4(par1 = 111, par2 = 222, par3 = 333):\n",
    "    print (f\"Par1 = {par1}, Par2 = {par2} and Par3 = {par3}\")\n",
    "    \n",
    "funct4(100, 200, 300)\n",
    "funct4(100, 200)\n",
    "funct4(100)\n",
    "funct4()\n",
    "funct4(par1 = 100, par3 = 300)\n",
    "funct4(par3 = 300, par2 = 200)"
   ]
  },
  {
   "cell_type": "code",
   "execution_count": 121,
   "id": "7dc31ac0-bdd9-4ea6-943c-3c6c071d53df",
   "metadata": {},
   "outputs": [
    {
     "name": "stdin",
     "output_type": "stream",
     "text": [
      "Please enter an integer:  2021\n"
     ]
    },
    {
     "name": "stdout",
     "output_type": "stream",
     "text": [
      "2021 is an ODD number...\n",
      "End of the program...\n"
     ]
    }
   ],
   "source": [
    "# function with return boolean value\n",
    "def even_check(num):\n",
    "    if (num % 2 == 0): return True\n",
    "    else: return False\n",
    "\n",
    "num1 = int(input(\"Please enter an integer: \"))\n",
    "if (even_check(num1)):\n",
    "    print (f\"{num1} is an EVEN number...\")\n",
    "else:\n",
    "    print (f\"{num1} is an ODD number...\")\n",
    "print (\"End of the program...\")"
   ]
  },
  {
   "cell_type": "code",
   "execution_count": 123,
   "id": "d49279d7-d206-4549-b4b4-c60f0a15c340",
   "metadata": {},
   "outputs": [
    {
     "name": "stdin",
     "output_type": "stream",
     "text": [
      "Please enter an integer:  301\n"
     ]
    },
    {
     "name": "stdout",
     "output_type": "stream",
     "text": [
      "301 is an ODD number...\n",
      "End of the program...\n"
     ]
    }
   ],
   "source": [
    "# function with return boolean value\n",
    "def even_check(num):\n",
    "    return num % 2 == 0\n",
    "\n",
    "num1 = int(input(\"Please enter an integer: \"))\n",
    "if (even_check(num1)):\n",
    "    print (f\"{num1} is an EVEN number...\")\n",
    "else:\n",
    "    print (f\"{num1} is an ODD number...\")\n",
    "print (\"End of the program...\")"
   ]
  },
  {
   "cell_type": "code",
   "execution_count": 129,
   "id": "aa1c8474-4dd7-4f36-884b-dd89ee9dd199",
   "metadata": {},
   "outputs": [
    {
     "name": "stdout",
     "output_type": "stream",
     "text": [
      "100 <class 'int'> 140730717975440\n",
      "10.34 <class 'float'> 2815825760464\n",
      "True <class 'bool'> 140730717689680\n",
      "Thanks to You <class 'str'> 2815825641328\n"
     ]
    }
   ],
   "source": [
    "value = 100    # implicit object\n",
    "print (value, type(value), id(value))\n",
    "value = 10.34\n",
    "print (value, type(value), id(value))\n",
    "value = True\n",
    "print (value, type(value), id(value))\n",
    "value = \"Thanks to You\"\n",
    "print (value, type(value), id(value))"
   ]
  },
  {
   "cell_type": "code",
   "execution_count": 138,
   "id": "41d9bcb0-b095-401d-9a47-e47d9eddcbd9",
   "metadata": {},
   "outputs": [
    {
     "name": "stdout",
     "output_type": "stream",
     "text": [
      "[100, 90.75, True, 'Amitava'] <class 'list'> 2815825695744\n",
      "(100, 90.75, True, 'Amitava') <class 'tuple'> 2815835034544\n",
      "{'mango': 150, 'guava': 120, 'pineapple': 150} <class 'dict'> 2815823652416\n",
      "{40, 10, 50, 20, '10', 30} <class 'set'> 2815827115808\n"
     ]
    }
   ],
   "source": [
    "result = [100, 90.75, True, \"Amitava\"]\n",
    "print (result, type(result), id(result))\n",
    "result = (100, 90.75, True, \"Amitava\")\n",
    "print (result, type(result), id(result))\n",
    "result = {\"mango\":150, \"guava\":120, \"pineapple\":150}\n",
    "print (result, type(result), id(result))\n",
    "result = {10, 30, 20, \"10\", 40, 30, 20, 50, 10}\n",
    "print (result, type(result), id(result))"
   ]
  },
  {
   "cell_type": "code",
   "execution_count": 143,
   "id": "d655b4da-6805-4188-9769-fd53d8984cee",
   "metadata": {},
   "outputs": [
    {
     "name": "stdout",
     "output_type": "stream",
     "text": [
      "256 <class 'int'> 140730717980432\n",
      "256 <class 'int'> 140730717980432\n",
      "256 <class 'int'> 140730717980432\n"
     ]
    }
   ],
   "source": [
    "# range of values in variables for having same ids is -5 to 256\n",
    "var1 = 256\n",
    "print (var1, type(var1), id(var1))\n",
    "var2 = var1\n",
    "print (var2, type(var2), id(var2))\n",
    "var3 = 256\n",
    "print (var3, type(var3), id(var3))"
   ]
  },
  {
   "cell_type": "code",
   "execution_count": 144,
   "id": "84d9e4c0-c5f5-4ada-be74-67e86be92530",
   "metadata": {},
   "outputs": [
    {
     "name": "stdout",
     "output_type": "stream",
     "text": [
      "257 <class 'int'> 2815835095152\n",
      "257 <class 'int'> 2815835095152\n",
      "257 <class 'int'> 2815835099088\n"
     ]
    }
   ],
   "source": [
    "# range of values in variables for having same ids is -5 to 256\n",
    "var1 = 257\n",
    "print (var1, type(var1), id(var1))\n",
    "var2 = var1\n",
    "print (var2, type(var2), id(var2))\n",
    "var3 = 257\n",
    "print (var3, type(var3), id(var3))"
   ]
  },
  {
   "cell_type": "code",
   "execution_count": 146,
   "id": "75dd0810-0ec7-4f7c-870b-925bdf023b80",
   "metadata": {},
   "outputs": [
    {
     "name": "stdout",
     "output_type": "stream",
     "text": [
      "-6 <class 'int'> 2815835099056\n",
      "-6 <class 'int'> 2815835099056\n",
      "-6 <class 'int'> 2815835096176\n"
     ]
    }
   ],
   "source": [
    "# range of values in variables for having same ids is -5 to 256\n",
    "var1 = -6\n",
    "print (var1, type(var1), id(var1))\n",
    "var2 = var1\n",
    "print (var2, type(var2), id(var2))\n",
    "var3 = -6\n",
    "print (var3, type(var3), id(var3))"
   ]
  },
  {
   "cell_type": "code",
   "execution_count": 150,
   "id": "ba472e03-72a6-4eaf-8570-5ec443506629",
   "metadata": {},
   "outputs": [
    {
     "name": "stdout",
     "output_type": "stream",
     "text": [
      "So total = 140, difference = 60, product = 4000, quotient = 2.5 and remainder = 20\n",
      "(140, 60, 4000, 2.5, 20) <class 'tuple'> 5 2815781768144\n",
      "So total = 140, difference = 60, product = 4000, quotient = 2.5 and remainder = 20\n"
     ]
    }
   ],
   "source": [
    "# function returning multiple arguments\n",
    "def funct5(num1, num2):\n",
    "    total = num1 + num2\n",
    "    difference = num1 - num2\n",
    "    product = num1 * num2\n",
    "    quotient = num1 / num2\n",
    "    remainder = num1 % num2\n",
    "    return total, difference, product, quotient, remainder\n",
    "\n",
    "tt, dd, pp, qq, rr = funct5(100, 40)\n",
    "print (f\"So total = {tt}, difference = {dd}, product = {pp}, quotient = {qq} and remainder = {rr}\")\n",
    "result = funct5(100, 40)\n",
    "print (result, type(result), len(result), id(result))\n",
    "print (f\"So total = {result[0]}, difference = {result[1]}, product = {result[2]}, quotient = {result[3]} and remainder = {result[4]}\")"
   ]
  },
  {
   "cell_type": "code",
   "execution_count": 152,
   "id": "68b86d89-9a37-46de-a002-494976dd0440",
   "metadata": {},
   "outputs": [
    {
     "name": "stdout",
     "output_type": "stream",
     "text": [
      "result = 2000\n",
      "result = 8000\n"
     ]
    }
   ],
   "source": [
    "def funct6(num1, num2 = None):\n",
    "    # if (num2 == None):\n",
    "    if (num2 is None):\n",
    "        return 2 * num1\n",
    "    else:\n",
    "        return num1 + num2\n",
    "    \n",
    "result = funct6(1000)\n",
    "print (f\"result = {result}\")\n",
    "result = funct6(1000, 7000)\n",
    "print (f\"result = {result}\")"
   ]
  },
  {
   "cell_type": "raw",
   "id": "cacf163c-0436-495c-9ab2-1dcd7ca922e7",
   "metadata": {},
   "source": [
    "Class Assignment:\n",
    "Write a function which returns True or False depending upon whether the input argument number to the function is prime or not. Now use this function to find all prime numbers from 1 to 100.\n",
    "\n",
    "Prime number is that number which can be divided by 1 and by that number itself. As example 13, 17, 19 etc.\n",
    "\n",
    "num = 100\n",
    "1   100\n",
    "2   50\n",
    "4   25\n",
    "5   20\n",
    "10  10\n",
    "20  5\n",
    "25  4\n",
    "50  2\n",
    "100 1\n"
   ]
  },
  {
   "cell_type": "code",
   "execution_count": 156,
   "id": "7d070eb1-aad2-42e6-bc19-131b322e26fe",
   "metadata": {},
   "outputs": [
    {
     "name": "stdout",
     "output_type": "stream",
     "text": [
      "2, 3, 5, 7, 11, 13, 17, 19, 23, 29, 31, 37, 41, 43, 47, 53, 59, 61, 67, 71, 73, 79, 83, 89, 97, "
     ]
    }
   ],
   "source": [
    "def is_prime(num):\n",
    "    for i in range(2, int(num ** 0.5) + 1):\n",
    "        if (num % i == 0):\n",
    "            return False\n",
    "    return True\n",
    "\n",
    "for num1 in range(2, 101):\n",
    "    if (is_prime(num1)): print (num1, end = \", \")"
   ]
  },
  {
   "cell_type": "code",
   "execution_count": 157,
   "id": "267175cf-4ba4-42a8-8484-456736650774",
   "metadata": {},
   "outputs": [
    {
     "name": "stdout",
     "output_type": "stream",
     "text": [
      "101 Odd\n",
      "100 Even\n"
     ]
    }
   ],
   "source": [
    "# ternary operator\n",
    "num = 101\n",
    "result = \"Even\" if (num % 2 == 0) else \"Odd\"   # result = num % 2 == 0? \"Even\": \"Odd\"\n",
    "print (num, result)\n",
    "num = 100\n",
    "result = \"Even\" if (num % 2 == 0) else \"Odd\"\n",
    "print (num, result)"
   ]
  },
  {
   "cell_type": "code",
   "execution_count": 165,
   "id": "bbd9d523-7399-4d16-b924-cbcd75b5457e",
   "metadata": {},
   "outputs": [
    {
     "name": "stdout",
     "output_type": "stream",
     "text": [
      "Looping for i = 2\n",
      "Looping for i = 3\n",
      "Looping for i = 4\n",
      "So factorial of 5 is 120\n",
      "Looping for i = 2\n",
      "Looping for i = 3\n",
      "Looping for i = 4\n",
      "Looping for i = 5\n",
      "Looping for i = 6\n",
      "So factorial of 7 is 5040\n"
     ]
    }
   ],
   "source": [
    "# non-recursive (iterative) factorial calculating function\n",
    "def factorial_nr(num):\n",
    "    if (num == 0 or num == 1): return 1   # 0! = 1! = 1\n",
    "    fact = num\n",
    "    for i in range(2, num):\n",
    "        fact *= i\n",
    "        print (\"Looping for i =\", i)\n",
    "    return fact\n",
    "\n",
    "num = 5\n",
    "print (f\"So factorial of {num} is {factorial_nr(num)}\")   # 5! = 5 * 4 * 3 * 2 * 1\n",
    "num = 7\n",
    "print (f\"So factorial of {num} is {factorial_nr(num)}\")"
   ]
  },
  {
   "cell_type": "raw",
   "id": "18e5c576-d90f-4f2c-921f-eb07845afdc5",
   "metadata": {},
   "source": [
    "5! = 5 * 4!\n",
    "         4 * 3!\n",
    "             3 * 2!\n",
    "                 2 * 1!\n",
    "                     1\n",
    "                 2\n",
    "             6\n",
    "         24\n",
    "     120"
   ]
  },
  {
   "cell_type": "code",
   "execution_count": null,
   "id": "b89e962b-a3e0-4982-bf18-6bc078a29bce",
   "metadata": {},
   "outputs": [],
   "source": [
    "# recursive factorial calculating function\n",
    "def factorial_r(num):\n",
    "    if (num == 0 or num == 1): return 1   # base case, i.e. for certain inputs outputs are known to us\n",
    "    return num * factorial_r(num - 1)     # recursive case, i.e. a function is calling itself either directly or indirectly\n",
    "\n",
    "num = 5\n",
    "print (f\"So factorial of {num} is {factorial_nr(num)}\")   # 5! = 5 * 4 * 3 * 2 * 1\n",
    "num = 7\n",
    "print (f\"So factorial of {num} is {factorial_nr(num)}\")"
   ]
  },
  {
   "cell_type": "code",
   "execution_count": 166,
   "id": "6382452b-5bd8-44da-80fc-ca2d328ad6be",
   "metadata": {},
   "outputs": [
    {
     "name": "stdout",
     "output_type": "stream",
     "text": [
      "('Amit', 'Developer', 'Hyderabad') <class 'tuple'> 3 2815824523584\n",
      "('Amit', 'Developer', 'Hyderabad', 45000, 'amit@gmail.com') <class 'tuple'> 5 2815781768144\n",
      "('Amit', 'Developer', 'Hyderabad', 45000, 'amit@gmail.com', 'Genpact', True) <class 'tuple'> 7 2815835391552\n"
     ]
    }
   ],
   "source": [
    "# function with variable number of arguments\n",
    "def funct7(*arg):    # *arg means forcefully defining arg of type tuple\n",
    "    print (arg, type(arg), len(arg), id(arg))\n",
    "    \n",
    "funct7(\"Amit\", \"Developer\", \"Hyderabad\")\n",
    "funct7(\"Amit\", \"Developer\", \"Hyderabad\", 45000, \"amit@gmail.com\")\n",
    "funct7(\"Amit\", \"Developer\", \"Hyderabad\", 45000, \"amit@gmail.com\", \"Genpact\", True)"
   ]
  },
  {
   "cell_type": "code",
   "execution_count": 167,
   "id": "dbdfcf03-817b-4283-bb6a-4844c88a9e3e",
   "metadata": {},
   "outputs": [
    {
     "name": "stdout",
     "output_type": "stream",
     "text": [
      "{'name': 'Amit', 'desig': 'Developer', 'city': 'Hyderabad'} <class 'dict'> 3 2815824428928\n",
      "{'name': 'Amit', 'desig': 'Developer', 'city': 'Hyderabad', 'salary': 45000, 'email': 'amit@gmail.com'} <class 'dict'> 5 2815825406336\n",
      "{'name': 'Amit', 'desig': 'Developer', 'city': 'Hyderabad', 'salary': 45000, 'email': 'amit@gmail.com', 'company': 'Genpact', 'married': True} <class 'dict'> 7 2815824425856\n"
     ]
    }
   ],
   "source": [
    "def funct8(**kwarg):    # **kwarg means key-word argument and here forcefully defining kwarg of type dictionary\n",
    "    print (kwarg, type(kwarg), len(kwarg), id(kwarg))\n",
    "    \n",
    "funct8(name=\"Amit\", desig=\"Developer\", city=\"Hyderabad\")\n",
    "funct8(name=\"Amit\", desig=\"Developer\", city=\"Hyderabad\", salary=45000, email=\"amit@gmail.com\")\n",
    "funct8(name=\"Amit\", desig=\"Developer\", city=\"Hyderabad\", salary=45000, email=\"amit@gmail.com\", company=\"Genpact\", married=True)"
   ]
  },
  {
   "cell_type": "code",
   "execution_count": 170,
   "id": "a2728638-7b91-4dbd-aaa4-e7467451aacf",
   "metadata": {},
   "outputs": [
    {
     "name": "stdout",
     "output_type": "stream",
     "text": [
      "('Amit', 'Developer', 'Hyderabad') <class 'tuple'> 3 2815824498176\n",
      "{'salary': 45000, 'email': 'amit@gmail.com', 'company': 'Genpact', 'married': True} <class 'dict'> 4 2815826013184\n",
      "('Amit', 'Developer', 'Hyderabad') <class 'tuple'> 3 2815824498176\n",
      "{} <class 'dict'> 0 2815826013824\n",
      "() <class 'tuple'> 0 2815733858368\n",
      "{'salary': 45000, 'email': 'amit@gmail.com', 'company': 'Genpact', 'married': True} <class 'dict'> 4 2815807093440\n"
     ]
    }
   ],
   "source": [
    "def funct9(*arg, **kwarg):\n",
    "    print (arg, type(arg), len(arg), id(arg))\n",
    "    print (kwarg, type(kwarg), len(kwarg), id(kwarg))\n",
    "    \n",
    "funct9(\"Amit\", \"Developer\", \"Hyderabad\", salary=45000, email=\"amit@gmail.com\", company=\"Genpact\", married=True)\n",
    "funct9(\"Amit\", \"Developer\", \"Hyderabad\")\n",
    "funct9(salary=45000, email=\"amit@gmail.com\", company=\"Genpact\", married=True)"
   ]
  },
  {
   "cell_type": "code",
   "execution_count": 174,
   "id": "fd1d4e2e-e456-4d37-b57f-5edc4acb599d",
   "metadata": {},
   "outputs": [
    {
     "name": "stdout",
     "output_type": "stream",
     "text": [
      "Before calling the function: 10 <class 'int'> 140730717972560\n",
      "100 <class 'int'> 140730717975440\n",
      "After calling the function: 10 <class 'int'> 140730717972560\n"
     ]
    }
   ],
   "source": [
    "i = 10\n",
    "def funct10():\n",
    "    i = 100\n",
    "    print (i, type(i), id(i))\n",
    "    \n",
    "print (\"Before calling the function:\", i, type(i), id(i))\n",
    "funct10()\n",
    "print (\"After calling the function:\", i, type(i), id(i))"
   ]
  },
  {
   "cell_type": "code",
   "execution_count": 178,
   "id": "6612252e-aea7-4f3c-ace0-9dfb33fa9fd4",
   "metadata": {},
   "outputs": [
    {
     "name": "stdout",
     "output_type": "stream",
     "text": [
      "Before calling the function: 10 <class 'int'> 140730717972560\n",
      "100 <class 'int'> 140730717975440\n",
      "After calling the function: 100 <class 'int'> 140730717975440\n",
      "<class 'function'>\n"
     ]
    }
   ],
   "source": [
    "i = 10\n",
    "def funct10():\n",
    "    global i\n",
    "    i = 100\n",
    "    print (i, type(i), id(i))\n",
    "    \n",
    "print (\"Before calling the function:\", i, type(i), id(i))\n",
    "funct10()\n",
    "print (\"After calling the function:\", i, type(i), id(i))\n",
    "print (type(funct10))"
   ]
  },
  {
   "cell_type": "code",
   "execution_count": 180,
   "id": "7c65d02a-dee2-409d-9d0c-cbeee6d9e158",
   "metadata": {},
   "outputs": [
    {
     "name": "stdout",
     "output_type": "stream",
     "text": [
      "So square of 5 is 25\n",
      "So square of 9 is 81\n",
      "<class 'function'>\n"
     ]
    }
   ],
   "source": [
    "# lambda or anonymous function\n",
    "mySquare = lambda number: number * number\n",
    "num = 5\n",
    "print (f\"So square of {num} is {mySquare(num)}\")\n",
    "num = 9\n",
    "print (f\"So square of {num} is {mySquare(num)}\")\n",
    "print (type(mySquare))"
   ]
  },
  {
   "cell_type": "raw",
   "id": "8384c8d5-8f02-4fe1-b855-ac28263863d7",
   "metadata": {},
   "source": [
    "num = a + b  # assignment statement\n",
    "+10 => here + is unary operator\n",
    "-10 => here - is unary operator\n",
    "20 + 30 => here + is binary operator"
   ]
  },
  {
   "cell_type": "code",
   "execution_count": 181,
   "id": "ac64bc14-a3a0-4ef0-ad52-c96d3a1a6ef8",
   "metadata": {},
   "outputs": [
    {
     "name": "stdout",
     "output_type": "stream",
     "text": [
      "So sum of 5 and 10 is 15\n",
      "So sum of 105 and 1010 is 1115\n"
     ]
    }
   ],
   "source": [
    "# lambda or anonymous function\n",
    "myAddition = lambda number1, number2: number1 + number2\n",
    "num1 = 5\n",
    "num2 = 10\n",
    "print (f\"So sum of {num1} and {num2} is {myAddition(num1, num2)}\")\n",
    "num1 = 105\n",
    "num2 = 1010\n",
    "print (f\"So sum of {num1} and {num2} is {myAddition(num1, num2)}\")"
   ]
  },
  {
   "cell_type": "code",
   "execution_count": 183,
   "id": "b0e23c63-7053-4d86-af83-ce813d6f89c8",
   "metadata": {},
   "outputs": [
    {
     "name": "stdout",
     "output_type": "stream",
     "text": [
      "So factorial of 5 is 120\n",
      "So factorial of 7 is 5040\n"
     ]
    }
   ],
   "source": [
    "# recursive lambda function\n",
    "myFactorial = lambda num: 1 if (num == 0 or num == 1) else num * myFactorial(num - 1)\n",
    "\n",
    "n = 5\n",
    "print (f\"So factorial of {n} is {myFactorial(n)}\")\n",
    "n = 7\n",
    "print (f\"So factorial of {n} is {myFactorial(n)}\")"
   ]
  },
  {
   "cell_type": "code",
   "execution_count": 188,
   "id": "e53b183c-c55b-44bd-9eef-14f001f159b8",
   "metadata": {},
   "outputs": [
    {
     "name": "stdout",
     "output_type": "stream",
     "text": [
      "50\n",
      "120\n",
      "120\n"
     ]
    }
   ],
   "source": [
    "def funct11(num):\n",
    "    myProd = lambda n: n * num\n",
    "    # print (type(myProd))\n",
    "    return myProd\n",
    "\n",
    "var10 = funct11(10)\n",
    "var20 = funct11(20)\n",
    "# print (var10, type(var10))\n",
    "print (var10(5))\n",
    "print (var20(6)) \n",
    "print (funct11(20)(6))"
   ]
  },
  {
   "cell_type": "code",
   "execution_count": null,
   "id": "3abd3077-c285-423d-927a-1290b24c2df8",
   "metadata": {},
   "outputs": [],
   "source": []
  },
  {
   "cell_type": "code",
   "execution_count": null,
   "id": "bc0a889e-becf-4f2a-b161-4e40f1c61451",
   "metadata": {},
   "outputs": [],
   "source": []
  },
  {
   "cell_type": "code",
   "execution_count": null,
   "id": "46b0c1f0-a80f-48a3-9b51-c2b035b2e367",
   "metadata": {},
   "outputs": [],
   "source": []
  },
  {
   "cell_type": "code",
   "execution_count": null,
   "id": "f68f51ad-6879-40c9-9c22-210ffe6057cb",
   "metadata": {},
   "outputs": [],
   "source": []
  },
  {
   "cell_type": "code",
   "execution_count": null,
   "id": "e5bfa151-772e-46da-b6ed-ac81bd2f4543",
   "metadata": {},
   "outputs": [],
   "source": []
  },
  {
   "cell_type": "code",
   "execution_count": null,
   "id": "b35f0df8-9432-4d45-8d91-d55ed1b5850f",
   "metadata": {},
   "outputs": [],
   "source": []
  },
  {
   "cell_type": "code",
   "execution_count": null,
   "id": "590468d3-0374-4611-b9e0-ecc720ca41b1",
   "metadata": {},
   "outputs": [],
   "source": []
  }
 ],
 "metadata": {
  "kernelspec": {
   "display_name": "Python 3",
   "language": "python",
   "name": "python3"
  },
  "language_info": {
   "codemirror_mode": {
    "name": "ipython",
    "version": 3
   },
   "file_extension": ".py",
   "mimetype": "text/x-python",
   "name": "python",
   "nbconvert_exporter": "python",
   "pygments_lexer": "ipython3",
   "version": "3.8.8"
  }
 },
 "nbformat": 4,
 "nbformat_minor": 5
}
